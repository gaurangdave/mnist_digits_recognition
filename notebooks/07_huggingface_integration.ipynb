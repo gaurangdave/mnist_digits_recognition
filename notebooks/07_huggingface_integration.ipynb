{
 "cells": [
  {
   "cell_type": "code",
   "execution_count": 10,
   "metadata": {},
   "outputs": [],
   "source": [
    "from huggingface_hub import login, HfApi\n",
    "import os\n",
    "import sys\n",
    "import dotenv\n",
    "from pathlib import Path"
   ]
  },
  {
   "cell_type": "code",
   "execution_count": 6,
   "metadata": {},
   "outputs": [
    {
     "name": "stderr",
     "output_type": "stream",
     "text": [
      "Note: Environment variable`HF_TOKEN` is set and is the current active token independently from the token you've just configured.\n"
     ]
    },
    {
     "name": "stdout",
     "output_type": "stream",
     "text": [
      "Logging in...\n"
     ]
    }
   ],
   "source": [
    "\n",
    "dotenv.load_dotenv()\n",
    "HF_TOKEN = os.getenv(\"HF_TOKEN\")\n",
    "\n",
    "## login huggingface user\n",
    "if HF_TOKEN is None:\n",
    "    print(\"Please set the HF_TOKEN environment variable. This is you hugging face token\")\n",
    "else:\n",
    "    print(\"Logging in...\")\n",
    "    login(HF_TOKEN)"
   ]
  },
  {
   "cell_type": "code",
   "execution_count": 8,
   "metadata": {},
   "outputs": [
    {
     "name": "stdout",
     "output_type": "stream",
     "text": [
      "Logged in as gaurangdave\n"
     ]
    }
   ],
   "source": [
    "## verify login\n",
    "api = HfApi()\n",
    "user = api.whoami()\n",
    "user_name = user['name']\n",
    "print(f\"Logged in as {user_name}\")"
   ]
  },
  {
   "cell_type": "code",
   "execution_count": 14,
   "metadata": {},
   "outputs": [
    {
     "name": "stdout",
     "output_type": "stream",
     "text": [
      "Created repository: https://huggingface.co/gaurangdave/mnist_digits_recognition\n",
      "Created repository: https://huggingface.co/datasets/gaurangdave/mnist_digits_recognition\n"
     ]
    }
   ],
   "source": [
    "## create a model repository on huggingface\n",
    "model_name = \"mnist_digits_recognition\"\n",
    "repo_id = f\"{user_name}/{model_name}\"\n",
    "\n",
    "## create a model repository\n",
    "model_repo = api.create_repo(repo_id=repo_id, repo_type=\"model\", exist_ok=True)\n",
    "print(f\"Created repository: {model_repo}\")\n",
    "\n",
    "## create a data repository\n",
    "model_repo = api.create_repo(repo_id=repo_id, repo_type=\"dataset\", exist_ok=True)\n",
    "print(f\"Created repository: {model_repo}\")"
   ]
  },
  {
   "cell_type": "code",
   "execution_count": 26,
   "metadata": {},
   "outputs": [],
   "source": [
    "## upload all the models to the repository\n",
    "models_root_dir = Path(\"..\", \"models\")\n",
    "\n",
    "def upload_models_in_dir(model_dir):\n",
    "    for model in model_dir.iterdir():\n",
    "        if model.is_dir():\n",
    "            upload_models_in_dir(model)\n",
    "        else: \n",
    "            filename = model.name\n",
    "            ## read path relative to the models directory\n",
    "            path = model.relative_to(models_root_dir)\n",
    "            path_in_repo = f\"{path}\"\n",
    "            api = HfApi()\n",
    "            api.upload_file(path_or_fileobj=model, repo_id=repo_id, path_in_repo=path_in_repo, repo_type=\"model\")\n",
    "            print(f\"Uploaded {filename} to {path}\")"
   ]
  },
  {
   "cell_type": "code",
   "execution_count": 27,
   "metadata": {},
   "outputs": [
    {
     "name": "stdout",
     "output_type": "stream",
     "text": [
      "Uploaded random_forest_model.pkl to ensemble/random_forest_model.pkl\n"
     ]
    },
    {
     "data": {
      "application/vnd.jupyter.widget-view+json": {
       "model_id": "37685bea6eb84c38a2fde68f6a3d7d42",
       "version_major": 2,
       "version_minor": 0
      },
      "text/plain": [
       "voting_classifier_model.pkl:   0%|          | 0.00/3.84G [00:00<?, ?B/s]"
      ]
     },
     "metadata": {},
     "output_type": "display_data"
    },
    {
     "name": "stdout",
     "output_type": "stream",
     "text": [
      "Uploaded voting_classifier_model.pkl to ensemble/voting_classifier_model.pkl\n"
     ]
    },
    {
     "data": {
      "application/vnd.jupyter.widget-view+json": {
       "model_id": "a140a11ef74c4fac9ce4a6d10321b93e",
       "version_major": 2,
       "version_minor": 0
      },
      "text/plain": [
       "logistic_regression_model.pkl:   0%|          | 0.00/109k [00:00<?, ?B/s]"
      ]
     },
     "metadata": {},
     "output_type": "display_data"
    },
    {
     "name": "stdout",
     "output_type": "stream",
     "text": [
      "Uploaded logistic_regression_model.pkl to ensemble/logistic_regression_model.pkl\n"
     ]
    },
    {
     "data": {
      "application/vnd.jupyter.widget-view+json": {
       "model_id": "9781861014be4fae88bac7ddfebb0ccb",
       "version_major": 2,
       "version_minor": 0
      },
      "text/plain": [
       "tuned_random_forest_model.pkl:   0%|          | 0.00/978M [00:00<?, ?B/s]"
      ]
     },
     "metadata": {},
     "output_type": "display_data"
    },
    {
     "name": "stdout",
     "output_type": "stream",
     "text": [
      "Uploaded tuned_random_forest_model.pkl to ensemble/tuned_random_forest_model.pkl\n"
     ]
    },
    {
     "data": {
      "application/vnd.jupyter.widget-view+json": {
       "model_id": "0584b1b383484495bf52bd0f91bde7be",
       "version_major": 2,
       "version_minor": 0
      },
      "text/plain": [
       "tuned_logistic_regression_model.pkl:   0%|          | 0.00/109k [00:00<?, ?B/s]"
      ]
     },
     "metadata": {},
     "output_type": "display_data"
    },
    {
     "name": "stdout",
     "output_type": "stream",
     "text": [
      "Uploaded tuned_logistic_regression_model.pkl to ensemble/tuned_logistic_regression_model.pkl\n"
     ]
    },
    {
     "data": {
      "application/vnd.jupyter.widget-view+json": {
       "model_id": "aac1f29700e34d38af209584b02147ef",
       "version_major": 2,
       "version_minor": 0
      },
      "text/plain": [
       "soft_voting_classifier_model.pkl:   0%|          | 0.00/3.84G [00:00<?, ?B/s]"
      ]
     },
     "metadata": {},
     "output_type": "display_data"
    },
    {
     "name": "stdout",
     "output_type": "stream",
     "text": [
      "Uploaded soft_voting_classifier_model.pkl to ensemble/soft_voting_classifier_model.pkl\n"
     ]
    },
    {
     "data": {
      "application/vnd.jupyter.widget-view+json": {
       "model_id": "91c421415ee5447dbb75b027578f2497",
       "version_major": 2,
       "version_minor": 0
      },
      "text/plain": [
       "gradient_boosting_model.pkl:   0%|          | 0.00/1.88M [00:00<?, ?B/s]"
      ]
     },
     "metadata": {},
     "output_type": "display_data"
    },
    {
     "name": "stdout",
     "output_type": "stream",
     "text": [
      "Uploaded gradient_boosting_model.pkl to ensemble/gradient_boosting_model.pkl\n"
     ]
    },
    {
     "data": {
      "application/vnd.jupyter.widget-view+json": {
       "model_id": "fe31c0ba9bc24c46a3584aeb90889a88",
       "version_major": 2,
       "version_minor": 0
      },
      "text/plain": [
       "extra_trees_model.pkl:   0%|          | 0.00/1.02G [00:00<?, ?B/s]"
      ]
     },
     "metadata": {},
     "output_type": "display_data"
    },
    {
     "name": "stdout",
     "output_type": "stream",
     "text": [
      "Uploaded extra_trees_model.pkl to ensemble/extra_trees_model.pkl\n"
     ]
    },
    {
     "data": {
      "application/vnd.jupyter.widget-view+json": {
       "model_id": "c3f5d73ffd1d42668e801057d7c8954e",
       "version_major": 2,
       "version_minor": 0
      },
      "text/plain": [
       "tuned_knn_model.pkl:   0%|          | 0.00/1.41G [00:00<?, ?B/s]"
      ]
     },
     "metadata": {},
     "output_type": "display_data"
    },
    {
     "name": "stdout",
     "output_type": "stream",
     "text": [
      "Uploaded tuned_knn_model.pkl to ensemble/tuned_knn_model.pkl\n"
     ]
    },
    {
     "data": {
      "application/vnd.jupyter.widget-view+json": {
       "model_id": "2853d303cc5b4f5cbdb9ade0386e0e8b",
       "version_major": 2,
       "version_minor": 0
      },
      "text/plain": [
       "svc_model.pkl:   0%|          | 0.00/225M [00:00<?, ?B/s]"
      ]
     },
     "metadata": {},
     "output_type": "display_data"
    },
    {
     "name": "stdout",
     "output_type": "stream",
     "text": [
      "Uploaded svc_model.pkl to ensemble/svc_model.pkl\n"
     ]
    },
    {
     "data": {
      "application/vnd.jupyter.widget-view+json": {
       "model_id": "93d7056dd86e4a579a3010c7b79bf599",
       "version_major": 2,
       "version_minor": 0
      },
      "text/plain": [
       "knn_model.pkl:   0%|          | 0.00/1.41G [00:00<?, ?B/s]"
      ]
     },
     "metadata": {},
     "output_type": "display_data"
    },
    {
     "name": "stdout",
     "output_type": "stream",
     "text": [
      "Uploaded knn_model.pkl to ensemble/knn_model.pkl\n"
     ]
    },
    {
     "data": {
      "application/vnd.jupyter.widget-view+json": {
       "model_id": "750504b48a8b48e18918883f268a0de6",
       "version_major": 2,
       "version_minor": 0
      },
      "text/plain": [
       "tuned_logistic_regression_v0.pkl:   0%|          | 0.00/125k [00:00<?, ?B/s]"
      ]
     },
     "metadata": {},
     "output_type": "display_data"
    },
    {
     "name": "stdout",
     "output_type": "stream",
     "text": [
      "Uploaded tuned_logistic_regression_v0.pkl to ensemble/tuned_logistic_regression_v0.pkl\n"
     ]
    },
    {
     "data": {
      "application/vnd.jupyter.widget-view+json": {
       "model_id": "64c58ad18fe4412aba576eea3c83f13e",
       "version_major": 2,
       "version_minor": 0
      },
      "text/plain": [
       "tuned_svc_model.pkl:   0%|          | 0.00/203M [00:00<?, ?B/s]"
      ]
     },
     "metadata": {},
     "output_type": "display_data"
    },
    {
     "name": "stdout",
     "output_type": "stream",
     "text": [
      "Uploaded tuned_svc_model.pkl to ensemble/tuned_svc_model.pkl\n"
     ]
    },
    {
     "data": {
      "application/vnd.jupyter.widget-view+json": {
       "model_id": "55fdfb71a4f94d699932966db600f074",
       "version_major": 2,
       "version_minor": 0
      },
      "text/plain": [
       "logistic_regression_v0.joblib:   0%|          | 0.00/77.7k [00:00<?, ?B/s]"
      ]
     },
     "metadata": {},
     "output_type": "display_data"
    },
    {
     "name": "stdout",
     "output_type": "stream",
     "text": [
      "Uploaded logistic_regression_v0.joblib to logistic_regression_v0.joblib\n"
     ]
    },
    {
     "data": {
      "application/vnd.jupyter.widget-view+json": {
       "model_id": "189b71b498a442ef91fe092615b222d5",
       "version_major": 2,
       "version_minor": 0
      },
      "text/plain": [
       "random_forest_v0.joblib:   0%|          | 0.00/136M [00:00<?, ?B/s]"
      ]
     },
     "metadata": {},
     "output_type": "display_data"
    },
    {
     "name": "stdout",
     "output_type": "stream",
     "text": [
      "Uploaded random_forest_v0.joblib to random_forest_v0.joblib\n"
     ]
    },
    {
     "data": {
      "application/vnd.jupyter.widget-view+json": {
       "model_id": "2d121617aa8140a2a14eb92d924199c8",
       "version_major": 2,
       "version_minor": 0
      },
      "text/plain": [
       "logistic_regression_v2.joblib:   0%|          | 0.00/77.7k [00:00<?, ?B/s]"
      ]
     },
     "metadata": {},
     "output_type": "display_data"
    },
    {
     "name": "stdout",
     "output_type": "stream",
     "text": [
      "Uploaded logistic_regression_v2.joblib to logistic_regression_v2.joblib\n",
      "Uploaded mnist_models_metrics.csv to mnist_models_metrics.csv\n"
     ]
    },
    {
     "data": {
      "application/vnd.jupyter.widget-view+json": {
       "model_id": "9e81611305da4769962f025b47f31b17",
       "version_major": 2,
       "version_minor": 0
      },
      "text/plain": [
       "knn_v1.joblib:   0%|          | 0.00/352M [00:00<?, ?B/s]"
      ]
     },
     "metadata": {},
     "output_type": "display_data"
    },
    {
     "name": "stdout",
     "output_type": "stream",
     "text": [
      "Uploaded knn_v1.joblib to knn_v1.joblib\n"
     ]
    },
    {
     "data": {
      "application/vnd.jupyter.widget-view+json": {
       "model_id": "06f5e79e968849668b3c15f790e233b1",
       "version_major": 2,
       "version_minor": 0
      },
      "text/plain": [
       "svc_prod_v1.joblib:   0%|          | 0.00/70.5M [00:00<?, ?B/s]"
      ]
     },
     "metadata": {},
     "output_type": "display_data"
    },
    {
     "name": "stdout",
     "output_type": "stream",
     "text": [
      "Uploaded svc_prod_v1.joblib to svc_prod_v1.joblib\n"
     ]
    },
    {
     "data": {
      "application/vnd.jupyter.widget-view+json": {
       "model_id": "b9672b47031e437f8a51bd8b31eee418",
       "version_major": 2,
       "version_minor": 0
      },
      "text/plain": [
       "svc_v3.joblib:   0%|          | 0.00/70.7M [00:00<?, ?B/s]"
      ]
     },
     "metadata": {},
     "output_type": "display_data"
    },
    {
     "name": "stdout",
     "output_type": "stream",
     "text": [
      "Uploaded svc_v3.joblib to svc_v3.joblib\n"
     ]
    },
    {
     "data": {
      "application/vnd.jupyter.widget-view+json": {
       "model_id": "3140fc83f7dc47f097b3a021f83ac386",
       "version_major": 2,
       "version_minor": 0
      },
      "text/plain": [
       "svc_augmented_data_v1.joblib:   0%|          | 0.00/230M [00:00<?, ?B/s]"
      ]
     },
     "metadata": {},
     "output_type": "display_data"
    },
    {
     "name": "stdout",
     "output_type": "stream",
     "text": [
      "Uploaded svc_augmented_data_v1.joblib to svc_augmented_data_v1.joblib\n",
      "Uploaded svc_prod_v3.joblib to svc_prod_v3.joblib\n"
     ]
    },
    {
     "data": {
      "application/vnd.jupyter.widget-view+json": {
       "model_id": "7f7d6d11310c442baadd9d1a23901838",
       "version_major": 2,
       "version_minor": 0
      },
      "text/plain": [
       "logistic_regression_v1_cv_results.joblib:   0%|          | 0.00/2.19k [00:00<?, ?B/s]"
      ]
     },
     "metadata": {},
     "output_type": "display_data"
    },
    {
     "name": "stdout",
     "output_type": "stream",
     "text": [
      "Uploaded logistic_regression_v1_cv_results.joblib to logistic_regression_v1_cv_results.joblib\n"
     ]
    },
    {
     "data": {
      "application/vnd.jupyter.widget-view+json": {
       "model_id": "77c24186287f49518017019224988f89",
       "version_major": 2,
       "version_minor": 0
      },
      "text/plain": [
       "svc_v1.joblib:   0%|          | 0.00/74.7M [00:00<?, ?B/s]"
      ]
     },
     "metadata": {},
     "output_type": "display_data"
    },
    {
     "name": "stdout",
     "output_type": "stream",
     "text": [
      "Uploaded svc_v1.joblib to svc_v1.joblib\n"
     ]
    },
    {
     "data": {
      "application/vnd.jupyter.widget-view+json": {
       "model_id": "2a8c6f95cbe84874b3c0e429c6abb832",
       "version_major": 2,
       "version_minor": 0
      },
      "text/plain": [
       "logistic_regression_v1.joblib:   0%|          | 0.00/77.7k [00:00<?, ?B/s]"
      ]
     },
     "metadata": {},
     "output_type": "display_data"
    },
    {
     "name": "stdout",
     "output_type": "stream",
     "text": [
      "Uploaded logistic_regression_v1.joblib to logistic_regression_v1.joblib\n"
     ]
    },
    {
     "data": {
      "application/vnd.jupyter.widget-view+json": {
       "model_id": "d1abe95308bb43bab2bb980962479750",
       "version_major": 2,
       "version_minor": 0
      },
      "text/plain": [
       "default_logistic_regression_probabilites.csv:   0%|          | 0.00/12.2M [00:00<?, ?B/s]"
      ]
     },
     "metadata": {},
     "output_type": "display_data"
    },
    {
     "name": "stdout",
     "output_type": "stream",
     "text": [
      "Uploaded default_logistic_regression_probabilites.csv to default_logistic_regression_probabilites.csv\n"
     ]
    },
    {
     "data": {
      "application/vnd.jupyter.widget-view+json": {
       "model_id": "49e772a204754444ae6f6540b04d24d8",
       "version_major": 2,
       "version_minor": 0
      },
      "text/plain": [
       "random_forest_v1.joblib:   0%|          | 0.00/272M [00:00<?, ?B/s]"
      ]
     },
     "metadata": {},
     "output_type": "display_data"
    },
    {
     "name": "stdout",
     "output_type": "stream",
     "text": [
      "Uploaded random_forest_v1.joblib to random_forest_v1.joblib\n"
     ]
    },
    {
     "data": {
      "application/vnd.jupyter.widget-view+json": {
       "model_id": "88488bc36a924ce59274aacfbbba07f8",
       "version_major": 2,
       "version_minor": 0
      },
      "text/plain": [
       "svc_v2.joblib:   0%|          | 0.00/70.5M [00:00<?, ?B/s]"
      ]
     },
     "metadata": {},
     "output_type": "display_data"
    },
    {
     "name": "stdout",
     "output_type": "stream",
     "text": [
      "Uploaded svc_v2.joblib to svc_v2.joblib\n"
     ]
    },
    {
     "data": {
      "application/vnd.jupyter.widget-view+json": {
       "model_id": "f71e7038701d4fc499c3c2b2adb3319d",
       "version_major": 2,
       "version_minor": 0
      },
      "text/plain": [
       "knn_v0.joblib:   0%|          | 0.00/352M [00:00<?, ?B/s]"
      ]
     },
     "metadata": {},
     "output_type": "display_data"
    },
    {
     "name": "stdout",
     "output_type": "stream",
     "text": [
      "Uploaded knn_v0.joblib to knn_v0.joblib\n",
      "Uploaded svc_v0.joblib to svc_v0.joblib\n",
      "Uploaded svc_prod_v2.joblib to svc_prod_v2.joblib\n"
     ]
    },
    {
     "data": {
      "application/vnd.jupyter.widget-view+json": {
       "model_id": "310d09386e634e8f8bf155102ddb57be",
       "version_major": 2,
       "version_minor": 0
      },
      "text/plain": [
       "svc_prod.joblib:   0%|          | 0.00/70.5M [00:00<?, ?B/s]"
      ]
     },
     "metadata": {},
     "output_type": "display_data"
    },
    {
     "name": "stdout",
     "output_type": "stream",
     "text": [
      "Uploaded svc_prod.joblib to svc_prod.joblib\n"
     ]
    }
   ],
   "source": [
    "\n",
    "upload_models_in_dir(models_root_dir)"
   ]
  },
  {
   "cell_type": "code",
   "execution_count": 30,
   "metadata": {},
   "outputs": [],
   "source": [
    "## upload all the datasets to the repository\n",
    "data_root_dir = Path(\"..\", \"data\")\n",
    "\n",
    "def upload_data_in_dir(data_dir):\n",
    "    for dataset in data_dir.iterdir():\n",
    "        if dataset.is_dir():\n",
    "            upload_data_in_dir(dataset)\n",
    "        else: \n",
    "            filename = dataset.name\n",
    "            ## read path relative to the models directory\n",
    "            path = dataset.relative_to(data_root_dir)\n",
    "            path_in_repo = f\"{path}\"\n",
    "            api = HfApi()\n",
    "            api.upload_file(path_or_fileobj=dataset, repo_id=repo_id, path_in_repo=path_in_repo, repo_type=\"dataset\")\n",
    "            print(f\"Uploaded {filename} to {path}\")"
   ]
  },
  {
   "cell_type": "code",
   "execution_count": 31,
   "metadata": {},
   "outputs": [
    {
     "name": "stdout",
     "output_type": "stream",
     "text": [
      "Uploaded user_prediction_request.csv to user_prediction_request.csv\n"
     ]
    },
    {
     "data": {
      "application/vnd.jupyter.widget-view+json": {
       "model_id": "f8aa7d0b525146b395a0434af858ca53",
       "version_major": 2,
       "version_minor": 0
      },
      "text/plain": [
       "mnist_train_set.csv:   0%|          | 0.00/102M [00:00<?, ?B/s]"
      ]
     },
     "metadata": {},
     "output_type": "display_data"
    },
    {
     "name": "stdout",
     "output_type": "stream",
     "text": [
      "Uploaded mnist_train_set.csv to mnist_train_set.csv\n"
     ]
    },
    {
     "data": {
      "application/vnd.jupyter.widget-view+json": {
       "model_id": "8b90822f8cef49b38b888ed727481231",
       "version_major": 2,
       "version_minor": 0
      },
      "text/plain": [
       "raw_mnist_data.csv:   0%|          | 0.00/128M [00:00<?, ?B/s]"
      ]
     },
     "metadata": {},
     "output_type": "display_data"
    },
    {
     "name": "stdout",
     "output_type": "stream",
     "text": [
      "Uploaded raw_mnist_data.csv to raw_mnist_data.csv\n"
     ]
    },
    {
     "data": {
      "application/vnd.jupyter.widget-view+json": {
       "model_id": "ed65b1438041473691d03369026e1088",
       "version_major": 2,
       "version_minor": 0
      },
      "text/plain": [
       "augmented_train_X.csv:   0%|          | 0.00/511M [00:00<?, ?B/s]"
      ]
     },
     "metadata": {},
     "output_type": "display_data"
    },
    {
     "name": "stdout",
     "output_type": "stream",
     "text": [
      "Uploaded augmented_train_X.csv to augmented_train_X.csv\n",
      "Uploaded augmented_train_Y.csv to augmented_train_Y.csv\n",
      "Uploaded user_input.csv to user_input.csv\n"
     ]
    },
    {
     "data": {
      "application/vnd.jupyter.widget-view+json": {
       "model_id": "67178baa45a047c78e6647b671a48af7",
       "version_major": 2,
       "version_minor": 0
      },
      "text/plain": [
       "augmented_ensemle_learning_mnist_data.csv:   0%|          | 0.00/409M [00:00<?, ?B/s]"
      ]
     },
     "metadata": {},
     "output_type": "display_data"
    },
    {
     "name": "stdout",
     "output_type": "stream",
     "text": [
      "Uploaded augmented_ensemle_learning_mnist_data.csv to augmented_ensemle_learning_mnist_data.csv\n"
     ]
    },
    {
     "data": {
      "application/vnd.jupyter.widget-view+json": {
       "model_id": "a5f73338239143b0b3ceb01a00345bf4",
       "version_major": 2,
       "version_minor": 0
      },
      "text/plain": [
       "augmented_mnist_data.csv:   0%|          | 0.00/639M [00:00<?, ?B/s]"
      ]
     },
     "metadata": {},
     "output_type": "display_data"
    },
    {
     "name": "stdout",
     "output_type": "stream",
     "text": [
      "Uploaded augmented_mnist_data.csv to augmented_mnist_data.csv\n"
     ]
    },
    {
     "data": {
      "application/vnd.jupyter.widget-view+json": {
       "model_id": "f6624327a67443a78e86f2b639456efe",
       "version_major": 2,
       "version_minor": 0
      },
      "text/plain": [
       "mnist_test_set.csv:   0%|          | 0.00/25.6M [00:00<?, ?B/s]"
      ]
     },
     "metadata": {},
     "output_type": "display_data"
    },
    {
     "name": "stdout",
     "output_type": "stream",
     "text": [
      "Uploaded mnist_test_set.csv to mnist_test_set.csv\n"
     ]
    }
   ],
   "source": [
    "upload_data_in_dir(data_root_dir)"
   ]
  },
  {
   "cell_type": "code",
   "execution_count": null,
   "metadata": {},
   "outputs": [],
   "source": []
  }
 ],
 "metadata": {
  "kernelspec": {
   "display_name": "Python 3 (ipykernel)",
   "language": "python",
   "name": "python3"
  }
 },
 "nbformat": 4,
 "nbformat_minor": 2
}
