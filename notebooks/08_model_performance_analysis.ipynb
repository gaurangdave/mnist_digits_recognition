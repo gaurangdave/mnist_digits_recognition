{
 "cells": [
  {
   "cell_type": "markdown",
   "metadata": {},
   "source": [
    "# Model Performance Analysis"
   ]
  },
  {
   "cell_type": "markdown",
   "metadata": {},
   "source": [
    "* This worksheet is created to create a single source of truth of performanced for all the trained models.\n",
    "* At different points in time we trained different models and saved its performance metrics in different format and files.  So the idea here is to unify the number to get a better big picture. \n",
    "* The main tasks of the worksheet is these\n",
    "    * Load the different models that we've saved\n",
    "    * Load the appropriate test data for the models (ensemble might have different test set than regular ML models)\n",
    "    * Predict against the test data and calculate performance numbers\n",
    "    * Save the numbers in csv file and create visualizations for comparison"
   ]
  },
  {
   "cell_type": "markdown",
   "metadata": {},
   "source": [
    "## Import Libraries"
   ]
  },
  {
   "cell_type": "code",
   "execution_count": 12,
   "metadata": {},
   "outputs": [],
   "source": [
    "from sklearn.preprocessing import Binarizer, OneHotEncoder, MinMaxScaler, StandardScaler, FunctionTransformer\n",
    "from sklearn.pipeline import Pipeline\n",
    "from sklearn.model_selection import cross_val_score, cross_val_predict,GridSearchCV\n",
    "from sklearn.model_selection import RandomizedSearchCV\n",
    "from scipy.stats import loguniform\n",
    "from pathlib import Path\n",
    "from sklearn.svm import SVC\n",
    "from sklearn.ensemble import RandomForestClassifier\n",
    "from sklearn.ensemble import ExtraTreesClassifier, GradientBoostingClassifier, VotingClassifier,StackingClassifier\n",
    "from sklearn.linear_model import LogisticRegression\n",
    "from sklearn.neighbors import KNeighborsClassifier\n",
    "\n",
    "\n",
    "from sklearn.metrics import ConfusionMatrixDisplay, f1_score, roc_auc_score, roc_curve, accuracy_score\n",
    "from sklearn.dummy import DummyClassifier\n",
    "\n",
    "\n",
    "import numpy as np\n",
    "import pandas as pd\n",
    "import matplotlib.pyplot as plt\n",
    "import plotly.express as px\n",
    "import joblib\n",
    "import json\n",
    "import gdown\n",
    "import os\n",
    "import sys\n",
    "import tqdm\n",
    "import time\n",
    "import warnings\n",
    "from huggingface_hub import login, HfApi,list_repo_files, hf_hub_download\n",
    "import os\n",
    "import sys\n",
    "import dotenv\n",
    "from pathlib import Path\n",
    "import tqdm\n",
    "from sklearn.model_selection import train_test_split\n"
   ]
  },
  {
   "cell_type": "markdown",
   "metadata": {},
   "source": [
    "## Setup Hugging Face"
   ]
  },
  {
   "cell_type": "code",
   "execution_count": 6,
   "metadata": {},
   "outputs": [
    {
     "name": "stderr",
     "output_type": "stream",
     "text": [
      "Note: Environment variable`HF_TOKEN` is set and is the current active token independently from the token you've just configured.\n"
     ]
    },
    {
     "name": "stdout",
     "output_type": "stream",
     "text": [
      "Logging in...\n",
      "Logged in as gaurangdave\n"
     ]
    }
   ],
   "source": [
    "dotenv.load_dotenv()\n",
    "HF_TOKEN = os.getenv(\"HF_TOKEN\")\n",
    "\n",
    "## login huggingface user\n",
    "if HF_TOKEN is None:\n",
    "    print(\"Please set the HF_TOKEN environment variable. This is you hugging face token\")\n",
    "else:\n",
    "    print(\"Logging in...\")\n",
    "    login(HF_TOKEN)\n",
    "    \n",
    "api = HfApi()\n",
    "user = api.whoami()\n",
    "user_name = user['name']\n",
    "print(f\"Logged in as {user_name}\")"
   ]
  },
  {
   "cell_type": "markdown",
   "metadata": {},
   "source": [
    "## Download Models & Data"
   ]
  },
  {
   "cell_type": "code",
   "execution_count": 7,
   "metadata": {},
   "outputs": [],
   "source": [
    "# # Get the directory of the notebook\n",
    "## this is root directory of jupyterlab\n",
    "notebook_dir = os.getcwd()\n",
    "\n",
    "# from api.utils.common import augment_dataset,download_data_from_gdrive\n",
    "project_root = os.path.abspath(os.path.join(notebook_dir , \"mnist_digits_recognition\"))  \n",
    "model_root = os.path.join(project_root, \"models\")\n",
    "ensemble_root = project_root + '/models/ensemble/'\n",
    "data_root = os.path.join(project_root, \"data\")\n",
    "\n",
    "## hugging face repo id\n",
    "model_name = \"mnist_digits_recognition\"\n",
    "repo_id = f\"{user_name}/{model_name}\"\n"
   ]
  },
  {
   "cell_type": "code",
   "execution_count": 8,
   "metadata": {},
   "outputs": [
    {
     "name": "stdout",
     "output_type": "stream",
     "text": [
      "Models in gaurangdave/mnist_digits_recognition:\n",
      "Downloaded .gitattributes to /home/gaurangdave/jupyterlab/mnist_digits_recognition/models/.gitattributes\n",
      "Downloaded default_logistic_regression_probabilites.csv to /home/gaurangdave/jupyterlab/mnist_digits_recognition/models/default_logistic_regression_probabilites.csv\n",
      "Downloaded ensemble/blended_gb.pkl to /home/gaurangdave/jupyterlab/mnist_digits_recognition/models/ensemble/blended_gb.pkl\n",
      "Downloaded ensemble/blended_logistic_regression_model.pkl to /home/gaurangdave/jupyterlab/mnist_digits_recognition/models/ensemble/blended_logistic_regression_model.pkl\n",
      "Downloaded ensemble/blended_random_forest_model.pkl to /home/gaurangdave/jupyterlab/mnist_digits_recognition/models/ensemble/blended_random_forest_model.pkl\n",
      "Downloaded ensemble/blended_svc_model.pkl to /home/gaurangdave/jupyterlab/mnist_digits_recognition/models/ensemble/blended_svc_model.pkl\n",
      "Downloaded ensemble/extra_trees_model.pkl to /home/gaurangdave/jupyterlab/mnist_digits_recognition/models/ensemble/extra_trees_model.pkl\n",
      "Downloaded ensemble/gradient_boosting_model.pkl to /home/gaurangdave/jupyterlab/mnist_digits_recognition/models/ensemble/gradient_boosting_model.pkl\n",
      "Downloaded ensemble/knn_model.pkl to /home/gaurangdave/jupyterlab/mnist_digits_recognition/models/ensemble/knn_model.pkl\n",
      "Downloaded ensemble/logistic_regression_model.pkl to /home/gaurangdave/jupyterlab/mnist_digits_recognition/models/ensemble/logistic_regression_model.pkl\n",
      "Downloaded ensemble/random_forest_model.pkl to /home/gaurangdave/jupyterlab/mnist_digits_recognition/models/ensemble/random_forest_model.pkl\n",
      "Downloaded ensemble/soft_voting_classifier_model.pkl to /home/gaurangdave/jupyterlab/mnist_digits_recognition/models/ensemble/soft_voting_classifier_model.pkl\n",
      "Downloaded ensemble/svc_model.pkl to /home/gaurangdave/jupyterlab/mnist_digits_recognition/models/ensemble/svc_model.pkl\n",
      "Downloaded ensemble/tuned_blended_logistic_regression_model.pkl to /home/gaurangdave/jupyterlab/mnist_digits_recognition/models/ensemble/tuned_blended_logistic_regression_model.pkl\n",
      "Downloaded ensemble/tuned_blended_random_forest_model.pkl to /home/gaurangdave/jupyterlab/mnist_digits_recognition/models/ensemble/tuned_blended_random_forest_model.pkl\n",
      "Downloaded ensemble/tuned_blended_svc_model.pkl to /home/gaurangdave/jupyterlab/mnist_digits_recognition/models/ensemble/tuned_blended_svc_model.pkl\n",
      "Downloaded ensemble/tuned_extra_trees_model.pkl to /home/gaurangdave/jupyterlab/mnist_digits_recognition/models/ensemble/tuned_extra_trees_model.pkl\n",
      "Downloaded ensemble/tuned_gradient_boosting_model.pkl to /home/gaurangdave/jupyterlab/mnist_digits_recognition/models/ensemble/tuned_gradient_boosting_model.pkl\n",
      "Downloaded ensemble/tuned_knn_model.pkl to /home/gaurangdave/jupyterlab/mnist_digits_recognition/models/ensemble/tuned_knn_model.pkl\n",
      "Downloaded ensemble/tuned_logistic_regression_model.pkl to /home/gaurangdave/jupyterlab/mnist_digits_recognition/models/ensemble/tuned_logistic_regression_model.pkl\n",
      "Downloaded ensemble/tuned_logistic_regression_v0.pkl to /home/gaurangdave/jupyterlab/mnist_digits_recognition/models/ensemble/tuned_logistic_regression_v0.pkl\n",
      "Downloaded ensemble/tuned_random_forest_model.pkl to /home/gaurangdave/jupyterlab/mnist_digits_recognition/models/ensemble/tuned_random_forest_model.pkl\n",
      "Downloaded ensemble/tuned_soft_voting_classifier_model.pkl to /home/gaurangdave/jupyterlab/mnist_digits_recognition/models/ensemble/tuned_soft_voting_classifier_model.pkl\n",
      "Downloaded ensemble/tuned_svc_model.pkl to /home/gaurangdave/jupyterlab/mnist_digits_recognition/models/ensemble/tuned_svc_model.pkl\n",
      "Downloaded ensemble/tuned_voting_classifier_model.pkl to /home/gaurangdave/jupyterlab/mnist_digits_recognition/models/ensemble/tuned_voting_classifier_model.pkl\n",
      "Downloaded ensemble/voting_classifier_model.pkl to /home/gaurangdave/jupyterlab/mnist_digits_recognition/models/ensemble/voting_classifier_model.pkl\n",
      "Downloaded knn_v0.joblib to /home/gaurangdave/jupyterlab/mnist_digits_recognition/models/knn_v0.joblib\n",
      "Downloaded knn_v1.joblib to /home/gaurangdave/jupyterlab/mnist_digits_recognition/models/knn_v1.joblib\n",
      "Downloaded logistic_regression_v0.joblib to /home/gaurangdave/jupyterlab/mnist_digits_recognition/models/logistic_regression_v0.joblib\n",
      "Downloaded logistic_regression_v1.joblib to /home/gaurangdave/jupyterlab/mnist_digits_recognition/models/logistic_regression_v1.joblib\n",
      "Downloaded logistic_regression_v1_cv_results.joblib to /home/gaurangdave/jupyterlab/mnist_digits_recognition/models/logistic_regression_v1_cv_results.joblib\n",
      "Downloaded logistic_regression_v2.joblib to /home/gaurangdave/jupyterlab/mnist_digits_recognition/models/logistic_regression_v2.joblib\n",
      "Downloaded mnist_models_metrics.csv to /home/gaurangdave/jupyterlab/mnist_digits_recognition/models/mnist_models_metrics.csv\n",
      "Downloaded random_forest_v0.joblib to /home/gaurangdave/jupyterlab/mnist_digits_recognition/models/random_forest_v0.joblib\n",
      "Downloaded random_forest_v1.joblib to /home/gaurangdave/jupyterlab/mnist_digits_recognition/models/random_forest_v1.joblib\n",
      "Downloaded svc_augmented_data_v1.joblib to /home/gaurangdave/jupyterlab/mnist_digits_recognition/models/svc_augmented_data_v1.joblib\n",
      "Downloaded svc_prod.joblib to /home/gaurangdave/jupyterlab/mnist_digits_recognition/models/svc_prod.joblib\n",
      "Downloaded svc_prod_v1.joblib to /home/gaurangdave/jupyterlab/mnist_digits_recognition/models/svc_prod_v1.joblib\n",
      "Downloaded svc_prod_v2.joblib to /home/gaurangdave/jupyterlab/mnist_digits_recognition/models/svc_prod_v2.joblib\n",
      "Downloaded svc_prod_v3.joblib to /home/gaurangdave/jupyterlab/mnist_digits_recognition/models/svc_prod_v3.joblib\n",
      "Downloaded svc_v0.joblib to /home/gaurangdave/jupyterlab/mnist_digits_recognition/models/svc_v0.joblib\n",
      "Downloaded svc_v1.joblib to /home/gaurangdave/jupyterlab/mnist_digits_recognition/models/svc_v1.joblib\n",
      "Downloaded svc_v2.joblib to /home/gaurangdave/jupyterlab/mnist_digits_recognition/models/svc_v2.joblib\n",
      "Downloaded svc_v3.joblib to /home/gaurangdave/jupyterlab/mnist_digits_recognition/models/svc_v3.joblib\n",
      "✅ All files downloaded to /home/gaurangdave/jupyterlab/mnist_digits_recognition/models\n"
     ]
    }
   ],
   "source": [
    "all_models = api.list_repo_files(repo_id, repo_type=\"model\")\n",
    "\n",
    "print(f\"Models in {repo_id}:\")\n",
    "for model in all_models:\n",
    "    ## download to tmp folder\n",
    "    file_path = hf_hub_download(repo_id=repo_id, filename=model, token=HF_TOKEN, local_dir=model_root, repo_type=\"model\")\n",
    "    ## move to model folder\n",
    "    os.rename(file_path, os.path.join(model_root, model))\n",
    "    print(f\"Downloaded {model} to {file_path}\")\n",
    "\n",
    "print(f\"✅ All files downloaded to {model_root}\")"
   ]
  },
  {
   "cell_type": "code",
   "execution_count": 9,
   "metadata": {},
   "outputs": [
    {
     "name": "stdout",
     "output_type": "stream",
     "text": [
      "Datasets in gaurangdave/mnist_digits_recognition:\n",
      "Downloaded .gitattributes to /home/gaurangdave/jupyterlab/mnist_digits_recognition/data/.gitattributes\n",
      "Downloaded augmented_ensemle_learning_mnist_data.csv to /home/gaurangdave/jupyterlab/mnist_digits_recognition/data/augmented_ensemle_learning_mnist_data.csv\n",
      "Downloaded augmented_mnist_data.csv to /home/gaurangdave/jupyterlab/mnist_digits_recognition/data/augmented_mnist_data.csv\n",
      "Downloaded augmented_train_X.csv to /home/gaurangdave/jupyterlab/mnist_digits_recognition/data/augmented_train_X.csv\n",
      "Downloaded augmented_train_Y.csv to /home/gaurangdave/jupyterlab/mnist_digits_recognition/data/augmented_train_Y.csv\n",
      "Downloaded ensemble_performance_scores.csv to /home/gaurangdave/jupyterlab/mnist_digits_recognition/data/ensemble_performance_scores.csv\n",
      "Downloaded meta_X.csv to /home/gaurangdave/jupyterlab/mnist_digits_recognition/data/meta_X.csv\n",
      "Downloaded meta_X_test.csv to /home/gaurangdave/jupyterlab/mnist_digits_recognition/data/meta_X_test.csv\n",
      "Downloaded meta_y.csv to /home/gaurangdave/jupyterlab/mnist_digits_recognition/data/meta_y.csv\n",
      "Downloaded meta_y_test.csv to /home/gaurangdave/jupyterlab/mnist_digits_recognition/data/meta_y_test.csv\n",
      "Downloaded mnist_test_set.csv to /home/gaurangdave/jupyterlab/mnist_digits_recognition/data/mnist_test_set.csv\n",
      "Downloaded mnist_train_set.csv to /home/gaurangdave/jupyterlab/mnist_digits_recognition/data/mnist_train_set.csv\n",
      "Downloaded raw_mnist_data.csv to /home/gaurangdave/jupyterlab/mnist_digits_recognition/data/raw_mnist_data.csv\n",
      "Downloaded user_input.csv to /home/gaurangdave/jupyterlab/mnist_digits_recognition/data/user_input.csv\n",
      "Downloaded user_prediction_request.csv to /home/gaurangdave/jupyterlab/mnist_digits_recognition/data/user_prediction_request.csv\n",
      "✅ All files downloaded to /home/gaurangdave/jupyterlab/mnist_digits_recognition/models\n"
     ]
    }
   ],
   "source": [
    "all_data = api.list_repo_files(repo_id, repo_type=\"dataset\")\n",
    "    \n",
    "print(f\"Datasets in {repo_id}:\")\n",
    "for dataset in all_data:\n",
    "    ## download to tmp folder\n",
    "    file_path = hf_hub_download(repo_id=repo_id, filename=dataset, token=HF_TOKEN, local_dir=data_root, repo_type=\"dataset\")\n",
    "    ## move to model folder\n",
    "    os.rename(file_path, os.path.join(data_root, dataset))\n",
    "    print(f\"Downloaded {dataset} to {file_path}\")\n",
    "\n",
    "print(f\"✅ All files downloaded to {model_root}\")\n",
    "\n",
    "    "
   ]
  },
  {
   "cell_type": "markdown",
   "metadata": {},
   "source": [
    "## Load Models"
   ]
  },
  {
   "cell_type": "code",
   "execution_count": 10,
   "metadata": {},
   "outputs": [],
   "source": [
    "## load the latest version of non ensemble models\n",
    "svc_augmented = joblib.load(model_root + '/svc_augmented_data_v1.joblib')\n",
    "\n",
    "## create dictionary of models for easy access\n",
    "models = {\n",
    "    \"svc_augmented\": svc_augmented,\n",
    "}\n",
    "\n",
    "\n",
    "## load the latest version of ensemble models\n",
    "\n",
    "logistic_regression = joblib.load(ensemble_root + 'logistic_regression_model.pkl')\n",
    "tuned_logistic_regression = joblib.load(ensemble_root + 'tuned_logistic_regression_model.pkl')\n",
    "ensemble_svc = joblib.load(ensemble_root + 'svc_model.pkl')\n",
    "tuned_svc = joblib.load(ensemble_root + 'tuned_svc_model.pkl')\n",
    "random_forest = joblib.load(ensemble_root + 'random_forest_model.pkl')\n",
    "tuned_random_forest = joblib.load(ensemble_root + 'tuned_random_forest_model.pkl')\n",
    "ensemble_knn = joblib.load(ensemble_root + 'knn_model.pkl')\n",
    "tuned_knn = joblib.load(ensemble_root + 'tuned_knn_model.pkl')\n",
    "extra_trees = joblib.load(ensemble_root + 'extra_trees_model.pkl')\n",
    "tuned_extra_trees = joblib.load(ensemble_root + 'tuned_extra_trees_model.pkl')\n",
    "gradient_boosting = joblib.load(ensemble_root + 'gradient_boosting_model.pkl')\n",
    "tuned_gradient_boosting = joblib.load(ensemble_root + 'tuned_gradient_boosting_model.pkl')\n",
    "voting_classifier = joblib.load(ensemble_root + 'voting_classifier_model.pkl')\n",
    "tuned_voting_classifier = joblib.load(ensemble_root + 'tuned_voting_classifier_model.pkl')\n",
    "soft_voting_classifier = joblib.load(ensemble_root + 'soft_voting_classifier_model.pkl')\n",
    "tuned_soft_voting_classifier = joblib.load(ensemble_root + 'tuned_soft_voting_classifier_model.pkl')\n",
    "\n",
    "## these are the estimators that will create input for the blender\n",
    "estimators = {\n",
    "    \"logistic_regression\": logistic_regression,\n",
    "    \"tuned_logistic_regression\": tuned_logistic_regression,\n",
    "    \"svc\": ensemble_svc,\n",
    "    \"tuned_svc\": tuned_svc,\n",
    "    \"random_forest\": random_forest,\n",
    "    \"tuned_random_forest\": tuned_random_forest,\n",
    "    \"knn\": ensemble_knn,\n",
    "    \"tuned_knn\": tuned_knn,\n",
    "    \"extra_trees\": extra_trees,\n",
    "    \"tuned_extra_trees\": tuned_extra_trees,\n",
    "    \"gradient_boosting\": gradient_boosting,\n",
    "    \"tuned_gradient_boosting\": tuned_gradient_boosting,\n",
    "    \"voting_classifier\": voting_classifier,\n",
    "    \"tuned_voting_classifier\": tuned_voting_classifier,\n",
    "    \"soft_voting_classifier\": soft_voting_classifier,\n",
    "    \"tuned_soft_voting_classifier\": tuned_soft_voting_classifier\n",
    "}\n",
    "\n",
    "\n",
    "## load all the blenders\n",
    "blended_gb = joblib.load(ensemble_root + 'blended_gb.pkl')\n",
    "blended_logistic_regression = joblib.load(ensemble_root + 'blended_logistic_regression_model.pkl')\n",
    "blended_random_forest = joblib.load(ensemble_root + 'blended_random_forest_model.pkl')\n",
    "blended_svc = joblib.load(ensemble_root + 'blended_svc_model.pkl')\n",
    "\n",
    "## create dictionary of blenders for easy access\n",
    "blenders = {\n",
    "    \"blended_gb\": blended_gb,\n",
    "    \"blended_logistic_regression\": blended_logistic_regression,\n",
    "    \"blended_random_forest\": blended_random_forest,\n",
    "    \"blended_svc\": blended_svc\n",
    "}\n"
   ]
  },
  {
   "cell_type": "markdown",
   "metadata": {},
   "source": [
    "## Load Data"
   ]
  },
  {
   "cell_type": "code",
   "execution_count": 11,
   "metadata": {},
   "outputs": [],
   "source": [
    "## Lets load the test set for augmented model\n",
    "test_data_for_augmented = pd.read_csv(data_root + '/mnist_test_set.csv')\n",
    "augmented_test_X = test_data_for_augmented.drop(\"class\", axis=1)\n",
    "augmented_test_Y = test_data_for_augmented[\"class\"]"
   ]
  },
  {
   "cell_type": "code",
   "execution_count": 13,
   "metadata": {},
   "outputs": [
    {
     "data": {
      "text/plain": [
       "((14000, 784), (14000,))"
      ]
     },
     "execution_count": 13,
     "metadata": {},
     "output_type": "execute_result"
    }
   ],
   "source": [
    "## lets load data for ensemble models\n",
    "raw_data = pd.read_csv(data_root + '/raw_mnist_data.csv')\n",
    "\n",
    "## split the data into variables and target\n",
    "X = raw_data.drop(columns=['class'])\n",
    "y = raw_data['class']\n",
    "\n",
    "\n",
    "X_train, X_test, y_train, y_test = train_test_split(X, y, test_size=0.2, random_state=42)\n",
    "\n",
    "X_test.shape, y_test.shape"
   ]
  },
  {
   "cell_type": "code",
   "execution_count": 14,
   "metadata": {},
   "outputs": [],
   "source": [
    "## lets load test data for blender\n",
    "meta_X_test = pd.read_csv(data_root + '/meta_X_test.csv')\n",
    "meta_y_test = pd.read_csv(data_root + '/meta_y_test.csv')"
   ]
  },
  {
   "cell_type": "markdown",
   "metadata": {},
   "source": [
    "## Create Placeholder Dataset"
   ]
  },
  {
   "cell_type": "markdown",
   "metadata": {},
   "source": [
    "**RUN THE BELOW CELL ONLY ONCE**"
   ]
  },
  {
   "cell_type": "code",
   "execution_count": null,
   "metadata": {},
   "outputs": [
    {
     "data": {
      "text/plain": [
       "CommitInfo(commit_url='https://huggingface.co/datasets/gaurangdave/mnist_digits_recognition/commit/8a5903a76ba26d66041e2ff86086507b209eb2ca', commit_message='Upload final_performance_metrics.csv with huggingface_hub', commit_description='', oid='8a5903a76ba26d66041e2ff86086507b209eb2ca', pr_url=None, repo_url=RepoUrl('https://huggingface.co/datasets/gaurangdave/mnist_digits_recognition', endpoint='https://huggingface.co', repo_type='dataset', repo_id='gaurangdave/mnist_digits_recognition'), pr_revision=None, pr_num=None)"
      ]
     },
     "execution_count": 16,
     "metadata": {},
     "output_type": "execute_result"
    }
   ],
   "source": [
    "\n",
    "## create a placeholder dataframe for performance metrics\n",
    "# final_performance_metrics = pd.DataFrame(columns=['model', 'f1_score', 'accuracy', 'class_0', 'class_1', 'class_2', 'class_3', 'class_4', 'class_5', 'class_6', 'class_7', 'class_8', 'class_9'])\n",
    "\n",
    "# ## save the performance metrics\n",
    "# final_performance_metrics.to_csv(data_root + '/final_performance_metrics.csv', index=False)\n",
    "\n",
    "# ## save the performance metrics to huggingface\n",
    "# ## upload the model to hugging face\n",
    "# path_or_fileobj = Path(data_root , 'final_performance_metrics.csv')\n",
    "# path_in_repo = path_or_fileobj.relative_to(data_root)\n",
    "# api.upload_file(repo_id=repo_id, path_or_fileobj=path_or_fileobj,path_in_repo=str(path_in_repo), token=HF_TOKEN, repo_type=\"dataset\")\n",
    "\n"
   ]
  },
  {
   "cell_type": "code",
   "execution_count": 31,
   "metadata": {},
   "outputs": [
    {
     "data": {
      "application/vnd.microsoft.datawrangler.viewer.v0+json": {
       "columns": [
        {
         "name": "index",
         "rawType": "int64",
         "type": "integer"
        },
        {
         "name": "model",
         "rawType": "object",
         "type": "string"
        },
        {
         "name": "f1_score",
         "rawType": "object",
         "type": "string"
        },
        {
         "name": "accuracy",
         "rawType": "object",
         "type": "string"
        },
        {
         "name": "class_0",
         "rawType": "object",
         "type": "string"
        },
        {
         "name": "class_1",
         "rawType": "object",
         "type": "string"
        },
        {
         "name": "class_2",
         "rawType": "object",
         "type": "string"
        },
        {
         "name": "class_3",
         "rawType": "object",
         "type": "string"
        },
        {
         "name": "class_4",
         "rawType": "object",
         "type": "string"
        },
        {
         "name": "class_5",
         "rawType": "object",
         "type": "string"
        },
        {
         "name": "class_6",
         "rawType": "object",
         "type": "string"
        },
        {
         "name": "class_7",
         "rawType": "object",
         "type": "string"
        },
        {
         "name": "class_8",
         "rawType": "object",
         "type": "string"
        },
        {
         "name": "class_9",
         "rawType": "object",
         "type": "string"
        }
       ],
       "conversionMethod": "pd.DataFrame",
       "ref": "a43b1a5e-139f-439d-b1d1-2373852c1ae9",
       "rows": [],
       "shape": {
        "columns": 13,
        "rows": 0
       }
      },
      "text/html": [
       "<div>\n",
       "<style scoped>\n",
       "    .dataframe tbody tr th:only-of-type {\n",
       "        vertical-align: middle;\n",
       "    }\n",
       "\n",
       "    .dataframe tbody tr th {\n",
       "        vertical-align: top;\n",
       "    }\n",
       "\n",
       "    .dataframe thead th {\n",
       "        text-align: right;\n",
       "    }\n",
       "</style>\n",
       "<table border=\"1\" class=\"dataframe\">\n",
       "  <thead>\n",
       "    <tr style=\"text-align: right;\">\n",
       "      <th></th>\n",
       "      <th>model</th>\n",
       "      <th>f1_score</th>\n",
       "      <th>accuracy</th>\n",
       "      <th>class_0</th>\n",
       "      <th>class_1</th>\n",
       "      <th>class_2</th>\n",
       "      <th>class_3</th>\n",
       "      <th>class_4</th>\n",
       "      <th>class_5</th>\n",
       "      <th>class_6</th>\n",
       "      <th>class_7</th>\n",
       "      <th>class_8</th>\n",
       "      <th>class_9</th>\n",
       "    </tr>\n",
       "  </thead>\n",
       "  <tbody>\n",
       "  </tbody>\n",
       "</table>\n",
       "</div>"
      ],
      "text/plain": [
       "Empty DataFrame\n",
       "Columns: [model, f1_score, accuracy, class_0, class_1, class_2, class_3, class_4, class_5, class_6, class_7, class_8, class_9]\n",
       "Index: []"
      ]
     },
     "execution_count": 31,
     "metadata": {},
     "output_type": "execute_result"
    }
   ],
   "source": [
    "## lets read the performance metrics\n",
    "final_performance_metrics = pd.read_csv(data_root + '/final_performance_metrics.csv')\n",
    "final_performance_metrics"
   ]
  },
  {
   "cell_type": "markdown",
   "metadata": {},
   "source": [
    "## Performance Calculations"
   ]
  },
  {
   "cell_type": "code",
   "execution_count": 32,
   "metadata": {},
   "outputs": [],
   "source": [
    "## helper function to get the performance metrics\n",
    "\n",
    "def get_performance_metrics(model, X_test, y_test):\n",
    "    y_pred = model.predict(X_test)\n",
    "    f1 = f1_score(y_test, y_pred, average='weighted')\n",
    "    accuracy = accuracy_score(y_test, y_pred)\n",
    "    per_class_f1_scores = f1_score(y_test, y_pred, average=None)\n",
    "    per_class_f1_dict = {f\"class_{i}\": score\n",
    "                     for i, score in enumerate(per_class_f1_scores)}\n",
    "    return f1, accuracy, per_class_f1_dict\n",
    "    "
   ]
  },
  {
   "cell_type": "markdown",
   "metadata": {},
   "source": [
    "### SVC"
   ]
  },
  {
   "cell_type": "code",
   "execution_count": 33,
   "metadata": {},
   "outputs": [],
   "source": [
    "f1, accuracy, class_wise_f1 = get_performance_metrics(svc_augmented, augmented_test_X, augmented_test_Y)"
   ]
  },
  {
   "cell_type": "code",
   "execution_count": 34,
   "metadata": {},
   "outputs": [
    {
     "name": "stderr",
     "output_type": "stream",
     "text": [
      "/tmp/ipykernel_1473/3293290367.py:3: FutureWarning: The behavior of DataFrame concatenation with empty or all-NA entries is deprecated. In a future version, this will no longer exclude empty or all-NA columns when determining the result dtypes. To retain the old behavior, exclude the relevant entries before the concat operation.\n",
      "  final_performance_metrics = pd.concat([final_performance_metrics, pd.DataFrame([{'model': 'SVC Augmented Data', 'f1_score': f1, 'accuracy': accuracy, **class_wise_f1}])], ignore_index=True)\n"
     ]
    }
   ],
   "source": [
    "## add the performance metrics to the final_performance_metrics dataframe\n",
    "final_performance_metrics.dropna(inplace=True)\n",
    "final_performance_metrics = pd.concat([final_performance_metrics, pd.DataFrame([{'model': 'SVC Augmented Data', 'f1_score': f1, 'accuracy': accuracy, **class_wise_f1}])], ignore_index=True)\n"
   ]
  },
  {
   "cell_type": "markdown",
   "metadata": {},
   "source": [
    "### Voting Classifier"
   ]
  },
  {
   "cell_type": "code",
   "execution_count": 35,
   "metadata": {},
   "outputs": [],
   "source": [
    "voting_classifier_dict = {\n",
    "    \"Hard Voting Classifier\": voting_classifier,\n",
    "    \"Tuned Hard Voting Classifier\": tuned_voting_classifier,\n",
    "    \"Soft Voting Classifier\": soft_voting_classifier,\n",
    "    \"Tuned Soft Voting Classifier\": tuned_soft_voting_classifier\n",
    "}\n",
    "\n",
    "for model_name, model in voting_classifier_dict.items():\n",
    "    f1, accuracy, class_wise_f1 = get_performance_metrics(model, X_test, y_test)\n",
    "    final_performance_metrics = pd.concat([final_performance_metrics, pd.DataFrame([{'model': model_name, 'f1_score': f1, 'accuracy': accuracy, **class_wise_f1}])], ignore_index=True)"
   ]
  },
  {
   "cell_type": "code",
   "execution_count": 36,
   "metadata": {},
   "outputs": [
    {
     "data": {
      "application/vnd.microsoft.datawrangler.viewer.v0+json": {
       "columns": [
        {
         "name": "index",
         "rawType": "int64",
         "type": "integer"
        },
        {
         "name": "model",
         "rawType": "object",
         "type": "string"
        },
        {
         "name": "f1_score",
         "rawType": "float64",
         "type": "float"
        },
        {
         "name": "accuracy",
         "rawType": "float64",
         "type": "float"
        },
        {
         "name": "class_0",
         "rawType": "float64",
         "type": "float"
        },
        {
         "name": "class_1",
         "rawType": "float64",
         "type": "float"
        },
        {
         "name": "class_2",
         "rawType": "float64",
         "type": "float"
        },
        {
         "name": "class_3",
         "rawType": "float64",
         "type": "float"
        },
        {
         "name": "class_4",
         "rawType": "float64",
         "type": "float"
        },
        {
         "name": "class_5",
         "rawType": "float64",
         "type": "float"
        },
        {
         "name": "class_6",
         "rawType": "float64",
         "type": "float"
        },
        {
         "name": "class_7",
         "rawType": "float64",
         "type": "float"
        },
        {
         "name": "class_8",
         "rawType": "float64",
         "type": "float"
        },
        {
         "name": "class_9",
         "rawType": "float64",
         "type": "float"
        }
       ],
       "conversionMethod": "pd.DataFrame",
       "ref": "948586c7-fda3-4141-991e-d3f9cb2d3806",
       "rows": [
        [
         "0",
         "SVC Augmented Data",
         "0.9897128878139033",
         "0.9897142857142858",
         "0.9953085528690003",
         "0.993015873015873",
         "0.9881847475832438",
         "0.9898209898209899",
         "0.9882697947214076",
         "0.9876935291782454",
         "0.9909321726514327",
         "0.988009592326139",
         "0.9911958914159942",
         "0.9842180774748924"
        ],
        [
         "1",
         "Hard Voting Classifier",
         "0.9708273240027717",
         "0.9708571428571429",
         "0.9873793615441723",
         "0.9816827072337784",
         "0.9651204602660913",
         "0.9588850174216028",
         "0.9704641350210971",
         "0.9707509881422924",
         "0.9824435686134002",
         "0.9701591511936339",
         "0.9619402985074627",
         "0.9587188612099644"
        ],
        [
         "2",
         "Tuned Hard Voting Classifier",
         "0.9736287799976544",
         "0.9736428571428571",
         "0.9880863737900223",
         "0.9838107098381071",
         "0.9673249551166966",
         "0.9615653389238294",
         "0.9730769230769231",
         "0.974015748031496",
         "0.9842632331902719",
         "0.9717701760212554",
         "0.9669267930137495",
         "0.9648562300319489"
        ],
        [
         "3",
         "Soft Voting Classifier",
         "0.9726197110713751",
         "0.9726428571428571",
         "0.9899441340782122",
         "0.9823255813953489",
         "0.9680464778503994",
         "0.962574326687653",
         "0.970281744500193",
         "0.9716981132075472",
         "0.9824937477670597",
         "0.9721854304635762",
         "0.9654403567447045",
         "0.96045197740113"
        ],
        [
         "4",
         "Tuned Soft Voting Classifier",
         "0.9774949686076223",
         "0.9775",
         "0.9895600298284862",
         "0.9853628153223295",
         "0.9736176364293458",
         "0.9695697796432319",
         "0.9752895752895753",
         "0.9795275590551181",
         "0.9867525957751522",
         "0.9764822789002982",
         "0.9714709151537606",
         "0.9669014084507043"
        ]
       ],
       "shape": {
        "columns": 13,
        "rows": 5
       }
      },
      "text/html": [
       "<div>\n",
       "<style scoped>\n",
       "    .dataframe tbody tr th:only-of-type {\n",
       "        vertical-align: middle;\n",
       "    }\n",
       "\n",
       "    .dataframe tbody tr th {\n",
       "        vertical-align: top;\n",
       "    }\n",
       "\n",
       "    .dataframe thead th {\n",
       "        text-align: right;\n",
       "    }\n",
       "</style>\n",
       "<table border=\"1\" class=\"dataframe\">\n",
       "  <thead>\n",
       "    <tr style=\"text-align: right;\">\n",
       "      <th></th>\n",
       "      <th>model</th>\n",
       "      <th>f1_score</th>\n",
       "      <th>accuracy</th>\n",
       "      <th>class_0</th>\n",
       "      <th>class_1</th>\n",
       "      <th>class_2</th>\n",
       "      <th>class_3</th>\n",
       "      <th>class_4</th>\n",
       "      <th>class_5</th>\n",
       "      <th>class_6</th>\n",
       "      <th>class_7</th>\n",
       "      <th>class_8</th>\n",
       "      <th>class_9</th>\n",
       "    </tr>\n",
       "  </thead>\n",
       "  <tbody>\n",
       "    <tr>\n",
       "      <th>0</th>\n",
       "      <td>SVC Augmented Data</td>\n",
       "      <td>0.989713</td>\n",
       "      <td>0.989714</td>\n",
       "      <td>0.995309</td>\n",
       "      <td>0.993016</td>\n",
       "      <td>0.988185</td>\n",
       "      <td>0.989821</td>\n",
       "      <td>0.988270</td>\n",
       "      <td>0.987694</td>\n",
       "      <td>0.990932</td>\n",
       "      <td>0.988010</td>\n",
       "      <td>0.991196</td>\n",
       "      <td>0.984218</td>\n",
       "    </tr>\n",
       "    <tr>\n",
       "      <th>1</th>\n",
       "      <td>Hard Voting Classifier</td>\n",
       "      <td>0.970827</td>\n",
       "      <td>0.970857</td>\n",
       "      <td>0.987379</td>\n",
       "      <td>0.981683</td>\n",
       "      <td>0.965120</td>\n",
       "      <td>0.958885</td>\n",
       "      <td>0.970464</td>\n",
       "      <td>0.970751</td>\n",
       "      <td>0.982444</td>\n",
       "      <td>0.970159</td>\n",
       "      <td>0.961940</td>\n",
       "      <td>0.958719</td>\n",
       "    </tr>\n",
       "    <tr>\n",
       "      <th>2</th>\n",
       "      <td>Tuned Hard Voting Classifier</td>\n",
       "      <td>0.973629</td>\n",
       "      <td>0.973643</td>\n",
       "      <td>0.988086</td>\n",
       "      <td>0.983811</td>\n",
       "      <td>0.967325</td>\n",
       "      <td>0.961565</td>\n",
       "      <td>0.973077</td>\n",
       "      <td>0.974016</td>\n",
       "      <td>0.984263</td>\n",
       "      <td>0.971770</td>\n",
       "      <td>0.966927</td>\n",
       "      <td>0.964856</td>\n",
       "    </tr>\n",
       "    <tr>\n",
       "      <th>3</th>\n",
       "      <td>Soft Voting Classifier</td>\n",
       "      <td>0.972620</td>\n",
       "      <td>0.972643</td>\n",
       "      <td>0.989944</td>\n",
       "      <td>0.982326</td>\n",
       "      <td>0.968046</td>\n",
       "      <td>0.962574</td>\n",
       "      <td>0.970282</td>\n",
       "      <td>0.971698</td>\n",
       "      <td>0.982494</td>\n",
       "      <td>0.972185</td>\n",
       "      <td>0.965440</td>\n",
       "      <td>0.960452</td>\n",
       "    </tr>\n",
       "    <tr>\n",
       "      <th>4</th>\n",
       "      <td>Tuned Soft Voting Classifier</td>\n",
       "      <td>0.977495</td>\n",
       "      <td>0.977500</td>\n",
       "      <td>0.989560</td>\n",
       "      <td>0.985363</td>\n",
       "      <td>0.973618</td>\n",
       "      <td>0.969570</td>\n",
       "      <td>0.975290</td>\n",
       "      <td>0.979528</td>\n",
       "      <td>0.986753</td>\n",
       "      <td>0.976482</td>\n",
       "      <td>0.971471</td>\n",
       "      <td>0.966901</td>\n",
       "    </tr>\n",
       "  </tbody>\n",
       "</table>\n",
       "</div>"
      ],
      "text/plain": [
       "                          model  f1_score  accuracy   class_0   class_1  \\\n",
       "0            SVC Augmented Data  0.989713  0.989714  0.995309  0.993016   \n",
       "1        Hard Voting Classifier  0.970827  0.970857  0.987379  0.981683   \n",
       "2  Tuned Hard Voting Classifier  0.973629  0.973643  0.988086  0.983811   \n",
       "3        Soft Voting Classifier  0.972620  0.972643  0.989944  0.982326   \n",
       "4  Tuned Soft Voting Classifier  0.977495  0.977500  0.989560  0.985363   \n",
       "\n",
       "    class_2   class_3   class_4   class_5   class_6   class_7   class_8  \\\n",
       "0  0.988185  0.989821  0.988270  0.987694  0.990932  0.988010  0.991196   \n",
       "1  0.965120  0.958885  0.970464  0.970751  0.982444  0.970159  0.961940   \n",
       "2  0.967325  0.961565  0.973077  0.974016  0.984263  0.971770  0.966927   \n",
       "3  0.968046  0.962574  0.970282  0.971698  0.982494  0.972185  0.965440   \n",
       "4  0.973618  0.969570  0.975290  0.979528  0.986753  0.976482  0.971471   \n",
       "\n",
       "    class_9  \n",
       "0  0.984218  \n",
       "1  0.958719  \n",
       "2  0.964856  \n",
       "3  0.960452  \n",
       "4  0.966901  "
      ]
     },
     "execution_count": 36,
     "metadata": {},
     "output_type": "execute_result"
    }
   ],
   "source": [
    "final_performance_metrics"
   ]
  },
  {
   "cell_type": "markdown",
   "metadata": {},
   "source": [
    "### Blenders"
   ]
  },
  {
   "cell_type": "code",
   "execution_count": 37,
   "metadata": {},
   "outputs": [],
   "source": [
    "blenders = {\n",
    "    \"Blended Gradient Boosting\": blended_gb,\n",
    "    \"Blended Logistic Regression\": blended_logistic_regression,\n",
    "    \"Blended Random Forest\": blended_random_forest,\n",
    "    \"Blended SVC\": blended_svc\n",
    "}\n",
    "\n",
    "for model_name, model in blenders.items():\n",
    "    f1, accuracy, class_wise_f1 = get_performance_metrics(model, meta_X_test, meta_y_test)\n",
    "    final_performance_metrics = pd.concat([final_performance_metrics, pd.DataFrame([{'model': model_name, 'f1_score': f1, 'accuracy': accuracy, **class_wise_f1}])], ignore_index=True)"
   ]
  },
  {
   "cell_type": "code",
   "execution_count": 38,
   "metadata": {},
   "outputs": [
    {
     "data": {
      "application/vnd.microsoft.datawrangler.viewer.v0+json": {
       "columns": [
        {
         "name": "index",
         "rawType": "int64",
         "type": "integer"
        },
        {
         "name": "model",
         "rawType": "object",
         "type": "string"
        },
        {
         "name": "f1_score",
         "rawType": "float64",
         "type": "float"
        },
        {
         "name": "accuracy",
         "rawType": "float64",
         "type": "float"
        },
        {
         "name": "class_0",
         "rawType": "float64",
         "type": "float"
        },
        {
         "name": "class_1",
         "rawType": "float64",
         "type": "float"
        },
        {
         "name": "class_2",
         "rawType": "float64",
         "type": "float"
        },
        {
         "name": "class_3",
         "rawType": "float64",
         "type": "float"
        },
        {
         "name": "class_4",
         "rawType": "float64",
         "type": "float"
        },
        {
         "name": "class_5",
         "rawType": "float64",
         "type": "float"
        },
        {
         "name": "class_6",
         "rawType": "float64",
         "type": "float"
        },
        {
         "name": "class_7",
         "rawType": "float64",
         "type": "float"
        },
        {
         "name": "class_8",
         "rawType": "float64",
         "type": "float"
        },
        {
         "name": "class_9",
         "rawType": "float64",
         "type": "float"
        }
       ],
       "conversionMethod": "pd.DataFrame",
       "ref": "0c33d3a7-1236-470d-986a-2350a72a3175",
       "rows": [
        [
         "0",
         "SVC Augmented Data",
         "0.9897128878139033",
         "0.9897142857142858",
         "0.9953085528690003",
         "0.993015873015873",
         "0.9881847475832438",
         "0.9898209898209899",
         "0.9882697947214076",
         "0.9876935291782454",
         "0.9909321726514327",
         "0.988009592326139",
         "0.9911958914159942",
         "0.9842180774748924"
        ],
        [
         "1",
         "Hard Voting Classifier",
         "0.9708273240027717",
         "0.9708571428571429",
         "0.9873793615441723",
         "0.9816827072337784",
         "0.9651204602660913",
         "0.9588850174216028",
         "0.9704641350210971",
         "0.9707509881422924",
         "0.9824435686134002",
         "0.9701591511936339",
         "0.9619402985074627",
         "0.9587188612099644"
        ],
        [
         "2",
         "Tuned Hard Voting Classifier",
         "0.9736287799976544",
         "0.9736428571428571",
         "0.9880863737900223",
         "0.9838107098381071",
         "0.9673249551166966",
         "0.9615653389238294",
         "0.9730769230769231",
         "0.974015748031496",
         "0.9842632331902719",
         "0.9717701760212554",
         "0.9669267930137495",
         "0.9648562300319489"
        ],
        [
         "3",
         "Soft Voting Classifier",
         "0.9726197110713751",
         "0.9726428571428571",
         "0.9899441340782122",
         "0.9823255813953489",
         "0.9680464778503994",
         "0.962574326687653",
         "0.970281744500193",
         "0.9716981132075472",
         "0.9824937477670597",
         "0.9721854304635762",
         "0.9654403567447045",
         "0.96045197740113"
        ],
        [
         "4",
         "Tuned Soft Voting Classifier",
         "0.9774949686076223",
         "0.9775",
         "0.9895600298284862",
         "0.9853628153223295",
         "0.9736176364293458",
         "0.9695697796432319",
         "0.9752895752895753",
         "0.9795275590551181",
         "0.9867525957751522",
         "0.9764822789002982",
         "0.9714709151537606",
         "0.9669014084507043"
        ],
        [
         "5",
         "Blended Gradient Boosting",
         "0.9878530969881978",
         "0.9878571428571429",
         "0.994413407821229",
         "0.9943820224719101",
         "0.9859154929577465",
         "0.9853249475890985",
         "0.9853395061728395",
         "0.9862150452934226",
         "0.9921484653818701",
         "0.9863832613749585",
         "0.9855609033691225",
         "0.982010582010582"
        ],
        [
         "6",
         "Blended Logistic Regression",
         "0.9740746453080881",
         "0.9740714285714286",
         "0.9903201787043932",
         "0.9887218045112782",
         "0.9705347399054202",
         "0.9674027339642481",
         "0.9540717869548437",
         "0.9665369649805448",
         "0.9763668430335097",
         "0.9727755644090306",
         "0.9709605361131795",
         "0.9794762915782024"
        ],
        [
         "7",
         "Blended Random Forest",
         "0.9859273675299971",
         "0.9859285714285714",
         "0.994034302759135",
         "0.9931335830212235",
         "0.9823040808956301",
         "0.9838935574229691",
         "0.9834040910845233",
         "0.9862150452934226",
         "0.9907142857142858",
         "0.9821428571428571",
         "0.9829881656804734",
         "0.9798657718120806"
        ],
        [
         "8",
         "Blended SVC",
         "0.9763746549068034",
         "0.9763571428571428",
         "0.9925373134328358",
         "0.9890522364716922",
         "0.9725036179450073",
         "0.9698245614035088",
         "0.9638370765131329",
         "0.9774436090225563",
         "0.987152034261242",
         "0.9714854111405835",
         "0.9613259668508287",
         "0.9766123316796598"
        ]
       ],
       "shape": {
        "columns": 13,
        "rows": 9
       }
      },
      "text/html": [
       "<div>\n",
       "<style scoped>\n",
       "    .dataframe tbody tr th:only-of-type {\n",
       "        vertical-align: middle;\n",
       "    }\n",
       "\n",
       "    .dataframe tbody tr th {\n",
       "        vertical-align: top;\n",
       "    }\n",
       "\n",
       "    .dataframe thead th {\n",
       "        text-align: right;\n",
       "    }\n",
       "</style>\n",
       "<table border=\"1\" class=\"dataframe\">\n",
       "  <thead>\n",
       "    <tr style=\"text-align: right;\">\n",
       "      <th></th>\n",
       "      <th>model</th>\n",
       "      <th>f1_score</th>\n",
       "      <th>accuracy</th>\n",
       "      <th>class_0</th>\n",
       "      <th>class_1</th>\n",
       "      <th>class_2</th>\n",
       "      <th>class_3</th>\n",
       "      <th>class_4</th>\n",
       "      <th>class_5</th>\n",
       "      <th>class_6</th>\n",
       "      <th>class_7</th>\n",
       "      <th>class_8</th>\n",
       "      <th>class_9</th>\n",
       "    </tr>\n",
       "  </thead>\n",
       "  <tbody>\n",
       "    <tr>\n",
       "      <th>0</th>\n",
       "      <td>SVC Augmented Data</td>\n",
       "      <td>0.989713</td>\n",
       "      <td>0.989714</td>\n",
       "      <td>0.995309</td>\n",
       "      <td>0.993016</td>\n",
       "      <td>0.988185</td>\n",
       "      <td>0.989821</td>\n",
       "      <td>0.988270</td>\n",
       "      <td>0.987694</td>\n",
       "      <td>0.990932</td>\n",
       "      <td>0.988010</td>\n",
       "      <td>0.991196</td>\n",
       "      <td>0.984218</td>\n",
       "    </tr>\n",
       "    <tr>\n",
       "      <th>1</th>\n",
       "      <td>Hard Voting Classifier</td>\n",
       "      <td>0.970827</td>\n",
       "      <td>0.970857</td>\n",
       "      <td>0.987379</td>\n",
       "      <td>0.981683</td>\n",
       "      <td>0.965120</td>\n",
       "      <td>0.958885</td>\n",
       "      <td>0.970464</td>\n",
       "      <td>0.970751</td>\n",
       "      <td>0.982444</td>\n",
       "      <td>0.970159</td>\n",
       "      <td>0.961940</td>\n",
       "      <td>0.958719</td>\n",
       "    </tr>\n",
       "    <tr>\n",
       "      <th>2</th>\n",
       "      <td>Tuned Hard Voting Classifier</td>\n",
       "      <td>0.973629</td>\n",
       "      <td>0.973643</td>\n",
       "      <td>0.988086</td>\n",
       "      <td>0.983811</td>\n",
       "      <td>0.967325</td>\n",
       "      <td>0.961565</td>\n",
       "      <td>0.973077</td>\n",
       "      <td>0.974016</td>\n",
       "      <td>0.984263</td>\n",
       "      <td>0.971770</td>\n",
       "      <td>0.966927</td>\n",
       "      <td>0.964856</td>\n",
       "    </tr>\n",
       "    <tr>\n",
       "      <th>3</th>\n",
       "      <td>Soft Voting Classifier</td>\n",
       "      <td>0.972620</td>\n",
       "      <td>0.972643</td>\n",
       "      <td>0.989944</td>\n",
       "      <td>0.982326</td>\n",
       "      <td>0.968046</td>\n",
       "      <td>0.962574</td>\n",
       "      <td>0.970282</td>\n",
       "      <td>0.971698</td>\n",
       "      <td>0.982494</td>\n",
       "      <td>0.972185</td>\n",
       "      <td>0.965440</td>\n",
       "      <td>0.960452</td>\n",
       "    </tr>\n",
       "    <tr>\n",
       "      <th>4</th>\n",
       "      <td>Tuned Soft Voting Classifier</td>\n",
       "      <td>0.977495</td>\n",
       "      <td>0.977500</td>\n",
       "      <td>0.989560</td>\n",
       "      <td>0.985363</td>\n",
       "      <td>0.973618</td>\n",
       "      <td>0.969570</td>\n",
       "      <td>0.975290</td>\n",
       "      <td>0.979528</td>\n",
       "      <td>0.986753</td>\n",
       "      <td>0.976482</td>\n",
       "      <td>0.971471</td>\n",
       "      <td>0.966901</td>\n",
       "    </tr>\n",
       "    <tr>\n",
       "      <th>5</th>\n",
       "      <td>Blended Gradient Boosting</td>\n",
       "      <td>0.987853</td>\n",
       "      <td>0.987857</td>\n",
       "      <td>0.994413</td>\n",
       "      <td>0.994382</td>\n",
       "      <td>0.985915</td>\n",
       "      <td>0.985325</td>\n",
       "      <td>0.985340</td>\n",
       "      <td>0.986215</td>\n",
       "      <td>0.992148</td>\n",
       "      <td>0.986383</td>\n",
       "      <td>0.985561</td>\n",
       "      <td>0.982011</td>\n",
       "    </tr>\n",
       "    <tr>\n",
       "      <th>6</th>\n",
       "      <td>Blended Logistic Regression</td>\n",
       "      <td>0.974075</td>\n",
       "      <td>0.974071</td>\n",
       "      <td>0.990320</td>\n",
       "      <td>0.988722</td>\n",
       "      <td>0.970535</td>\n",
       "      <td>0.967403</td>\n",
       "      <td>0.954072</td>\n",
       "      <td>0.966537</td>\n",
       "      <td>0.976367</td>\n",
       "      <td>0.972776</td>\n",
       "      <td>0.970961</td>\n",
       "      <td>0.979476</td>\n",
       "    </tr>\n",
       "    <tr>\n",
       "      <th>7</th>\n",
       "      <td>Blended Random Forest</td>\n",
       "      <td>0.985927</td>\n",
       "      <td>0.985929</td>\n",
       "      <td>0.994034</td>\n",
       "      <td>0.993134</td>\n",
       "      <td>0.982304</td>\n",
       "      <td>0.983894</td>\n",
       "      <td>0.983404</td>\n",
       "      <td>0.986215</td>\n",
       "      <td>0.990714</td>\n",
       "      <td>0.982143</td>\n",
       "      <td>0.982988</td>\n",
       "      <td>0.979866</td>\n",
       "    </tr>\n",
       "    <tr>\n",
       "      <th>8</th>\n",
       "      <td>Blended SVC</td>\n",
       "      <td>0.976375</td>\n",
       "      <td>0.976357</td>\n",
       "      <td>0.992537</td>\n",
       "      <td>0.989052</td>\n",
       "      <td>0.972504</td>\n",
       "      <td>0.969825</td>\n",
       "      <td>0.963837</td>\n",
       "      <td>0.977444</td>\n",
       "      <td>0.987152</td>\n",
       "      <td>0.971485</td>\n",
       "      <td>0.961326</td>\n",
       "      <td>0.976612</td>\n",
       "    </tr>\n",
       "  </tbody>\n",
       "</table>\n",
       "</div>"
      ],
      "text/plain": [
       "                          model  f1_score  accuracy   class_0   class_1  \\\n",
       "0            SVC Augmented Data  0.989713  0.989714  0.995309  0.993016   \n",
       "1        Hard Voting Classifier  0.970827  0.970857  0.987379  0.981683   \n",
       "2  Tuned Hard Voting Classifier  0.973629  0.973643  0.988086  0.983811   \n",
       "3        Soft Voting Classifier  0.972620  0.972643  0.989944  0.982326   \n",
       "4  Tuned Soft Voting Classifier  0.977495  0.977500  0.989560  0.985363   \n",
       "5     Blended Gradient Boosting  0.987853  0.987857  0.994413  0.994382   \n",
       "6   Blended Logistic Regression  0.974075  0.974071  0.990320  0.988722   \n",
       "7         Blended Random Forest  0.985927  0.985929  0.994034  0.993134   \n",
       "8                   Blended SVC  0.976375  0.976357  0.992537  0.989052   \n",
       "\n",
       "    class_2   class_3   class_4   class_5   class_6   class_7   class_8  \\\n",
       "0  0.988185  0.989821  0.988270  0.987694  0.990932  0.988010  0.991196   \n",
       "1  0.965120  0.958885  0.970464  0.970751  0.982444  0.970159  0.961940   \n",
       "2  0.967325  0.961565  0.973077  0.974016  0.984263  0.971770  0.966927   \n",
       "3  0.968046  0.962574  0.970282  0.971698  0.982494  0.972185  0.965440   \n",
       "4  0.973618  0.969570  0.975290  0.979528  0.986753  0.976482  0.971471   \n",
       "5  0.985915  0.985325  0.985340  0.986215  0.992148  0.986383  0.985561   \n",
       "6  0.970535  0.967403  0.954072  0.966537  0.976367  0.972776  0.970961   \n",
       "7  0.982304  0.983894  0.983404  0.986215  0.990714  0.982143  0.982988   \n",
       "8  0.972504  0.969825  0.963837  0.977444  0.987152  0.971485  0.961326   \n",
       "\n",
       "    class_9  \n",
       "0  0.984218  \n",
       "1  0.958719  \n",
       "2  0.964856  \n",
       "3  0.960452  \n",
       "4  0.966901  \n",
       "5  0.982011  \n",
       "6  0.979476  \n",
       "7  0.979866  \n",
       "8  0.976612  "
      ]
     },
     "execution_count": 38,
     "metadata": {},
     "output_type": "execute_result"
    }
   ],
   "source": [
    "final_performance_metrics"
   ]
  },
  {
   "cell_type": "code",
   "execution_count": 39,
   "metadata": {},
   "outputs": [
    {
     "data": {
      "text/plain": [
       "CommitInfo(commit_url='https://huggingface.co/datasets/gaurangdave/mnist_digits_recognition/commit/a73f039cd9e5788af0d45abb15dd989e16ce13c2', commit_message='Upload final_performance_metrics.csv with huggingface_hub', commit_description='', oid='a73f039cd9e5788af0d45abb15dd989e16ce13c2', pr_url=None, repo_url=RepoUrl('https://huggingface.co/datasets/gaurangdave/mnist_digits_recognition', endpoint='https://huggingface.co', repo_type='dataset', repo_id='gaurangdave/mnist_digits_recognition'), pr_revision=None, pr_num=None)"
      ]
     },
     "execution_count": 39,
     "metadata": {},
     "output_type": "execute_result"
    }
   ],
   "source": [
    "## save the performance metrics\n",
    "final_performance_metrics.to_csv(data_root + '/final_performance_metrics.csv', index=False)\n",
    "\n",
    "## save the performance metrics to huggingface\n",
    "## upload the model to hugging face\n",
    "path_or_fileobj = Path(data_root , 'final_performance_metrics.csv')\n",
    "path_in_repo = path_or_fileobj.relative_to(data_root)\n",
    "\n",
    "api.upload_file(repo_id=repo_id, path_or_fileobj=path_or_fileobj,path_in_repo=str(path_in_repo), token=HF_TOKEN, repo_type=\"dataset\")"
   ]
  },
  {
   "cell_type": "markdown",
   "metadata": {},
   "source": [
    "## Performance Analysis"
   ]
  },
  {
   "cell_type": "code",
   "execution_count": null,
   "metadata": {},
   "outputs": [],
   "source": [
    "## lets create visualizations for the performance metrics\n",
    "final_performance_metrics = pd.read_csv(data_root + '/final_performance_metrics.csv')\n",
    "\n",
    "\n",
    "\n",
    "final_performance_metrics = final_performance_metrics.round(4)"
   ]
  },
  {
   "cell_type": "code",
   "execution_count": 45,
   "metadata": {},
   "outputs": [
    {
     "data": {
      "application/vnd.microsoft.datawrangler.viewer.v0+json": {
       "columns": [
        {
         "name": "index",
         "rawType": "int64",
         "type": "integer"
        },
        {
         "name": "model",
         "rawType": "object",
         "type": "string"
        },
        {
         "name": "f1_score",
         "rawType": "float64",
         "type": "float"
        },
        {
         "name": "accuracy",
         "rawType": "float64",
         "type": "float"
        },
        {
         "name": "class_0",
         "rawType": "float64",
         "type": "float"
        },
        {
         "name": "class_1",
         "rawType": "float64",
         "type": "float"
        },
        {
         "name": "class_2",
         "rawType": "float64",
         "type": "float"
        },
        {
         "name": "class_3",
         "rawType": "float64",
         "type": "float"
        },
        {
         "name": "class_4",
         "rawType": "float64",
         "type": "float"
        },
        {
         "name": "class_5",
         "rawType": "float64",
         "type": "float"
        },
        {
         "name": "class_6",
         "rawType": "float64",
         "type": "float"
        },
        {
         "name": "class_7",
         "rawType": "float64",
         "type": "float"
        },
        {
         "name": "class_8",
         "rawType": "float64",
         "type": "float"
        },
        {
         "name": "class_9",
         "rawType": "float64",
         "type": "float"
        }
       ],
       "conversionMethod": "pd.DataFrame",
       "ref": "043f8d03-7222-422c-a90c-27005bb18eeb",
       "rows": [
        [
         "0",
         "SVC Augmented Data",
         "0.9897",
         "0.9897",
         "0.9953",
         "0.993",
         "0.9882",
         "0.9898",
         "0.9883",
         "0.9877",
         "0.9909",
         "0.988",
         "0.9912",
         "0.9842"
        ],
        [
         "1",
         "Hard Voting Classifier",
         "0.9708",
         "0.9709",
         "0.9874",
         "0.9817",
         "0.9651",
         "0.9589",
         "0.9705",
         "0.9708",
         "0.9824",
         "0.9702",
         "0.9619",
         "0.9587"
        ],
        [
         "2",
         "Tuned Hard Voting Classifier",
         "0.9736",
         "0.9736",
         "0.9881",
         "0.9838",
         "0.9673",
         "0.9616",
         "0.9731",
         "0.974",
         "0.9843",
         "0.9718",
         "0.9669",
         "0.9649"
        ],
        [
         "3",
         "Soft Voting Classifier",
         "0.9726",
         "0.9726",
         "0.9899",
         "0.9823",
         "0.968",
         "0.9626",
         "0.9703",
         "0.9717",
         "0.9825",
         "0.9722",
         "0.9654",
         "0.9605"
        ],
        [
         "4",
         "Tuned Soft Voting Classifier",
         "0.9775",
         "0.9775",
         "0.9896",
         "0.9854",
         "0.9736",
         "0.9696",
         "0.9753",
         "0.9795",
         "0.9868",
         "0.9765",
         "0.9715",
         "0.9669"
        ],
        [
         "5",
         "Blended Gradient Boosting",
         "0.9879",
         "0.9879",
         "0.9944",
         "0.9944",
         "0.9859",
         "0.9853",
         "0.9853",
         "0.9862",
         "0.9921",
         "0.9864",
         "0.9856",
         "0.982"
        ],
        [
         "6",
         "Blended Logistic Regression",
         "0.9741",
         "0.9741",
         "0.9903",
         "0.9887",
         "0.9705",
         "0.9674",
         "0.9541",
         "0.9665",
         "0.9764",
         "0.9728",
         "0.971",
         "0.9795"
        ],
        [
         "7",
         "Blended Random Forest",
         "0.9859",
         "0.9859",
         "0.994",
         "0.9931",
         "0.9823",
         "0.9839",
         "0.9834",
         "0.9862",
         "0.9907",
         "0.9821",
         "0.983",
         "0.9799"
        ],
        [
         "8",
         "Blended SVC",
         "0.9764",
         "0.9764",
         "0.9925",
         "0.9891",
         "0.9725",
         "0.9698",
         "0.9638",
         "0.9774",
         "0.9872",
         "0.9715",
         "0.9613",
         "0.9766"
        ]
       ],
       "shape": {
        "columns": 13,
        "rows": 9
       }
      },
      "text/html": [
       "<div>\n",
       "<style scoped>\n",
       "    .dataframe tbody tr th:only-of-type {\n",
       "        vertical-align: middle;\n",
       "    }\n",
       "\n",
       "    .dataframe tbody tr th {\n",
       "        vertical-align: top;\n",
       "    }\n",
       "\n",
       "    .dataframe thead th {\n",
       "        text-align: right;\n",
       "    }\n",
       "</style>\n",
       "<table border=\"1\" class=\"dataframe\">\n",
       "  <thead>\n",
       "    <tr style=\"text-align: right;\">\n",
       "      <th></th>\n",
       "      <th>model</th>\n",
       "      <th>f1_score</th>\n",
       "      <th>accuracy</th>\n",
       "      <th>class_0</th>\n",
       "      <th>class_1</th>\n",
       "      <th>class_2</th>\n",
       "      <th>class_3</th>\n",
       "      <th>class_4</th>\n",
       "      <th>class_5</th>\n",
       "      <th>class_6</th>\n",
       "      <th>class_7</th>\n",
       "      <th>class_8</th>\n",
       "      <th>class_9</th>\n",
       "    </tr>\n",
       "  </thead>\n",
       "  <tbody>\n",
       "    <tr>\n",
       "      <th>0</th>\n",
       "      <td>SVC Augmented Data</td>\n",
       "      <td>0.9897</td>\n",
       "      <td>0.9897</td>\n",
       "      <td>0.9953</td>\n",
       "      <td>0.9930</td>\n",
       "      <td>0.9882</td>\n",
       "      <td>0.9898</td>\n",
       "      <td>0.9883</td>\n",
       "      <td>0.9877</td>\n",
       "      <td>0.9909</td>\n",
       "      <td>0.9880</td>\n",
       "      <td>0.9912</td>\n",
       "      <td>0.9842</td>\n",
       "    </tr>\n",
       "    <tr>\n",
       "      <th>1</th>\n",
       "      <td>Hard Voting Classifier</td>\n",
       "      <td>0.9708</td>\n",
       "      <td>0.9709</td>\n",
       "      <td>0.9874</td>\n",
       "      <td>0.9817</td>\n",
       "      <td>0.9651</td>\n",
       "      <td>0.9589</td>\n",
       "      <td>0.9705</td>\n",
       "      <td>0.9708</td>\n",
       "      <td>0.9824</td>\n",
       "      <td>0.9702</td>\n",
       "      <td>0.9619</td>\n",
       "      <td>0.9587</td>\n",
       "    </tr>\n",
       "    <tr>\n",
       "      <th>2</th>\n",
       "      <td>Tuned Hard Voting Classifier</td>\n",
       "      <td>0.9736</td>\n",
       "      <td>0.9736</td>\n",
       "      <td>0.9881</td>\n",
       "      <td>0.9838</td>\n",
       "      <td>0.9673</td>\n",
       "      <td>0.9616</td>\n",
       "      <td>0.9731</td>\n",
       "      <td>0.9740</td>\n",
       "      <td>0.9843</td>\n",
       "      <td>0.9718</td>\n",
       "      <td>0.9669</td>\n",
       "      <td>0.9649</td>\n",
       "    </tr>\n",
       "    <tr>\n",
       "      <th>3</th>\n",
       "      <td>Soft Voting Classifier</td>\n",
       "      <td>0.9726</td>\n",
       "      <td>0.9726</td>\n",
       "      <td>0.9899</td>\n",
       "      <td>0.9823</td>\n",
       "      <td>0.9680</td>\n",
       "      <td>0.9626</td>\n",
       "      <td>0.9703</td>\n",
       "      <td>0.9717</td>\n",
       "      <td>0.9825</td>\n",
       "      <td>0.9722</td>\n",
       "      <td>0.9654</td>\n",
       "      <td>0.9605</td>\n",
       "    </tr>\n",
       "    <tr>\n",
       "      <th>4</th>\n",
       "      <td>Tuned Soft Voting Classifier</td>\n",
       "      <td>0.9775</td>\n",
       "      <td>0.9775</td>\n",
       "      <td>0.9896</td>\n",
       "      <td>0.9854</td>\n",
       "      <td>0.9736</td>\n",
       "      <td>0.9696</td>\n",
       "      <td>0.9753</td>\n",
       "      <td>0.9795</td>\n",
       "      <td>0.9868</td>\n",
       "      <td>0.9765</td>\n",
       "      <td>0.9715</td>\n",
       "      <td>0.9669</td>\n",
       "    </tr>\n",
       "    <tr>\n",
       "      <th>5</th>\n",
       "      <td>Blended Gradient Boosting</td>\n",
       "      <td>0.9879</td>\n",
       "      <td>0.9879</td>\n",
       "      <td>0.9944</td>\n",
       "      <td>0.9944</td>\n",
       "      <td>0.9859</td>\n",
       "      <td>0.9853</td>\n",
       "      <td>0.9853</td>\n",
       "      <td>0.9862</td>\n",
       "      <td>0.9921</td>\n",
       "      <td>0.9864</td>\n",
       "      <td>0.9856</td>\n",
       "      <td>0.9820</td>\n",
       "    </tr>\n",
       "    <tr>\n",
       "      <th>6</th>\n",
       "      <td>Blended Logistic Regression</td>\n",
       "      <td>0.9741</td>\n",
       "      <td>0.9741</td>\n",
       "      <td>0.9903</td>\n",
       "      <td>0.9887</td>\n",
       "      <td>0.9705</td>\n",
       "      <td>0.9674</td>\n",
       "      <td>0.9541</td>\n",
       "      <td>0.9665</td>\n",
       "      <td>0.9764</td>\n",
       "      <td>0.9728</td>\n",
       "      <td>0.9710</td>\n",
       "      <td>0.9795</td>\n",
       "    </tr>\n",
       "    <tr>\n",
       "      <th>7</th>\n",
       "      <td>Blended Random Forest</td>\n",
       "      <td>0.9859</td>\n",
       "      <td>0.9859</td>\n",
       "      <td>0.9940</td>\n",
       "      <td>0.9931</td>\n",
       "      <td>0.9823</td>\n",
       "      <td>0.9839</td>\n",
       "      <td>0.9834</td>\n",
       "      <td>0.9862</td>\n",
       "      <td>0.9907</td>\n",
       "      <td>0.9821</td>\n",
       "      <td>0.9830</td>\n",
       "      <td>0.9799</td>\n",
       "    </tr>\n",
       "    <tr>\n",
       "      <th>8</th>\n",
       "      <td>Blended SVC</td>\n",
       "      <td>0.9764</td>\n",
       "      <td>0.9764</td>\n",
       "      <td>0.9925</td>\n",
       "      <td>0.9891</td>\n",
       "      <td>0.9725</td>\n",
       "      <td>0.9698</td>\n",
       "      <td>0.9638</td>\n",
       "      <td>0.9774</td>\n",
       "      <td>0.9872</td>\n",
       "      <td>0.9715</td>\n",
       "      <td>0.9613</td>\n",
       "      <td>0.9766</td>\n",
       "    </tr>\n",
       "  </tbody>\n",
       "</table>\n",
       "</div>"
      ],
      "text/plain": [
       "                          model  f1_score  accuracy  class_0  class_1  \\\n",
       "0            SVC Augmented Data    0.9897    0.9897   0.9953   0.9930   \n",
       "1        Hard Voting Classifier    0.9708    0.9709   0.9874   0.9817   \n",
       "2  Tuned Hard Voting Classifier    0.9736    0.9736   0.9881   0.9838   \n",
       "3        Soft Voting Classifier    0.9726    0.9726   0.9899   0.9823   \n",
       "4  Tuned Soft Voting Classifier    0.9775    0.9775   0.9896   0.9854   \n",
       "5     Blended Gradient Boosting    0.9879    0.9879   0.9944   0.9944   \n",
       "6   Blended Logistic Regression    0.9741    0.9741   0.9903   0.9887   \n",
       "7         Blended Random Forest    0.9859    0.9859   0.9940   0.9931   \n",
       "8                   Blended SVC    0.9764    0.9764   0.9925   0.9891   \n",
       "\n",
       "   class_2  class_3  class_4  class_5  class_6  class_7  class_8  class_9  \n",
       "0   0.9882   0.9898   0.9883   0.9877   0.9909   0.9880   0.9912   0.9842  \n",
       "1   0.9651   0.9589   0.9705   0.9708   0.9824   0.9702   0.9619   0.9587  \n",
       "2   0.9673   0.9616   0.9731   0.9740   0.9843   0.9718   0.9669   0.9649  \n",
       "3   0.9680   0.9626   0.9703   0.9717   0.9825   0.9722   0.9654   0.9605  \n",
       "4   0.9736   0.9696   0.9753   0.9795   0.9868   0.9765   0.9715   0.9669  \n",
       "5   0.9859   0.9853   0.9853   0.9862   0.9921   0.9864   0.9856   0.9820  \n",
       "6   0.9705   0.9674   0.9541   0.9665   0.9764   0.9728   0.9710   0.9795  \n",
       "7   0.9823   0.9839   0.9834   0.9862   0.9907   0.9821   0.9830   0.9799  \n",
       "8   0.9725   0.9698   0.9638   0.9774   0.9872   0.9715   0.9613   0.9766  "
      ]
     },
     "execution_count": 45,
     "metadata": {},
     "output_type": "execute_result"
    }
   ],
   "source": [
    "final_performance_metrics"
   ]
  },
  {
   "cell_type": "markdown",
   "metadata": {},
   "source": [
    "### Comparing F1 Score & Accuracy Across Models"
   ]
  },
  {
   "cell_type": "code",
   "execution_count": 56,
   "metadata": {},
   "outputs": [
    {
     "data": {
      "application/vnd.plotly.v1+json": {
       "config": {
        "plotlyServerURL": "https://plot.ly"
       },
       "data": [
        {
         "alignmentgroup": "True",
         "hovertemplate": "Metric=accuracy<br>model=%{x}<br>Score=%{text}<extra></extra>",
         "legendgroup": "accuracy",
         "marker": {
          "color": "#4C72B0",
          "pattern": {
           "shape": ""
          }
         },
         "name": "accuracy",
         "offsetgroup": "accuracy",
         "orientation": "v",
         "showlegend": true,
         "text": [
          0.9897,
          0.9709,
          0.9736,
          0.9726,
          0.9775,
          0.9879,
          0.9741,
          0.9859,
          0.9764
         ],
         "textposition": "auto",
         "type": "bar",
         "x": [
          "SVC Augmented Data",
          "Hard Voting Classifier",
          "Tuned Hard Voting Classifier",
          "Soft Voting Classifier",
          "Tuned Soft Voting Classifier",
          "Blended Gradient Boosting",
          "Blended Logistic Regression",
          "Blended Random Forest",
          "Blended SVC"
         ],
         "xaxis": "x",
         "y": [
          0.9897,
          0.9709,
          0.9736,
          0.9726,
          0.9775,
          0.9879,
          0.9741,
          0.9859,
          0.9764
         ],
         "yaxis": "y"
        },
        {
         "alignmentgroup": "True",
         "hovertemplate": "Metric=f1_score<br>model=%{x}<br>Score=%{text}<extra></extra>",
         "legendgroup": "f1_score",
         "marker": {
          "color": "#55A868",
          "pattern": {
           "shape": ""
          }
         },
         "name": "f1_score",
         "offsetgroup": "f1_score",
         "orientation": "v",
         "showlegend": true,
         "text": [
          0.9897,
          0.9708,
          0.9736,
          0.9726,
          0.9775,
          0.9879,
          0.9741,
          0.9859,
          0.9764
         ],
         "textposition": "auto",
         "type": "bar",
         "x": [
          "SVC Augmented Data",
          "Hard Voting Classifier",
          "Tuned Hard Voting Classifier",
          "Soft Voting Classifier",
          "Tuned Soft Voting Classifier",
          "Blended Gradient Boosting",
          "Blended Logistic Regression",
          "Blended Random Forest",
          "Blended SVC"
         ],
         "xaxis": "x",
         "y": [
          0.9897,
          0.9708,
          0.9736,
          0.9726,
          0.9775,
          0.9879,
          0.9741,
          0.9859,
          0.9764
         ],
         "yaxis": "y"
        }
       ],
       "layout": {
        "barmode": "group",
        "height": 600,
        "legend": {
         "title": {
          "text": "Metric"
         },
         "tracegroupgap": 0
        },
        "template": {
         "data": {
          "bar": [
           {
            "error_x": {
             "color": "#2a3f5f"
            },
            "error_y": {
             "color": "#2a3f5f"
            },
            "marker": {
             "line": {
              "color": "#E5ECF6",
              "width": 0.5
             },
             "pattern": {
              "fillmode": "overlay",
              "size": 10,
              "solidity": 0.2
             }
            },
            "type": "bar"
           }
          ],
          "barpolar": [
           {
            "marker": {
             "line": {
              "color": "#E5ECF6",
              "width": 0.5
             },
             "pattern": {
              "fillmode": "overlay",
              "size": 10,
              "solidity": 0.2
             }
            },
            "type": "barpolar"
           }
          ],
          "carpet": [
           {
            "aaxis": {
             "endlinecolor": "#2a3f5f",
             "gridcolor": "white",
             "linecolor": "white",
             "minorgridcolor": "white",
             "startlinecolor": "#2a3f5f"
            },
            "baxis": {
             "endlinecolor": "#2a3f5f",
             "gridcolor": "white",
             "linecolor": "white",
             "minorgridcolor": "white",
             "startlinecolor": "#2a3f5f"
            },
            "type": "carpet"
           }
          ],
          "choropleth": [
           {
            "colorbar": {
             "outlinewidth": 0,
             "ticks": ""
            },
            "type": "choropleth"
           }
          ],
          "contour": [
           {
            "colorbar": {
             "outlinewidth": 0,
             "ticks": ""
            },
            "colorscale": [
             [
              0,
              "#0d0887"
             ],
             [
              0.1111111111111111,
              "#46039f"
             ],
             [
              0.2222222222222222,
              "#7201a8"
             ],
             [
              0.3333333333333333,
              "#9c179e"
             ],
             [
              0.4444444444444444,
              "#bd3786"
             ],
             [
              0.5555555555555556,
              "#d8576b"
             ],
             [
              0.6666666666666666,
              "#ed7953"
             ],
             [
              0.7777777777777778,
              "#fb9f3a"
             ],
             [
              0.8888888888888888,
              "#fdca26"
             ],
             [
              1,
              "#f0f921"
             ]
            ],
            "type": "contour"
           }
          ],
          "contourcarpet": [
           {
            "colorbar": {
             "outlinewidth": 0,
             "ticks": ""
            },
            "type": "contourcarpet"
           }
          ],
          "heatmap": [
           {
            "colorbar": {
             "outlinewidth": 0,
             "ticks": ""
            },
            "colorscale": [
             [
              0,
              "#0d0887"
             ],
             [
              0.1111111111111111,
              "#46039f"
             ],
             [
              0.2222222222222222,
              "#7201a8"
             ],
             [
              0.3333333333333333,
              "#9c179e"
             ],
             [
              0.4444444444444444,
              "#bd3786"
             ],
             [
              0.5555555555555556,
              "#d8576b"
             ],
             [
              0.6666666666666666,
              "#ed7953"
             ],
             [
              0.7777777777777778,
              "#fb9f3a"
             ],
             [
              0.8888888888888888,
              "#fdca26"
             ],
             [
              1,
              "#f0f921"
             ]
            ],
            "type": "heatmap"
           }
          ],
          "heatmapgl": [
           {
            "colorbar": {
             "outlinewidth": 0,
             "ticks": ""
            },
            "colorscale": [
             [
              0,
              "#0d0887"
             ],
             [
              0.1111111111111111,
              "#46039f"
             ],
             [
              0.2222222222222222,
              "#7201a8"
             ],
             [
              0.3333333333333333,
              "#9c179e"
             ],
             [
              0.4444444444444444,
              "#bd3786"
             ],
             [
              0.5555555555555556,
              "#d8576b"
             ],
             [
              0.6666666666666666,
              "#ed7953"
             ],
             [
              0.7777777777777778,
              "#fb9f3a"
             ],
             [
              0.8888888888888888,
              "#fdca26"
             ],
             [
              1,
              "#f0f921"
             ]
            ],
            "type": "heatmapgl"
           }
          ],
          "histogram": [
           {
            "marker": {
             "pattern": {
              "fillmode": "overlay",
              "size": 10,
              "solidity": 0.2
             }
            },
            "type": "histogram"
           }
          ],
          "histogram2d": [
           {
            "colorbar": {
             "outlinewidth": 0,
             "ticks": ""
            },
            "colorscale": [
             [
              0,
              "#0d0887"
             ],
             [
              0.1111111111111111,
              "#46039f"
             ],
             [
              0.2222222222222222,
              "#7201a8"
             ],
             [
              0.3333333333333333,
              "#9c179e"
             ],
             [
              0.4444444444444444,
              "#bd3786"
             ],
             [
              0.5555555555555556,
              "#d8576b"
             ],
             [
              0.6666666666666666,
              "#ed7953"
             ],
             [
              0.7777777777777778,
              "#fb9f3a"
             ],
             [
              0.8888888888888888,
              "#fdca26"
             ],
             [
              1,
              "#f0f921"
             ]
            ],
            "type": "histogram2d"
           }
          ],
          "histogram2dcontour": [
           {
            "colorbar": {
             "outlinewidth": 0,
             "ticks": ""
            },
            "colorscale": [
             [
              0,
              "#0d0887"
             ],
             [
              0.1111111111111111,
              "#46039f"
             ],
             [
              0.2222222222222222,
              "#7201a8"
             ],
             [
              0.3333333333333333,
              "#9c179e"
             ],
             [
              0.4444444444444444,
              "#bd3786"
             ],
             [
              0.5555555555555556,
              "#d8576b"
             ],
             [
              0.6666666666666666,
              "#ed7953"
             ],
             [
              0.7777777777777778,
              "#fb9f3a"
             ],
             [
              0.8888888888888888,
              "#fdca26"
             ],
             [
              1,
              "#f0f921"
             ]
            ],
            "type": "histogram2dcontour"
           }
          ],
          "mesh3d": [
           {
            "colorbar": {
             "outlinewidth": 0,
             "ticks": ""
            },
            "type": "mesh3d"
           }
          ],
          "parcoords": [
           {
            "line": {
             "colorbar": {
              "outlinewidth": 0,
              "ticks": ""
             }
            },
            "type": "parcoords"
           }
          ],
          "pie": [
           {
            "automargin": true,
            "type": "pie"
           }
          ],
          "scatter": [
           {
            "fillpattern": {
             "fillmode": "overlay",
             "size": 10,
             "solidity": 0.2
            },
            "type": "scatter"
           }
          ],
          "scatter3d": [
           {
            "line": {
             "colorbar": {
              "outlinewidth": 0,
              "ticks": ""
             }
            },
            "marker": {
             "colorbar": {
              "outlinewidth": 0,
              "ticks": ""
             }
            },
            "type": "scatter3d"
           }
          ],
          "scattercarpet": [
           {
            "marker": {
             "colorbar": {
              "outlinewidth": 0,
              "ticks": ""
             }
            },
            "type": "scattercarpet"
           }
          ],
          "scattergeo": [
           {
            "marker": {
             "colorbar": {
              "outlinewidth": 0,
              "ticks": ""
             }
            },
            "type": "scattergeo"
           }
          ],
          "scattergl": [
           {
            "marker": {
             "colorbar": {
              "outlinewidth": 0,
              "ticks": ""
             }
            },
            "type": "scattergl"
           }
          ],
          "scattermapbox": [
           {
            "marker": {
             "colorbar": {
              "outlinewidth": 0,
              "ticks": ""
             }
            },
            "type": "scattermapbox"
           }
          ],
          "scatterpolar": [
           {
            "marker": {
             "colorbar": {
              "outlinewidth": 0,
              "ticks": ""
             }
            },
            "type": "scatterpolar"
           }
          ],
          "scatterpolargl": [
           {
            "marker": {
             "colorbar": {
              "outlinewidth": 0,
              "ticks": ""
             }
            },
            "type": "scatterpolargl"
           }
          ],
          "scatterternary": [
           {
            "marker": {
             "colorbar": {
              "outlinewidth": 0,
              "ticks": ""
             }
            },
            "type": "scatterternary"
           }
          ],
          "surface": [
           {
            "colorbar": {
             "outlinewidth": 0,
             "ticks": ""
            },
            "colorscale": [
             [
              0,
              "#0d0887"
             ],
             [
              0.1111111111111111,
              "#46039f"
             ],
             [
              0.2222222222222222,
              "#7201a8"
             ],
             [
              0.3333333333333333,
              "#9c179e"
             ],
             [
              0.4444444444444444,
              "#bd3786"
             ],
             [
              0.5555555555555556,
              "#d8576b"
             ],
             [
              0.6666666666666666,
              "#ed7953"
             ],
             [
              0.7777777777777778,
              "#fb9f3a"
             ],
             [
              0.8888888888888888,
              "#fdca26"
             ],
             [
              1,
              "#f0f921"
             ]
            ],
            "type": "surface"
           }
          ],
          "table": [
           {
            "cells": {
             "fill": {
              "color": "#EBF0F8"
             },
             "line": {
              "color": "white"
             }
            },
            "header": {
             "fill": {
              "color": "#C8D4E3"
             },
             "line": {
              "color": "white"
             }
            },
            "type": "table"
           }
          ]
         },
         "layout": {
          "annotationdefaults": {
           "arrowcolor": "#2a3f5f",
           "arrowhead": 0,
           "arrowwidth": 1
          },
          "autotypenumbers": "strict",
          "coloraxis": {
           "colorbar": {
            "outlinewidth": 0,
            "ticks": ""
           }
          },
          "colorscale": {
           "diverging": [
            [
             0,
             "#8e0152"
            ],
            [
             0.1,
             "#c51b7d"
            ],
            [
             0.2,
             "#de77ae"
            ],
            [
             0.3,
             "#f1b6da"
            ],
            [
             0.4,
             "#fde0ef"
            ],
            [
             0.5,
             "#f7f7f7"
            ],
            [
             0.6,
             "#e6f5d0"
            ],
            [
             0.7,
             "#b8e186"
            ],
            [
             0.8,
             "#7fbc41"
            ],
            [
             0.9,
             "#4d9221"
            ],
            [
             1,
             "#276419"
            ]
           ],
           "sequential": [
            [
             0,
             "#0d0887"
            ],
            [
             0.1111111111111111,
             "#46039f"
            ],
            [
             0.2222222222222222,
             "#7201a8"
            ],
            [
             0.3333333333333333,
             "#9c179e"
            ],
            [
             0.4444444444444444,
             "#bd3786"
            ],
            [
             0.5555555555555556,
             "#d8576b"
            ],
            [
             0.6666666666666666,
             "#ed7953"
            ],
            [
             0.7777777777777778,
             "#fb9f3a"
            ],
            [
             0.8888888888888888,
             "#fdca26"
            ],
            [
             1,
             "#f0f921"
            ]
           ],
           "sequentialminus": [
            [
             0,
             "#0d0887"
            ],
            [
             0.1111111111111111,
             "#46039f"
            ],
            [
             0.2222222222222222,
             "#7201a8"
            ],
            [
             0.3333333333333333,
             "#9c179e"
            ],
            [
             0.4444444444444444,
             "#bd3786"
            ],
            [
             0.5555555555555556,
             "#d8576b"
            ],
            [
             0.6666666666666666,
             "#ed7953"
            ],
            [
             0.7777777777777778,
             "#fb9f3a"
            ],
            [
             0.8888888888888888,
             "#fdca26"
            ],
            [
             1,
             "#f0f921"
            ]
           ]
          },
          "colorway": [
           "#636efa",
           "#EF553B",
           "#00cc96",
           "#ab63fa",
           "#FFA15A",
           "#19d3f3",
           "#FF6692",
           "#B6E880",
           "#FF97FF",
           "#FECB52"
          ],
          "font": {
           "color": "#2a3f5f"
          },
          "geo": {
           "bgcolor": "white",
           "lakecolor": "white",
           "landcolor": "#E5ECF6",
           "showlakes": true,
           "showland": true,
           "subunitcolor": "white"
          },
          "hoverlabel": {
           "align": "left"
          },
          "hovermode": "closest",
          "mapbox": {
           "style": "light"
          },
          "paper_bgcolor": "white",
          "plot_bgcolor": "#E5ECF6",
          "polar": {
           "angularaxis": {
            "gridcolor": "white",
            "linecolor": "white",
            "ticks": ""
           },
           "bgcolor": "#E5ECF6",
           "radialaxis": {
            "gridcolor": "white",
            "linecolor": "white",
            "ticks": ""
           }
          },
          "scene": {
           "xaxis": {
            "backgroundcolor": "#E5ECF6",
            "gridcolor": "white",
            "gridwidth": 2,
            "linecolor": "white",
            "showbackground": true,
            "ticks": "",
            "zerolinecolor": "white"
           },
           "yaxis": {
            "backgroundcolor": "#E5ECF6",
            "gridcolor": "white",
            "gridwidth": 2,
            "linecolor": "white",
            "showbackground": true,
            "ticks": "",
            "zerolinecolor": "white"
           },
           "zaxis": {
            "backgroundcolor": "#E5ECF6",
            "gridcolor": "white",
            "gridwidth": 2,
            "linecolor": "white",
            "showbackground": true,
            "ticks": "",
            "zerolinecolor": "white"
           }
          },
          "shapedefaults": {
           "line": {
            "color": "#2a3f5f"
           }
          },
          "ternary": {
           "aaxis": {
            "gridcolor": "white",
            "linecolor": "white",
            "ticks": ""
           },
           "baxis": {
            "gridcolor": "white",
            "linecolor": "white",
            "ticks": ""
           },
           "bgcolor": "#E5ECF6",
           "caxis": {
            "gridcolor": "white",
            "linecolor": "white",
            "ticks": ""
           }
          },
          "title": {
           "x": 0.05
          },
          "xaxis": {
           "automargin": true,
           "gridcolor": "white",
           "linecolor": "white",
           "ticks": "",
           "title": {
            "standoff": 15
           },
           "zerolinecolor": "white",
           "zerolinewidth": 2
          },
          "yaxis": {
           "automargin": true,
           "gridcolor": "white",
           "linecolor": "white",
           "ticks": "",
           "title": {
            "standoff": 15
           },
           "zerolinecolor": "white",
           "zerolinewidth": 2
          }
         }
        },
        "title": {
         "text": "Comparison of Model Performance Metrics"
        },
        "width": 1000,
        "xaxis": {
         "anchor": "y",
         "domain": [
          0,
          1
         ],
         "tickangle": -35,
         "title": {
          "text": "model"
         }
        },
        "yaxis": {
         "anchor": "x",
         "domain": [
          0,
          1
         ],
         "range": [
          0.95,
          1
         ],
         "title": {
          "text": "Score"
         }
        }
       }
      },
      "text/html": [
       "<div>                            <div id=\"7ca14cf6-8efa-4471-b89c-844dc770ad2d\" class=\"plotly-graph-div\" style=\"height:600px; width:1000px;\"></div>            <script type=\"text/javascript\">                require([\"plotly\"], function(Plotly) {                    window.PLOTLYENV=window.PLOTLYENV || {};                                    if (document.getElementById(\"7ca14cf6-8efa-4471-b89c-844dc770ad2d\")) {                    Plotly.newPlot(                        \"7ca14cf6-8efa-4471-b89c-844dc770ad2d\",                        [{\"alignmentgroup\":\"True\",\"hovertemplate\":\"Metric=accuracy\\u003cbr\\u003emodel=%{x}\\u003cbr\\u003eScore=%{text}\\u003cextra\\u003e\\u003c\\u002fextra\\u003e\",\"legendgroup\":\"accuracy\",\"marker\":{\"color\":\"#4C72B0\",\"pattern\":{\"shape\":\"\"}},\"name\":\"accuracy\",\"offsetgroup\":\"accuracy\",\"orientation\":\"v\",\"showlegend\":true,\"text\":[0.9897,0.9709,0.9736,0.9726,0.9775,0.9879,0.9741,0.9859,0.9764],\"textposition\":\"auto\",\"x\":[\"SVC Augmented Data\",\"Hard Voting Classifier\",\"Tuned Hard Voting Classifier\",\"Soft Voting Classifier\",\"Tuned Soft Voting Classifier\",\"Blended Gradient Boosting\",\"Blended Logistic Regression\",\"Blended Random Forest\",\"Blended SVC\"],\"xaxis\":\"x\",\"y\":[0.9897,0.9709,0.9736,0.9726,0.9775,0.9879,0.9741,0.9859,0.9764],\"yaxis\":\"y\",\"type\":\"bar\"},{\"alignmentgroup\":\"True\",\"hovertemplate\":\"Metric=f1_score\\u003cbr\\u003emodel=%{x}\\u003cbr\\u003eScore=%{text}\\u003cextra\\u003e\\u003c\\u002fextra\\u003e\",\"legendgroup\":\"f1_score\",\"marker\":{\"color\":\"#55A868\",\"pattern\":{\"shape\":\"\"}},\"name\":\"f1_score\",\"offsetgroup\":\"f1_score\",\"orientation\":\"v\",\"showlegend\":true,\"text\":[0.9897,0.9708,0.9736,0.9726,0.9775,0.9879,0.9741,0.9859,0.9764],\"textposition\":\"auto\",\"x\":[\"SVC Augmented Data\",\"Hard Voting Classifier\",\"Tuned Hard Voting Classifier\",\"Soft Voting Classifier\",\"Tuned Soft Voting Classifier\",\"Blended Gradient Boosting\",\"Blended Logistic Regression\",\"Blended Random Forest\",\"Blended SVC\"],\"xaxis\":\"x\",\"y\":[0.9897,0.9708,0.9736,0.9726,0.9775,0.9879,0.9741,0.9859,0.9764],\"yaxis\":\"y\",\"type\":\"bar\"}],                        {\"template\":{\"data\":{\"histogram2dcontour\":[{\"type\":\"histogram2dcontour\",\"colorbar\":{\"outlinewidth\":0,\"ticks\":\"\"},\"colorscale\":[[0.0,\"#0d0887\"],[0.1111111111111111,\"#46039f\"],[0.2222222222222222,\"#7201a8\"],[0.3333333333333333,\"#9c179e\"],[0.4444444444444444,\"#bd3786\"],[0.5555555555555556,\"#d8576b\"],[0.6666666666666666,\"#ed7953\"],[0.7777777777777778,\"#fb9f3a\"],[0.8888888888888888,\"#fdca26\"],[1.0,\"#f0f921\"]]}],\"choropleth\":[{\"type\":\"choropleth\",\"colorbar\":{\"outlinewidth\":0,\"ticks\":\"\"}}],\"histogram2d\":[{\"type\":\"histogram2d\",\"colorbar\":{\"outlinewidth\":0,\"ticks\":\"\"},\"colorscale\":[[0.0,\"#0d0887\"],[0.1111111111111111,\"#46039f\"],[0.2222222222222222,\"#7201a8\"],[0.3333333333333333,\"#9c179e\"],[0.4444444444444444,\"#bd3786\"],[0.5555555555555556,\"#d8576b\"],[0.6666666666666666,\"#ed7953\"],[0.7777777777777778,\"#fb9f3a\"],[0.8888888888888888,\"#fdca26\"],[1.0,\"#f0f921\"]]}],\"heatmap\":[{\"type\":\"heatmap\",\"colorbar\":{\"outlinewidth\":0,\"ticks\":\"\"},\"colorscale\":[[0.0,\"#0d0887\"],[0.1111111111111111,\"#46039f\"],[0.2222222222222222,\"#7201a8\"],[0.3333333333333333,\"#9c179e\"],[0.4444444444444444,\"#bd3786\"],[0.5555555555555556,\"#d8576b\"],[0.6666666666666666,\"#ed7953\"],[0.7777777777777778,\"#fb9f3a\"],[0.8888888888888888,\"#fdca26\"],[1.0,\"#f0f921\"]]}],\"heatmapgl\":[{\"type\":\"heatmapgl\",\"colorbar\":{\"outlinewidth\":0,\"ticks\":\"\"},\"colorscale\":[[0.0,\"#0d0887\"],[0.1111111111111111,\"#46039f\"],[0.2222222222222222,\"#7201a8\"],[0.3333333333333333,\"#9c179e\"],[0.4444444444444444,\"#bd3786\"],[0.5555555555555556,\"#d8576b\"],[0.6666666666666666,\"#ed7953\"],[0.7777777777777778,\"#fb9f3a\"],[0.8888888888888888,\"#fdca26\"],[1.0,\"#f0f921\"]]}],\"contourcarpet\":[{\"type\":\"contourcarpet\",\"colorbar\":{\"outlinewidth\":0,\"ticks\":\"\"}}],\"contour\":[{\"type\":\"contour\",\"colorbar\":{\"outlinewidth\":0,\"ticks\":\"\"},\"colorscale\":[[0.0,\"#0d0887\"],[0.1111111111111111,\"#46039f\"],[0.2222222222222222,\"#7201a8\"],[0.3333333333333333,\"#9c179e\"],[0.4444444444444444,\"#bd3786\"],[0.5555555555555556,\"#d8576b\"],[0.6666666666666666,\"#ed7953\"],[0.7777777777777778,\"#fb9f3a\"],[0.8888888888888888,\"#fdca26\"],[1.0,\"#f0f921\"]]}],\"surface\":[{\"type\":\"surface\",\"colorbar\":{\"outlinewidth\":0,\"ticks\":\"\"},\"colorscale\":[[0.0,\"#0d0887\"],[0.1111111111111111,\"#46039f\"],[0.2222222222222222,\"#7201a8\"],[0.3333333333333333,\"#9c179e\"],[0.4444444444444444,\"#bd3786\"],[0.5555555555555556,\"#d8576b\"],[0.6666666666666666,\"#ed7953\"],[0.7777777777777778,\"#fb9f3a\"],[0.8888888888888888,\"#fdca26\"],[1.0,\"#f0f921\"]]}],\"mesh3d\":[{\"type\":\"mesh3d\",\"colorbar\":{\"outlinewidth\":0,\"ticks\":\"\"}}],\"scatter\":[{\"fillpattern\":{\"fillmode\":\"overlay\",\"size\":10,\"solidity\":0.2},\"type\":\"scatter\"}],\"parcoords\":[{\"type\":\"parcoords\",\"line\":{\"colorbar\":{\"outlinewidth\":0,\"ticks\":\"\"}}}],\"scatterpolargl\":[{\"type\":\"scatterpolargl\",\"marker\":{\"colorbar\":{\"outlinewidth\":0,\"ticks\":\"\"}}}],\"bar\":[{\"error_x\":{\"color\":\"#2a3f5f\"},\"error_y\":{\"color\":\"#2a3f5f\"},\"marker\":{\"line\":{\"color\":\"#E5ECF6\",\"width\":0.5},\"pattern\":{\"fillmode\":\"overlay\",\"size\":10,\"solidity\":0.2}},\"type\":\"bar\"}],\"scattergeo\":[{\"type\":\"scattergeo\",\"marker\":{\"colorbar\":{\"outlinewidth\":0,\"ticks\":\"\"}}}],\"scatterpolar\":[{\"type\":\"scatterpolar\",\"marker\":{\"colorbar\":{\"outlinewidth\":0,\"ticks\":\"\"}}}],\"histogram\":[{\"marker\":{\"pattern\":{\"fillmode\":\"overlay\",\"size\":10,\"solidity\":0.2}},\"type\":\"histogram\"}],\"scattergl\":[{\"type\":\"scattergl\",\"marker\":{\"colorbar\":{\"outlinewidth\":0,\"ticks\":\"\"}}}],\"scatter3d\":[{\"type\":\"scatter3d\",\"line\":{\"colorbar\":{\"outlinewidth\":0,\"ticks\":\"\"}},\"marker\":{\"colorbar\":{\"outlinewidth\":0,\"ticks\":\"\"}}}],\"scattermapbox\":[{\"type\":\"scattermapbox\",\"marker\":{\"colorbar\":{\"outlinewidth\":0,\"ticks\":\"\"}}}],\"scatterternary\":[{\"type\":\"scatterternary\",\"marker\":{\"colorbar\":{\"outlinewidth\":0,\"ticks\":\"\"}}}],\"scattercarpet\":[{\"type\":\"scattercarpet\",\"marker\":{\"colorbar\":{\"outlinewidth\":0,\"ticks\":\"\"}}}],\"carpet\":[{\"aaxis\":{\"endlinecolor\":\"#2a3f5f\",\"gridcolor\":\"white\",\"linecolor\":\"white\",\"minorgridcolor\":\"white\",\"startlinecolor\":\"#2a3f5f\"},\"baxis\":{\"endlinecolor\":\"#2a3f5f\",\"gridcolor\":\"white\",\"linecolor\":\"white\",\"minorgridcolor\":\"white\",\"startlinecolor\":\"#2a3f5f\"},\"type\":\"carpet\"}],\"table\":[{\"cells\":{\"fill\":{\"color\":\"#EBF0F8\"},\"line\":{\"color\":\"white\"}},\"header\":{\"fill\":{\"color\":\"#C8D4E3\"},\"line\":{\"color\":\"white\"}},\"type\":\"table\"}],\"barpolar\":[{\"marker\":{\"line\":{\"color\":\"#E5ECF6\",\"width\":0.5},\"pattern\":{\"fillmode\":\"overlay\",\"size\":10,\"solidity\":0.2}},\"type\":\"barpolar\"}],\"pie\":[{\"automargin\":true,\"type\":\"pie\"}]},\"layout\":{\"autotypenumbers\":\"strict\",\"colorway\":[\"#636efa\",\"#EF553B\",\"#00cc96\",\"#ab63fa\",\"#FFA15A\",\"#19d3f3\",\"#FF6692\",\"#B6E880\",\"#FF97FF\",\"#FECB52\"],\"font\":{\"color\":\"#2a3f5f\"},\"hovermode\":\"closest\",\"hoverlabel\":{\"align\":\"left\"},\"paper_bgcolor\":\"white\",\"plot_bgcolor\":\"#E5ECF6\",\"polar\":{\"bgcolor\":\"#E5ECF6\",\"angularaxis\":{\"gridcolor\":\"white\",\"linecolor\":\"white\",\"ticks\":\"\"},\"radialaxis\":{\"gridcolor\":\"white\",\"linecolor\":\"white\",\"ticks\":\"\"}},\"ternary\":{\"bgcolor\":\"#E5ECF6\",\"aaxis\":{\"gridcolor\":\"white\",\"linecolor\":\"white\",\"ticks\":\"\"},\"baxis\":{\"gridcolor\":\"white\",\"linecolor\":\"white\",\"ticks\":\"\"},\"caxis\":{\"gridcolor\":\"white\",\"linecolor\":\"white\",\"ticks\":\"\"}},\"coloraxis\":{\"colorbar\":{\"outlinewidth\":0,\"ticks\":\"\"}},\"colorscale\":{\"sequential\":[[0.0,\"#0d0887\"],[0.1111111111111111,\"#46039f\"],[0.2222222222222222,\"#7201a8\"],[0.3333333333333333,\"#9c179e\"],[0.4444444444444444,\"#bd3786\"],[0.5555555555555556,\"#d8576b\"],[0.6666666666666666,\"#ed7953\"],[0.7777777777777778,\"#fb9f3a\"],[0.8888888888888888,\"#fdca26\"],[1.0,\"#f0f921\"]],\"sequentialminus\":[[0.0,\"#0d0887\"],[0.1111111111111111,\"#46039f\"],[0.2222222222222222,\"#7201a8\"],[0.3333333333333333,\"#9c179e\"],[0.4444444444444444,\"#bd3786\"],[0.5555555555555556,\"#d8576b\"],[0.6666666666666666,\"#ed7953\"],[0.7777777777777778,\"#fb9f3a\"],[0.8888888888888888,\"#fdca26\"],[1.0,\"#f0f921\"]],\"diverging\":[[0,\"#8e0152\"],[0.1,\"#c51b7d\"],[0.2,\"#de77ae\"],[0.3,\"#f1b6da\"],[0.4,\"#fde0ef\"],[0.5,\"#f7f7f7\"],[0.6,\"#e6f5d0\"],[0.7,\"#b8e186\"],[0.8,\"#7fbc41\"],[0.9,\"#4d9221\"],[1,\"#276419\"]]},\"xaxis\":{\"gridcolor\":\"white\",\"linecolor\":\"white\",\"ticks\":\"\",\"title\":{\"standoff\":15},\"zerolinecolor\":\"white\",\"automargin\":true,\"zerolinewidth\":2},\"yaxis\":{\"gridcolor\":\"white\",\"linecolor\":\"white\",\"ticks\":\"\",\"title\":{\"standoff\":15},\"zerolinecolor\":\"white\",\"automargin\":true,\"zerolinewidth\":2},\"scene\":{\"xaxis\":{\"backgroundcolor\":\"#E5ECF6\",\"gridcolor\":\"white\",\"linecolor\":\"white\",\"showbackground\":true,\"ticks\":\"\",\"zerolinecolor\":\"white\",\"gridwidth\":2},\"yaxis\":{\"backgroundcolor\":\"#E5ECF6\",\"gridcolor\":\"white\",\"linecolor\":\"white\",\"showbackground\":true,\"ticks\":\"\",\"zerolinecolor\":\"white\",\"gridwidth\":2},\"zaxis\":{\"backgroundcolor\":\"#E5ECF6\",\"gridcolor\":\"white\",\"linecolor\":\"white\",\"showbackground\":true,\"ticks\":\"\",\"zerolinecolor\":\"white\",\"gridwidth\":2}},\"shapedefaults\":{\"line\":{\"color\":\"#2a3f5f\"}},\"annotationdefaults\":{\"arrowcolor\":\"#2a3f5f\",\"arrowhead\":0,\"arrowwidth\":1},\"geo\":{\"bgcolor\":\"white\",\"landcolor\":\"#E5ECF6\",\"subunitcolor\":\"white\",\"showland\":true,\"showlakes\":true,\"lakecolor\":\"white\"},\"title\":{\"x\":0.05},\"mapbox\":{\"style\":\"light\"}}},\"xaxis\":{\"anchor\":\"y\",\"domain\":[0.0,1.0],\"title\":{\"text\":\"model\"},\"tickangle\":-35},\"yaxis\":{\"anchor\":\"x\",\"domain\":[0.0,1.0],\"title\":{\"text\":\"Score\"},\"range\":[0.95,1]},\"legend\":{\"title\":{\"text\":\"Metric\"},\"tracegroupgap\":0},\"title\":{\"text\":\"Comparison of Model Performance Metrics\"},\"barmode\":\"group\",\"height\":600,\"width\":1000},                        {\"responsive\": true}                    ).then(function(){\n",
       "                            \n",
       "var gd = document.getElementById('7ca14cf6-8efa-4471-b89c-844dc770ad2d');\n",
       "var x = new MutationObserver(function (mutations, observer) {{\n",
       "        var display = window.getComputedStyle(gd).display;\n",
       "        if (!display || display === 'none') {{\n",
       "            console.log([gd, 'removed!']);\n",
       "            Plotly.purge(gd);\n",
       "            observer.disconnect();\n",
       "        }}\n",
       "}});\n",
       "\n",
       "// Listen for the removal of the full notebook cells\n",
       "var notebookContainer = gd.closest('#notebook-container');\n",
       "if (notebookContainer) {{\n",
       "    x.observe(notebookContainer, {childList: true});\n",
       "}}\n",
       "\n",
       "// Listen for the clearing of the current output cell\n",
       "var outputEl = gd.closest('.output');\n",
       "if (outputEl) {{\n",
       "    x.observe(outputEl, {childList: true});\n",
       "}}\n",
       "\n",
       "                        })                };                });            </script>        </div>"
      ]
     },
     "metadata": {},
     "output_type": "display_data"
    }
   ],
   "source": [
    "# First, melt the dataframe to long format for Plotly\n",
    "melted_df = final_performance_metrics.melt(\n",
    "    id_vars=\"model\",\n",
    "    value_vars=[\"accuracy\", \"f1_score\"],\n",
    "    var_name=\"Metric\",\n",
    "    value_name=\"Score\"\n",
    ")\n",
    "\n",
    "# Create the grouped bar chart\n",
    "fig = px.bar(\n",
    "    melted_df,\n",
    "    x=\"model\",\n",
    "    y=\"Score\",\n",
    "    color=\"Metric\",\n",
    "    barmode=\"group\",\n",
    "    text=\"Score\",\n",
    "    title=\"Comparison of Model Performance Metrics\",\n",
    "    color_discrete_map={\"accuracy\": \"#4C72B0\", \"f1_score\": \"#55A868\"}\n",
    ")\n",
    "\n",
    "# Improve layout\n",
    "fig.update_layout(\n",
    "    xaxis_tickangle=-35,\n",
    "    yaxis=dict(range=[0.95, 1]),\n",
    "    legend_title_text=\"Metric\",\n",
    "    height=600,\n",
    "    width=1000\n",
    ")\n",
    "\n",
    "# Format text on bars\n",
    "# fig.update_traces(texttemplate='%{text:.4f}', textposition='outside')\n",
    "\n",
    "fig.show()"
   ]
  },
  {
   "cell_type": "markdown",
   "metadata": {},
   "source": [
    "Observations:\n",
    "* We have a clear winner here `SVC` trained with `Augmented Data` with `F1 Score` and `Accuracy` of almost `0.99`\n",
    "* It also interesting to see `Blended Gradient Boosting` and `Blended Random Forest` close second and third. With `Random Forest` if we are ok loosing the little bit of accuracy `~0.004` we might end up with a model that can be retrained with new data faster and get almost similar predictions. We can also experiment with removing `SVC` from the blender and seeing the results. I think the performance shouldn't degrade too much since we had bunch of highly correlated redundant features. \n",
    "* But for now its safe to say we can use `SVC Augmented Data` model in production and we'll get amazing results."
   ]
  },
  {
   "cell_type": "markdown",
   "metadata": {},
   "source": [
    "### Comparing Class Based F1 Scores Across Models"
   ]
  },
  {
   "cell_type": "code",
   "execution_count": 52,
   "metadata": {},
   "outputs": [
    {
     "data": {
      "image/png": "[encoded data removed]",
      "text/plain": [
       "<Figure size 1200x600 with 2 Axes>"
      ]
     },
     "metadata": {},
     "output_type": "display_data"
    }
   ],
   "source": [
    "import seaborn as sns\n",
    "import matplotlib.pyplot as plt\n",
    "\n",
    "# Extract per-class F1 scores\n",
    "class_cols = [col for col in final_performance_metrics.columns if col.startswith(\"class_\")]\n",
    "heatmap_data = final_performance_metrics.set_index('model')[class_cols]\n",
    "\n",
    "plt.figure(figsize=(12, 6))\n",
    "sns.heatmap(heatmap_data, annot=True, fmt=\".4f\", cmap=\"YlGnBu\")\n",
    "plt.title(\"Class-wise F1 Score Heatmap\")\n",
    "plt.xlabel(\"Class\")\n",
    "plt.ylabel(\"Model\")\n",
    "plt.xticks(rotation=45)\n",
    "plt.tight_layout()\n",
    "plt.show()"
   ]
  },
  {
   "cell_type": "markdown",
   "metadata": {},
   "source": [
    "Observations:\n",
    "* These aligns with overall `F1 Score` and `Accuracy` of the models. \n",
    "* One interesting observations is almost all models are relatively struggling with digits `2,3,8 and 9`. My guess is models are getting confusing 2 for 9, 3 for 8 and vice versa, since these hand written digits can be similar.\n",
    "* We can confirm these findings in confusion matrix and focus on some targetted training for future enhancements. "
   ]
  },
  {
   "cell_type": "markdown",
   "metadata": {},
   "source": [
    "### Comparing Difference in Class Based F1 Scores Across Models"
   ]
  },
  {
   "cell_type": "code",
   "execution_count": 55,
   "metadata": {},
   "outputs": [
    {
     "data": {
      "image/png": "[encoded data removed]",
      "text/plain": [
       "<Figure size 1200x600 with 2 Axes>"
      ]
     },
     "metadata": {},
     "output_type": "display_data"
    }
   ],
   "source": [
    "best_scores = final_performance_metrics[class_cols].max()\n",
    "delta_df = final_performance_metrics.copy()\n",
    "for col in class_cols:\n",
    "    delta_df[col] = best_scores[col] - delta_df[col]\n",
    "\n",
    "plt.figure(figsize=(12, 6))\n",
    "sns.heatmap(delta_df.set_index(\"model\")[class_cols], annot=True, fmt=\".4f\", cmap=\"Reds\")\n",
    "plt.title(\"Delta from Best Per-Class F1 Score\")\n",
    "plt.xlabel(\"Class\")\n",
    "plt.ylabel(\"Model\")\n",
    "plt.tight_layout()\n",
    "plt.show()"
   ]
  },
  {
   "cell_type": "markdown",
   "metadata": {},
   "source": [
    "### Class wise F1 Score Districution"
   ]
  },
  {
   "cell_type": "code",
   "execution_count": 58,
   "metadata": {},
   "outputs": [
    {
     "data": {
      "image/png": "[encoded data removed]",
      "text/plain": [
       "<Figure size 1000x500 with 1 Axes>"
      ]
     },
     "metadata": {},
     "output_type": "display_data"
    }
   ],
   "source": [
    "## Helps you understand which class is consistently hard across models.\n",
    "melted_classes = final_performance_metrics.melt(\n",
    "    id_vars=[\"model\"],\n",
    "    value_vars=class_cols,\n",
    "    var_name=\"Class\",\n",
    "    value_name=\"F1 Score\"\n",
    ")\n",
    "\n",
    "plt.figure(figsize=(10, 5))\n",
    "sns.boxplot(data=melted_classes, x=\"Class\", y=\"F1 Score\")\n",
    "plt.title(\"Class-wise F1 Score Distribution Across Models\")\n",
    "plt.xticks(rotation=45)\n",
    "plt.show()"
   ]
  },
  {
   "cell_type": "markdown",
   "metadata": {},
   "source": [
    "Observations:\n",
    "* This distribution further confirms our undertanding of classification errors.\n",
    "* `2,3,8 and 9` have the widest distribution telling us model's with the center lower than other digits indicating more scope of improvements over here. "
   ]
  },
  {
   "cell_type": "code",
   "execution_count": null,
   "metadata": {},
   "outputs": [],
   "source": []
  }
 ],
 "metadata": {
  "kernelspec": {
   "display_name": "Python 3 (ipykernel)",
   "language": "python",
   "name": "python3"
  },
  "language_info": {
   "codemirror_mode": {
    "name": "ipython",
    "version": 3
   },
   "file_extension": ".py",
   "mimetype": "text/x-python",
   "name": "python",
   "nbconvert_exporter": "python",
   "pygments_lexer": "ipython3",
   "version": "3.12.2"
  }
 },
 "nbformat": 4,
 "nbformat_minor": 2
}
