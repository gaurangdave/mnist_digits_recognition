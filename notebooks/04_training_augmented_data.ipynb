{
 "cells": [
  {
   "cell_type": "markdown",
   "metadata": {},
   "source": [
    "# Training Augmented Data"
   ]
  },
  {
   "cell_type": "markdown",
   "metadata": {},
   "source": [
    "* Creating this notebook to help train a SVM model using augmented data. \n",
    "* Attempting this in a separate notebook, because previous attempt took a long time and still didn't converge. \n",
    "* This was because we were using `probability=True` along with `GridSearchCV`. This needed additional training to get the probabilities. \n",
    "* Our plan is to, \n",
    "    * Train a model using `RandomizedGridSearch` without the `probability` to try and get best params for augmented data. \n",
    "    * If above doesn't work we'll train the model using the best params from non-augmented dataset. \n",
    "    * Finally validate the model against test data to see if we see any performance improvements. "
   ]
  },
  {
   "cell_type": "markdown",
   "metadata": {},
   "source": [
    "## Import Libraries"
   ]
  },
  {
   "cell_type": "code",
   "execution_count": 2,
   "metadata": {},
   "outputs": [],
   "source": [
    "from sklearn.preprocessing import Binarizer, OneHotEncoder, MinMaxScaler, StandardScaler, FunctionTransformer\n",
    "from sklearn.pipeline import Pipeline\n",
    "from sklearn.model_selection import cross_val_score, cross_val_predict,GridSearchCV\n",
    "from sklearn.model_selection import RandomizedSearchCV\n",
    "from scipy.stats import loguniform\n",
    "from pathlib import Path\n",
    "from sklearn.svm import SVC\n",
    "from sklearn.ensemble import RandomForestClassifier\n",
    "from sklearn.linear_model import LogisticRegression\n",
    "from sklearn.neighbors import KNeighborsClassifier\n",
    "\n",
    "\n",
    "from sklearn.metrics import ConfusionMatrixDisplay, f1_score, roc_auc_score, roc_curve, accuracy_score\n",
    "from sklearn.dummy import DummyClassifier\n",
    "\n",
    "\n",
    "import numpy as np\n",
    "import pandas as pd\n",
    "import matplotlib.pyplot as plt\n",
    "import plotly.express as px\n",
    "import joblib\n",
    "import json\n",
    "import gdown"
   ]
  },
  {
   "cell_type": "markdown",
   "metadata": {},
   "source": [
    "## Read Data"
   ]
  },
  {
   "cell_type": "code",
   "execution_count": 3,
   "metadata": {},
   "outputs": [],
   "source": [
    "## function to download data from google drive\n",
    "def download_from_google_drive(file_id, file_name):\n",
    "    url = f\"https://drive.google.com/uc?id={file_id}\"\n",
    "    gdown.download(url, file_name, quiet=False)"
   ]
  },
  {
   "cell_type": "code",
   "execution_count": 4,
   "metadata": {},
   "outputs": [],
   "source": [
    "## check if mnist data is already downloaded\n",
    "augmented_train_X_set_path = Path(\"..\", \"data\", \"augmented_train_X.csv\")\n",
    "augmented_train_Y_set_path = Path(\"..\", \"data\", \"augmented_train_Y.csv\")\n",
    "mnist_test_set_path = Path(\"..\", \"data\", \"mnist_test_set.csv\")\n",
    "\n",
    "if not augmented_train_X_set_path.exists():\n",
    "    ## download train set\n",
    "    file_id = \"10TExQfMfM-ku45L9F1LFU4LxobPM7OrR\"\n",
    "    download_from_google_drive(file_id, str(augmented_train_X_set_path))\n",
    "    \n",
    "if not augmented_train_Y_set_path.exists():\n",
    "    ## download train set\n",
    "    file_id = \"10SL3pSwsyiws9_t6upD3CwilrdtJU6Pg\"\n",
    "    download_from_google_drive(file_id, str(augmented_train_Y_set_path))\n",
    "\n",
    "if not mnist_test_set_path.exists():\n",
    "    ## download test set\n",
    "    file_id = \"10Rxuec9x2VxAr6syy4S_yD7hJ5FkyYvP\"\n",
    "    download_from_google_drive(file_id, str(mnist_test_set_path))"
   ]
  },
  {
   "cell_type": "markdown",
   "metadata": {},
   "source": [
    "### Access Train/Test Data"
   ]
  },
  {
   "cell_type": "code",
   "execution_count": 5,
   "metadata": {},
   "outputs": [],
   "source": [
    "## access train data\n",
    "augmented_train_X = pd.read_csv(augmented_train_X_set_path)\n",
    "augmented_train_Y = pd.read_csv(augmented_train_Y_set_path)\n",
    "\n",
    "## access test data\n",
    "mnist_test_set = pd.read_csv(mnist_test_set_path)"
   ]
  },
  {
   "cell_type": "code",
   "execution_count": 6,
   "metadata": {},
   "outputs": [
    {
     "data": {
      "application/vnd.microsoft.datawrangler.viewer.v0+json": {
       "columns": [
        {
         "name": "index",
         "rawType": "int64",
         "type": "integer"
        },
        {
         "name": "pixel1",
         "rawType": "int64",
         "type": "integer"
        },
        {
         "name": "pixel2",
         "rawType": "int64",
         "type": "integer"
        },
        {
         "name": "pixel3",
         "rawType": "int64",
         "type": "integer"
        },
        {
         "name": "pixel4",
         "rawType": "int64",
         "type": "integer"
        },
        {
         "name": "pixel5",
         "rawType": "int64",
         "type": "integer"
        },
        {
         "name": "pixel6",
         "rawType": "int64",
         "type": "integer"
        },
        {
         "name": "pixel7",
         "rawType": "int64",
         "type": "integer"
        },
        {
         "name": "pixel8",
         "rawType": "int64",
         "type": "integer"
        },
        {
         "name": "pixel9",
         "rawType": "int64",
         "type": "integer"
        },
        {
         "name": "pixel10",
         "rawType": "int64",
         "type": "integer"
        },
        {
         "name": "pixel11",
         "rawType": "int64",
         "type": "integer"
        },
        {
         "name": "pixel12",
         "rawType": "int64",
         "type": "integer"
        },
        {
         "name": "pixel13",
         "rawType": "int64",
         "type": "integer"
        },
        {
         "name": "pixel14",
         "rawType": "int64",
         "type": "integer"
        },
        {
         "name": "pixel15",
         "rawType": "int64",
         "type": "integer"
        },
        {
         "name": "pixel16",
         "rawType": "int64",
         "type": "integer"
        },
        {
         "name": "pixel17",
         "rawType": "int64",
         "type": "integer"
        },
        {
         "name": "pixel18",
         "rawType": "int64",
         "type": "integer"
        },
        {
         "name": "pixel19",
         "rawType": "int64",
         "type": "integer"
        },
        {
         "name": "pixel20",
         "rawType": "int64",
         "type": "integer"
        },
        {
         "name": "pixel21",
         "rawType": "int64",
         "type": "integer"
        },
        {
         "name": "pixel22",
         "rawType": "int64",
         "type": "integer"
        },
        {
         "name": "pixel23",
         "rawType": "int64",
         "type": "integer"
        },
        {
         "name": "pixel24",
         "rawType": "int64",
         "type": "integer"
        },
        {
         "name": "pixel25",
         "rawType": "int64",
         "type": "integer"
        },
        {
         "name": "pixel26",
         "rawType": "int64",
         "type": "integer"
        },
        {
         "name": "pixel27",
         "rawType": "int64",
         "type": "integer"
        },
        {
         "name": "pixel28",
         "rawType": "int64",
         "type": "integer"
        },
        {
         "name": "pixel29",
         "rawType": "int64",
         "type": "integer"
        },
        {
         "name": "pixel30",
         "rawType": "int64",
         "type": "integer"
        },
        {
         "name": "pixel31",
         "rawType": "int64",
         "type": "integer"
        },
        {
         "name": "pixel32",
         "rawType": "int64",
         "type": "integer"
        },
        {
         "name": "pixel33",
         "rawType": "int64",
         "type": "integer"
        },
        {
         "name": "pixel34",
         "rawType": "int64",
         "type": "integer"
        },
        {
         "name": "pixel35",
         "rawType": "int64",
         "type": "integer"
        },
        {
         "name": "pixel36",
         "rawType": "int64",
         "type": "integer"
        },
        {
         "name": "pixel37",
         "rawType": "int64",
         "type": "integer"
        },
        {
         "name": "pixel38",
         "rawType": "int64",
         "type": "integer"
        },
        {
         "name": "pixel39",
         "rawType": "int64",
         "type": "integer"
        },
        {
         "name": "pixel40",
         "rawType": "int64",
         "type": "integer"
        },
        {
         "name": "pixel41",
         "rawType": "int64",
         "type": "integer"
        },
        {
         "name": "pixel42",
         "rawType": "int64",
         "type": "integer"
        },
        {
         "name": "pixel43",
         "rawType": "int64",
         "type": "integer"
        },
        {
         "name": "pixel44",
         "rawType": "int64",
         "type": "integer"
        },
        {
         "name": "pixel45",
         "rawType": "int64",
         "type": "integer"
        },
        {
         "name": "pixel46",
         "rawType": "int64",
         "type": "integer"
        },
        {
         "name": "pixel47",
         "rawType": "int64",
         "type": "integer"
        },
        {
         "name": "pixel48",
         "rawType": "int64",
         "type": "integer"
        },
        {
         "name": "pixel49",
         "rawType": "int64",
         "type": "integer"
        },
        {
         "name": "pixel50",
         "rawType": "int64",
         "type": "integer"
        },
        {
         "name": "pixel51",
         "rawType": "int64",
         "type": "integer"
        },
        {
         "name": "pixel52",
         "rawType": "int64",
         "type": "integer"
        },
        {
         "name": "pixel53",
         "rawType": "int64",
         "type": "integer"
        },
        {
         "name": "pixel54",
         "rawType": "int64",
         "type": "integer"
        },
        {
         "name": "pixel55",
         "rawType": "int64",
         "type": "integer"
        },
        {
         "name": "pixel56",
         "rawType": "int64",
         "type": "integer"
        },
        {
         "name": "pixel57",
         "rawType": "int64",
         "type": "integer"
        },
        {
         "name": "pixel58",
         "rawType": "int64",
         "type": "integer"
        },
        {
         "name": "pixel59",
         "rawType": "int64",
         "type": "integer"
        },
        {
         "name": "pixel60",
         "rawType": "int64",
         "type": "integer"
        },
        {
         "name": "pixel61",
         "rawType": "int64",
         "type": "integer"
        },
        {
         "name": "pixel62",
         "rawType": "int64",
         "type": "integer"
        },
        {
         "name": "pixel63",
         "rawType": "int64",
         "type": "integer"
        },
        {
         "name": "pixel64",
         "rawType": "int64",
         "type": "integer"
        },
        {
         "name": "pixel65",
         "rawType": "int64",
         "type": "integer"
        },
        {
         "name": "pixel66",
         "rawType": "int64",
         "type": "integer"
        },
        {
         "name": "pixel67",
         "rawType": "int64",
         "type": "integer"
        },
        {
         "name": "pixel68",
         "rawType": "int64",
         "type": "integer"
        },
        {
         "name": "pixel69",
         "rawType": "int64",
         "type": "integer"
        },
        {
         "name": "pixel70",
         "rawType": "int64",
         "type": "integer"
        },
        {
         "name": "pixel71",
         "rawType": "int64",
         "type": "integer"
        },
        {
         "name": "pixel72",
         "rawType": "int64",
         "type": "integer"
        },
        {
         "name": "pixel73",
         "rawType": "int64",
         "type": "integer"
        },
        {
         "name": "pixel74",
         "rawType": "int64",
         "type": "integer"
        },
        {
         "name": "pixel75",
         "rawType": "int64",
         "type": "integer"
        },
        {
         "name": "pixel76",
         "rawType": "int64",
         "type": "integer"
        },
        {
         "name": "pixel77",
         "rawType": "int64",
         "type": "integer"
        },
        {
         "name": "pixel78",
         "rawType": "int64",
         "type": "integer"
        },
        {
         "name": "pixel79",
         "rawType": "int64",
         "type": "integer"
        },
        {
         "name": "pixel80",
         "rawType": "int64",
         "type": "integer"
        },
        {
         "name": "pixel81",
         "rawType": "int64",
         "type": "integer"
        },
        {
         "name": "pixel82",
         "rawType": "int64",
         "type": "integer"
        },
        {
         "name": "pixel83",
         "rawType": "int64",
         "type": "integer"
        },
        {
         "name": "pixel84",
         "rawType": "int64",
         "type": "integer"
        },
        {
         "name": "pixel85",
         "rawType": "int64",
         "type": "integer"
        },
        {
         "name": "pixel86",
         "rawType": "int64",
         "type": "integer"
        },
        {
         "name": "pixel87",
         "rawType": "int64",
         "type": "integer"
        },
        {
         "name": "pixel88",
         "rawType": "int64",
         "type": "integer"
        },
        {
         "name": "pixel89",
         "rawType": "int64",
         "type": "integer"
        },
        {
         "name": "pixel90",
         "rawType": "int64",
         "type": "integer"
        },
        {
         "name": "pixel91",
         "rawType": "int64",
         "type": "integer"
        },
        {
         "name": "pixel92",
         "rawType": "int64",
         "type": "integer"
        },
        {
         "name": "pixel93",
         "rawType": "int64",
         "type": "integer"
        },
        {
         "name": "pixel94",
         "rawType": "int64",
         "type": "integer"
        },
        {
         "name": "pixel95",
         "rawType": "int64",
         "type": "integer"
        },
        {
         "name": "pixel96",
         "rawType": "int64",
         "type": "integer"
        },
        {
         "name": "pixel97",
         "rawType": "int64",
         "type": "integer"
        },
        {
         "name": "pixel98",
         "rawType": "int64",
         "type": "integer"
        },
        {
         "name": "pixel99",
         "rawType": "int64",
         "type": "integer"
        },
        {
         "name": "pixel100",
         "rawType": "int64",
         "type": "integer"
        },
        {
         "name": "pixel101",
         "rawType": "int64",
         "type": "integer"
        },
        {
         "name": "pixel102",
         "rawType": "int64",
         "type": "integer"
        },
        {
         "name": "pixel103",
         "rawType": "int64",
         "type": "integer"
        },
        {
         "name": "pixel104",
         "rawType": "int64",
         "type": "integer"
        },
        {
         "name": "pixel105",
         "rawType": "int64",
         "type": "integer"
        },
        {
         "name": "pixel106",
         "rawType": "int64",
         "type": "integer"
        },
        {
         "name": "pixel107",
         "rawType": "int64",
         "type": "integer"
        },
        {
         "name": "pixel108",
         "rawType": "int64",
         "type": "integer"
        },
        {
         "name": "pixel109",
         "rawType": "int64",
         "type": "integer"
        },
        {
         "name": "pixel110",
         "rawType": "int64",
         "type": "integer"
        },
        {
         "name": "pixel111",
         "rawType": "int64",
         "type": "integer"
        },
        {
         "name": "pixel112",
         "rawType": "int64",
         "type": "integer"
        },
        {
         "name": "pixel113",
         "rawType": "int64",
         "type": "integer"
        },
        {
         "name": "pixel114",
         "rawType": "int64",
         "type": "integer"
        },
        {
         "name": "pixel115",
         "rawType": "int64",
         "type": "integer"
        },
        {
         "name": "pixel116",
         "rawType": "int64",
         "type": "integer"
        },
        {
         "name": "pixel117",
         "rawType": "int64",
         "type": "integer"
        },
        {
         "name": "pixel118",
         "rawType": "int64",
         "type": "integer"
        },
        {
         "name": "pixel119",
         "rawType": "int64",
         "type": "integer"
        },
        {
         "name": "pixel120",
         "rawType": "int64",
         "type": "integer"
        },
        {
         "name": "pixel121",
         "rawType": "int64",
         "type": "integer"
        },
        {
         "name": "pixel122",
         "rawType": "int64",
         "type": "integer"
        },
        {
         "name": "pixel123",
         "rawType": "int64",
         "type": "integer"
        },
        {
         "name": "pixel124",
         "rawType": "int64",
         "type": "integer"
        },
        {
         "name": "pixel125",
         "rawType": "int64",
         "type": "integer"
        },
        {
         "name": "pixel126",
         "rawType": "int64",
         "type": "integer"
        },
        {
         "name": "pixel127",
         "rawType": "int64",
         "type": "integer"
        },
        {
         "name": "pixel128",
         "rawType": "int64",
         "type": "integer"
        },
        {
         "name": "pixel129",
         "rawType": "int64",
         "type": "integer"
        },
        {
         "name": "pixel130",
         "rawType": "int64",
         "type": "integer"
        },
        {
         "name": "pixel131",
         "rawType": "int64",
         "type": "integer"
        },
        {
         "name": "pixel132",
         "rawType": "int64",
         "type": "integer"
        },
        {
         "name": "pixel133",
         "rawType": "int64",
         "type": "integer"
        },
        {
         "name": "pixel134",
         "rawType": "int64",
         "type": "integer"
        },
        {
         "name": "pixel135",
         "rawType": "int64",
         "type": "integer"
        },
        {
         "name": "pixel136",
         "rawType": "int64",
         "type": "integer"
        },
        {
         "name": "pixel137",
         "rawType": "int64",
         "type": "integer"
        },
        {
         "name": "pixel138",
         "rawType": "int64",
         "type": "integer"
        },
        {
         "name": "pixel139",
         "rawType": "int64",
         "type": "integer"
        },
        {
         "name": "pixel140",
         "rawType": "int64",
         "type": "integer"
        },
        {
         "name": "pixel141",
         "rawType": "int64",
         "type": "integer"
        },
        {
         "name": "pixel142",
         "rawType": "int64",
         "type": "integer"
        },
        {
         "name": "pixel143",
         "rawType": "int64",
         "type": "integer"
        },
        {
         "name": "pixel144",
         "rawType": "int64",
         "type": "integer"
        },
        {
         "name": "pixel145",
         "rawType": "int64",
         "type": "integer"
        },
        {
         "name": "pixel146",
         "rawType": "int64",
         "type": "integer"
        },
        {
         "name": "pixel147",
         "rawType": "int64",
         "type": "integer"
        },
        {
         "name": "pixel148",
         "rawType": "int64",
         "type": "integer"
        },
        {
         "name": "pixel149",
         "rawType": "int64",
         "type": "integer"
        },
        {
         "name": "pixel150",
         "rawType": "int64",
         "type": "integer"
        },
        {
         "name": "pixel151",
         "rawType": "int64",
         "type": "integer"
        },
        {
         "name": "pixel152",
         "rawType": "int64",
         "type": "integer"
        },
        {
         "name": "pixel153",
         "rawType": "int64",
         "type": "integer"
        },
        {
         "name": "pixel154",
         "rawType": "int64",
         "type": "integer"
        },
        {
         "name": "pixel155",
         "rawType": "int64",
         "type": "integer"
        },
        {
         "name": "pixel156",
         "rawType": "int64",
         "type": "integer"
        },
        {
         "name": "pixel157",
         "rawType": "int64",
         "type": "integer"
        },
        {
         "name": "pixel158",
         "rawType": "int64",
         "type": "integer"
        },
        {
         "name": "pixel159",
         "rawType": "int64",
         "type": "integer"
        },
        {
         "name": "pixel160",
         "rawType": "int64",
         "type": "integer"
        },
        {
         "name": "pixel161",
         "rawType": "int64",
         "type": "integer"
        },
        {
         "name": "pixel162",
         "rawType": "int64",
         "type": "integer"
        },
        {
         "name": "pixel163",
         "rawType": "int64",
         "type": "integer"
        },
        {
         "name": "pixel164",
         "rawType": "int64",
         "type": "integer"
        },
        {
         "name": "pixel165",
         "rawType": "int64",
         "type": "integer"
        },
        {
         "name": "pixel166",
         "rawType": "int64",
         "type": "integer"
        },
        {
         "name": "pixel167",
         "rawType": "int64",
         "type": "integer"
        },
        {
         "name": "pixel168",
         "rawType": "int64",
         "type": "integer"
        },
        {
         "name": "pixel169",
         "rawType": "int64",
         "type": "integer"
        },
        {
         "name": "pixel170",
         "rawType": "int64",
         "type": "integer"
        },
        {
         "name": "pixel171",
         "rawType": "int64",
         "type": "integer"
        },
        {
         "name": "pixel172",
         "rawType": "int64",
         "type": "integer"
        },
        {
         "name": "pixel173",
         "rawType": "int64",
         "type": "integer"
        },
        {
         "name": "pixel174",
         "rawType": "int64",
         "type": "integer"
        },
        {
         "name": "pixel175",
         "rawType": "int64",
         "type": "integer"
        },
        {
         "name": "pixel176",
         "rawType": "int64",
         "type": "integer"
        },
        {
         "name": "pixel177",
         "rawType": "int64",
         "type": "integer"
        },
        {
         "name": "pixel178",
         "rawType": "int64",
         "type": "integer"
        },
        {
         "name": "pixel179",
         "rawType": "int64",
         "type": "integer"
        },
        {
         "name": "pixel180",
         "rawType": "int64",
         "type": "integer"
        },
        {
         "name": "pixel181",
         "rawType": "int64",
         "type": "integer"
        },
        {
         "name": "pixel182",
         "rawType": "int64",
         "type": "integer"
        },
        {
         "name": "pixel183",
         "rawType": "int64",
         "type": "integer"
        },
        {
         "name": "pixel184",
         "rawType": "int64",
         "type": "integer"
        },
        {
         "name": "pixel185",
         "rawType": "int64",
         "type": "integer"
        },
        {
         "name": "pixel186",
         "rawType": "int64",
         "type": "integer"
        },
        {
         "name": "pixel187",
         "rawType": "int64",
         "type": "integer"
        },
        {
         "name": "pixel188",
         "rawType": "int64",
         "type": "integer"
        },
        {
         "name": "pixel189",
         "rawType": "int64",
         "type": "integer"
        },
        {
         "name": "pixel190",
         "rawType": "int64",
         "type": "integer"
        },
        {
         "name": "pixel191",
         "rawType": "int64",
         "type": "integer"
        },
        {
         "name": "pixel192",
         "rawType": "int64",
         "type": "integer"
        },
        {
         "name": "pixel193",
         "rawType": "int64",
         "type": "integer"
        },
        {
         "name": "pixel194",
         "rawType": "int64",
         "type": "integer"
        },
        {
         "name": "pixel195",
         "rawType": "int64",
         "type": "integer"
        },
        {
         "name": "pixel196",
         "rawType": "int64",
         "type": "integer"
        },
        {
         "name": "pixel197",
         "rawType": "int64",
         "type": "integer"
        },
        {
         "name": "pixel198",
         "rawType": "int64",
         "type": "integer"
        },
        {
         "name": "pixel199",
         "rawType": "int64",
         "type": "integer"
        },
        {
         "name": "pixel200",
         "rawType": "int64",
         "type": "integer"
        },
        {
         "name": "pixel201",
         "rawType": "int64",
         "type": "integer"
        },
        {
         "name": "pixel202",
         "rawType": "int64",
         "type": "integer"
        },
        {
         "name": "pixel203",
         "rawType": "int64",
         "type": "integer"
        },
        {
         "name": "pixel204",
         "rawType": "int64",
         "type": "integer"
        },
        {
         "name": "pixel205",
         "rawType": "int64",
         "type": "integer"
        },
        {
         "name": "pixel206",
         "rawType": "int64",
         "type": "integer"
        },
        {
         "name": "pixel207",
         "rawType": "int64",
         "type": "integer"
        },
        {
         "name": "pixel208",
         "rawType": "int64",
         "type": "integer"
        },
        {
         "name": "pixel209",
         "rawType": "int64",
         "type": "integer"
        },
        {
         "name": "pixel210",
         "rawType": "int64",
         "type": "integer"
        },
        {
         "name": "pixel211",
         "rawType": "int64",
         "type": "integer"
        },
        {
         "name": "pixel212",
         "rawType": "int64",
         "type": "integer"
        },
        {
         "name": "pixel213",
         "rawType": "int64",
         "type": "integer"
        },
        {
         "name": "pixel214",
         "rawType": "int64",
         "type": "integer"
        },
        {
         "name": "pixel215",
         "rawType": "int64",
         "type": "integer"
        },
        {
         "name": "pixel216",
         "rawType": "int64",
         "type": "integer"
        },
        {
         "name": "pixel217",
         "rawType": "int64",
         "type": "integer"
        },
        {
         "name": "pixel218",
         "rawType": "int64",
         "type": "integer"
        },
        {
         "name": "pixel219",
         "rawType": "int64",
         "type": "integer"
        },
        {
         "name": "pixel220",
         "rawType": "int64",
         "type": "integer"
        },
        {
         "name": "pixel221",
         "rawType": "int64",
         "type": "integer"
        },
        {
         "name": "pixel222",
         "rawType": "int64",
         "type": "integer"
        },
        {
         "name": "pixel223",
         "rawType": "int64",
         "type": "integer"
        },
        {
         "name": "pixel224",
         "rawType": "int64",
         "type": "integer"
        },
        {
         "name": "pixel225",
         "rawType": "int64",
         "type": "integer"
        },
        {
         "name": "pixel226",
         "rawType": "int64",
         "type": "integer"
        },
        {
         "name": "pixel227",
         "rawType": "int64",
         "type": "integer"
        },
        {
         "name": "pixel228",
         "rawType": "int64",
         "type": "integer"
        },
        {
         "name": "pixel229",
         "rawType": "int64",
         "type": "integer"
        },
        {
         "name": "pixel230",
         "rawType": "int64",
         "type": "integer"
        },
        {
         "name": "pixel231",
         "rawType": "int64",
         "type": "integer"
        },
        {
         "name": "pixel232",
         "rawType": "int64",
         "type": "integer"
        },
        {
         "name": "pixel233",
         "rawType": "int64",
         "type": "integer"
        },
        {
         "name": "pixel234",
         "rawType": "int64",
         "type": "integer"
        },
        {
         "name": "pixel235",
         "rawType": "int64",
         "type": "integer"
        },
        {
         "name": "pixel236",
         "rawType": "int64",
         "type": "integer"
        },
        {
         "name": "pixel237",
         "rawType": "int64",
         "type": "integer"
        },
        {
         "name": "pixel238",
         "rawType": "int64",
         "type": "integer"
        },
        {
         "name": "pixel239",
         "rawType": "int64",
         "type": "integer"
        },
        {
         "name": "pixel240",
         "rawType": "int64",
         "type": "integer"
        },
        {
         "name": "pixel241",
         "rawType": "int64",
         "type": "integer"
        },
        {
         "name": "pixel242",
         "rawType": "int64",
         "type": "integer"
        },
        {
         "name": "pixel243",
         "rawType": "int64",
         "type": "integer"
        },
        {
         "name": "pixel244",
         "rawType": "int64",
         "type": "integer"
        },
        {
         "name": "pixel245",
         "rawType": "int64",
         "type": "integer"
        },
        {
         "name": "pixel246",
         "rawType": "int64",
         "type": "integer"
        },
        {
         "name": "pixel247",
         "rawType": "int64",
         "type": "integer"
        },
        {
         "name": "pixel248",
         "rawType": "int64",
         "type": "integer"
        },
        {
         "name": "pixel249",
         "rawType": "int64",
         "type": "integer"
        },
        {
         "name": "pixel250",
         "rawType": "int64",
         "type": "integer"
        },
        {
         "name": "pixel251",
         "rawType": "int64",
         "type": "integer"
        },
        {
         "name": "pixel252",
         "rawType": "int64",
         "type": "integer"
        },
        {
         "name": "pixel253",
         "rawType": "int64",
         "type": "integer"
        },
        {
         "name": "pixel254",
         "rawType": "int64",
         "type": "integer"
        },
        {
         "name": "pixel255",
         "rawType": "int64",
         "type": "integer"
        },
        {
         "name": "pixel256",
         "rawType": "int64",
         "type": "integer"
        },
        {
         "name": "pixel257",
         "rawType": "int64",
         "type": "integer"
        },
        {
         "name": "pixel258",
         "rawType": "int64",
         "type": "integer"
        },
        {
         "name": "pixel259",
         "rawType": "int64",
         "type": "integer"
        },
        {
         "name": "pixel260",
         "rawType": "int64",
         "type": "integer"
        },
        {
         "name": "pixel261",
         "rawType": "int64",
         "type": "integer"
        },
        {
         "name": "pixel262",
         "rawType": "int64",
         "type": "integer"
        },
        {
         "name": "pixel263",
         "rawType": "int64",
         "type": "integer"
        },
        {
         "name": "pixel264",
         "rawType": "int64",
         "type": "integer"
        },
        {
         "name": "pixel265",
         "rawType": "int64",
         "type": "integer"
        },
        {
         "name": "pixel266",
         "rawType": "int64",
         "type": "integer"
        },
        {
         "name": "pixel267",
         "rawType": "int64",
         "type": "integer"
        },
        {
         "name": "pixel268",
         "rawType": "int64",
         "type": "integer"
        },
        {
         "name": "pixel269",
         "rawType": "int64",
         "type": "integer"
        },
        {
         "name": "pixel270",
         "rawType": "int64",
         "type": "integer"
        },
        {
         "name": "pixel271",
         "rawType": "int64",
         "type": "integer"
        },
        {
         "name": "pixel272",
         "rawType": "int64",
         "type": "integer"
        },
        {
         "name": "pixel273",
         "rawType": "int64",
         "type": "integer"
        },
        {
         "name": "pixel274",
         "rawType": "int64",
         "type": "integer"
        },
        {
         "name": "pixel275",
         "rawType": "int64",
         "type": "integer"
        },
        {
         "name": "pixel276",
         "rawType": "int64",
         "type": "integer"
        },
        {
         "name": "pixel277",
         "rawType": "int64",
         "type": "integer"
        },
        {
         "name": "pixel278",
         "rawType": "int64",
         "type": "integer"
        },
        {
         "name": "pixel279",
         "rawType": "int64",
         "type": "integer"
        },
        {
         "name": "pixel280",
         "rawType": "int64",
         "type": "integer"
        },
        {
         "name": "pixel281",
         "rawType": "int64",
         "type": "integer"
        },
        {
         "name": "pixel282",
         "rawType": "int64",
         "type": "integer"
        },
        {
         "name": "pixel283",
         "rawType": "int64",
         "type": "integer"
        },
        {
         "name": "pixel284",
         "rawType": "int64",
         "type": "integer"
        },
        {
         "name": "pixel285",
         "rawType": "int64",
         "type": "integer"
        },
        {
         "name": "pixel286",
         "rawType": "int64",
         "type": "integer"
        },
        {
         "name": "pixel287",
         "rawType": "int64",
         "type": "integer"
        },
        {
         "name": "pixel288",
         "rawType": "int64",
         "type": "integer"
        },
        {
         "name": "pixel289",
         "rawType": "int64",
         "type": "integer"
        },
        {
         "name": "pixel290",
         "rawType": "int64",
         "type": "integer"
        },
        {
         "name": "pixel291",
         "rawType": "int64",
         "type": "integer"
        },
        {
         "name": "pixel292",
         "rawType": "int64",
         "type": "integer"
        },
        {
         "name": "pixel293",
         "rawType": "int64",
         "type": "integer"
        },
        {
         "name": "pixel294",
         "rawType": "int64",
         "type": "integer"
        },
        {
         "name": "pixel295",
         "rawType": "int64",
         "type": "integer"
        },
        {
         "name": "pixel296",
         "rawType": "int64",
         "type": "integer"
        },
        {
         "name": "pixel297",
         "rawType": "int64",
         "type": "integer"
        },
        {
         "name": "pixel298",
         "rawType": "int64",
         "type": "integer"
        },
        {
         "name": "pixel299",
         "rawType": "int64",
         "type": "integer"
        },
        {
         "name": "pixel300",
         "rawType": "int64",
         "type": "integer"
        },
        {
         "name": "pixel301",
         "rawType": "int64",
         "type": "integer"
        },
        {
         "name": "pixel302",
         "rawType": "int64",
         "type": "integer"
        },
        {
         "name": "pixel303",
         "rawType": "int64",
         "type": "integer"
        },
        {
         "name": "pixel304",
         "rawType": "int64",
         "type": "integer"
        },
        {
         "name": "pixel305",
         "rawType": "int64",
         "type": "integer"
        },
        {
         "name": "pixel306",
         "rawType": "int64",
         "type": "integer"
        },
        {
         "name": "pixel307",
         "rawType": "int64",
         "type": "integer"
        },
        {
         "name": "pixel308",
         "rawType": "int64",
         "type": "integer"
        },
        {
         "name": "pixel309",
         "rawType": "int64",
         "type": "integer"
        },
        {
         "name": "pixel310",
         "rawType": "int64",
         "type": "integer"
        },
        {
         "name": "pixel311",
         "rawType": "int64",
         "type": "integer"
        },
        {
         "name": "pixel312",
         "rawType": "int64",
         "type": "integer"
        },
        {
         "name": "pixel313",
         "rawType": "int64",
         "type": "integer"
        },
        {
         "name": "pixel314",
         "rawType": "int64",
         "type": "integer"
        },
        {
         "name": "pixel315",
         "rawType": "int64",
         "type": "integer"
        },
        {
         "name": "pixel316",
         "rawType": "int64",
         "type": "integer"
        },
        {
         "name": "pixel317",
         "rawType": "int64",
         "type": "integer"
        },
        {
         "name": "pixel318",
         "rawType": "int64",
         "type": "integer"
        },
        {
         "name": "pixel319",
         "rawType": "int64",
         "type": "integer"
        },
        {
         "name": "pixel320",
         "rawType": "int64",
         "type": "integer"
        },
        {
         "name": "pixel321",
         "rawType": "int64",
         "type": "integer"
        },
        {
         "name": "pixel322",
         "rawType": "int64",
         "type": "integer"
        },
        {
         "name": "pixel323",
         "rawType": "int64",
         "type": "integer"
        },
        {
         "name": "pixel324",
         "rawType": "int64",
         "type": "integer"
        },
        {
         "name": "pixel325",
         "rawType": "int64",
         "type": "integer"
        },
        {
         "name": "pixel326",
         "rawType": "int64",
         "type": "integer"
        },
        {
         "name": "pixel327",
         "rawType": "int64",
         "type": "integer"
        },
        {
         "name": "pixel328",
         "rawType": "int64",
         "type": "integer"
        },
        {
         "name": "pixel329",
         "rawType": "int64",
         "type": "integer"
        },
        {
         "name": "pixel330",
         "rawType": "int64",
         "type": "integer"
        },
        {
         "name": "pixel331",
         "rawType": "int64",
         "type": "integer"
        },
        {
         "name": "pixel332",
         "rawType": "int64",
         "type": "integer"
        },
        {
         "name": "pixel333",
         "rawType": "int64",
         "type": "integer"
        },
        {
         "name": "pixel334",
         "rawType": "int64",
         "type": "integer"
        },
        {
         "name": "pixel335",
         "rawType": "int64",
         "type": "integer"
        },
        {
         "name": "pixel336",
         "rawType": "int64",
         "type": "integer"
        },
        {
         "name": "pixel337",
         "rawType": "int64",
         "type": "integer"
        },
        {
         "name": "pixel338",
         "rawType": "int64",
         "type": "integer"
        },
        {
         "name": "pixel339",
         "rawType": "int64",
         "type": "integer"
        },
        {
         "name": "pixel340",
         "rawType": "int64",
         "type": "integer"
        },
        {
         "name": "pixel341",
         "rawType": "int64",
         "type": "integer"
        },
        {
         "name": "pixel342",
         "rawType": "int64",
         "type": "integer"
        },
        {
         "name": "pixel343",
         "rawType": "int64",
         "type": "integer"
        },
        {
         "name": "pixel344",
         "rawType": "int64",
         "type": "integer"
        },
        {
         "name": "pixel345",
         "rawType": "int64",
         "type": "integer"
        },
        {
         "name": "pixel346",
         "rawType": "int64",
         "type": "integer"
        },
        {
         "name": "pixel347",
         "rawType": "int64",
         "type": "integer"
        },
        {
         "name": "pixel348",
         "rawType": "int64",
         "type": "integer"
        },
        {
         "name": "pixel349",
         "rawType": "int64",
         "type": "integer"
        },
        {
         "name": "pixel350",
         "rawType": "int64",
         "type": "integer"
        },
        {
         "name": "pixel351",
         "rawType": "int64",
         "type": "integer"
        },
        {
         "name": "pixel352",
         "rawType": "int64",
         "type": "integer"
        },
        {
         "name": "pixel353",
         "rawType": "int64",
         "type": "integer"
        },
        {
         "name": "pixel354",
         "rawType": "int64",
         "type": "integer"
        },
        {
         "name": "pixel355",
         "rawType": "int64",
         "type": "integer"
        },
        {
         "name": "pixel356",
         "rawType": "int64",
         "type": "integer"
        },
        {
         "name": "pixel357",
         "rawType": "int64",
         "type": "integer"
        },
        {
         "name": "pixel358",
         "rawType": "int64",
         "type": "integer"
        },
        {
         "name": "pixel359",
         "rawType": "int64",
         "type": "integer"
        },
        {
         "name": "pixel360",
         "rawType": "int64",
         "type": "integer"
        },
        {
         "name": "pixel361",
         "rawType": "int64",
         "type": "integer"
        },
        {
         "name": "pixel362",
         "rawType": "int64",
         "type": "integer"
        },
        {
         "name": "pixel363",
         "rawType": "int64",
         "type": "integer"
        },
        {
         "name": "pixel364",
         "rawType": "int64",
         "type": "integer"
        },
        {
         "name": "pixel365",
         "rawType": "int64",
         "type": "integer"
        },
        {
         "name": "pixel366",
         "rawType": "int64",
         "type": "integer"
        },
        {
         "name": "pixel367",
         "rawType": "int64",
         "type": "integer"
        },
        {
         "name": "pixel368",
         "rawType": "int64",
         "type": "integer"
        },
        {
         "name": "pixel369",
         "rawType": "int64",
         "type": "integer"
        },
        {
         "name": "pixel370",
         "rawType": "int64",
         "type": "integer"
        },
        {
         "name": "pixel371",
         "rawType": "int64",
         "type": "integer"
        },
        {
         "name": "pixel372",
         "rawType": "int64",
         "type": "integer"
        },
        {
         "name": "pixel373",
         "rawType": "int64",
         "type": "integer"
        },
        {
         "name": "pixel374",
         "rawType": "int64",
         "type": "integer"
        },
        {
         "name": "pixel375",
         "rawType": "int64",
         "type": "integer"
        },
        {
         "name": "pixel376",
         "rawType": "int64",
         "type": "integer"
        },
        {
         "name": "pixel377",
         "rawType": "int64",
         "type": "integer"
        },
        {
         "name": "pixel378",
         "rawType": "int64",
         "type": "integer"
        },
        {
         "name": "pixel379",
         "rawType": "int64",
         "type": "integer"
        },
        {
         "name": "pixel380",
         "rawType": "int64",
         "type": "integer"
        },
        {
         "name": "pixel381",
         "rawType": "int64",
         "type": "integer"
        },
        {
         "name": "pixel382",
         "rawType": "int64",
         "type": "integer"
        },
        {
         "name": "pixel383",
         "rawType": "int64",
         "type": "integer"
        },
        {
         "name": "pixel384",
         "rawType": "int64",
         "type": "integer"
        },
        {
         "name": "pixel385",
         "rawType": "int64",
         "type": "integer"
        },
        {
         "name": "pixel386",
         "rawType": "int64",
         "type": "integer"
        },
        {
         "name": "pixel387",
         "rawType": "int64",
         "type": "integer"
        },
        {
         "name": "pixel388",
         "rawType": "int64",
         "type": "integer"
        },
        {
         "name": "pixel389",
         "rawType": "int64",
         "type": "integer"
        },
        {
         "name": "pixel390",
         "rawType": "int64",
         "type": "integer"
        },
        {
         "name": "pixel391",
         "rawType": "int64",
         "type": "integer"
        },
        {
         "name": "pixel392",
         "rawType": "int64",
         "type": "integer"
        },
        {
         "name": "pixel393",
         "rawType": "int64",
         "type": "integer"
        },
        {
         "name": "pixel394",
         "rawType": "int64",
         "type": "integer"
        },
        {
         "name": "pixel395",
         "rawType": "int64",
         "type": "integer"
        },
        {
         "name": "pixel396",
         "rawType": "int64",
         "type": "integer"
        },
        {
         "name": "pixel397",
         "rawType": "int64",
         "type": "integer"
        },
        {
         "name": "pixel398",
         "rawType": "int64",
         "type": "integer"
        },
        {
         "name": "pixel399",
         "rawType": "int64",
         "type": "integer"
        },
        {
         "name": "pixel400",
         "rawType": "int64",
         "type": "integer"
        },
        {
         "name": "pixel401",
         "rawType": "int64",
         "type": "integer"
        },
        {
         "name": "pixel402",
         "rawType": "int64",
         "type": "integer"
        },
        {
         "name": "pixel403",
         "rawType": "int64",
         "type": "integer"
        },
        {
         "name": "pixel404",
         "rawType": "int64",
         "type": "integer"
        },
        {
         "name": "pixel405",
         "rawType": "int64",
         "type": "integer"
        },
        {
         "name": "pixel406",
         "rawType": "int64",
         "type": "integer"
        },
        {
         "name": "pixel407",
         "rawType": "int64",
         "type": "integer"
        },
        {
         "name": "pixel408",
         "rawType": "int64",
         "type": "integer"
        },
        {
         "name": "pixel409",
         "rawType": "int64",
         "type": "integer"
        },
        {
         "name": "pixel410",
         "rawType": "int64",
         "type": "integer"
        },
        {
         "name": "pixel411",
         "rawType": "int64",
         "type": "integer"
        },
        {
         "name": "pixel412",
         "rawType": "int64",
         "type": "integer"
        },
        {
         "name": "pixel413",
         "rawType": "int64",
         "type": "integer"
        },
        {
         "name": "pixel414",
         "rawType": "int64",
         "type": "integer"
        },
        {
         "name": "pixel415",
         "rawType": "int64",
         "type": "integer"
        },
        {
         "name": "pixel416",
         "rawType": "int64",
         "type": "integer"
        },
        {
         "name": "pixel417",
         "rawType": "int64",
         "type": "integer"
        },
        {
         "name": "pixel418",
         "rawType": "int64",
         "type": "integer"
        },
        {
         "name": "pixel419",
         "rawType": "int64",
         "type": "integer"
        },
        {
         "name": "pixel420",
         "rawType": "int64",
         "type": "integer"
        },
        {
         "name": "pixel421",
         "rawType": "int64",
         "type": "integer"
        },
        {
         "name": "pixel422",
         "rawType": "int64",
         "type": "integer"
        },
        {
         "name": "pixel423",
         "rawType": "int64",
         "type": "integer"
        },
        {
         "name": "pixel424",
         "rawType": "int64",
         "type": "integer"
        },
        {
         "name": "pixel425",
         "rawType": "int64",
         "type": "integer"
        },
        {
         "name": "pixel426",
         "rawType": "int64",
         "type": "integer"
        },
        {
         "name": "pixel427",
         "rawType": "int64",
         "type": "integer"
        },
        {
         "name": "pixel428",
         "rawType": "int64",
         "type": "integer"
        },
        {
         "name": "pixel429",
         "rawType": "int64",
         "type": "integer"
        },
        {
         "name": "pixel430",
         "rawType": "int64",
         "type": "integer"
        },
        {
         "name": "pixel431",
         "rawType": "int64",
         "type": "integer"
        },
        {
         "name": "pixel432",
         "rawType": "int64",
         "type": "integer"
        },
        {
         "name": "pixel433",
         "rawType": "int64",
         "type": "integer"
        },
        {
         "name": "pixel434",
         "rawType": "int64",
         "type": "integer"
        },
        {
         "name": "pixel435",
         "rawType": "int64",
         "type": "integer"
        },
        {
         "name": "pixel436",
         "rawType": "int64",
         "type": "integer"
        },
        {
         "name": "pixel437",
         "rawType": "int64",
         "type": "integer"
        },
        {
         "name": "pixel438",
         "rawType": "int64",
         "type": "integer"
        },
        {
         "name": "pixel439",
         "rawType": "int64",
         "type": "integer"
        },
        {
         "name": "pixel440",
         "rawType": "int64",
         "type": "integer"
        },
        {
         "name": "pixel441",
         "rawType": "int64",
         "type": "integer"
        },
        {
         "name": "pixel442",
         "rawType": "int64",
         "type": "integer"
        },
        {
         "name": "pixel443",
         "rawType": "int64",
         "type": "integer"
        },
        {
         "name": "pixel444",
         "rawType": "int64",
         "type": "integer"
        },
        {
         "name": "pixel445",
         "rawType": "int64",
         "type": "integer"
        },
        {
         "name": "pixel446",
         "rawType": "int64",
         "type": "integer"
        },
        {
         "name": "pixel447",
         "rawType": "int64",
         "type": "integer"
        },
        {
         "name": "pixel448",
         "rawType": "int64",
         "type": "integer"
        },
        {
         "name": "pixel449",
         "rawType": "int64",
         "type": "integer"
        },
        {
         "name": "pixel450",
         "rawType": "int64",
         "type": "integer"
        },
        {
         "name": "pixel451",
         "rawType": "int64",
         "type": "integer"
        },
        {
         "name": "pixel452",
         "rawType": "int64",
         "type": "integer"
        },
        {
         "name": "pixel453",
         "rawType": "int64",
         "type": "integer"
        },
        {
         "name": "pixel454",
         "rawType": "int64",
         "type": "integer"
        },
        {
         "name": "pixel455",
         "rawType": "int64",
         "type": "integer"
        },
        {
         "name": "pixel456",
         "rawType": "int64",
         "type": "integer"
        },
        {
         "name": "pixel457",
         "rawType": "int64",
         "type": "integer"
        },
        {
         "name": "pixel458",
         "rawType": "int64",
         "type": "integer"
        },
        {
         "name": "pixel459",
         "rawType": "int64",
         "type": "integer"
        },
        {
         "name": "pixel460",
         "rawType": "int64",
         "type": "integer"
        },
        {
         "name": "pixel461",
         "rawType": "int64",
         "type": "integer"
        },
        {
         "name": "pixel462",
         "rawType": "int64",
         "type": "integer"
        },
        {
         "name": "pixel463",
         "rawType": "int64",
         "type": "integer"
        },
        {
         "name": "pixel464",
         "rawType": "int64",
         "type": "integer"
        },
        {
         "name": "pixel465",
         "rawType": "int64",
         "type": "integer"
        },
        {
         "name": "pixel466",
         "rawType": "int64",
         "type": "integer"
        },
        {
         "name": "pixel467",
         "rawType": "int64",
         "type": "integer"
        },
        {
         "name": "pixel468",
         "rawType": "int64",
         "type": "integer"
        },
        {
         "name": "pixel469",
         "rawType": "int64",
         "type": "integer"
        },
        {
         "name": "pixel470",
         "rawType": "int64",
         "type": "integer"
        },
        {
         "name": "pixel471",
         "rawType": "int64",
         "type": "integer"
        },
        {
         "name": "pixel472",
         "rawType": "int64",
         "type": "integer"
        },
        {
         "name": "pixel473",
         "rawType": "int64",
         "type": "integer"
        },
        {
         "name": "pixel474",
         "rawType": "int64",
         "type": "integer"
        },
        {
         "name": "pixel475",
         "rawType": "int64",
         "type": "integer"
        },
        {
         "name": "pixel476",
         "rawType": "int64",
         "type": "integer"
        },
        {
         "name": "pixel477",
         "rawType": "int64",
         "type": "integer"
        },
        {
         "name": "pixel478",
         "rawType": "int64",
         "type": "integer"
        },
        {
         "name": "pixel479",
         "rawType": "int64",
         "type": "integer"
        },
        {
         "name": "pixel480",
         "rawType": "int64",
         "type": "integer"
        },
        {
         "name": "pixel481",
         "rawType": "int64",
         "type": "integer"
        },
        {
         "name": "pixel482",
         "rawType": "int64",
         "type": "integer"
        },
        {
         "name": "pixel483",
         "rawType": "int64",
         "type": "integer"
        },
        {
         "name": "pixel484",
         "rawType": "int64",
         "type": "integer"
        },
        {
         "name": "pixel485",
         "rawType": "int64",
         "type": "integer"
        },
        {
         "name": "pixel486",
         "rawType": "int64",
         "type": "integer"
        },
        {
         "name": "pixel487",
         "rawType": "int64",
         "type": "integer"
        },
        {
         "name": "pixel488",
         "rawType": "int64",
         "type": "integer"
        },
        {
         "name": "pixel489",
         "rawType": "int64",
         "type": "integer"
        },
        {
         "name": "pixel490",
         "rawType": "int64",
         "type": "integer"
        },
        {
         "name": "pixel491",
         "rawType": "int64",
         "type": "integer"
        },
        {
         "name": "pixel492",
         "rawType": "int64",
         "type": "integer"
        },
        {
         "name": "pixel493",
         "rawType": "int64",
         "type": "integer"
        },
        {
         "name": "pixel494",
         "rawType": "int64",
         "type": "integer"
        },
        {
         "name": "pixel495",
         "rawType": "int64",
         "type": "integer"
        },
        {
         "name": "pixel496",
         "rawType": "int64",
         "type": "integer"
        },
        {
         "name": "pixel497",
         "rawType": "int64",
         "type": "integer"
        },
        {
         "name": "pixel498",
         "rawType": "int64",
         "type": "integer"
        },
        {
         "name": "pixel499",
         "rawType": "int64",
         "type": "integer"
        },
        {
         "name": "pixel500",
         "rawType": "int64",
         "type": "integer"
        },
        {
         "name": "pixel501",
         "rawType": "int64",
         "type": "integer"
        },
        {
         "name": "pixel502",
         "rawType": "int64",
         "type": "integer"
        },
        {
         "name": "pixel503",
         "rawType": "int64",
         "type": "integer"
        },
        {
         "name": "pixel504",
         "rawType": "int64",
         "type": "integer"
        },
        {
         "name": "pixel505",
         "rawType": "int64",
         "type": "integer"
        },
        {
         "name": "pixel506",
         "rawType": "int64",
         "type": "integer"
        },
        {
         "name": "pixel507",
         "rawType": "int64",
         "type": "integer"
        },
        {
         "name": "pixel508",
         "rawType": "int64",
         "type": "integer"
        },
        {
         "name": "pixel509",
         "rawType": "int64",
         "type": "integer"
        },
        {
         "name": "pixel510",
         "rawType": "int64",
         "type": "integer"
        },
        {
         "name": "pixel511",
         "rawType": "int64",
         "type": "integer"
        },
        {
         "name": "pixel512",
         "rawType": "int64",
         "type": "integer"
        },
        {
         "name": "pixel513",
         "rawType": "int64",
         "type": "integer"
        },
        {
         "name": "pixel514",
         "rawType": "int64",
         "type": "integer"
        },
        {
         "name": "pixel515",
         "rawType": "int64",
         "type": "integer"
        },
        {
         "name": "pixel516",
         "rawType": "int64",
         "type": "integer"
        },
        {
         "name": "pixel517",
         "rawType": "int64",
         "type": "integer"
        },
        {
         "name": "pixel518",
         "rawType": "int64",
         "type": "integer"
        },
        {
         "name": "pixel519",
         "rawType": "int64",
         "type": "integer"
        },
        {
         "name": "pixel520",
         "rawType": "int64",
         "type": "integer"
        },
        {
         "name": "pixel521",
         "rawType": "int64",
         "type": "integer"
        },
        {
         "name": "pixel522",
         "rawType": "int64",
         "type": "integer"
        },
        {
         "name": "pixel523",
         "rawType": "int64",
         "type": "integer"
        },
        {
         "name": "pixel524",
         "rawType": "int64",
         "type": "integer"
        },
        {
         "name": "pixel525",
         "rawType": "int64",
         "type": "integer"
        },
        {
         "name": "pixel526",
         "rawType": "int64",
         "type": "integer"
        },
        {
         "name": "pixel527",
         "rawType": "int64",
         "type": "integer"
        },
        {
         "name": "pixel528",
         "rawType": "int64",
         "type": "integer"
        },
        {
         "name": "pixel529",
         "rawType": "int64",
         "type": "integer"
        },
        {
         "name": "pixel530",
         "rawType": "int64",
         "type": "integer"
        },
        {
         "name": "pixel531",
         "rawType": "int64",
         "type": "integer"
        },
        {
         "name": "pixel532",
         "rawType": "int64",
         "type": "integer"
        },
        {
         "name": "pixel533",
         "rawType": "int64",
         "type": "integer"
        },
        {
         "name": "pixel534",
         "rawType": "int64",
         "type": "integer"
        },
        {
         "name": "pixel535",
         "rawType": "int64",
         "type": "integer"
        },
        {
         "name": "pixel536",
         "rawType": "int64",
         "type": "integer"
        },
        {
         "name": "pixel537",
         "rawType": "int64",
         "type": "integer"
        },
        {
         "name": "pixel538",
         "rawType": "int64",
         "type": "integer"
        },
        {
         "name": "pixel539",
         "rawType": "int64",
         "type": "integer"
        },
        {
         "name": "pixel540",
         "rawType": "int64",
         "type": "integer"
        },
        {
         "name": "pixel541",
         "rawType": "int64",
         "type": "integer"
        },
        {
         "name": "pixel542",
         "rawType": "int64",
         "type": "integer"
        },
        {
         "name": "pixel543",
         "rawType": "int64",
         "type": "integer"
        },
        {
         "name": "pixel544",
         "rawType": "int64",
         "type": "integer"
        },
        {
         "name": "pixel545",
         "rawType": "int64",
         "type": "integer"
        },
        {
         "name": "pixel546",
         "rawType": "int64",
         "type": "integer"
        },
        {
         "name": "pixel547",
         "rawType": "int64",
         "type": "integer"
        },
        {
         "name": "pixel548",
         "rawType": "int64",
         "type": "integer"
        },
        {
         "name": "pixel549",
         "rawType": "int64",
         "type": "integer"
        },
        {
         "name": "pixel550",
         "rawType": "int64",
         "type": "integer"
        },
        {
         "name": "pixel551",
         "rawType": "int64",
         "type": "integer"
        },
        {
         "name": "pixel552",
         "rawType": "int64",
         "type": "integer"
        },
        {
         "name": "pixel553",
         "rawType": "int64",
         "type": "integer"
        },
        {
         "name": "pixel554",
         "rawType": "int64",
         "type": "integer"
        },
        {
         "name": "pixel555",
         "rawType": "int64",
         "type": "integer"
        },
        {
         "name": "pixel556",
         "rawType": "int64",
         "type": "integer"
        },
        {
         "name": "pixel557",
         "rawType": "int64",
         "type": "integer"
        },
        {
         "name": "pixel558",
         "rawType": "int64",
         "type": "integer"
        },
        {
         "name": "pixel559",
         "rawType": "int64",
         "type": "integer"
        },
        {
         "name": "pixel560",
         "rawType": "int64",
         "type": "integer"
        },
        {
         "name": "pixel561",
         "rawType": "int64",
         "type": "integer"
        },
        {
         "name": "pixel562",
         "rawType": "int64",
         "type": "integer"
        },
        {
         "name": "pixel563",
         "rawType": "int64",
         "type": "integer"
        },
        {
         "name": "pixel564",
         "rawType": "int64",
         "type": "integer"
        },
        {
         "name": "pixel565",
         "rawType": "int64",
         "type": "integer"
        },
        {
         "name": "pixel566",
         "rawType": "int64",
         "type": "integer"
        },
        {
         "name": "pixel567",
         "rawType": "int64",
         "type": "integer"
        },
        {
         "name": "pixel568",
         "rawType": "int64",
         "type": "integer"
        },
        {
         "name": "pixel569",
         "rawType": "int64",
         "type": "integer"
        },
        {
         "name": "pixel570",
         "rawType": "int64",
         "type": "integer"
        },
        {
         "name": "pixel571",
         "rawType": "int64",
         "type": "integer"
        },
        {
         "name": "pixel572",
         "rawType": "int64",
         "type": "integer"
        },
        {
         "name": "pixel573",
         "rawType": "int64",
         "type": "integer"
        },
        {
         "name": "pixel574",
         "rawType": "int64",
         "type": "integer"
        },
        {
         "name": "pixel575",
         "rawType": "int64",
         "type": "integer"
        },
        {
         "name": "pixel576",
         "rawType": "int64",
         "type": "integer"
        },
        {
         "name": "pixel577",
         "rawType": "int64",
         "type": "integer"
        },
        {
         "name": "pixel578",
         "rawType": "int64",
         "type": "integer"
        },
        {
         "name": "pixel579",
         "rawType": "int64",
         "type": "integer"
        },
        {
         "name": "pixel580",
         "rawType": "int64",
         "type": "integer"
        },
        {
         "name": "pixel581",
         "rawType": "int64",
         "type": "integer"
        },
        {
         "name": "pixel582",
         "rawType": "int64",
         "type": "integer"
        },
        {
         "name": "pixel583",
         "rawType": "int64",
         "type": "integer"
        },
        {
         "name": "pixel584",
         "rawType": "int64",
         "type": "integer"
        },
        {
         "name": "pixel585",
         "rawType": "int64",
         "type": "integer"
        },
        {
         "name": "pixel586",
         "rawType": "int64",
         "type": "integer"
        },
        {
         "name": "pixel587",
         "rawType": "int64",
         "type": "integer"
        },
        {
         "name": "pixel588",
         "rawType": "int64",
         "type": "integer"
        },
        {
         "name": "pixel589",
         "rawType": "int64",
         "type": "integer"
        },
        {
         "name": "pixel590",
         "rawType": "int64",
         "type": "integer"
        },
        {
         "name": "pixel591",
         "rawType": "int64",
         "type": "integer"
        },
        {
         "name": "pixel592",
         "rawType": "int64",
         "type": "integer"
        },
        {
         "name": "pixel593",
         "rawType": "int64",
         "type": "integer"
        },
        {
         "name": "pixel594",
         "rawType": "int64",
         "type": "integer"
        },
        {
         "name": "pixel595",
         "rawType": "int64",
         "type": "integer"
        },
        {
         "name": "pixel596",
         "rawType": "int64",
         "type": "integer"
        },
        {
         "name": "pixel597",
         "rawType": "int64",
         "type": "integer"
        },
        {
         "name": "pixel598",
         "rawType": "int64",
         "type": "integer"
        },
        {
         "name": "pixel599",
         "rawType": "int64",
         "type": "integer"
        },
        {
         "name": "pixel600",
         "rawType": "int64",
         "type": "integer"
        },
        {
         "name": "pixel601",
         "rawType": "int64",
         "type": "integer"
        },
        {
         "name": "pixel602",
         "rawType": "int64",
         "type": "integer"
        },
        {
         "name": "pixel603",
         "rawType": "int64",
         "type": "integer"
        },
        {
         "name": "pixel604",
         "rawType": "int64",
         "type": "integer"
        },
        {
         "name": "pixel605",
         "rawType": "int64",
         "type": "integer"
        },
        {
         "name": "pixel606",
         "rawType": "int64",
         "type": "integer"
        },
        {
         "name": "pixel607",
         "rawType": "int64",
         "type": "integer"
        },
        {
         "name": "pixel608",
         "rawType": "int64",
         "type": "integer"
        },
        {
         "name": "pixel609",
         "rawType": "int64",
         "type": "integer"
        },
        {
         "name": "pixel610",
         "rawType": "int64",
         "type": "integer"
        },
        {
         "name": "pixel611",
         "rawType": "int64",
         "type": "integer"
        },
        {
         "name": "pixel612",
         "rawType": "int64",
         "type": "integer"
        },
        {
         "name": "pixel613",
         "rawType": "int64",
         "type": "integer"
        },
        {
         "name": "pixel614",
         "rawType": "int64",
         "type": "integer"
        },
        {
         "name": "pixel615",
         "rawType": "int64",
         "type": "integer"
        },
        {
         "name": "pixel616",
         "rawType": "int64",
         "type": "integer"
        },
        {
         "name": "pixel617",
         "rawType": "int64",
         "type": "integer"
        },
        {
         "name": "pixel618",
         "rawType": "int64",
         "type": "integer"
        },
        {
         "name": "pixel619",
         "rawType": "int64",
         "type": "integer"
        },
        {
         "name": "pixel620",
         "rawType": "int64",
         "type": "integer"
        },
        {
         "name": "pixel621",
         "rawType": "int64",
         "type": "integer"
        },
        {
         "name": "pixel622",
         "rawType": "int64",
         "type": "integer"
        },
        {
         "name": "pixel623",
         "rawType": "int64",
         "type": "integer"
        },
        {
         "name": "pixel624",
         "rawType": "int64",
         "type": "integer"
        },
        {
         "name": "pixel625",
         "rawType": "int64",
         "type": "integer"
        },
        {
         "name": "pixel626",
         "rawType": "int64",
         "type": "integer"
        },
        {
         "name": "pixel627",
         "rawType": "int64",
         "type": "integer"
        },
        {
         "name": "pixel628",
         "rawType": "int64",
         "type": "integer"
        },
        {
         "name": "pixel629",
         "rawType": "int64",
         "type": "integer"
        },
        {
         "name": "pixel630",
         "rawType": "int64",
         "type": "integer"
        },
        {
         "name": "pixel631",
         "rawType": "int64",
         "type": "integer"
        },
        {
         "name": "pixel632",
         "rawType": "int64",
         "type": "integer"
        },
        {
         "name": "pixel633",
         "rawType": "int64",
         "type": "integer"
        },
        {
         "name": "pixel634",
         "rawType": "int64",
         "type": "integer"
        },
        {
         "name": "pixel635",
         "rawType": "int64",
         "type": "integer"
        },
        {
         "name": "pixel636",
         "rawType": "int64",
         "type": "integer"
        },
        {
         "name": "pixel637",
         "rawType": "int64",
         "type": "integer"
        },
        {
         "name": "pixel638",
         "rawType": "int64",
         "type": "integer"
        },
        {
         "name": "pixel639",
         "rawType": "int64",
         "type": "integer"
        },
        {
         "name": "pixel640",
         "rawType": "int64",
         "type": "integer"
        },
        {
         "name": "pixel641",
         "rawType": "int64",
         "type": "integer"
        },
        {
         "name": "pixel642",
         "rawType": "int64",
         "type": "integer"
        },
        {
         "name": "pixel643",
         "rawType": "int64",
         "type": "integer"
        },
        {
         "name": "pixel644",
         "rawType": "int64",
         "type": "integer"
        },
        {
         "name": "pixel645",
         "rawType": "int64",
         "type": "integer"
        },
        {
         "name": "pixel646",
         "rawType": "int64",
         "type": "integer"
        },
        {
         "name": "pixel647",
         "rawType": "int64",
         "type": "integer"
        },
        {
         "name": "pixel648",
         "rawType": "int64",
         "type": "integer"
        },
        {
         "name": "pixel649",
         "rawType": "int64",
         "type": "integer"
        },
        {
         "name": "pixel650",
         "rawType": "int64",
         "type": "integer"
        },
        {
         "name": "pixel651",
         "rawType": "int64",
         "type": "integer"
        },
        {
         "name": "pixel652",
         "rawType": "int64",
         "type": "integer"
        },
        {
         "name": "pixel653",
         "rawType": "int64",
         "type": "integer"
        },
        {
         "name": "pixel654",
         "rawType": "int64",
         "type": "integer"
        },
        {
         "name": "pixel655",
         "rawType": "int64",
         "type": "integer"
        },
        {
         "name": "pixel656",
         "rawType": "int64",
         "type": "integer"
        },
        {
         "name": "pixel657",
         "rawType": "int64",
         "type": "integer"
        },
        {
         "name": "pixel658",
         "rawType": "int64",
         "type": "integer"
        },
        {
         "name": "pixel659",
         "rawType": "int64",
         "type": "integer"
        },
        {
         "name": "pixel660",
         "rawType": "int64",
         "type": "integer"
        },
        {
         "name": "pixel661",
         "rawType": "int64",
         "type": "integer"
        },
        {
         "name": "pixel662",
         "rawType": "int64",
         "type": "integer"
        },
        {
         "name": "pixel663",
         "rawType": "int64",
         "type": "integer"
        },
        {
         "name": "pixel664",
         "rawType": "int64",
         "type": "integer"
        },
        {
         "name": "pixel665",
         "rawType": "int64",
         "type": "integer"
        },
        {
         "name": "pixel666",
         "rawType": "int64",
         "type": "integer"
        },
        {
         "name": "pixel667",
         "rawType": "int64",
         "type": "integer"
        },
        {
         "name": "pixel668",
         "rawType": "int64",
         "type": "integer"
        },
        {
         "name": "pixel669",
         "rawType": "int64",
         "type": "integer"
        },
        {
         "name": "pixel670",
         "rawType": "int64",
         "type": "integer"
        },
        {
         "name": "pixel671",
         "rawType": "int64",
         "type": "integer"
        },
        {
         "name": "pixel672",
         "rawType": "int64",
         "type": "integer"
        },
        {
         "name": "pixel673",
         "rawType": "int64",
         "type": "integer"
        },
        {
         "name": "pixel674",
         "rawType": "int64",
         "type": "integer"
        },
        {
         "name": "pixel675",
         "rawType": "int64",
         "type": "integer"
        },
        {
         "name": "pixel676",
         "rawType": "int64",
         "type": "integer"
        },
        {
         "name": "pixel677",
         "rawType": "int64",
         "type": "integer"
        },
        {
         "name": "pixel678",
         "rawType": "int64",
         "type": "integer"
        },
        {
         "name": "pixel679",
         "rawType": "int64",
         "type": "integer"
        },
        {
         "name": "pixel680",
         "rawType": "int64",
         "type": "integer"
        },
        {
         "name": "pixel681",
         "rawType": "int64",
         "type": "integer"
        },
        {
         "name": "pixel682",
         "rawType": "int64",
         "type": "integer"
        },
        {
         "name": "pixel683",
         "rawType": "int64",
         "type": "integer"
        },
        {
         "name": "pixel684",
         "rawType": "int64",
         "type": "integer"
        },
        {
         "name": "pixel685",
         "rawType": "int64",
         "type": "integer"
        },
        {
         "name": "pixel686",
         "rawType": "int64",
         "type": "integer"
        },
        {
         "name": "pixel687",
         "rawType": "int64",
         "type": "integer"
        },
        {
         "name": "pixel688",
         "rawType": "int64",
         "type": "integer"
        },
        {
         "name": "pixel689",
         "rawType": "int64",
         "type": "integer"
        },
        {
         "name": "pixel690",
         "rawType": "int64",
         "type": "integer"
        },
        {
         "name": "pixel691",
         "rawType": "int64",
         "type": "integer"
        },
        {
         "name": "pixel692",
         "rawType": "int64",
         "type": "integer"
        },
        {
         "name": "pixel693",
         "rawType": "int64",
         "type": "integer"
        },
        {
         "name": "pixel694",
         "rawType": "int64",
         "type": "integer"
        },
        {
         "name": "pixel695",
         "rawType": "int64",
         "type": "integer"
        },
        {
         "name": "pixel696",
         "rawType": "int64",
         "type": "integer"
        },
        {
         "name": "pixel697",
         "rawType": "int64",
         "type": "integer"
        },
        {
         "name": "pixel698",
         "rawType": "int64",
         "type": "integer"
        },
        {
         "name": "pixel699",
         "rawType": "int64",
         "type": "integer"
        },
        {
         "name": "pixel700",
         "rawType": "int64",
         "type": "integer"
        },
        {
         "name": "pixel701",
         "rawType": "int64",
         "type": "integer"
        },
        {
         "name": "pixel702",
         "rawType": "int64",
         "type": "integer"
        },
        {
         "name": "pixel703",
         "rawType": "int64",
         "type": "integer"
        },
        {
         "name": "pixel704",
         "rawType": "int64",
         "type": "integer"
        },
        {
         "name": "pixel705",
         "rawType": "int64",
         "type": "integer"
        },
        {
         "name": "pixel706",
         "rawType": "int64",
         "type": "integer"
        },
        {
         "name": "pixel707",
         "rawType": "int64",
         "type": "integer"
        },
        {
         "name": "pixel708",
         "rawType": "int64",
         "type": "integer"
        },
        {
         "name": "pixel709",
         "rawType": "int64",
         "type": "integer"
        },
        {
         "name": "pixel710",
         "rawType": "int64",
         "type": "integer"
        },
        {
         "name": "pixel711",
         "rawType": "int64",
         "type": "integer"
        },
        {
         "name": "pixel712",
         "rawType": "int64",
         "type": "integer"
        },
        {
         "name": "pixel713",
         "rawType": "int64",
         "type": "integer"
        },
        {
         "name": "pixel714",
         "rawType": "int64",
         "type": "integer"
        },
        {
         "name": "pixel715",
         "rawType": "int64",
         "type": "integer"
        },
        {
         "name": "pixel716",
         "rawType": "int64",
         "type": "integer"
        },
        {
         "name": "pixel717",
         "rawType": "int64",
         "type": "integer"
        },
        {
         "name": "pixel718",
         "rawType": "int64",
         "type": "integer"
        },
        {
         "name": "pixel719",
         "rawType": "int64",
         "type": "integer"
        },
        {
         "name": "pixel720",
         "rawType": "int64",
         "type": "integer"
        },
        {
         "name": "pixel721",
         "rawType": "int64",
         "type": "integer"
        },
        {
         "name": "pixel722",
         "rawType": "int64",
         "type": "integer"
        },
        {
         "name": "pixel723",
         "rawType": "int64",
         "type": "integer"
        },
        {
         "name": "pixel724",
         "rawType": "int64",
         "type": "integer"
        },
        {
         "name": "pixel725",
         "rawType": "int64",
         "type": "integer"
        },
        {
         "name": "pixel726",
         "rawType": "int64",
         "type": "integer"
        },
        {
         "name": "pixel727",
         "rawType": "int64",
         "type": "integer"
        },
        {
         "name": "pixel728",
         "rawType": "int64",
         "type": "integer"
        },
        {
         "name": "pixel729",
         "rawType": "int64",
         "type": "integer"
        },
        {
         "name": "pixel730",
         "rawType": "int64",
         "type": "integer"
        },
        {
         "name": "pixel731",
         "rawType": "int64",
         "type": "integer"
        },
        {
         "name": "pixel732",
         "rawType": "int64",
         "type": "integer"
        },
        {
         "name": "pixel733",
         "rawType": "int64",
         "type": "integer"
        },
        {
         "name": "pixel734",
         "rawType": "int64",
         "type": "integer"
        },
        {
         "name": "pixel735",
         "rawType": "int64",
         "type": "integer"
        },
        {
         "name": "pixel736",
         "rawType": "int64",
         "type": "integer"
        },
        {
         "name": "pixel737",
         "rawType": "int64",
         "type": "integer"
        },
        {
         "name": "pixel738",
         "rawType": "int64",
         "type": "integer"
        },
        {
         "name": "pixel739",
         "rawType": "int64",
         "type": "integer"
        },
        {
         "name": "pixel740",
         "rawType": "int64",
         "type": "integer"
        },
        {
         "name": "pixel741",
         "rawType": "int64",
         "type": "integer"
        },
        {
         "name": "pixel742",
         "rawType": "int64",
         "type": "integer"
        },
        {
         "name": "pixel743",
         "rawType": "int64",
         "type": "integer"
        },
        {
         "name": "pixel744",
         "rawType": "int64",
         "type": "integer"
        },
        {
         "name": "pixel745",
         "rawType": "int64",
         "type": "integer"
        },
        {
         "name": "pixel746",
         "rawType": "int64",
         "type": "integer"
        },
        {
         "name": "pixel747",
         "rawType": "int64",
         "type": "integer"
        },
        {
         "name": "pixel748",
         "rawType": "int64",
         "type": "integer"
        },
        {
         "name": "pixel749",
         "rawType": "int64",
         "type": "integer"
        },
        {
         "name": "pixel750",
         "rawType": "int64",
         "type": "integer"
        },
        {
         "name": "pixel751",
         "rawType": "int64",
         "type": "integer"
        },
        {
         "name": "pixel752",
         "rawType": "int64",
         "type": "integer"
        },
        {
         "name": "pixel753",
         "rawType": "int64",
         "type": "integer"
        },
        {
         "name": "pixel754",
         "rawType": "int64",
         "type": "integer"
        },
        {
         "name": "pixel755",
         "rawType": "int64",
         "type": "integer"
        },
        {
         "name": "pixel756",
         "rawType": "int64",
         "type": "integer"
        },
        {
         "name": "pixel757",
         "rawType": "int64",
         "type": "integer"
        },
        {
         "name": "pixel758",
         "rawType": "int64",
         "type": "integer"
        },
        {
         "name": "pixel759",
         "rawType": "int64",
         "type": "integer"
        },
        {
         "name": "pixel760",
         "rawType": "int64",
         "type": "integer"
        },
        {
         "name": "pixel761",
         "rawType": "int64",
         "type": "integer"
        },
        {
         "name": "pixel762",
         "rawType": "int64",
         "type": "integer"
        },
        {
         "name": "pixel763",
         "rawType": "int64",
         "type": "integer"
        },
        {
         "name": "pixel764",
         "rawType": "int64",
         "type": "integer"
        },
        {
         "name": "pixel765",
         "rawType": "int64",
         "type": "integer"
        },
        {
         "name": "pixel766",
         "rawType": "int64",
         "type": "integer"
        },
        {
         "name": "pixel767",
         "rawType": "int64",
         "type": "integer"
        },
        {
         "name": "pixel768",
         "rawType": "int64",
         "type": "integer"
        },
        {
         "name": "pixel769",
         "rawType": "int64",
         "type": "integer"
        },
        {
         "name": "pixel770",
         "rawType": "int64",
         "type": "integer"
        },
        {
         "name": "pixel771",
         "rawType": "int64",
         "type": "integer"
        },
        {
         "name": "pixel772",
         "rawType": "int64",
         "type": "integer"
        },
        {
         "name": "pixel773",
         "rawType": "int64",
         "type": "integer"
        },
        {
         "name": "pixel774",
         "rawType": "int64",
         "type": "integer"
        },
        {
         "name": "pixel775",
         "rawType": "int64",
         "type": "integer"
        },
        {
         "name": "pixel776",
         "rawType": "int64",
         "type": "integer"
        },
        {
         "name": "pixel777",
         "rawType": "int64",
         "type": "integer"
        },
        {
         "name": "pixel778",
         "rawType": "int64",
         "type": "integer"
        },
        {
         "name": "pixel779",
         "rawType": "int64",
         "type": "integer"
        },
        {
         "name": "pixel780",
         "rawType": "int64",
         "type": "integer"
        },
        {
         "name": "pixel781",
         "rawType": "int64",
         "type": "integer"
        },
        {
         "name": "pixel782",
         "rawType": "int64",
         "type": "integer"
        },
        {
         "name": "pixel783",
         "rawType": "int64",
         "type": "integer"
        },
        {
         "name": "pixel784",
         "rawType": "int64",
         "type": "integer"
        }
       ],
       "conversionMethod": "pd.DataFrame",
       "ref": "f7b400ce-e4ab-400e-8b7c-7d15a97fe11a",
       "rows": [
        [
         "0",
         "0",
         "0",
         "0",
         "0",
         "0",
         "0",
         "0",
         "0",
         "0",
         "0",
         "0",
         "0",
         "0",
         "0",
         "0",
         "0",
         "0",
         "0",
         "0",
         "0",
         "0",
         "0",
         "0",
         "0",
         "0",
         "0",
         "0",
         "0",
         "0",
         "0",
         "0",
         "0",
         "0",
         "0",
         "0",
         "0",
         "0",
         "0",
         "0",
         "0",
         "0",
         "0",
         "0",
         "0",
         "0",
         "0",
         "0",
         "0",
         "0",
         "0",
         "0",
         "0",
         "0",
         "0",
         "0",
         "0",
         "0",
         "0",
         "0",
         "0",
         "0",
         "0",
         "0",
         "0",
         "0",
         "0",
         "0",
         "0",
         "0",
         "0",
         "0",
         "0",
         "0",
         "0",
         "0",
         "0",
         "0",
         "0",
         "0",
         "0",
         "0",
         "0",
         "0",
         "0",
         "0",
         "0",
         "0",
         "0",
         "0",
         "0",
         "0",
         "0",
         "0",
         "0",
         "0",
         "0",
         "0",
         "0",
         "0",
         "0",
         "0",
         "0",
         "0",
         "0",
         "0",
         "0",
         "0",
         "0",
         "0",
         "0",
         "0",
         "0",
         "0",
         "0",
         "0",
         "0",
         "0",
         "0",
         "0",
         "0",
         "0",
         "0",
         "0",
         "0",
         "0",
         "0",
         "0",
         "0",
         "0",
         "0",
         "3",
         "96",
         "136",
         "230",
         "255",
         "89",
         "0",
         "0",
         "0",
         "0",
         "0",
         "0",
         "0",
         "0",
         "0",
         "0",
         "0",
         "0",
         "0",
         "0",
         "0",
         "0",
         "0",
         "0",
         "0",
         "0",
         "0",
         "41",
         "165",
         "253",
         "253",
         "253",
         "253",
         "253",
         "0",
         "0",
         "0",
         "0",
         "0",
         "0",
         "0",
         "0",
         "0",
         "0",
         "0",
         "0",
         "0",
         "0",
         "0",
         "0",
         "0",
         "0",
         "0",
         "20",
         "107",
         "252",
         "253",
         "253",
         "253",
         "253",
         "253",
         "173",
         "0",
         "0",
         "0",
         "0",
         "0",
         "0",
         "0",
         "0",
         "0",
         "0",
         "0",
         "0",
         "0",
         "0",
         "0",
         "0",
         "0",
         "0",
         "55",
         "194",
         "253",
         "253",
         "253",
         "207",
         "234",
         "253",
         "253",
         "223",
         "0",
         "0",
         "0",
         "0",
         "0",
         "0",
         "0",
         "0",
         "0",
         "0",
         "0",
         "0",
         "0",
         "0",
         "0",
         "0",
         "15",
         "117",
         "243",
         "253",
         "253",
         "249",
         "96",
         "16",
         "64",
         "235",
         "253",
         "253",
         "0",
         "0",
         "0",
         "0",
         "0",
         "0",
         "0",
         "0",
         "0",
         "0",
         "0",
         "0",
         "0",
         "0",
         "0",
         "10",
         "130",
         "253",
         "253",
         "253",
         "253",
         "32",
         "0",
         "0",
         "0",
         "201",
         "253",
         "253",
         "0",
         "0",
         "0",
         "0",
         "0",
         "0",
         "0",
         "0",
         "0",
         "0",
         "0",
         "0",
         "0",
         "0",
         "6",
         "192",
         "253",
         "253",
         "252",
         "159",
         "11",
         "1",
         "0",
         "0",
         "33",
         "227",
         "253",
         "195",
         "0",
         "0",
         "0",
         "0",
         "0",
         "0",
         "0",
         "0",
         "0",
         "0",
         "0",
         "0",
         "0",
         "60",
         "197",
         "253",
         "253",
         "209",
         "78",
         "0",
         "0",
         "0",
         "0",
         "0",
         "131",
         "253",
         "253",
         "125",
         "0",
         "0",
         "0",
         "0",
         "0",
         "0",
         "0",
         "0",
         "0",
         "0",
         "0",
         "0",
         "34",
         "186",
         "253",
         "253",
         "208",
         "29",
         "0",
         "0",
         "0",
         "0",
         "0",
         "8",
         "195",
         "253",
         "253",
         "17",
         "0",
         "0",
         "0",
         "0",
         "0",
         "0",
         "0",
         "0",
         "0",
         "0",
         "0",
         "133",
         "239",
         "253",
         "253",
         "154",
         "29",
         "0",
         "0",
         "0",
         "0",
         "0",
         "14",
         "171",
         "253",
         "253",
         "206",
         "9",
         "0",
         "0",
         "0",
         "0",
         "0",
         "0",
         "0",
         "0",
         "0",
         "0",
         "42",
         "239",
         "253",
         "253",
         "249",
         "26",
         "0",
         "0",
         "0",
         "0",
         "0",
         "0",
         "0",
         "130",
         "253",
         "253",
         "176",
         "4",
         "0",
         "0",
         "0",
         "0",
         "0",
         "0",
         "0",
         "0",
         "0",
         "0",
         "153",
         "253",
         "253",
         "253",
         "148",
         "0",
         "0",
         "0",
         "0",
         "0",
         "0",
         "0",
         "0",
         "48",
         "253",
         "253",
         "190",
         "7",
         "0",
         "0",
         "0",
         "0",
         "0",
         "0",
         "0",
         "0",
         "0",
         "33",
         "246",
         "253",
         "253",
         "104",
         "12",
         "0",
         "0",
         "0",
         "0",
         "0",
         "0",
         "0",
         "80",
         "235",
         "253",
         "253",
         "110",
         "2",
         "0",
         "0",
         "0",
         "0",
         "0",
         "0",
         "0",
         "0",
         "10",
         "203",
         "253",
         "253",
         "160",
         "1",
         "0",
         "0",
         "0",
         "0",
         "0",
         "0",
         "0",
         "133",
         "251",
         "253",
         "253",
         "112",
         "1",
         "0",
         "0",
         "0",
         "0",
         "0",
         "0",
         "0",
         "0",
         "0",
         "142",
         "253",
         "253",
         "212",
         "20",
         "0",
         "0",
         "0",
         "0",
         "0",
         "0",
         "12",
         "137",
         "251",
         "253",
         "248",
         "138",
         "22",
         "0",
         "0",
         "0",
         "0",
         "0",
         "0",
         "0",
         "0",
         "0",
         "0",
         "213",
         "253",
         "253",
         "128",
         "0",
         "0",
         "0",
         "0",
         "0",
         "12",
         "84",
         "198",
         "253",
         "253",
         "248",
         "113",
         "0",
         "0",
         "0",
         "0",
         "0",
         "0",
         "0",
         "0",
         "0",
         "0",
         "0",
         "0",
         "194",
         "253",
         "253",
         "200",
         "66",
         "66",
         "66",
         "66",
         "140",
         "200",
         "253",
         "253",
         "253",
         "245",
         "62",
         "0",
         "0",
         "0",
         "0",
         "0",
         "0",
         "0",
         "0",
         "0",
         "0",
         "0",
         "0",
         "0",
         "113",
         "253",
         "253",
         "253",
         "253",
         "253",
         "253",
         "253",
         "253",
         "253",
         "253",
         "183",
         "119",
         "50",
         "0",
         "0",
         "0",
         "0",
         "0",
         "0",
         "0",
         "0",
         "0",
         "0",
         "0",
         "0",
         "0",
         "0",
         "19",
         "66",
         "253",
         "253",
         "253",
         "253",
         "253",
         "253",
         "253",
         "230",
         "117",
         "6",
         "0",
         "0",
         "0",
         "0",
         "0",
         "0",
         "0",
         "0",
         "0",
         "0",
         "0",
         "0",
         "0",
         "0",
         "0",
         "0",
         "0",
         "3",
         "97",
         "168",
         "253",
         "253",
         "253",
         "187",
         "135",
         "49",
         "0",
         "0",
         "0",
         "0",
         "0",
         "0",
         "0",
         "0",
         "0",
         "0",
         "0",
         "0",
         "0",
         "0",
         "0",
         "0",
         "0",
         "0",
         "0",
         "0",
         "0",
         "0",
         "0",
         "0",
         "0",
         "0",
         "0",
         "0",
         "0",
         "0",
         "0",
         "0",
         "0",
         "0",
         "0",
         "0",
         "0",
         "0",
         "0",
         "0",
         "0",
         "0",
         "0",
         "0",
         "0",
         "0",
         "0",
         "0",
         "0",
         "0",
         "0",
         "0",
         "0",
         "0",
         "0",
         "0",
         "0",
         "0",
         "0",
         "0",
         "0",
         "0",
         "0",
         "0",
         "0",
         "0",
         "0",
         "0",
         "0",
         "0",
         "0",
         "0",
         "0",
         "0",
         "0",
         "0",
         "0",
         "0",
         "0",
         "0",
         "0",
         "0",
         "0",
         "0",
         "0",
         "0",
         "0",
         "0",
         "0",
         "0",
         "0",
         "0",
         "0",
         "0",
         "0",
         "0",
         "0",
         "0",
         "0",
         "0",
         "0",
         "0",
         "0",
         "0",
         "0",
         "0",
         "0",
         "0",
         "0",
         "0",
         "0",
         "0",
         "0",
         "0",
         "0",
         "0",
         "0",
         "0",
         "0",
         "0",
         "0",
         "0",
         "0",
         "0",
         "0",
         "0"
        ],
        [
         "1",
         "0",
         "0",
         "0",
         "0",
         "0",
         "0",
         "0",
         "0",
         "0",
         "0",
         "0",
         "0",
         "0",
         "0",
         "0",
         "0",
         "0",
         "0",
         "0",
         "0",
         "0",
         "0",
         "0",
         "0",
         "0",
         "0",
         "0",
         "0",
         "0",
         "0",
         "0",
         "0",
         "0",
         "0",
         "0",
         "0",
         "0",
         "0",
         "0",
         "0",
         "0",
         "0",
         "0",
         "0",
         "0",
         "0",
         "0",
         "0",
         "0",
         "0",
         "0",
         "0",
         "0",
         "0",
         "0",
         "0",
         "0",
         "0",
         "0",
         "0",
         "0",
         "0",
         "0",
         "0",
         "0",
         "0",
         "0",
         "0",
         "0",
         "0",
         "0",
         "0",
         "0",
         "0",
         "0",
         "0",
         "0",
         "0",
         "0",
         "0",
         "0",
         "0",
         "0",
         "0",
         "0",
         "0",
         "0",
         "0",
         "0",
         "0",
         "0",
         "0",
         "0",
         "0",
         "0",
         "0",
         "0",
         "0",
         "0",
         "0",
         "0",
         "0",
         "3",
         "96",
         "136",
         "230",
         "255",
         "89",
         "0",
         "0",
         "0",
         "0",
         "0",
         "0",
         "0",
         "0",
         "0",
         "0",
         "0",
         "0",
         "0",
         "0",
         "0",
         "0",
         "0",
         "0",
         "0",
         "0",
         "0",
         "41",
         "165",
         "253",
         "253",
         "253",
         "253",
         "253",
         "0",
         "0",
         "0",
         "0",
         "0",
         "0",
         "0",
         "0",
         "0",
         "0",
         "0",
         "0",
         "0",
         "0",
         "0",
         "0",
         "0",
         "0",
         "0",
         "20",
         "107",
         "252",
         "253",
         "253",
         "253",
         "253",
         "253",
         "173",
         "0",
         "0",
         "0",
         "0",
         "0",
         "0",
         "0",
         "0",
         "0",
         "0",
         "0",
         "0",
         "0",
         "0",
         "0",
         "0",
         "0",
         "0",
         "55",
         "194",
         "253",
         "253",
         "253",
         "207",
         "234",
         "253",
         "253",
         "223",
         "0",
         "0",
         "0",
         "0",
         "0",
         "0",
         "0",
         "0",
         "0",
         "0",
         "0",
         "0",
         "0",
         "0",
         "0",
         "0",
         "15",
         "117",
         "243",
         "253",
         "253",
         "249",
         "96",
         "16",
         "64",
         "235",
         "253",
         "253",
         "0",
         "0",
         "0",
         "0",
         "0",
         "0",
         "0",
         "0",
         "0",
         "0",
         "0",
         "0",
         "0",
         "0",
         "0",
         "10",
         "130",
         "253",
         "253",
         "253",
         "253",
         "32",
         "0",
         "0",
         "0",
         "201",
         "253",
         "253",
         "0",
         "0",
         "0",
         "0",
         "0",
         "0",
         "0",
         "0",
         "0",
         "0",
         "0",
         "0",
         "0",
         "0",
         "6",
         "192",
         "253",
         "253",
         "252",
         "159",
         "11",
         "1",
         "0",
         "0",
         "33",
         "227",
         "253",
         "195",
         "0",
         "0",
         "0",
         "0",
         "0",
         "0",
         "0",
         "0",
         "0",
         "0",
         "0",
         "0",
         "0",
         "60",
         "197",
         "253",
         "253",
         "209",
         "78",
         "0",
         "0",
         "0",
         "0",
         "0",
         "131",
         "253",
         "253",
         "125",
         "0",
         "0",
         "0",
         "0",
         "0",
         "0",
         "0",
         "0",
         "0",
         "0",
         "0",
         "0",
         "34",
         "186",
         "253",
         "253",
         "208",
         "29",
         "0",
         "0",
         "0",
         "0",
         "0",
         "8",
         "195",
         "253",
         "253",
         "17",
         "0",
         "0",
         "0",
         "0",
         "0",
         "0",
         "0",
         "0",
         "0",
         "0",
         "0",
         "133",
         "239",
         "253",
         "253",
         "154",
         "29",
         "0",
         "0",
         "0",
         "0",
         "0",
         "14",
         "171",
         "253",
         "253",
         "206",
         "9",
         "0",
         "0",
         "0",
         "0",
         "0",
         "0",
         "0",
         "0",
         "0",
         "0",
         "42",
         "239",
         "253",
         "253",
         "249",
         "26",
         "0",
         "0",
         "0",
         "0",
         "0",
         "0",
         "0",
         "130",
         "253",
         "253",
         "176",
         "4",
         "0",
         "0",
         "0",
         "0",
         "0",
         "0",
         "0",
         "0",
         "0",
         "0",
         "153",
         "253",
         "253",
         "253",
         "148",
         "0",
         "0",
         "0",
         "0",
         "0",
         "0",
         "0",
         "0",
         "48",
         "253",
         "253",
         "190",
         "7",
         "0",
         "0",
         "0",
         "0",
         "0",
         "0",
         "0",
         "0",
         "0",
         "33",
         "246",
         "253",
         "253",
         "104",
         "12",
         "0",
         "0",
         "0",
         "0",
         "0",
         "0",
         "0",
         "80",
         "235",
         "253",
         "253",
         "110",
         "2",
         "0",
         "0",
         "0",
         "0",
         "0",
         "0",
         "0",
         "0",
         "10",
         "203",
         "253",
         "253",
         "160",
         "1",
         "0",
         "0",
         "0",
         "0",
         "0",
         "0",
         "0",
         "133",
         "251",
         "253",
         "253",
         "112",
         "1",
         "0",
         "0",
         "0",
         "0",
         "0",
         "0",
         "0",
         "0",
         "0",
         "142",
         "253",
         "253",
         "212",
         "20",
         "0",
         "0",
         "0",
         "0",
         "0",
         "0",
         "12",
         "137",
         "251",
         "253",
         "248",
         "138",
         "22",
         "0",
         "0",
         "0",
         "0",
         "0",
         "0",
         "0",
         "0",
         "0",
         "0",
         "213",
         "253",
         "253",
         "128",
         "0",
         "0",
         "0",
         "0",
         "0",
         "12",
         "84",
         "198",
         "253",
         "253",
         "248",
         "113",
         "0",
         "0",
         "0",
         "0",
         "0",
         "0",
         "0",
         "0",
         "0",
         "0",
         "0",
         "0",
         "194",
         "253",
         "253",
         "200",
         "66",
         "66",
         "66",
         "66",
         "140",
         "200",
         "253",
         "253",
         "253",
         "245",
         "62",
         "0",
         "0",
         "0",
         "0",
         "0",
         "0",
         "0",
         "0",
         "0",
         "0",
         "0",
         "0",
         "0",
         "113",
         "253",
         "253",
         "253",
         "253",
         "253",
         "253",
         "253",
         "253",
         "253",
         "253",
         "183",
         "119",
         "50",
         "0",
         "0",
         "0",
         "0",
         "0",
         "0",
         "0",
         "0",
         "0",
         "0",
         "0",
         "0",
         "0",
         "0",
         "19",
         "66",
         "253",
         "253",
         "253",
         "253",
         "253",
         "253",
         "253",
         "230",
         "117",
         "6",
         "0",
         "0",
         "0",
         "0",
         "0",
         "0",
         "0",
         "0",
         "0",
         "0",
         "0",
         "0",
         "0",
         "0",
         "0",
         "0",
         "0",
         "3",
         "97",
         "168",
         "253",
         "253",
         "253",
         "187",
         "135",
         "49",
         "0",
         "0",
         "0",
         "0",
         "0",
         "0",
         "0",
         "0",
         "0",
         "0",
         "0",
         "0",
         "0",
         "0",
         "0",
         "0",
         "0",
         "0",
         "0",
         "0",
         "0",
         "0",
         "0",
         "0",
         "0",
         "0",
         "0",
         "0",
         "0",
         "0",
         "0",
         "0",
         "0",
         "0",
         "0",
         "0",
         "0",
         "0",
         "0",
         "0",
         "0",
         "0",
         "0",
         "0",
         "0",
         "0",
         "0",
         "0",
         "0",
         "0",
         "0",
         "0",
         "0",
         "0",
         "0",
         "0",
         "0",
         "0",
         "0",
         "0",
         "0",
         "0",
         "0",
         "0",
         "0",
         "0",
         "0",
         "0",
         "0",
         "0",
         "0",
         "0",
         "0",
         "0",
         "0",
         "0",
         "0",
         "0",
         "0",
         "0",
         "0",
         "0",
         "0",
         "0",
         "0",
         "0",
         "0",
         "0",
         "0",
         "0",
         "0",
         "0",
         "0",
         "0",
         "0",
         "0",
         "0",
         "0",
         "0",
         "0",
         "0",
         "0",
         "0",
         "0",
         "0",
         "0",
         "0",
         "0",
         "0",
         "0",
         "0",
         "0",
         "0",
         "0",
         "0",
         "0",
         "0",
         "0",
         "0",
         "0",
         "0",
         "0",
         "0",
         "0",
         "0",
         "0",
         "0",
         "0",
         "0",
         "0",
         "0",
         "0",
         "0",
         "0",
         "0",
         "0",
         "0",
         "0",
         "0",
         "0",
         "0",
         "0",
         "0",
         "0",
         "0",
         "0",
         "0",
         "0",
         "0",
         "0",
         "0",
         "0",
         "0",
         "0"
        ],
        [
         "2",
         "0",
         "0",
         "0",
         "0",
         "0",
         "0",
         "0",
         "0",
         "0",
         "0",
         "0",
         "0",
         "0",
         "0",
         "0",
         "0",
         "0",
         "0",
         "0",
         "0",
         "0",
         "0",
         "0",
         "0",
         "0",
         "0",
         "0",
         "0",
         "0",
         "0",
         "0",
         "0",
         "0",
         "0",
         "0",
         "0",
         "0",
         "0",
         "0",
         "0",
         "0",
         "0",
         "0",
         "0",
         "0",
         "0",
         "0",
         "0",
         "0",
         "0",
         "0",
         "0",
         "0",
         "0",
         "0",
         "0",
         "0",
         "0",
         "0",
         "0",
         "0",
         "0",
         "0",
         "0",
         "0",
         "0",
         "0",
         "0",
         "0",
         "0",
         "0",
         "0",
         "0",
         "0",
         "0",
         "0",
         "0",
         "0",
         "0",
         "0",
         "0",
         "0",
         "0",
         "0",
         "0",
         "0",
         "0",
         "0",
         "0",
         "0",
         "0",
         "0",
         "0",
         "0",
         "0",
         "0",
         "0",
         "0",
         "0",
         "0",
         "0",
         "0",
         "0",
         "0",
         "0",
         "0",
         "0",
         "0",
         "0",
         "0",
         "0",
         "0",
         "0",
         "0",
         "0",
         "0",
         "0",
         "0",
         "0",
         "0",
         "0",
         "0",
         "0",
         "0",
         "0",
         "0",
         "0",
         "0",
         "0",
         "0",
         "0",
         "0",
         "0",
         "0",
         "0",
         "0",
         "0",
         "0",
         "0",
         "0",
         "0",
         "0",
         "0",
         "0",
         "0",
         "0",
         "0",
         "0",
         "0",
         "0",
         "0",
         "0",
         "0",
         "0",
         "0",
         "0",
         "0",
         "0",
         "3",
         "96",
         "136",
         "230",
         "255",
         "89",
         "0",
         "0",
         "0",
         "0",
         "0",
         "0",
         "0",
         "0",
         "0",
         "0",
         "0",
         "0",
         "0",
         "0",
         "0",
         "0",
         "0",
         "0",
         "0",
         "0",
         "0",
         "41",
         "165",
         "253",
         "253",
         "253",
         "253",
         "253",
         "0",
         "0",
         "0",
         "0",
         "0",
         "0",
         "0",
         "0",
         "0",
         "0",
         "0",
         "0",
         "0",
         "0",
         "0",
         "0",
         "0",
         "0",
         "0",
         "20",
         "107",
         "252",
         "253",
         "253",
         "253",
         "253",
         "253",
         "173",
         "0",
         "0",
         "0",
         "0",
         "0",
         "0",
         "0",
         "0",
         "0",
         "0",
         "0",
         "0",
         "0",
         "0",
         "0",
         "0",
         "0",
         "0",
         "55",
         "194",
         "253",
         "253",
         "253",
         "207",
         "234",
         "253",
         "253",
         "223",
         "0",
         "0",
         "0",
         "0",
         "0",
         "0",
         "0",
         "0",
         "0",
         "0",
         "0",
         "0",
         "0",
         "0",
         "0",
         "0",
         "15",
         "117",
         "243",
         "253",
         "253",
         "249",
         "96",
         "16",
         "64",
         "235",
         "253",
         "253",
         "0",
         "0",
         "0",
         "0",
         "0",
         "0",
         "0",
         "0",
         "0",
         "0",
         "0",
         "0",
         "0",
         "0",
         "0",
         "10",
         "130",
         "253",
         "253",
         "253",
         "253",
         "32",
         "0",
         "0",
         "0",
         "201",
         "253",
         "253",
         "0",
         "0",
         "0",
         "0",
         "0",
         "0",
         "0",
         "0",
         "0",
         "0",
         "0",
         "0",
         "0",
         "0",
         "6",
         "192",
         "253",
         "253",
         "252",
         "159",
         "11",
         "1",
         "0",
         "0",
         "33",
         "227",
         "253",
         "195",
         "0",
         "0",
         "0",
         "0",
         "0",
         "0",
         "0",
         "0",
         "0",
         "0",
         "0",
         "0",
         "0",
         "60",
         "197",
         "253",
         "253",
         "209",
         "78",
         "0",
         "0",
         "0",
         "0",
         "0",
         "131",
         "253",
         "253",
         "125",
         "0",
         "0",
         "0",
         "0",
         "0",
         "0",
         "0",
         "0",
         "0",
         "0",
         "0",
         "0",
         "34",
         "186",
         "253",
         "253",
         "208",
         "29",
         "0",
         "0",
         "0",
         "0",
         "0",
         "8",
         "195",
         "253",
         "253",
         "17",
         "0",
         "0",
         "0",
         "0",
         "0",
         "0",
         "0",
         "0",
         "0",
         "0",
         "0",
         "133",
         "239",
         "253",
         "253",
         "154",
         "29",
         "0",
         "0",
         "0",
         "0",
         "0",
         "14",
         "171",
         "253",
         "253",
         "206",
         "9",
         "0",
         "0",
         "0",
         "0",
         "0",
         "0",
         "0",
         "0",
         "0",
         "0",
         "42",
         "239",
         "253",
         "253",
         "249",
         "26",
         "0",
         "0",
         "0",
         "0",
         "0",
         "0",
         "0",
         "130",
         "253",
         "253",
         "176",
         "4",
         "0",
         "0",
         "0",
         "0",
         "0",
         "0",
         "0",
         "0",
         "0",
         "0",
         "153",
         "253",
         "253",
         "253",
         "148",
         "0",
         "0",
         "0",
         "0",
         "0",
         "0",
         "0",
         "0",
         "48",
         "253",
         "253",
         "190",
         "7",
         "0",
         "0",
         "0",
         "0",
         "0",
         "0",
         "0",
         "0",
         "0",
         "33",
         "246",
         "253",
         "253",
         "104",
         "12",
         "0",
         "0",
         "0",
         "0",
         "0",
         "0",
         "0",
         "80",
         "235",
         "253",
         "253",
         "110",
         "2",
         "0",
         "0",
         "0",
         "0",
         "0",
         "0",
         "0",
         "0",
         "10",
         "203",
         "253",
         "253",
         "160",
         "1",
         "0",
         "0",
         "0",
         "0",
         "0",
         "0",
         "0",
         "133",
         "251",
         "253",
         "253",
         "112",
         "1",
         "0",
         "0",
         "0",
         "0",
         "0",
         "0",
         "0",
         "0",
         "0",
         "142",
         "253",
         "253",
         "212",
         "20",
         "0",
         "0",
         "0",
         "0",
         "0",
         "0",
         "12",
         "137",
         "251",
         "253",
         "248",
         "138",
         "22",
         "0",
         "0",
         "0",
         "0",
         "0",
         "0",
         "0",
         "0",
         "0",
         "0",
         "213",
         "253",
         "253",
         "128",
         "0",
         "0",
         "0",
         "0",
         "0",
         "12",
         "84",
         "198",
         "253",
         "253",
         "248",
         "113",
         "0",
         "0",
         "0",
         "0",
         "0",
         "0",
         "0",
         "0",
         "0",
         "0",
         "0",
         "0",
         "194",
         "253",
         "253",
         "200",
         "66",
         "66",
         "66",
         "66",
         "140",
         "200",
         "253",
         "253",
         "253",
         "245",
         "62",
         "0",
         "0",
         "0",
         "0",
         "0",
         "0",
         "0",
         "0",
         "0",
         "0",
         "0",
         "0",
         "0",
         "113",
         "253",
         "253",
         "253",
         "253",
         "253",
         "253",
         "253",
         "253",
         "253",
         "253",
         "183",
         "119",
         "50",
         "0",
         "0",
         "0",
         "0",
         "0",
         "0",
         "0",
         "0",
         "0",
         "0",
         "0",
         "0",
         "0",
         "0",
         "19",
         "66",
         "253",
         "253",
         "253",
         "253",
         "253",
         "253",
         "253",
         "230",
         "117",
         "6",
         "0",
         "0",
         "0",
         "0",
         "0",
         "0",
         "0",
         "0",
         "0",
         "0",
         "0",
         "0",
         "0",
         "0",
         "0",
         "0",
         "0",
         "3",
         "97",
         "168",
         "253",
         "253",
         "253",
         "187",
         "135",
         "49",
         "0",
         "0",
         "0",
         "0",
         "0",
         "0",
         "0",
         "0",
         "0",
         "0",
         "0",
         "0",
         "0",
         "0",
         "0",
         "0",
         "0",
         "0",
         "0",
         "0",
         "0",
         "0",
         "0",
         "0",
         "0",
         "0",
         "0",
         "0",
         "0",
         "0",
         "0",
         "0",
         "0",
         "0",
         "0",
         "0",
         "0",
         "0",
         "0",
         "0",
         "0",
         "0",
         "0",
         "0",
         "0",
         "0",
         "0",
         "0",
         "0",
         "0",
         "0",
         "0",
         "0",
         "0",
         "0",
         "0",
         "0",
         "0",
         "0",
         "0",
         "0",
         "0",
         "0",
         "0",
         "0",
         "0",
         "0",
         "0",
         "0",
         "0",
         "0",
         "0",
         "0",
         "0",
         "0",
         "0",
         "0",
         "0",
         "0",
         "0",
         "0",
         "0",
         "0",
         "0",
         "0",
         "0",
         "0",
         "0",
         "0",
         "0",
         "0",
         "0",
         "0",
         "0",
         "0",
         "0",
         "0",
         "0"
        ],
        [
         "3",
         "0",
         "0",
         "0",
         "0",
         "0",
         "0",
         "0",
         "0",
         "0",
         "0",
         "0",
         "0",
         "0",
         "0",
         "0",
         "0",
         "0",
         "0",
         "0",
         "0",
         "0",
         "0",
         "0",
         "0",
         "0",
         "0",
         "0",
         "0",
         "0",
         "0",
         "0",
         "0",
         "0",
         "0",
         "0",
         "0",
         "0",
         "0",
         "0",
         "0",
         "0",
         "0",
         "0",
         "0",
         "0",
         "0",
         "0",
         "0",
         "0",
         "0",
         "0",
         "0",
         "0",
         "0",
         "0",
         "0",
         "0",
         "0",
         "0",
         "0",
         "0",
         "0",
         "0",
         "0",
         "0",
         "0",
         "0",
         "0",
         "0",
         "0",
         "0",
         "0",
         "0",
         "0",
         "0",
         "0",
         "0",
         "0",
         "0",
         "0",
         "0",
         "0",
         "0",
         "0",
         "0",
         "0",
         "0",
         "0",
         "0",
         "0",
         "0",
         "0",
         "0",
         "0",
         "0",
         "0",
         "0",
         "0",
         "0",
         "0",
         "0",
         "0",
         "0",
         "0",
         "0",
         "0",
         "0",
         "0",
         "0",
         "0",
         "0",
         "0",
         "0",
         "0",
         "0",
         "0",
         "0",
         "0",
         "0",
         "0",
         "0",
         "0",
         "0",
         "0",
         "0",
         "0",
         "0",
         "0",
         "0",
         "3",
         "96",
         "136",
         "230",
         "255",
         "89",
         "0",
         "0",
         "0",
         "0",
         "0",
         "0",
         "0",
         "0",
         "0",
         "0",
         "0",
         "0",
         "0",
         "0",
         "0",
         "0",
         "0",
         "0",
         "0",
         "0",
         "0",
         "41",
         "165",
         "253",
         "253",
         "253",
         "253",
         "253",
         "0",
         "0",
         "0",
         "0",
         "0",
         "0",
         "0",
         "0",
         "0",
         "0",
         "0",
         "0",
         "0",
         "0",
         "0",
         "0",
         "0",
         "0",
         "0",
         "20",
         "107",
         "252",
         "253",
         "253",
         "253",
         "253",
         "253",
         "173",
         "0",
         "0",
         "0",
         "0",
         "0",
         "0",
         "0",
         "0",
         "0",
         "0",
         "0",
         "0",
         "0",
         "0",
         "0",
         "0",
         "0",
         "0",
         "55",
         "194",
         "253",
         "253",
         "253",
         "207",
         "234",
         "253",
         "253",
         "223",
         "0",
         "0",
         "0",
         "0",
         "0",
         "0",
         "0",
         "0",
         "0",
         "0",
         "0",
         "0",
         "0",
         "0",
         "0",
         "0",
         "15",
         "117",
         "243",
         "253",
         "253",
         "249",
         "96",
         "16",
         "64",
         "235",
         "253",
         "253",
         "0",
         "0",
         "0",
         "0",
         "0",
         "0",
         "0",
         "0",
         "0",
         "0",
         "0",
         "0",
         "0",
         "0",
         "0",
         "10",
         "130",
         "253",
         "253",
         "253",
         "253",
         "32",
         "0",
         "0",
         "0",
         "201",
         "253",
         "253",
         "0",
         "0",
         "0",
         "0",
         "0",
         "0",
         "0",
         "0",
         "0",
         "0",
         "0",
         "0",
         "0",
         "0",
         "6",
         "192",
         "253",
         "253",
         "252",
         "159",
         "11",
         "1",
         "0",
         "0",
         "33",
         "227",
         "253",
         "195",
         "0",
         "0",
         "0",
         "0",
         "0",
         "0",
         "0",
         "0",
         "0",
         "0",
         "0",
         "0",
         "0",
         "60",
         "197",
         "253",
         "253",
         "209",
         "78",
         "0",
         "0",
         "0",
         "0",
         "0",
         "131",
         "253",
         "253",
         "125",
         "0",
         "0",
         "0",
         "0",
         "0",
         "0",
         "0",
         "0",
         "0",
         "0",
         "0",
         "0",
         "34",
         "186",
         "253",
         "253",
         "208",
         "29",
         "0",
         "0",
         "0",
         "0",
         "0",
         "8",
         "195",
         "253",
         "253",
         "17",
         "0",
         "0",
         "0",
         "0",
         "0",
         "0",
         "0",
         "0",
         "0",
         "0",
         "0",
         "133",
         "239",
         "253",
         "253",
         "154",
         "29",
         "0",
         "0",
         "0",
         "0",
         "0",
         "14",
         "171",
         "253",
         "253",
         "206",
         "9",
         "0",
         "0",
         "0",
         "0",
         "0",
         "0",
         "0",
         "0",
         "0",
         "0",
         "42",
         "239",
         "253",
         "253",
         "249",
         "26",
         "0",
         "0",
         "0",
         "0",
         "0",
         "0",
         "0",
         "130",
         "253",
         "253",
         "176",
         "4",
         "0",
         "0",
         "0",
         "0",
         "0",
         "0",
         "0",
         "0",
         "0",
         "0",
         "153",
         "253",
         "253",
         "253",
         "148",
         "0",
         "0",
         "0",
         "0",
         "0",
         "0",
         "0",
         "0",
         "48",
         "253",
         "253",
         "190",
         "7",
         "0",
         "0",
         "0",
         "0",
         "0",
         "0",
         "0",
         "0",
         "0",
         "33",
         "246",
         "253",
         "253",
         "104",
         "12",
         "0",
         "0",
         "0",
         "0",
         "0",
         "0",
         "0",
         "80",
         "235",
         "253",
         "253",
         "110",
         "2",
         "0",
         "0",
         "0",
         "0",
         "0",
         "0",
         "0",
         "0",
         "10",
         "203",
         "253",
         "253",
         "160",
         "1",
         "0",
         "0",
         "0",
         "0",
         "0",
         "0",
         "0",
         "133",
         "251",
         "253",
         "253",
         "112",
         "1",
         "0",
         "0",
         "0",
         "0",
         "0",
         "0",
         "0",
         "0",
         "0",
         "142",
         "253",
         "253",
         "212",
         "20",
         "0",
         "0",
         "0",
         "0",
         "0",
         "0",
         "12",
         "137",
         "251",
         "253",
         "248",
         "138",
         "22",
         "0",
         "0",
         "0",
         "0",
         "0",
         "0",
         "0",
         "0",
         "0",
         "0",
         "213",
         "253",
         "253",
         "128",
         "0",
         "0",
         "0",
         "0",
         "0",
         "12",
         "84",
         "198",
         "253",
         "253",
         "248",
         "113",
         "0",
         "0",
         "0",
         "0",
         "0",
         "0",
         "0",
         "0",
         "0",
         "0",
         "0",
         "0",
         "194",
         "253",
         "253",
         "200",
         "66",
         "66",
         "66",
         "66",
         "140",
         "200",
         "253",
         "253",
         "253",
         "245",
         "62",
         "0",
         "0",
         "0",
         "0",
         "0",
         "0",
         "0",
         "0",
         "0",
         "0",
         "0",
         "0",
         "0",
         "113",
         "253",
         "253",
         "253",
         "253",
         "253",
         "253",
         "253",
         "253",
         "253",
         "253",
         "183",
         "119",
         "50",
         "0",
         "0",
         "0",
         "0",
         "0",
         "0",
         "0",
         "0",
         "0",
         "0",
         "0",
         "0",
         "0",
         "0",
         "19",
         "66",
         "253",
         "253",
         "253",
         "253",
         "253",
         "253",
         "253",
         "230",
         "117",
         "6",
         "0",
         "0",
         "0",
         "0",
         "0",
         "0",
         "0",
         "0",
         "0",
         "0",
         "0",
         "0",
         "0",
         "0",
         "0",
         "0",
         "0",
         "3",
         "97",
         "168",
         "253",
         "253",
         "253",
         "187",
         "135",
         "49",
         "0",
         "0",
         "0",
         "0",
         "0",
         "0",
         "0",
         "0",
         "0",
         "0",
         "0",
         "0",
         "0",
         "0",
         "0",
         "0",
         "0",
         "0",
         "0",
         "0",
         "0",
         "0",
         "0",
         "0",
         "0",
         "0",
         "0",
         "0",
         "0",
         "0",
         "0",
         "0",
         "0",
         "0",
         "0",
         "0",
         "0",
         "0",
         "0",
         "0",
         "0",
         "0",
         "0",
         "0",
         "0",
         "0",
         "0",
         "0",
         "0",
         "0",
         "0",
         "0",
         "0",
         "0",
         "0",
         "0",
         "0",
         "0",
         "0",
         "0",
         "0",
         "0",
         "0",
         "0",
         "0",
         "0",
         "0",
         "0",
         "0",
         "0",
         "0",
         "0",
         "0",
         "0",
         "0",
         "0",
         "0",
         "0",
         "0",
         "0",
         "0",
         "0",
         "0",
         "0",
         "0",
         "0",
         "0",
         "0",
         "0",
         "0",
         "0",
         "0",
         "0",
         "0",
         "0",
         "0",
         "0",
         "0",
         "0",
         "0",
         "0",
         "0",
         "0",
         "0",
         "0",
         "0",
         "0",
         "0",
         "0",
         "0",
         "0",
         "0",
         "0",
         "0",
         "0",
         "0",
         "0",
         "0",
         "0",
         "0",
         "0",
         "0",
         "0",
         "0",
         "0",
         "0",
         "0"
        ],
        [
         "4",
         "0",
         "0",
         "0",
         "0",
         "0",
         "0",
         "0",
         "0",
         "0",
         "0",
         "0",
         "0",
         "0",
         "0",
         "0",
         "0",
         "0",
         "0",
         "0",
         "0",
         "0",
         "0",
         "0",
         "0",
         "0",
         "0",
         "0",
         "0",
         "0",
         "0",
         "0",
         "0",
         "0",
         "0",
         "0",
         "0",
         "0",
         "0",
         "0",
         "0",
         "0",
         "0",
         "0",
         "0",
         "0",
         "0",
         "0",
         "0",
         "0",
         "0",
         "0",
         "0",
         "0",
         "0",
         "0",
         "0",
         "0",
         "0",
         "0",
         "0",
         "0",
         "0",
         "0",
         "0",
         "0",
         "0",
         "0",
         "0",
         "0",
         "0",
         "0",
         "0",
         "0",
         "0",
         "0",
         "0",
         "0",
         "0",
         "0",
         "0",
         "0",
         "0",
         "0",
         "0",
         "0",
         "0",
         "0",
         "0",
         "0",
         "0",
         "0",
         "0",
         "0",
         "0",
         "0",
         "0",
         "0",
         "0",
         "0",
         "0",
         "0",
         "0",
         "0",
         "0",
         "0",
         "0",
         "0",
         "0",
         "0",
         "0",
         "0",
         "0",
         "0",
         "0",
         "0",
         "0",
         "0",
         "0",
         "0",
         "0",
         "0",
         "0",
         "0",
         "0",
         "0",
         "0",
         "0",
         "0",
         "0",
         "0",
         "0",
         "3",
         "96",
         "136",
         "230",
         "255",
         "89",
         "0",
         "0",
         "0",
         "0",
         "0",
         "0",
         "0",
         "0",
         "0",
         "0",
         "0",
         "0",
         "0",
         "0",
         "0",
         "0",
         "0",
         "0",
         "0",
         "0",
         "0",
         "41",
         "165",
         "253",
         "253",
         "253",
         "253",
         "253",
         "0",
         "0",
         "0",
         "0",
         "0",
         "0",
         "0",
         "0",
         "0",
         "0",
         "0",
         "0",
         "0",
         "0",
         "0",
         "0",
         "0",
         "0",
         "0",
         "20",
         "107",
         "252",
         "253",
         "253",
         "253",
         "253",
         "253",
         "173",
         "0",
         "0",
         "0",
         "0",
         "0",
         "0",
         "0",
         "0",
         "0",
         "0",
         "0",
         "0",
         "0",
         "0",
         "0",
         "0",
         "0",
         "0",
         "55",
         "194",
         "253",
         "253",
         "253",
         "207",
         "234",
         "253",
         "253",
         "223",
         "0",
         "0",
         "0",
         "0",
         "0",
         "0",
         "0",
         "0",
         "0",
         "0",
         "0",
         "0",
         "0",
         "0",
         "0",
         "0",
         "15",
         "117",
         "243",
         "253",
         "253",
         "249",
         "96",
         "16",
         "64",
         "235",
         "253",
         "253",
         "0",
         "0",
         "0",
         "0",
         "0",
         "0",
         "0",
         "0",
         "0",
         "0",
         "0",
         "0",
         "0",
         "0",
         "0",
         "10",
         "130",
         "253",
         "253",
         "253",
         "253",
         "32",
         "0",
         "0",
         "0",
         "201",
         "253",
         "253",
         "0",
         "0",
         "0",
         "0",
         "0",
         "0",
         "0",
         "0",
         "0",
         "0",
         "0",
         "0",
         "0",
         "0",
         "6",
         "192",
         "253",
         "253",
         "252",
         "159",
         "11",
         "1",
         "0",
         "0",
         "33",
         "227",
         "253",
         "195",
         "0",
         "0",
         "0",
         "0",
         "0",
         "0",
         "0",
         "0",
         "0",
         "0",
         "0",
         "0",
         "0",
         "60",
         "197",
         "253",
         "253",
         "209",
         "78",
         "0",
         "0",
         "0",
         "0",
         "0",
         "131",
         "253",
         "253",
         "125",
         "0",
         "0",
         "0",
         "0",
         "0",
         "0",
         "0",
         "0",
         "0",
         "0",
         "0",
         "0",
         "34",
         "186",
         "253",
         "253",
         "208",
         "29",
         "0",
         "0",
         "0",
         "0",
         "0",
         "8",
         "195",
         "253",
         "253",
         "17",
         "0",
         "0",
         "0",
         "0",
         "0",
         "0",
         "0",
         "0",
         "0",
         "0",
         "0",
         "133",
         "239",
         "253",
         "253",
         "154",
         "29",
         "0",
         "0",
         "0",
         "0",
         "0",
         "14",
         "171",
         "253",
         "253",
         "206",
         "9",
         "0",
         "0",
         "0",
         "0",
         "0",
         "0",
         "0",
         "0",
         "0",
         "0",
         "42",
         "239",
         "253",
         "253",
         "249",
         "26",
         "0",
         "0",
         "0",
         "0",
         "0",
         "0",
         "0",
         "130",
         "253",
         "253",
         "176",
         "4",
         "0",
         "0",
         "0",
         "0",
         "0",
         "0",
         "0",
         "0",
         "0",
         "0",
         "153",
         "253",
         "253",
         "253",
         "148",
         "0",
         "0",
         "0",
         "0",
         "0",
         "0",
         "0",
         "0",
         "48",
         "253",
         "253",
         "190",
         "7",
         "0",
         "0",
         "0",
         "0",
         "0",
         "0",
         "0",
         "0",
         "0",
         "33",
         "246",
         "253",
         "253",
         "104",
         "12",
         "0",
         "0",
         "0",
         "0",
         "0",
         "0",
         "0",
         "80",
         "235",
         "253",
         "253",
         "110",
         "2",
         "0",
         "0",
         "0",
         "0",
         "0",
         "0",
         "0",
         "0",
         "10",
         "203",
         "253",
         "253",
         "160",
         "1",
         "0",
         "0",
         "0",
         "0",
         "0",
         "0",
         "0",
         "133",
         "251",
         "253",
         "253",
         "112",
         "1",
         "0",
         "0",
         "0",
         "0",
         "0",
         "0",
         "0",
         "0",
         "0",
         "142",
         "253",
         "253",
         "212",
         "20",
         "0",
         "0",
         "0",
         "0",
         "0",
         "0",
         "12",
         "137",
         "251",
         "253",
         "248",
         "138",
         "22",
         "0",
         "0",
         "0",
         "0",
         "0",
         "0",
         "0",
         "0",
         "0",
         "0",
         "213",
         "253",
         "253",
         "128",
         "0",
         "0",
         "0",
         "0",
         "0",
         "12",
         "84",
         "198",
         "253",
         "253",
         "248",
         "113",
         "0",
         "0",
         "0",
         "0",
         "0",
         "0",
         "0",
         "0",
         "0",
         "0",
         "0",
         "0",
         "194",
         "253",
         "253",
         "200",
         "66",
         "66",
         "66",
         "66",
         "140",
         "200",
         "253",
         "253",
         "253",
         "245",
         "62",
         "0",
         "0",
         "0",
         "0",
         "0",
         "0",
         "0",
         "0",
         "0",
         "0",
         "0",
         "0",
         "0",
         "113",
         "253",
         "253",
         "253",
         "253",
         "253",
         "253",
         "253",
         "253",
         "253",
         "253",
         "183",
         "119",
         "50",
         "0",
         "0",
         "0",
         "0",
         "0",
         "0",
         "0",
         "0",
         "0",
         "0",
         "0",
         "0",
         "0",
         "0",
         "19",
         "66",
         "253",
         "253",
         "253",
         "253",
         "253",
         "253",
         "253",
         "230",
         "117",
         "6",
         "0",
         "0",
         "0",
         "0",
         "0",
         "0",
         "0",
         "0",
         "0",
         "0",
         "0",
         "0",
         "0",
         "0",
         "0",
         "0",
         "0",
         "3",
         "97",
         "168",
         "253",
         "253",
         "253",
         "187",
         "135",
         "49",
         "0",
         "0",
         "0",
         "0",
         "0",
         "0",
         "0",
         "0",
         "0",
         "0",
         "0",
         "0",
         "0",
         "0",
         "0",
         "0",
         "0",
         "0",
         "0",
         "0",
         "0",
         "0",
         "0",
         "0",
         "0",
         "0",
         "0",
         "0",
         "0",
         "0",
         "0",
         "0",
         "0",
         "0",
         "0",
         "0",
         "0",
         "0",
         "0",
         "0",
         "0",
         "0",
         "0",
         "0",
         "0",
         "0",
         "0",
         "0",
         "0",
         "0",
         "0",
         "0",
         "0",
         "0",
         "0",
         "0",
         "0",
         "0",
         "0",
         "0",
         "0",
         "0",
         "0",
         "0",
         "0",
         "0",
         "0",
         "0",
         "0",
         "0",
         "0",
         "0",
         "0",
         "0",
         "0",
         "0",
         "0",
         "0",
         "0",
         "0",
         "0",
         "0",
         "0",
         "0",
         "0",
         "0",
         "0",
         "0",
         "0",
         "0",
         "0",
         "0",
         "0",
         "0",
         "0",
         "0",
         "0",
         "0",
         "0",
         "0",
         "0",
         "0",
         "0",
         "0",
         "0",
         "0",
         "0",
         "0",
         "0",
         "0",
         "0",
         "0",
         "0",
         "0",
         "0",
         "0",
         "0",
         "0",
         "0",
         "0",
         "0",
         "0",
         "0",
         "0",
         "0"
        ]
       ],
       "shape": {
        "columns": 784,
        "rows": 5
       }
      },
      "text/html": [
       "<div>\n",
       "<style scoped>\n",
       "    .dataframe tbody tr th:only-of-type {\n",
       "        vertical-align: middle;\n",
       "    }\n",
       "\n",
       "    .dataframe tbody tr th {\n",
       "        vertical-align: top;\n",
       "    }\n",
       "\n",
       "    .dataframe thead th {\n",
       "        text-align: right;\n",
       "    }\n",
       "</style>\n",
       "<table border=\"1\" class=\"dataframe\">\n",
       "  <thead>\n",
       "    <tr style=\"text-align: right;\">\n",
       "      <th></th>\n",
       "      <th>pixel1</th>\n",
       "      <th>pixel2</th>\n",
       "      <th>pixel3</th>\n",
       "      <th>pixel4</th>\n",
       "      <th>pixel5</th>\n",
       "      <th>pixel6</th>\n",
       "      <th>pixel7</th>\n",
       "      <th>pixel8</th>\n",
       "      <th>pixel9</th>\n",
       "      <th>pixel10</th>\n",
       "      <th>...</th>\n",
       "      <th>pixel775</th>\n",
       "      <th>pixel776</th>\n",
       "      <th>pixel777</th>\n",
       "      <th>pixel778</th>\n",
       "      <th>pixel779</th>\n",
       "      <th>pixel780</th>\n",
       "      <th>pixel781</th>\n",
       "      <th>pixel782</th>\n",
       "      <th>pixel783</th>\n",
       "      <th>pixel784</th>\n",
       "    </tr>\n",
       "  </thead>\n",
       "  <tbody>\n",
       "    <tr>\n",
       "      <th>0</th>\n",
       "      <td>0</td>\n",
       "      <td>0</td>\n",
       "      <td>0</td>\n",
       "      <td>0</td>\n",
       "      <td>0</td>\n",
       "      <td>0</td>\n",
       "      <td>0</td>\n",
       "      <td>0</td>\n",
       "      <td>0</td>\n",
       "      <td>0</td>\n",
       "      <td>...</td>\n",
       "      <td>0</td>\n",
       "      <td>0</td>\n",
       "      <td>0</td>\n",
       "      <td>0</td>\n",
       "      <td>0</td>\n",
       "      <td>0</td>\n",
       "      <td>0</td>\n",
       "      <td>0</td>\n",
       "      <td>0</td>\n",
       "      <td>0</td>\n",
       "    </tr>\n",
       "    <tr>\n",
       "      <th>1</th>\n",
       "      <td>0</td>\n",
       "      <td>0</td>\n",
       "      <td>0</td>\n",
       "      <td>0</td>\n",
       "      <td>0</td>\n",
       "      <td>0</td>\n",
       "      <td>0</td>\n",
       "      <td>0</td>\n",
       "      <td>0</td>\n",
       "      <td>0</td>\n",
       "      <td>...</td>\n",
       "      <td>0</td>\n",
       "      <td>0</td>\n",
       "      <td>0</td>\n",
       "      <td>0</td>\n",
       "      <td>0</td>\n",
       "      <td>0</td>\n",
       "      <td>0</td>\n",
       "      <td>0</td>\n",
       "      <td>0</td>\n",
       "      <td>0</td>\n",
       "    </tr>\n",
       "    <tr>\n",
       "      <th>2</th>\n",
       "      <td>0</td>\n",
       "      <td>0</td>\n",
       "      <td>0</td>\n",
       "      <td>0</td>\n",
       "      <td>0</td>\n",
       "      <td>0</td>\n",
       "      <td>0</td>\n",
       "      <td>0</td>\n",
       "      <td>0</td>\n",
       "      <td>0</td>\n",
       "      <td>...</td>\n",
       "      <td>0</td>\n",
       "      <td>0</td>\n",
       "      <td>0</td>\n",
       "      <td>0</td>\n",
       "      <td>0</td>\n",
       "      <td>0</td>\n",
       "      <td>0</td>\n",
       "      <td>0</td>\n",
       "      <td>0</td>\n",
       "      <td>0</td>\n",
       "    </tr>\n",
       "    <tr>\n",
       "      <th>3</th>\n",
       "      <td>0</td>\n",
       "      <td>0</td>\n",
       "      <td>0</td>\n",
       "      <td>0</td>\n",
       "      <td>0</td>\n",
       "      <td>0</td>\n",
       "      <td>0</td>\n",
       "      <td>0</td>\n",
       "      <td>0</td>\n",
       "      <td>0</td>\n",
       "      <td>...</td>\n",
       "      <td>0</td>\n",
       "      <td>0</td>\n",
       "      <td>0</td>\n",
       "      <td>0</td>\n",
       "      <td>0</td>\n",
       "      <td>0</td>\n",
       "      <td>0</td>\n",
       "      <td>0</td>\n",
       "      <td>0</td>\n",
       "      <td>0</td>\n",
       "    </tr>\n",
       "    <tr>\n",
       "      <th>4</th>\n",
       "      <td>0</td>\n",
       "      <td>0</td>\n",
       "      <td>0</td>\n",
       "      <td>0</td>\n",
       "      <td>0</td>\n",
       "      <td>0</td>\n",
       "      <td>0</td>\n",
       "      <td>0</td>\n",
       "      <td>0</td>\n",
       "      <td>0</td>\n",
       "      <td>...</td>\n",
       "      <td>0</td>\n",
       "      <td>0</td>\n",
       "      <td>0</td>\n",
       "      <td>0</td>\n",
       "      <td>0</td>\n",
       "      <td>0</td>\n",
       "      <td>0</td>\n",
       "      <td>0</td>\n",
       "      <td>0</td>\n",
       "      <td>0</td>\n",
       "    </tr>\n",
       "  </tbody>\n",
       "</table>\n",
       "<p>5 rows × 784 columns</p>\n",
       "</div>"
      ],
      "text/plain": [
       "   pixel1  pixel2  pixel3  pixel4  pixel5  pixel6  pixel7  pixel8  pixel9  \\\n",
       "0       0       0       0       0       0       0       0       0       0   \n",
       "1       0       0       0       0       0       0       0       0       0   \n",
       "2       0       0       0       0       0       0       0       0       0   \n",
       "3       0       0       0       0       0       0       0       0       0   \n",
       "4       0       0       0       0       0       0       0       0       0   \n",
       "\n",
       "   pixel10  ...  pixel775  pixel776  pixel777  pixel778  pixel779  pixel780  \\\n",
       "0        0  ...         0         0         0         0         0         0   \n",
       "1        0  ...         0         0         0         0         0         0   \n",
       "2        0  ...         0         0         0         0         0         0   \n",
       "3        0  ...         0         0         0         0         0         0   \n",
       "4        0  ...         0         0         0         0         0         0   \n",
       "\n",
       "   pixel781  pixel782  pixel783  pixel784  \n",
       "0         0         0         0         0  \n",
       "1         0         0         0         0  \n",
       "2         0         0         0         0  \n",
       "3         0         0         0         0  \n",
       "4         0         0         0         0  \n",
       "\n",
       "[5 rows x 784 columns]"
      ]
     },
     "execution_count": 6,
     "metadata": {},
     "output_type": "execute_result"
    }
   ],
   "source": [
    "augmented_train_X.head()"
   ]
  },
  {
   "cell_type": "code",
   "execution_count": 7,
   "metadata": {},
   "outputs": [
    {
     "data": {
      "text/plain": [
       "(280000, 784)"
      ]
     },
     "execution_count": 7,
     "metadata": {},
     "output_type": "execute_result"
    }
   ],
   "source": [
    "augmented_train_X.shape"
   ]
  },
  {
   "cell_type": "code",
   "execution_count": 8,
   "metadata": {},
   "outputs": [
    {
     "data": {
      "text/plain": [
       "(280000, 1)"
      ]
     },
     "execution_count": 8,
     "metadata": {},
     "output_type": "execute_result"
    }
   ],
   "source": [
    "augmented_train_Y.shape"
   ]
  },
  {
   "cell_type": "code",
   "execution_count": 9,
   "metadata": {},
   "outputs": [
    {
     "data": {
      "application/vnd.microsoft.datawrangler.viewer.v0+json": {
       "columns": [
        {
         "name": "index",
         "rawType": "int64",
         "type": "integer"
        },
        {
         "name": "0",
         "rawType": "int64",
         "type": "integer"
        }
       ],
       "conversionMethod": "pd.DataFrame",
       "ref": "aafa56e0-8cb1-43a1-9301-4eeefe3936e4",
       "rows": [
        [
         "0",
         "0"
        ],
        [
         "1",
         "0"
        ],
        [
         "2",
         "0"
        ],
        [
         "3",
         "0"
        ],
        [
         "4",
         "0"
        ]
       ],
       "shape": {
        "columns": 1,
        "rows": 5
       }
      },
      "text/html": [
       "<div>\n",
       "<style scoped>\n",
       "    .dataframe tbody tr th:only-of-type {\n",
       "        vertical-align: middle;\n",
       "    }\n",
       "\n",
       "    .dataframe tbody tr th {\n",
       "        vertical-align: top;\n",
       "    }\n",
       "\n",
       "    .dataframe thead th {\n",
       "        text-align: right;\n",
       "    }\n",
       "</style>\n",
       "<table border=\"1\" class=\"dataframe\">\n",
       "  <thead>\n",
       "    <tr style=\"text-align: right;\">\n",
       "      <th></th>\n",
       "      <th>0</th>\n",
       "    </tr>\n",
       "  </thead>\n",
       "  <tbody>\n",
       "    <tr>\n",
       "      <th>0</th>\n",
       "      <td>0</td>\n",
       "    </tr>\n",
       "    <tr>\n",
       "      <th>1</th>\n",
       "      <td>0</td>\n",
       "    </tr>\n",
       "    <tr>\n",
       "      <th>2</th>\n",
       "      <td>0</td>\n",
       "    </tr>\n",
       "    <tr>\n",
       "      <th>3</th>\n",
       "      <td>0</td>\n",
       "    </tr>\n",
       "    <tr>\n",
       "      <th>4</th>\n",
       "      <td>0</td>\n",
       "    </tr>\n",
       "  </tbody>\n",
       "</table>\n",
       "</div>"
      ],
      "text/plain": [
       "   0\n",
       "0  0\n",
       "1  0\n",
       "2  0\n",
       "3  0\n",
       "4  0"
      ]
     },
     "execution_count": 9,
     "metadata": {},
     "output_type": "execute_result"
    }
   ],
   "source": [
    "augmented_train_Y.head()"
   ]
  },
  {
   "cell_type": "markdown",
   "metadata": {},
   "source": [
    "## Randomized GridSearchCV"
   ]
  },
  {
   "cell_type": "code",
   "execution_count": 10,
   "metadata": {},
   "outputs": [
    {
     "name": "stdout",
     "output_type": "stream",
     "text": [
      "Intializing SVC...\n",
      "Creating pipeline...\n"
     ]
    }
   ],
   "source": [
    "print(\"Intializing SVC...\")\n",
    "svc = SVC(random_state=42) \n",
    "\n",
    "# create pipeline\n",
    "\n",
    "print(\"Creating pipeline...\")\n",
    "svc_pipeline = Pipeline([\n",
    "    (\"scaler\", MinMaxScaler()),\n",
    "    (\"svc\", svc)\n",
    "], verbose=True)\n",
    "\n",
    "\n",
    "## randomized grid search params\n",
    "param_distributions = {\n",
    "    'svc__C': loguniform(10, 1000),\n",
    "    'svc__gamma': loguniform(1e-4, 1e1),\n",
    "    'svc__kernel': ['rbf', 'poly']\n",
    "}\n",
    "\n",
    "random_search = RandomizedSearchCV(svc_pipeline, param_distributions, n_iter=10, cv=3, scoring=\"f1_weighted\", n_jobs=-1, verbose=1)\n"
   ]
  },
  {
   "cell_type": "code",
   "execution_count": 11,
   "metadata": {},
   "outputs": [],
   "source": [
    "# random_search.fit(augmented_train_X, augmented_train_Y)"
   ]
  },
  {
   "cell_type": "markdown",
   "metadata": {},
   "source": [
    "* So it looks like training doesn't convert for 3+ hours, so will drop it for now and just try and train the model on best params"
   ]
  },
  {
   "cell_type": "markdown",
   "metadata": {},
   "source": [
    "## Training Using Best Params"
   ]
  },
  {
   "cell_type": "code",
   "execution_count": 12,
   "metadata": {},
   "outputs": [
    {
     "name": "stdout",
     "output_type": "stream",
     "text": [
      "Intializing SVC...\n",
      "Creating pipeline...\n"
     ]
    }
   ],
   "source": [
    "print(\"Intializing SVC...\")\n",
    "# Best Parameters: {'svc__C': 10, 'svc__gamma': 'scale', 'svc__kernel': 'rbf'}\n",
    "svc = SVC(C=10, gamma=\"scale\", kernel=\"rbf\", random_state=42)\n",
    "\n",
    "# create pipeline\n",
    "\n",
    "print(\"Creating pipeline...\")\n",
    "svc_pipeline = Pipeline([\n",
    "    (\"scaler\", MinMaxScaler()),\n",
    "    (\"svc\", svc)\n",
    "], verbose=True)"
   ]
  },
  {
   "cell_type": "code",
   "execution_count": 13,
   "metadata": {},
   "outputs": [
    {
     "name": "stdout",
     "output_type": "stream",
     "text": [
      "[Pipeline] ............ (step 1 of 2) Processing scaler, total=   1.8s\n",
      "[Pipeline] ............... (step 2 of 2) Processing svc, total=78.6min\n"
     ]
    },
    {
     "data": {
      "text/html": [
       "<style>#sk-container-id-1 {\n",
       "  /* Definition of color scheme common for light and dark mode */\n",
       "  --sklearn-color-text: black;\n",
       "  --sklearn-color-line: gray;\n",
       "  /* Definition of color scheme for unfitted estimators */\n",
       "  --sklearn-color-unfitted-level-0: #fff5e6;\n",
       "  --sklearn-color-unfitted-level-1: #f6e4d2;\n",
       "  --sklearn-color-unfitted-level-2: #ffe0b3;\n",
       "  --sklearn-color-unfitted-level-3: chocolate;\n",
       "  /* Definition of color scheme for fitted estimators */\n",
       "  --sklearn-color-fitted-level-0: #f0f8ff;\n",
       "  --sklearn-color-fitted-level-1: #d4ebff;\n",
       "  --sklearn-color-fitted-level-2: #b3dbfd;\n",
       "  --sklearn-color-fitted-level-3: cornflowerblue;\n",
       "\n",
       "  /* Specific color for light theme */\n",
       "  --sklearn-color-text-on-default-background: var(--sg-text-color, var(--theme-code-foreground, var(--jp-content-font-color1, black)));\n",
       "  --sklearn-color-background: var(--sg-background-color, var(--theme-background, var(--jp-layout-color0, white)));\n",
       "  --sklearn-color-border-box: var(--sg-text-color, var(--theme-code-foreground, var(--jp-content-font-color1, black)));\n",
       "  --sklearn-color-icon: #696969;\n",
       "\n",
       "  @media (prefers-color-scheme: dark) {\n",
       "    /* Redefinition of color scheme for dark theme */\n",
       "    --sklearn-color-text-on-default-background: var(--sg-text-color, var(--theme-code-foreground, var(--jp-content-font-color1, white)));\n",
       "    --sklearn-color-background: var(--sg-background-color, var(--theme-background, var(--jp-layout-color0, #111)));\n",
       "    --sklearn-color-border-box: var(--sg-text-color, var(--theme-code-foreground, var(--jp-content-font-color1, white)));\n",
       "    --sklearn-color-icon: #878787;\n",
       "  }\n",
       "}\n",
       "\n",
       "#sk-container-id-1 {\n",
       "  color: var(--sklearn-color-text);\n",
       "}\n",
       "\n",
       "#sk-container-id-1 pre {\n",
       "  padding: 0;\n",
       "}\n",
       "\n",
       "#sk-container-id-1 input.sk-hidden--visually {\n",
       "  border: 0;\n",
       "  clip: rect(1px 1px 1px 1px);\n",
       "  clip: rect(1px, 1px, 1px, 1px);\n",
       "  height: 1px;\n",
       "  margin: -1px;\n",
       "  overflow: hidden;\n",
       "  padding: 0;\n",
       "  position: absolute;\n",
       "  width: 1px;\n",
       "}\n",
       "\n",
       "#sk-container-id-1 div.sk-dashed-wrapped {\n",
       "  border: 1px dashed var(--sklearn-color-line);\n",
       "  margin: 0 0.4em 0.5em 0.4em;\n",
       "  box-sizing: border-box;\n",
       "  padding-bottom: 0.4em;\n",
       "  background-color: var(--sklearn-color-background);\n",
       "}\n",
       "\n",
       "#sk-container-id-1 div.sk-container {\n",
       "  /* jupyter's `normalize.less` sets `[hidden] { display: none; }`\n",
       "     but bootstrap.min.css set `[hidden] { display: none !important; }`\n",
       "     so we also need the `!important` here to be able to override the\n",
       "     default hidden behavior on the sphinx rendered scikit-learn.org.\n",
       "     See: https://github.com/scikit-learn/scikit-learn/issues/21755 */\n",
       "  display: inline-block !important;\n",
       "  position: relative;\n",
       "}\n",
       "\n",
       "#sk-container-id-1 div.sk-text-repr-fallback {\n",
       "  display: none;\n",
       "}\n",
       "\n",
       "div.sk-parallel-item,\n",
       "div.sk-serial,\n",
       "div.sk-item {\n",
       "  /* draw centered vertical line to link estimators */\n",
       "  background-image: linear-gradient(var(--sklearn-color-text-on-default-background), var(--sklearn-color-text-on-default-background));\n",
       "  background-size: 2px 100%;\n",
       "  background-repeat: no-repeat;\n",
       "  background-position: center center;\n",
       "}\n",
       "\n",
       "/* Parallel-specific style estimator block */\n",
       "\n",
       "#sk-container-id-1 div.sk-parallel-item::after {\n",
       "  content: \"\";\n",
       "  width: 100%;\n",
       "  border-bottom: 2px solid var(--sklearn-color-text-on-default-background);\n",
       "  flex-grow: 1;\n",
       "}\n",
       "\n",
       "#sk-container-id-1 div.sk-parallel {\n",
       "  display: flex;\n",
       "  align-items: stretch;\n",
       "  justify-content: center;\n",
       "  background-color: var(--sklearn-color-background);\n",
       "  position: relative;\n",
       "}\n",
       "\n",
       "#sk-container-id-1 div.sk-parallel-item {\n",
       "  display: flex;\n",
       "  flex-direction: column;\n",
       "}\n",
       "\n",
       "#sk-container-id-1 div.sk-parallel-item:first-child::after {\n",
       "  align-self: flex-end;\n",
       "  width: 50%;\n",
       "}\n",
       "\n",
       "#sk-container-id-1 div.sk-parallel-item:last-child::after {\n",
       "  align-self: flex-start;\n",
       "  width: 50%;\n",
       "}\n",
       "\n",
       "#sk-container-id-1 div.sk-parallel-item:only-child::after {\n",
       "  width: 0;\n",
       "}\n",
       "\n",
       "/* Serial-specific style estimator block */\n",
       "\n",
       "#sk-container-id-1 div.sk-serial {\n",
       "  display: flex;\n",
       "  flex-direction: column;\n",
       "  align-items: center;\n",
       "  background-color: var(--sklearn-color-background);\n",
       "  padding-right: 1em;\n",
       "  padding-left: 1em;\n",
       "}\n",
       "\n",
       "\n",
       "/* Toggleable style: style used for estimator/Pipeline/ColumnTransformer box that is\n",
       "clickable and can be expanded/collapsed.\n",
       "- Pipeline and ColumnTransformer use this feature and define the default style\n",
       "- Estimators will overwrite some part of the style using the `sk-estimator` class\n",
       "*/\n",
       "\n",
       "/* Pipeline and ColumnTransformer style (default) */\n",
       "\n",
       "#sk-container-id-1 div.sk-toggleable {\n",
       "  /* Default theme specific background. It is overwritten whether we have a\n",
       "  specific estimator or a Pipeline/ColumnTransformer */\n",
       "  background-color: var(--sklearn-color-background);\n",
       "}\n",
       "\n",
       "/* Toggleable label */\n",
       "#sk-container-id-1 label.sk-toggleable__label {\n",
       "  cursor: pointer;\n",
       "  display: block;\n",
       "  width: 100%;\n",
       "  margin-bottom: 0;\n",
       "  padding: 0.5em;\n",
       "  box-sizing: border-box;\n",
       "  text-align: center;\n",
       "}\n",
       "\n",
       "#sk-container-id-1 label.sk-toggleable__label-arrow:before {\n",
       "  /* Arrow on the left of the label */\n",
       "  content: \"▸\";\n",
       "  float: left;\n",
       "  margin-right: 0.25em;\n",
       "  color: var(--sklearn-color-icon);\n",
       "}\n",
       "\n",
       "#sk-container-id-1 label.sk-toggleable__label-arrow:hover:before {\n",
       "  color: var(--sklearn-color-text);\n",
       "}\n",
       "\n",
       "/* Toggleable content - dropdown */\n",
       "\n",
       "#sk-container-id-1 div.sk-toggleable__content {\n",
       "  max-height: 0;\n",
       "  max-width: 0;\n",
       "  overflow: hidden;\n",
       "  text-align: left;\n",
       "  /* unfitted */\n",
       "  background-color: var(--sklearn-color-unfitted-level-0);\n",
       "}\n",
       "\n",
       "#sk-container-id-1 div.sk-toggleable__content.fitted {\n",
       "  /* fitted */\n",
       "  background-color: var(--sklearn-color-fitted-level-0);\n",
       "}\n",
       "\n",
       "#sk-container-id-1 div.sk-toggleable__content pre {\n",
       "  margin: 0.2em;\n",
       "  border-radius: 0.25em;\n",
       "  color: var(--sklearn-color-text);\n",
       "  /* unfitted */\n",
       "  background-color: var(--sklearn-color-unfitted-level-0);\n",
       "}\n",
       "\n",
       "#sk-container-id-1 div.sk-toggleable__content.fitted pre {\n",
       "  /* unfitted */\n",
       "  background-color: var(--sklearn-color-fitted-level-0);\n",
       "}\n",
       "\n",
       "#sk-container-id-1 input.sk-toggleable__control:checked~div.sk-toggleable__content {\n",
       "  /* Expand drop-down */\n",
       "  max-height: 200px;\n",
       "  max-width: 100%;\n",
       "  overflow: auto;\n",
       "}\n",
       "\n",
       "#sk-container-id-1 input.sk-toggleable__control:checked~label.sk-toggleable__label-arrow:before {\n",
       "  content: \"▾\";\n",
       "}\n",
       "\n",
       "/* Pipeline/ColumnTransformer-specific style */\n",
       "\n",
       "#sk-container-id-1 div.sk-label input.sk-toggleable__control:checked~label.sk-toggleable__label {\n",
       "  color: var(--sklearn-color-text);\n",
       "  background-color: var(--sklearn-color-unfitted-level-2);\n",
       "}\n",
       "\n",
       "#sk-container-id-1 div.sk-label.fitted input.sk-toggleable__control:checked~label.sk-toggleable__label {\n",
       "  background-color: var(--sklearn-color-fitted-level-2);\n",
       "}\n",
       "\n",
       "/* Estimator-specific style */\n",
       "\n",
       "/* Colorize estimator box */\n",
       "#sk-container-id-1 div.sk-estimator input.sk-toggleable__control:checked~label.sk-toggleable__label {\n",
       "  /* unfitted */\n",
       "  background-color: var(--sklearn-color-unfitted-level-2);\n",
       "}\n",
       "\n",
       "#sk-container-id-1 div.sk-estimator.fitted input.sk-toggleable__control:checked~label.sk-toggleable__label {\n",
       "  /* fitted */\n",
       "  background-color: var(--sklearn-color-fitted-level-2);\n",
       "}\n",
       "\n",
       "#sk-container-id-1 div.sk-label label.sk-toggleable__label,\n",
       "#sk-container-id-1 div.sk-label label {\n",
       "  /* The background is the default theme color */\n",
       "  color: var(--sklearn-color-text-on-default-background);\n",
       "}\n",
       "\n",
       "/* On hover, darken the color of the background */\n",
       "#sk-container-id-1 div.sk-label:hover label.sk-toggleable__label {\n",
       "  color: var(--sklearn-color-text);\n",
       "  background-color: var(--sklearn-color-unfitted-level-2);\n",
       "}\n",
       "\n",
       "/* Label box, darken color on hover, fitted */\n",
       "#sk-container-id-1 div.sk-label.fitted:hover label.sk-toggleable__label.fitted {\n",
       "  color: var(--sklearn-color-text);\n",
       "  background-color: var(--sklearn-color-fitted-level-2);\n",
       "}\n",
       "\n",
       "/* Estimator label */\n",
       "\n",
       "#sk-container-id-1 div.sk-label label {\n",
       "  font-family: monospace;\n",
       "  font-weight: bold;\n",
       "  display: inline-block;\n",
       "  line-height: 1.2em;\n",
       "}\n",
       "\n",
       "#sk-container-id-1 div.sk-label-container {\n",
       "  text-align: center;\n",
       "}\n",
       "\n",
       "/* Estimator-specific */\n",
       "#sk-container-id-1 div.sk-estimator {\n",
       "  font-family: monospace;\n",
       "  border: 1px dotted var(--sklearn-color-border-box);\n",
       "  border-radius: 0.25em;\n",
       "  box-sizing: border-box;\n",
       "  margin-bottom: 0.5em;\n",
       "  /* unfitted */\n",
       "  background-color: var(--sklearn-color-unfitted-level-0);\n",
       "}\n",
       "\n",
       "#sk-container-id-1 div.sk-estimator.fitted {\n",
       "  /* fitted */\n",
       "  background-color: var(--sklearn-color-fitted-level-0);\n",
       "}\n",
       "\n",
       "/* on hover */\n",
       "#sk-container-id-1 div.sk-estimator:hover {\n",
       "  /* unfitted */\n",
       "  background-color: var(--sklearn-color-unfitted-level-2);\n",
       "}\n",
       "\n",
       "#sk-container-id-1 div.sk-estimator.fitted:hover {\n",
       "  /* fitted */\n",
       "  background-color: var(--sklearn-color-fitted-level-2);\n",
       "}\n",
       "\n",
       "/* Specification for estimator info (e.g. \"i\" and \"?\") */\n",
       "\n",
       "/* Common style for \"i\" and \"?\" */\n",
       "\n",
       ".sk-estimator-doc-link,\n",
       "a:link.sk-estimator-doc-link,\n",
       "a:visited.sk-estimator-doc-link {\n",
       "  float: right;\n",
       "  font-size: smaller;\n",
       "  line-height: 1em;\n",
       "  font-family: monospace;\n",
       "  background-color: var(--sklearn-color-background);\n",
       "  border-radius: 1em;\n",
       "  height: 1em;\n",
       "  width: 1em;\n",
       "  text-decoration: none !important;\n",
       "  margin-left: 1ex;\n",
       "  /* unfitted */\n",
       "  border: var(--sklearn-color-unfitted-level-1) 1pt solid;\n",
       "  color: var(--sklearn-color-unfitted-level-1);\n",
       "}\n",
       "\n",
       ".sk-estimator-doc-link.fitted,\n",
       "a:link.sk-estimator-doc-link.fitted,\n",
       "a:visited.sk-estimator-doc-link.fitted {\n",
       "  /* fitted */\n",
       "  border: var(--sklearn-color-fitted-level-1) 1pt solid;\n",
       "  color: var(--sklearn-color-fitted-level-1);\n",
       "}\n",
       "\n",
       "/* On hover */\n",
       "div.sk-estimator:hover .sk-estimator-doc-link:hover,\n",
       ".sk-estimator-doc-link:hover,\n",
       "div.sk-label-container:hover .sk-estimator-doc-link:hover,\n",
       ".sk-estimator-doc-link:hover {\n",
       "  /* unfitted */\n",
       "  background-color: var(--sklearn-color-unfitted-level-3);\n",
       "  color: var(--sklearn-color-background);\n",
       "  text-decoration: none;\n",
       "}\n",
       "\n",
       "div.sk-estimator.fitted:hover .sk-estimator-doc-link.fitted:hover,\n",
       ".sk-estimator-doc-link.fitted:hover,\n",
       "div.sk-label-container:hover .sk-estimator-doc-link.fitted:hover,\n",
       ".sk-estimator-doc-link.fitted:hover {\n",
       "  /* fitted */\n",
       "  background-color: var(--sklearn-color-fitted-level-3);\n",
       "  color: var(--sklearn-color-background);\n",
       "  text-decoration: none;\n",
       "}\n",
       "\n",
       "/* Span, style for the box shown on hovering the info icon */\n",
       ".sk-estimator-doc-link span {\n",
       "  display: none;\n",
       "  z-index: 9999;\n",
       "  position: relative;\n",
       "  font-weight: normal;\n",
       "  right: .2ex;\n",
       "  padding: .5ex;\n",
       "  margin: .5ex;\n",
       "  width: min-content;\n",
       "  min-width: 20ex;\n",
       "  max-width: 50ex;\n",
       "  color: var(--sklearn-color-text);\n",
       "  box-shadow: 2pt 2pt 4pt #999;\n",
       "  /* unfitted */\n",
       "  background: var(--sklearn-color-unfitted-level-0);\n",
       "  border: .5pt solid var(--sklearn-color-unfitted-level-3);\n",
       "}\n",
       "\n",
       ".sk-estimator-doc-link.fitted span {\n",
       "  /* fitted */\n",
       "  background: var(--sklearn-color-fitted-level-0);\n",
       "  border: var(--sklearn-color-fitted-level-3);\n",
       "}\n",
       "\n",
       ".sk-estimator-doc-link:hover span {\n",
       "  display: block;\n",
       "}\n",
       "\n",
       "/* \"?\"-specific style due to the `<a>` HTML tag */\n",
       "\n",
       "#sk-container-id-1 a.estimator_doc_link {\n",
       "  float: right;\n",
       "  font-size: 1rem;\n",
       "  line-height: 1em;\n",
       "  font-family: monospace;\n",
       "  background-color: var(--sklearn-color-background);\n",
       "  border-radius: 1rem;\n",
       "  height: 1rem;\n",
       "  width: 1rem;\n",
       "  text-decoration: none;\n",
       "  /* unfitted */\n",
       "  color: var(--sklearn-color-unfitted-level-1);\n",
       "  border: var(--sklearn-color-unfitted-level-1) 1pt solid;\n",
       "}\n",
       "\n",
       "#sk-container-id-1 a.estimator_doc_link.fitted {\n",
       "  /* fitted */\n",
       "  border: var(--sklearn-color-fitted-level-1) 1pt solid;\n",
       "  color: var(--sklearn-color-fitted-level-1);\n",
       "}\n",
       "\n",
       "/* On hover */\n",
       "#sk-container-id-1 a.estimator_doc_link:hover {\n",
       "  /* unfitted */\n",
       "  background-color: var(--sklearn-color-unfitted-level-3);\n",
       "  color: var(--sklearn-color-background);\n",
       "  text-decoration: none;\n",
       "}\n",
       "\n",
       "#sk-container-id-1 a.estimator_doc_link.fitted:hover {\n",
       "  /* fitted */\n",
       "  background-color: var(--sklearn-color-fitted-level-3);\n",
       "}\n",
       "</style><div id=\"sk-container-id-1\" class=\"sk-top-container\"><div class=\"sk-text-repr-fallback\"><pre>Pipeline(steps=[(&#x27;scaler&#x27;, MinMaxScaler()),\n",
       "                (&#x27;svc&#x27;, SVC(C=10, random_state=42))],\n",
       "         verbose=True)</pre><b>In a Jupyter environment, please rerun this cell to show the HTML representation or trust the notebook. <br />On GitHub, the HTML representation is unable to render, please try loading this page with nbviewer.org.</b></div><div class=\"sk-container\" hidden><div class=\"sk-item sk-dashed-wrapped\"><div class=\"sk-label-container\"><div class=\"sk-label fitted sk-toggleable\"><input class=\"sk-toggleable__control sk-hidden--visually\" id=\"sk-estimator-id-1\" type=\"checkbox\" ><label for=\"sk-estimator-id-1\" class=\"sk-toggleable__label fitted sk-toggleable__label-arrow fitted\">&nbsp;&nbsp;Pipeline<a class=\"sk-estimator-doc-link fitted\" rel=\"noreferrer\" target=\"_blank\" href=\"https://scikit-learn.org/1.5/modules/generated/sklearn.pipeline.Pipeline.html\">?<span>Documentation for Pipeline</span></a><span class=\"sk-estimator-doc-link fitted\">i<span>Fitted</span></span></label><div class=\"sk-toggleable__content fitted\"><pre>Pipeline(steps=[(&#x27;scaler&#x27;, MinMaxScaler()),\n",
       "                (&#x27;svc&#x27;, SVC(C=10, random_state=42))],\n",
       "         verbose=True)</pre></div> </div></div><div class=\"sk-serial\"><div class=\"sk-item\"><div class=\"sk-estimator fitted sk-toggleable\"><input class=\"sk-toggleable__control sk-hidden--visually\" id=\"sk-estimator-id-2\" type=\"checkbox\" ><label for=\"sk-estimator-id-2\" class=\"sk-toggleable__label fitted sk-toggleable__label-arrow fitted\">&nbsp;MinMaxScaler<a class=\"sk-estimator-doc-link fitted\" rel=\"noreferrer\" target=\"_blank\" href=\"https://scikit-learn.org/1.5/modules/generated/sklearn.preprocessing.MinMaxScaler.html\">?<span>Documentation for MinMaxScaler</span></a></label><div class=\"sk-toggleable__content fitted\"><pre>MinMaxScaler()</pre></div> </div></div><div class=\"sk-item\"><div class=\"sk-estimator fitted sk-toggleable\"><input class=\"sk-toggleable__control sk-hidden--visually\" id=\"sk-estimator-id-3\" type=\"checkbox\" ><label for=\"sk-estimator-id-3\" class=\"sk-toggleable__label fitted sk-toggleable__label-arrow fitted\">&nbsp;SVC<a class=\"sk-estimator-doc-link fitted\" rel=\"noreferrer\" target=\"_blank\" href=\"https://scikit-learn.org/1.5/modules/generated/sklearn.svm.SVC.html\">?<span>Documentation for SVC</span></a></label><div class=\"sk-toggleable__content fitted\"><pre>SVC(C=10, random_state=42)</pre></div> </div></div></div></div></div></div>"
      ],
      "text/plain": [
       "Pipeline(steps=[('scaler', MinMaxScaler()),\n",
       "                ('svc', SVC(C=10, random_state=42))],\n",
       "         verbose=True)"
      ]
     },
     "execution_count": 13,
     "metadata": {},
     "output_type": "execute_result"
    }
   ],
   "source": [
    "svc_pipeline.fit(augmented_train_X, augmented_train_Y.values.ravel())"
   ]
  },
  {
   "cell_type": "markdown",
   "metadata": {},
   "source": [
    "* So it took ~80 mins to converge but we were finally able to train the model\n",
    "* Lets verify this on test data and see"
   ]
  },
  {
   "cell_type": "code",
   "execution_count": 32,
   "metadata": {},
   "outputs": [
    {
     "data": {
      "text/plain": [
       "['../models/svc_augmented_data_v1.joblib']"
      ]
     },
     "execution_count": 32,
     "metadata": {},
     "output_type": "execute_result"
    }
   ],
   "source": [
    "## save model\n",
    "joblib.dump(svc_pipeline, Path(\"..\", \"models\", \"svc_augmented_data_v1.joblib\"))"
   ]
  },
  {
   "cell_type": "code",
   "execution_count": 14,
   "metadata": {},
   "outputs": [],
   "source": [
    "## split test features and target into separate dataset\n",
    "test_X = mnist_test_set.drop(\"class\", axis=1)\n",
    "test_Y = mnist_test_set[\"class\"]"
   ]
  },
  {
   "cell_type": "code",
   "execution_count": 19,
   "metadata": {},
   "outputs": [],
   "source": [
    "predictions = svc_pipeline.predict(test_X)"
   ]
  },
  {
   "cell_type": "code",
   "execution_count": 22,
   "metadata": {},
   "outputs": [
    {
     "data": {
      "text/plain": [
       "array([7, 3, 1, ..., 6, 2, 8])"
      ]
     },
     "execution_count": 22,
     "metadata": {},
     "output_type": "execute_result"
    }
   ],
   "source": [
    "predictions"
   ]
  },
  {
   "cell_type": "code",
   "execution_count": 23,
   "metadata": {},
   "outputs": [
    {
     "data": {
      "text/plain": [
       "<sklearn.metrics._plot.confusion_matrix.ConfusionMatrixDisplay at 0x37718c950>"
      ]
     },
     "execution_count": 23,
     "metadata": {},
     "output_type": "execute_result"
    },
    {
     "data": {
      "image/png": "[encoded data removed]",
      "text/plain": [
       "<Figure size 640x480 with 2 Axes>"
      ]
     },
     "metadata": {},
     "output_type": "display_data"
    }
   ],
   "source": [
    "## lets check confusion matrix\n",
    "ConfusionMatrixDisplay.from_predictions(test_Y, predictions, normalize=\"true\", values_format=\".0%\")"
   ]
  },
  {
   "cell_type": "markdown",
   "metadata": {},
   "source": [
    "Observations\n",
    "* From the confusion matrix, it looks like model is a lot better at predictions than previous models. \n",
    "* But to confirm that we'll need to look at other metrics, without probabilities we won't be able to calculate roc score, but we can look at other metrics to make a more educated decision"
   ]
  },
  {
   "cell_type": "code",
   "execution_count": 24,
   "metadata": {},
   "outputs": [],
   "source": [
    "# Compute metrics\n",
    "accuracy = accuracy_score(test_Y, predictions)\n",
    "weighted_f1 = f1_score(test_Y, predictions, average='weighted')\n",
    "# Compute per-class F1 scores\n",
    "per_class_f1_scores = f1_score(test_Y, predictions, average=None)\n",
    "per_class_f1_dict = {f\"Class_{i}\": score for i, score in enumerate(per_class_f1_scores)}"
   ]
  },
  {
   "cell_type": "code",
   "execution_count": 25,
   "metadata": {},
   "outputs": [
    {
     "name": "stdout",
     "output_type": "stream",
     "text": [
      "Accuracy: 0.9897142857142858\n",
      "Weighted F1: 0.9897128878139033\n",
      "Per-class F1: {'Class_0': 0.9953085528690003, 'Class_1': 0.993015873015873, 'Class_2': 0.9881847475832438, 'Class_3': 0.9898209898209899, 'Class_4': 0.9882697947214076, 'Class_5': 0.9876935291782454, 'Class_6': 0.9909321726514327, 'Class_7': 0.988009592326139, 'Class_8': 0.9911958914159942, 'Class_9': 0.9842180774748924}\n"
     ]
    }
   ],
   "source": [
    "## print the metrics\n",
    "print(f\"Accuracy: {accuracy}\")\n",
    "print(f\"Weighted F1: {weighted_f1}\")\n",
    "print(f\"Per-class F1: {per_class_f1_dict}\")\n",
    "\n"
   ]
  },
  {
   "cell_type": "markdown",
   "metadata": {},
   "source": [
    "Observations:\n",
    "* So the improvement in `Accuracy` and `Weighted F1` is not significant, best score in non augmented data was `0.981679` and with augmented data its `0.98971`. But per-class F1 scores show a lot of improvements. \n",
    "* Lets update the metrics csv and create some visualizations to get better idea. \n",
    "\n"
   ]
  },
  {
   "cell_type": "code",
   "execution_count": 39,
   "metadata": {},
   "outputs": [
    {
     "data": {
      "application/vnd.microsoft.datawrangler.viewer.v0+json": {
       "columns": [
        {
         "name": "index",
         "rawType": "int64",
         "type": "integer"
        },
        {
         "name": "Algorithm",
         "rawType": "object",
         "type": "string"
        },
        {
         "name": "Method",
         "rawType": "object",
         "type": "string"
        },
        {
         "name": "File Name",
         "rawType": "object",
         "type": "string"
        },
        {
         "name": "Accuracy",
         "rawType": "float64",
         "type": "float"
        },
        {
         "name": "Weighted F1 Score",
         "rawType": "float64",
         "type": "float"
        },
        {
         "name": "ROC AUC Score",
         "rawType": "float64",
         "type": "float"
        },
        {
         "name": "Class_0",
         "rawType": "float64",
         "type": "float"
        },
        {
         "name": "Class_1",
         "rawType": "float64",
         "type": "float"
        },
        {
         "name": "Class_2",
         "rawType": "float64",
         "type": "float"
        },
        {
         "name": "Class_3",
         "rawType": "float64",
         "type": "float"
        },
        {
         "name": "Class_4",
         "rawType": "float64",
         "type": "float"
        },
        {
         "name": "Class_5",
         "rawType": "float64",
         "type": "float"
        },
        {
         "name": "Class_6",
         "rawType": "float64",
         "type": "float"
        },
        {
         "name": "Class_7",
         "rawType": "float64",
         "type": "float"
        },
        {
         "name": "Class_8",
         "rawType": "float64",
         "type": "float"
        },
        {
         "name": "Class_9",
         "rawType": "float64",
         "type": "float"
        }
       ],
       "conversionMethod": "pd.DataFrame",
       "ref": "7d3b0f4f-e517-4e06-a727-19561d55e44b",
       "rows": [
        [
         "0",
         "Logistic Regression V0",
         "Default Estimator",
         "logistic_regression_v0.joblib",
         "0.9198392857142856",
         "0.9196967787148708",
         "0.9928907071163998",
         "0.9609403254972876",
         "0.964240903387704",
         "0.9044827275187156",
         "0.8983393374923118",
         "0.9269585885364292",
         "0.8798244739204149",
         "0.9442587406269762",
         "0.929785407725322",
         "0.8808337945028593",
         "0.8978826051996783"
        ],
        [
         "1",
         "Logistic Regression V1",
         "GridSearchCV",
         "logistic_regression_v1.joblib",
         "0.9205892857142856",
         "0.9204436053874516",
         "0.9929342879105468",
         "0.9607010570060528",
         "0.964467801396188",
         "0.905045045045045",
         "0.8992166182554353",
         "0.9278011332480351",
         "0.8818599082019557",
         "0.9443339960238568",
         "0.9306115447293936",
         "0.8824776477094664",
         "0.8986855047840472"
        ],
        [
         "2",
         "Logistic Regression V2",
         "GridSearchCV",
         "logistic_regression_v2.joblib",
         "0.921375",
         "0.9211933003913916",
         "0.9933711373804196",
         "0.9619614205877052",
         "0.9609454488534084",
         "0.9087953765577028",
         "0.9006960965723853",
         "0.9277372262773724",
         "0.8807266194230962",
         "0.9481187404132456",
         "0.9317537986093228",
         "0.8843021103295076",
         "0.8980430703243678"
        ],
        [
         "3",
         "SVC V0",
         "Default Estimator",
         "svc_v0.joblib",
         "0.9757142857142858",
         "0.9757041979729836",
         "0.9994299065226424",
         "0.986883763003166",
         "0.9873317498020586",
         "0.9733595565885927",
         "0.9698086712304722",
         "0.974799123447772",
         "0.9720349067830226",
         "0.9849200581395348",
         "0.9737968830279158",
         "0.967948717948718",
         "0.9645722527720184"
        ],
        [
         "4",
         "SVC V1",
         "GridSearchCV",
         "svc_v1.joblib",
         "0.9757142857142858",
         "0.9757041979729836",
         "0.9994299065226424",
         "0.986883763003166",
         "0.9873317498020586",
         "0.9733595565885927",
         "0.9698086712304722",
         "0.974799123447772",
         "0.9720349067830226",
         "0.9849200581395348",
         "0.9737968830279158",
         "0.967948717948718",
         "0.9645722527720184"
        ],
        [
         "5",
         "SVC V2",
         "GridSearchCV",
         "svc_v2.joblib",
         "0.9816785714285714",
         "0.9816746793726564",
         "0.9996450344215416",
         "0.9886928991406604",
         "0.9916752556885752",
         "0.979559046683924",
         "0.977715388664678",
         "0.980714742710904",
         "0.97829749281538",
         "0.9878248228239144",
         "0.980365257652405",
         "0.9761686526122824",
         "0.9742805755395684"
        ],
        [
         "6",
         "SVC V3",
         "RandomSearchCV",
         "svc_v3.joblib",
         "0.9816071428571428",
         "0.981603112410577",
         "0.9996440447432424",
         "0.9886928991406604",
         "0.9917538851887092",
         "0.9794642857142856",
         "0.9774541626458462",
         "0.980714742710904",
         "0.9781962338949456",
         "0.9877350776778414",
         "0.980456026058632",
         "0.976083570054064",
         "0.9740037779976612"
        ],
        [
         "7",
         "Random Forest V0",
         "Default Estimator",
         "random_forest_v0.joblib",
         "0.965125",
         "0.9650975524618308",
         "0.9987729241321844",
         "0.981768953068592",
         "0.9836663495084048",
         "0.9601919317575972",
         "0.9530095036958818",
         "0.9662285505659",
         "0.9613895781637716",
         "0.9782805429864252",
         "0.966643741403026",
         "0.9508649245491352",
         "0.9464398235664776"
        ],
        [
         "8",
         "Random Forest V1",
         "GridSearchCV",
         "random_forest_v1.joblib",
         "0.9668928571428572",
         "0.966872950840632",
         "0.9989211337782592",
         "0.9822121896162528",
         "0.9851669707305464",
         "0.9621736814064996",
         "0.9556278007204992",
         "0.9685729947012608",
         "0.9637955042769047",
         "0.9791817523533672",
         "0.9689569180497032",
         "0.9526784893871176",
         "0.9479082321187584"
        ],
        [
         "9",
         "KNN V0",
         "Default Estimator",
         "knn_v0.joblib",
         "0.9678035714285714",
         "0.9677361872003885",
         "0.9945033728584836",
         "0.98383910935536",
         "0.9734554486184416",
         "0.9700262609798064",
         "0.9628269045744774",
         "0.9700874367234238",
         "0.9607940446650124",
         "0.9834583747627226",
         "0.964288758203358",
         "0.953814120764717",
         "0.95375"
        ],
        [
         "10",
         "KNN V1",
         "GridSearchCV",
         "knn_v1.joblib",
         "0.9688928571428572",
         "0.9688449054533596",
         "0.9945621917383172",
         "0.9856872805833108",
         "0.9751205100295444",
         "0.9712523805205404",
         "0.9638723254998246",
         "0.9710545722713864",
         "0.9631688672689368",
         "0.9834792813938792",
         "0.9646236467479328",
         "0.955957086391869",
         "0.9533042782175576"
        ]
       ],
       "shape": {
        "columns": 16,
        "rows": 11
       }
      },
      "text/html": [
       "<div>\n",
       "<style scoped>\n",
       "    .dataframe tbody tr th:only-of-type {\n",
       "        vertical-align: middle;\n",
       "    }\n",
       "\n",
       "    .dataframe tbody tr th {\n",
       "        vertical-align: top;\n",
       "    }\n",
       "\n",
       "    .dataframe thead th {\n",
       "        text-align: right;\n",
       "    }\n",
       "</style>\n",
       "<table border=\"1\" class=\"dataframe\">\n",
       "  <thead>\n",
       "    <tr style=\"text-align: right;\">\n",
       "      <th></th>\n",
       "      <th>Algorithm</th>\n",
       "      <th>Method</th>\n",
       "      <th>File Name</th>\n",
       "      <th>Accuracy</th>\n",
       "      <th>Weighted F1 Score</th>\n",
       "      <th>ROC AUC Score</th>\n",
       "      <th>Class_0</th>\n",
       "      <th>Class_1</th>\n",
       "      <th>Class_2</th>\n",
       "      <th>Class_3</th>\n",
       "      <th>Class_4</th>\n",
       "      <th>Class_5</th>\n",
       "      <th>Class_6</th>\n",
       "      <th>Class_7</th>\n",
       "      <th>Class_8</th>\n",
       "      <th>Class_9</th>\n",
       "    </tr>\n",
       "  </thead>\n",
       "  <tbody>\n",
       "    <tr>\n",
       "      <th>0</th>\n",
       "      <td>Logistic Regression V0</td>\n",
       "      <td>Default Estimator</td>\n",
       "      <td>logistic_regression_v0.joblib</td>\n",
       "      <td>0.919839</td>\n",
       "      <td>0.919697</td>\n",
       "      <td>0.992891</td>\n",
       "      <td>0.960940</td>\n",
       "      <td>0.964241</td>\n",
       "      <td>0.904483</td>\n",
       "      <td>0.898339</td>\n",
       "      <td>0.926959</td>\n",
       "      <td>0.879824</td>\n",
       "      <td>0.944259</td>\n",
       "      <td>0.929785</td>\n",
       "      <td>0.880834</td>\n",
       "      <td>0.897883</td>\n",
       "    </tr>\n",
       "    <tr>\n",
       "      <th>1</th>\n",
       "      <td>Logistic Regression V1</td>\n",
       "      <td>GridSearchCV</td>\n",
       "      <td>logistic_regression_v1.joblib</td>\n",
       "      <td>0.920589</td>\n",
       "      <td>0.920444</td>\n",
       "      <td>0.992934</td>\n",
       "      <td>0.960701</td>\n",
       "      <td>0.964468</td>\n",
       "      <td>0.905045</td>\n",
       "      <td>0.899217</td>\n",
       "      <td>0.927801</td>\n",
       "      <td>0.881860</td>\n",
       "      <td>0.944334</td>\n",
       "      <td>0.930612</td>\n",
       "      <td>0.882478</td>\n",
       "      <td>0.898686</td>\n",
       "    </tr>\n",
       "    <tr>\n",
       "      <th>2</th>\n",
       "      <td>Logistic Regression V2</td>\n",
       "      <td>GridSearchCV</td>\n",
       "      <td>logistic_regression_v2.joblib</td>\n",
       "      <td>0.921375</td>\n",
       "      <td>0.921193</td>\n",
       "      <td>0.993371</td>\n",
       "      <td>0.961961</td>\n",
       "      <td>0.960945</td>\n",
       "      <td>0.908795</td>\n",
       "      <td>0.900696</td>\n",
       "      <td>0.927737</td>\n",
       "      <td>0.880727</td>\n",
       "      <td>0.948119</td>\n",
       "      <td>0.931754</td>\n",
       "      <td>0.884302</td>\n",
       "      <td>0.898043</td>\n",
       "    </tr>\n",
       "    <tr>\n",
       "      <th>3</th>\n",
       "      <td>SVC V0</td>\n",
       "      <td>Default Estimator</td>\n",
       "      <td>svc_v0.joblib</td>\n",
       "      <td>0.975714</td>\n",
       "      <td>0.975704</td>\n",
       "      <td>0.999430</td>\n",
       "      <td>0.986884</td>\n",
       "      <td>0.987332</td>\n",
       "      <td>0.973360</td>\n",
       "      <td>0.969809</td>\n",
       "      <td>0.974799</td>\n",
       "      <td>0.972035</td>\n",
       "      <td>0.984920</td>\n",
       "      <td>0.973797</td>\n",
       "      <td>0.967949</td>\n",
       "      <td>0.964572</td>\n",
       "    </tr>\n",
       "    <tr>\n",
       "      <th>4</th>\n",
       "      <td>SVC V1</td>\n",
       "      <td>GridSearchCV</td>\n",
       "      <td>svc_v1.joblib</td>\n",
       "      <td>0.975714</td>\n",
       "      <td>0.975704</td>\n",
       "      <td>0.999430</td>\n",
       "      <td>0.986884</td>\n",
       "      <td>0.987332</td>\n",
       "      <td>0.973360</td>\n",
       "      <td>0.969809</td>\n",
       "      <td>0.974799</td>\n",
       "      <td>0.972035</td>\n",
       "      <td>0.984920</td>\n",
       "      <td>0.973797</td>\n",
       "      <td>0.967949</td>\n",
       "      <td>0.964572</td>\n",
       "    </tr>\n",
       "    <tr>\n",
       "      <th>5</th>\n",
       "      <td>SVC V2</td>\n",
       "      <td>GridSearchCV</td>\n",
       "      <td>svc_v2.joblib</td>\n",
       "      <td>0.981679</td>\n",
       "      <td>0.981675</td>\n",
       "      <td>0.999645</td>\n",
       "      <td>0.988693</td>\n",
       "      <td>0.991675</td>\n",
       "      <td>0.979559</td>\n",
       "      <td>0.977715</td>\n",
       "      <td>0.980715</td>\n",
       "      <td>0.978297</td>\n",
       "      <td>0.987825</td>\n",
       "      <td>0.980365</td>\n",
       "      <td>0.976169</td>\n",
       "      <td>0.974281</td>\n",
       "    </tr>\n",
       "    <tr>\n",
       "      <th>6</th>\n",
       "      <td>SVC V3</td>\n",
       "      <td>RandomSearchCV</td>\n",
       "      <td>svc_v3.joblib</td>\n",
       "      <td>0.981607</td>\n",
       "      <td>0.981603</td>\n",
       "      <td>0.999644</td>\n",
       "      <td>0.988693</td>\n",
       "      <td>0.991754</td>\n",
       "      <td>0.979464</td>\n",
       "      <td>0.977454</td>\n",
       "      <td>0.980715</td>\n",
       "      <td>0.978196</td>\n",
       "      <td>0.987735</td>\n",
       "      <td>0.980456</td>\n",
       "      <td>0.976084</td>\n",
       "      <td>0.974004</td>\n",
       "    </tr>\n",
       "    <tr>\n",
       "      <th>7</th>\n",
       "      <td>Random Forest V0</td>\n",
       "      <td>Default Estimator</td>\n",
       "      <td>random_forest_v0.joblib</td>\n",
       "      <td>0.965125</td>\n",
       "      <td>0.965098</td>\n",
       "      <td>0.998773</td>\n",
       "      <td>0.981769</td>\n",
       "      <td>0.983666</td>\n",
       "      <td>0.960192</td>\n",
       "      <td>0.953010</td>\n",
       "      <td>0.966229</td>\n",
       "      <td>0.961390</td>\n",
       "      <td>0.978281</td>\n",
       "      <td>0.966644</td>\n",
       "      <td>0.950865</td>\n",
       "      <td>0.946440</td>\n",
       "    </tr>\n",
       "    <tr>\n",
       "      <th>8</th>\n",
       "      <td>Random Forest V1</td>\n",
       "      <td>GridSearchCV</td>\n",
       "      <td>random_forest_v1.joblib</td>\n",
       "      <td>0.966893</td>\n",
       "      <td>0.966873</td>\n",
       "      <td>0.998921</td>\n",
       "      <td>0.982212</td>\n",
       "      <td>0.985167</td>\n",
       "      <td>0.962174</td>\n",
       "      <td>0.955628</td>\n",
       "      <td>0.968573</td>\n",
       "      <td>0.963796</td>\n",
       "      <td>0.979182</td>\n",
       "      <td>0.968957</td>\n",
       "      <td>0.952678</td>\n",
       "      <td>0.947908</td>\n",
       "    </tr>\n",
       "    <tr>\n",
       "      <th>9</th>\n",
       "      <td>KNN V0</td>\n",
       "      <td>Default Estimator</td>\n",
       "      <td>knn_v0.joblib</td>\n",
       "      <td>0.967804</td>\n",
       "      <td>0.967736</td>\n",
       "      <td>0.994503</td>\n",
       "      <td>0.983839</td>\n",
       "      <td>0.973455</td>\n",
       "      <td>0.970026</td>\n",
       "      <td>0.962827</td>\n",
       "      <td>0.970087</td>\n",
       "      <td>0.960794</td>\n",
       "      <td>0.983458</td>\n",
       "      <td>0.964289</td>\n",
       "      <td>0.953814</td>\n",
       "      <td>0.953750</td>\n",
       "    </tr>\n",
       "    <tr>\n",
       "      <th>10</th>\n",
       "      <td>KNN V1</td>\n",
       "      <td>GridSearchCV</td>\n",
       "      <td>knn_v1.joblib</td>\n",
       "      <td>0.968893</td>\n",
       "      <td>0.968845</td>\n",
       "      <td>0.994562</td>\n",
       "      <td>0.985687</td>\n",
       "      <td>0.975121</td>\n",
       "      <td>0.971252</td>\n",
       "      <td>0.963872</td>\n",
       "      <td>0.971055</td>\n",
       "      <td>0.963169</td>\n",
       "      <td>0.983479</td>\n",
       "      <td>0.964624</td>\n",
       "      <td>0.955957</td>\n",
       "      <td>0.953304</td>\n",
       "    </tr>\n",
       "  </tbody>\n",
       "</table>\n",
       "</div>"
      ],
      "text/plain": [
       "                 Algorithm             Method                      File Name  \\\n",
       "0   Logistic Regression V0  Default Estimator  logistic_regression_v0.joblib   \n",
       "1   Logistic Regression V1       GridSearchCV  logistic_regression_v1.joblib   \n",
       "2   Logistic Regression V2       GridSearchCV  logistic_regression_v2.joblib   \n",
       "3                   SVC V0  Default Estimator                  svc_v0.joblib   \n",
       "4                   SVC V1       GridSearchCV                  svc_v1.joblib   \n",
       "5                   SVC V2       GridSearchCV                  svc_v2.joblib   \n",
       "6                   SVC V3     RandomSearchCV                  svc_v3.joblib   \n",
       "7         Random Forest V0  Default Estimator        random_forest_v0.joblib   \n",
       "8         Random Forest V1       GridSearchCV        random_forest_v1.joblib   \n",
       "9                   KNN V0  Default Estimator                  knn_v0.joblib   \n",
       "10                  KNN V1       GridSearchCV                  knn_v1.joblib   \n",
       "\n",
       "    Accuracy  Weighted F1 Score  ROC AUC Score   Class_0   Class_1   Class_2  \\\n",
       "0   0.919839           0.919697       0.992891  0.960940  0.964241  0.904483   \n",
       "1   0.920589           0.920444       0.992934  0.960701  0.964468  0.905045   \n",
       "2   0.921375           0.921193       0.993371  0.961961  0.960945  0.908795   \n",
       "3   0.975714           0.975704       0.999430  0.986884  0.987332  0.973360   \n",
       "4   0.975714           0.975704       0.999430  0.986884  0.987332  0.973360   \n",
       "5   0.981679           0.981675       0.999645  0.988693  0.991675  0.979559   \n",
       "6   0.981607           0.981603       0.999644  0.988693  0.991754  0.979464   \n",
       "7   0.965125           0.965098       0.998773  0.981769  0.983666  0.960192   \n",
       "8   0.966893           0.966873       0.998921  0.982212  0.985167  0.962174   \n",
       "9   0.967804           0.967736       0.994503  0.983839  0.973455  0.970026   \n",
       "10  0.968893           0.968845       0.994562  0.985687  0.975121  0.971252   \n",
       "\n",
       "     Class_3   Class_4   Class_5   Class_6   Class_7   Class_8   Class_9  \n",
       "0   0.898339  0.926959  0.879824  0.944259  0.929785  0.880834  0.897883  \n",
       "1   0.899217  0.927801  0.881860  0.944334  0.930612  0.882478  0.898686  \n",
       "2   0.900696  0.927737  0.880727  0.948119  0.931754  0.884302  0.898043  \n",
       "3   0.969809  0.974799  0.972035  0.984920  0.973797  0.967949  0.964572  \n",
       "4   0.969809  0.974799  0.972035  0.984920  0.973797  0.967949  0.964572  \n",
       "5   0.977715  0.980715  0.978297  0.987825  0.980365  0.976169  0.974281  \n",
       "6   0.977454  0.980715  0.978196  0.987735  0.980456  0.976084  0.974004  \n",
       "7   0.953010  0.966229  0.961390  0.978281  0.966644  0.950865  0.946440  \n",
       "8   0.955628  0.968573  0.963796  0.979182  0.968957  0.952678  0.947908  \n",
       "9   0.962827  0.970087  0.960794  0.983458  0.964289  0.953814  0.953750  \n",
       "10  0.963872  0.971055  0.963169  0.983479  0.964624  0.955957  0.953304  "
      ]
     },
     "execution_count": 39,
     "metadata": {},
     "output_type": "execute_result"
    }
   ],
   "source": [
    "## read `mnist_models_metrics.csv` file from models folder\n",
    "models_metrics_path = Path(\"..\", \"models\", \"mnist_models_metrics.csv\")\n",
    "models_metrics = pd.read_csv(models_metrics_path)\n",
    "models_metrics"
   ]
  },
  {
   "cell_type": "code",
   "execution_count": 40,
   "metadata": {},
   "outputs": [
    {
     "data": {
      "text/plain": [
       "Index(['Algorithm', 'Method', 'File Name', 'Accuracy', 'Weighted F1 Score',\n",
       "       'ROC AUC Score', 'Class_0', 'Class_1', 'Class_2', 'Class_3', 'Class_4',\n",
       "       'Class_5', 'Class_6', 'Class_7', 'Class_8', 'Class_9'],\n",
       "      dtype='object')"
      ]
     },
     "execution_count": 40,
     "metadata": {},
     "output_type": "execute_result"
    }
   ],
   "source": [
    "models_metrics.columns"
   ]
  },
  {
   "cell_type": "code",
   "execution_count": null,
   "metadata": {},
   "outputs": [],
   "source": [
    "## update the model_metrics dataframe with the new metrics\n",
    "new_metrics = {\n",
    "   \"Algorithm\": \"SVC V4\",\n",
    "    \"Method\": \"Best Parameters\",\n",
    "    \"File Name\": \"svc_augmented_data_v1.joblib\",\n",
    "    \"Accuracy\": accuracy,\n",
    "    \"Weighted F1 Score\": weighted_f1,\n",
    "    \"ROC AUC Score\": \"n/a\",\n",
    "    **per_class_f1_dict\n",
    "}\n",
    "\n",
    "# models_metrics = models_metrics.append(new_metrics, ignore_index=True)\n"
   ]
  },
  {
   "cell_type": "code",
   "execution_count": 43,
   "metadata": {},
   "outputs": [],
   "source": [
    "models_metrics = pd.concat([models_metrics, pd.DataFrame([new_metrics])], ignore_index=True)"
   ]
  },
  {
   "cell_type": "code",
   "execution_count": 44,
   "metadata": {},
   "outputs": [
    {
     "data": {
      "application/vnd.microsoft.datawrangler.viewer.v0+json": {
       "columns": [
        {
         "name": "index",
         "rawType": "int64",
         "type": "integer"
        },
        {
         "name": "Algorithm",
         "rawType": "object",
         "type": "string"
        },
        {
         "name": "Method",
         "rawType": "object",
         "type": "string"
        },
        {
         "name": "File Name",
         "rawType": "object",
         "type": "string"
        },
        {
         "name": "Accuracy",
         "rawType": "float64",
         "type": "float"
        },
        {
         "name": "Weighted F1 Score",
         "rawType": "float64",
         "type": "float"
        },
        {
         "name": "ROC AUC Score",
         "rawType": "object",
         "type": "unknown"
        },
        {
         "name": "Class_0",
         "rawType": "float64",
         "type": "float"
        },
        {
         "name": "Class_1",
         "rawType": "float64",
         "type": "float"
        },
        {
         "name": "Class_2",
         "rawType": "float64",
         "type": "float"
        },
        {
         "name": "Class_3",
         "rawType": "float64",
         "type": "float"
        },
        {
         "name": "Class_4",
         "rawType": "float64",
         "type": "float"
        },
        {
         "name": "Class_5",
         "rawType": "float64",
         "type": "float"
        },
        {
         "name": "Class_6",
         "rawType": "float64",
         "type": "float"
        },
        {
         "name": "Class_7",
         "rawType": "float64",
         "type": "float"
        },
        {
         "name": "Class_8",
         "rawType": "float64",
         "type": "float"
        },
        {
         "name": "Class_9",
         "rawType": "float64",
         "type": "float"
        }
       ],
       "conversionMethod": "pd.DataFrame",
       "ref": "0368f544-de59-4002-8599-df5f885560e8",
       "rows": [
        [
         "0",
         "Logistic Regression V0",
         "Default Estimator",
         "logistic_regression_v0.joblib",
         "0.9198392857142856",
         "0.9196967787148708",
         "0.9928907071163998",
         "0.9609403254972876",
         "0.964240903387704",
         "0.9044827275187156",
         "0.8983393374923118",
         "0.9269585885364292",
         "0.8798244739204149",
         "0.9442587406269762",
         "0.929785407725322",
         "0.8808337945028593",
         "0.8978826051996783"
        ],
        [
         "1",
         "Logistic Regression V1",
         "GridSearchCV",
         "logistic_regression_v1.joblib",
         "0.9205892857142856",
         "0.9204436053874516",
         "0.9929342879105468",
         "0.9607010570060528",
         "0.964467801396188",
         "0.905045045045045",
         "0.8992166182554353",
         "0.9278011332480351",
         "0.8818599082019557",
         "0.9443339960238568",
         "0.9306115447293936",
         "0.8824776477094664",
         "0.8986855047840472"
        ],
        [
         "2",
         "Logistic Regression V2",
         "GridSearchCV",
         "logistic_regression_v2.joblib",
         "0.921375",
         "0.9211933003913916",
         "0.9933711373804196",
         "0.9619614205877052",
         "0.9609454488534084",
         "0.9087953765577028",
         "0.9006960965723853",
         "0.9277372262773724",
         "0.8807266194230962",
         "0.9481187404132456",
         "0.9317537986093228",
         "0.8843021103295076",
         "0.8980430703243678"
        ],
        [
         "3",
         "SVC V0",
         "Default Estimator",
         "svc_v0.joblib",
         "0.9757142857142858",
         "0.9757041979729836",
         "0.9994299065226424",
         "0.986883763003166",
         "0.9873317498020586",
         "0.9733595565885927",
         "0.9698086712304722",
         "0.974799123447772",
         "0.9720349067830226",
         "0.9849200581395348",
         "0.9737968830279158",
         "0.967948717948718",
         "0.9645722527720184"
        ],
        [
         "4",
         "SVC V1",
         "GridSearchCV",
         "svc_v1.joblib",
         "0.9757142857142858",
         "0.9757041979729836",
         "0.9994299065226424",
         "0.986883763003166",
         "0.9873317498020586",
         "0.9733595565885927",
         "0.9698086712304722",
         "0.974799123447772",
         "0.9720349067830226",
         "0.9849200581395348",
         "0.9737968830279158",
         "0.967948717948718",
         "0.9645722527720184"
        ],
        [
         "5",
         "SVC V2",
         "GridSearchCV",
         "svc_v2.joblib",
         "0.9816785714285714",
         "0.9816746793726564",
         "0.9996450344215416",
         "0.9886928991406604",
         "0.9916752556885752",
         "0.979559046683924",
         "0.977715388664678",
         "0.980714742710904",
         "0.97829749281538",
         "0.9878248228239144",
         "0.980365257652405",
         "0.9761686526122824",
         "0.9742805755395684"
        ],
        [
         "6",
         "SVC V3",
         "RandomSearchCV",
         "svc_v3.joblib",
         "0.9816071428571428",
         "0.981603112410577",
         "0.9996440447432424",
         "0.9886928991406604",
         "0.9917538851887092",
         "0.9794642857142856",
         "0.9774541626458462",
         "0.980714742710904",
         "0.9781962338949456",
         "0.9877350776778414",
         "0.980456026058632",
         "0.976083570054064",
         "0.9740037779976612"
        ],
        [
         "7",
         "Random Forest V0",
         "Default Estimator",
         "random_forest_v0.joblib",
         "0.965125",
         "0.9650975524618308",
         "0.9987729241321844",
         "0.981768953068592",
         "0.9836663495084048",
         "0.9601919317575972",
         "0.9530095036958818",
         "0.9662285505659",
         "0.9613895781637716",
         "0.9782805429864252",
         "0.966643741403026",
         "0.9508649245491352",
         "0.9464398235664776"
        ],
        [
         "8",
         "Random Forest V1",
         "GridSearchCV",
         "random_forest_v1.joblib",
         "0.9668928571428572",
         "0.966872950840632",
         "0.9989211337782592",
         "0.9822121896162528",
         "0.9851669707305464",
         "0.9621736814064996",
         "0.9556278007204992",
         "0.9685729947012608",
         "0.9637955042769047",
         "0.9791817523533672",
         "0.9689569180497032",
         "0.9526784893871176",
         "0.9479082321187584"
        ],
        [
         "9",
         "KNN V0",
         "Default Estimator",
         "knn_v0.joblib",
         "0.9678035714285714",
         "0.9677361872003885",
         "0.9945033728584836",
         "0.98383910935536",
         "0.9734554486184416",
         "0.9700262609798064",
         "0.9628269045744774",
         "0.9700874367234238",
         "0.9607940446650124",
         "0.9834583747627226",
         "0.964288758203358",
         "0.953814120764717",
         "0.95375"
        ],
        [
         "10",
         "KNN V1",
         "GridSearchCV",
         "knn_v1.joblib",
         "0.9688928571428572",
         "0.9688449054533596",
         "0.9945621917383172",
         "0.9856872805833108",
         "0.9751205100295444",
         "0.9712523805205404",
         "0.9638723254998246",
         "0.9710545722713864",
         "0.9631688672689368",
         "0.9834792813938792",
         "0.9646236467479328",
         "0.955957086391869",
         "0.9533042782175576"
        ],
        [
         "11",
         "SVC V4",
         "Best Parameters",
         "svc_augmented_data_v1.joblib",
         "0.9897142857142858",
         "0.9897128878139033",
         "n/a",
         "0.9953085528690003",
         "0.993015873015873",
         "0.9881847475832438",
         "0.9898209898209899",
         "0.9882697947214076",
         "0.9876935291782454",
         "0.9909321726514327",
         "0.988009592326139",
         "0.9911958914159942",
         "0.9842180774748924"
        ]
       ],
       "shape": {
        "columns": 16,
        "rows": 12
       }
      },
      "text/html": [
       "<div>\n",
       "<style scoped>\n",
       "    .dataframe tbody tr th:only-of-type {\n",
       "        vertical-align: middle;\n",
       "    }\n",
       "\n",
       "    .dataframe tbody tr th {\n",
       "        vertical-align: top;\n",
       "    }\n",
       "\n",
       "    .dataframe thead th {\n",
       "        text-align: right;\n",
       "    }\n",
       "</style>\n",
       "<table border=\"1\" class=\"dataframe\">\n",
       "  <thead>\n",
       "    <tr style=\"text-align: right;\">\n",
       "      <th></th>\n",
       "      <th>Algorithm</th>\n",
       "      <th>Method</th>\n",
       "      <th>File Name</th>\n",
       "      <th>Accuracy</th>\n",
       "      <th>Weighted F1 Score</th>\n",
       "      <th>ROC AUC Score</th>\n",
       "      <th>Class_0</th>\n",
       "      <th>Class_1</th>\n",
       "      <th>Class_2</th>\n",
       "      <th>Class_3</th>\n",
       "      <th>Class_4</th>\n",
       "      <th>Class_5</th>\n",
       "      <th>Class_6</th>\n",
       "      <th>Class_7</th>\n",
       "      <th>Class_8</th>\n",
       "      <th>Class_9</th>\n",
       "    </tr>\n",
       "  </thead>\n",
       "  <tbody>\n",
       "    <tr>\n",
       "      <th>0</th>\n",
       "      <td>Logistic Regression V0</td>\n",
       "      <td>Default Estimator</td>\n",
       "      <td>logistic_regression_v0.joblib</td>\n",
       "      <td>0.919839</td>\n",
       "      <td>0.919697</td>\n",
       "      <td>0.992891</td>\n",
       "      <td>0.960940</td>\n",
       "      <td>0.964241</td>\n",
       "      <td>0.904483</td>\n",
       "      <td>0.898339</td>\n",
       "      <td>0.926959</td>\n",
       "      <td>0.879824</td>\n",
       "      <td>0.944259</td>\n",
       "      <td>0.929785</td>\n",
       "      <td>0.880834</td>\n",
       "      <td>0.897883</td>\n",
       "    </tr>\n",
       "    <tr>\n",
       "      <th>1</th>\n",
       "      <td>Logistic Regression V1</td>\n",
       "      <td>GridSearchCV</td>\n",
       "      <td>logistic_regression_v1.joblib</td>\n",
       "      <td>0.920589</td>\n",
       "      <td>0.920444</td>\n",
       "      <td>0.992934</td>\n",
       "      <td>0.960701</td>\n",
       "      <td>0.964468</td>\n",
       "      <td>0.905045</td>\n",
       "      <td>0.899217</td>\n",
       "      <td>0.927801</td>\n",
       "      <td>0.881860</td>\n",
       "      <td>0.944334</td>\n",
       "      <td>0.930612</td>\n",
       "      <td>0.882478</td>\n",
       "      <td>0.898686</td>\n",
       "    </tr>\n",
       "    <tr>\n",
       "      <th>2</th>\n",
       "      <td>Logistic Regression V2</td>\n",
       "      <td>GridSearchCV</td>\n",
       "      <td>logistic_regression_v2.joblib</td>\n",
       "      <td>0.921375</td>\n",
       "      <td>0.921193</td>\n",
       "      <td>0.993371</td>\n",
       "      <td>0.961961</td>\n",
       "      <td>0.960945</td>\n",
       "      <td>0.908795</td>\n",
       "      <td>0.900696</td>\n",
       "      <td>0.927737</td>\n",
       "      <td>0.880727</td>\n",
       "      <td>0.948119</td>\n",
       "      <td>0.931754</td>\n",
       "      <td>0.884302</td>\n",
       "      <td>0.898043</td>\n",
       "    </tr>\n",
       "    <tr>\n",
       "      <th>3</th>\n",
       "      <td>SVC V0</td>\n",
       "      <td>Default Estimator</td>\n",
       "      <td>svc_v0.joblib</td>\n",
       "      <td>0.975714</td>\n",
       "      <td>0.975704</td>\n",
       "      <td>0.99943</td>\n",
       "      <td>0.986884</td>\n",
       "      <td>0.987332</td>\n",
       "      <td>0.973360</td>\n",
       "      <td>0.969809</td>\n",
       "      <td>0.974799</td>\n",
       "      <td>0.972035</td>\n",
       "      <td>0.984920</td>\n",
       "      <td>0.973797</td>\n",
       "      <td>0.967949</td>\n",
       "      <td>0.964572</td>\n",
       "    </tr>\n",
       "    <tr>\n",
       "      <th>4</th>\n",
       "      <td>SVC V1</td>\n",
       "      <td>GridSearchCV</td>\n",
       "      <td>svc_v1.joblib</td>\n",
       "      <td>0.975714</td>\n",
       "      <td>0.975704</td>\n",
       "      <td>0.99943</td>\n",
       "      <td>0.986884</td>\n",
       "      <td>0.987332</td>\n",
       "      <td>0.973360</td>\n",
       "      <td>0.969809</td>\n",
       "      <td>0.974799</td>\n",
       "      <td>0.972035</td>\n",
       "      <td>0.984920</td>\n",
       "      <td>0.973797</td>\n",
       "      <td>0.967949</td>\n",
       "      <td>0.964572</td>\n",
       "    </tr>\n",
       "    <tr>\n",
       "      <th>5</th>\n",
       "      <td>SVC V2</td>\n",
       "      <td>GridSearchCV</td>\n",
       "      <td>svc_v2.joblib</td>\n",
       "      <td>0.981679</td>\n",
       "      <td>0.981675</td>\n",
       "      <td>0.999645</td>\n",
       "      <td>0.988693</td>\n",
       "      <td>0.991675</td>\n",
       "      <td>0.979559</td>\n",
       "      <td>0.977715</td>\n",
       "      <td>0.980715</td>\n",
       "      <td>0.978297</td>\n",
       "      <td>0.987825</td>\n",
       "      <td>0.980365</td>\n",
       "      <td>0.976169</td>\n",
       "      <td>0.974281</td>\n",
       "    </tr>\n",
       "    <tr>\n",
       "      <th>6</th>\n",
       "      <td>SVC V3</td>\n",
       "      <td>RandomSearchCV</td>\n",
       "      <td>svc_v3.joblib</td>\n",
       "      <td>0.981607</td>\n",
       "      <td>0.981603</td>\n",
       "      <td>0.999644</td>\n",
       "      <td>0.988693</td>\n",
       "      <td>0.991754</td>\n",
       "      <td>0.979464</td>\n",
       "      <td>0.977454</td>\n",
       "      <td>0.980715</td>\n",
       "      <td>0.978196</td>\n",
       "      <td>0.987735</td>\n",
       "      <td>0.980456</td>\n",
       "      <td>0.976084</td>\n",
       "      <td>0.974004</td>\n",
       "    </tr>\n",
       "    <tr>\n",
       "      <th>7</th>\n",
       "      <td>Random Forest V0</td>\n",
       "      <td>Default Estimator</td>\n",
       "      <td>random_forest_v0.joblib</td>\n",
       "      <td>0.965125</td>\n",
       "      <td>0.965098</td>\n",
       "      <td>0.998773</td>\n",
       "      <td>0.981769</td>\n",
       "      <td>0.983666</td>\n",
       "      <td>0.960192</td>\n",
       "      <td>0.953010</td>\n",
       "      <td>0.966229</td>\n",
       "      <td>0.961390</td>\n",
       "      <td>0.978281</td>\n",
       "      <td>0.966644</td>\n",
       "      <td>0.950865</td>\n",
       "      <td>0.946440</td>\n",
       "    </tr>\n",
       "    <tr>\n",
       "      <th>8</th>\n",
       "      <td>Random Forest V1</td>\n",
       "      <td>GridSearchCV</td>\n",
       "      <td>random_forest_v1.joblib</td>\n",
       "      <td>0.966893</td>\n",
       "      <td>0.966873</td>\n",
       "      <td>0.998921</td>\n",
       "      <td>0.982212</td>\n",
       "      <td>0.985167</td>\n",
       "      <td>0.962174</td>\n",
       "      <td>0.955628</td>\n",
       "      <td>0.968573</td>\n",
       "      <td>0.963796</td>\n",
       "      <td>0.979182</td>\n",
       "      <td>0.968957</td>\n",
       "      <td>0.952678</td>\n",
       "      <td>0.947908</td>\n",
       "    </tr>\n",
       "    <tr>\n",
       "      <th>9</th>\n",
       "      <td>KNN V0</td>\n",
       "      <td>Default Estimator</td>\n",
       "      <td>knn_v0.joblib</td>\n",
       "      <td>0.967804</td>\n",
       "      <td>0.967736</td>\n",
       "      <td>0.994503</td>\n",
       "      <td>0.983839</td>\n",
       "      <td>0.973455</td>\n",
       "      <td>0.970026</td>\n",
       "      <td>0.962827</td>\n",
       "      <td>0.970087</td>\n",
       "      <td>0.960794</td>\n",
       "      <td>0.983458</td>\n",
       "      <td>0.964289</td>\n",
       "      <td>0.953814</td>\n",
       "      <td>0.953750</td>\n",
       "    </tr>\n",
       "    <tr>\n",
       "      <th>10</th>\n",
       "      <td>KNN V1</td>\n",
       "      <td>GridSearchCV</td>\n",
       "      <td>knn_v1.joblib</td>\n",
       "      <td>0.968893</td>\n",
       "      <td>0.968845</td>\n",
       "      <td>0.994562</td>\n",
       "      <td>0.985687</td>\n",
       "      <td>0.975121</td>\n",
       "      <td>0.971252</td>\n",
       "      <td>0.963872</td>\n",
       "      <td>0.971055</td>\n",
       "      <td>0.963169</td>\n",
       "      <td>0.983479</td>\n",
       "      <td>0.964624</td>\n",
       "      <td>0.955957</td>\n",
       "      <td>0.953304</td>\n",
       "    </tr>\n",
       "    <tr>\n",
       "      <th>11</th>\n",
       "      <td>SVC V4</td>\n",
       "      <td>Best Parameters</td>\n",
       "      <td>svc_augmented_data_v1.joblib</td>\n",
       "      <td>0.989714</td>\n",
       "      <td>0.989713</td>\n",
       "      <td>n/a</td>\n",
       "      <td>0.995309</td>\n",
       "      <td>0.993016</td>\n",
       "      <td>0.988185</td>\n",
       "      <td>0.989821</td>\n",
       "      <td>0.988270</td>\n",
       "      <td>0.987694</td>\n",
       "      <td>0.990932</td>\n",
       "      <td>0.988010</td>\n",
       "      <td>0.991196</td>\n",
       "      <td>0.984218</td>\n",
       "    </tr>\n",
       "  </tbody>\n",
       "</table>\n",
       "</div>"
      ],
      "text/plain": [
       "                 Algorithm             Method                      File Name  \\\n",
       "0   Logistic Regression V0  Default Estimator  logistic_regression_v0.joblib   \n",
       "1   Logistic Regression V1       GridSearchCV  logistic_regression_v1.joblib   \n",
       "2   Logistic Regression V2       GridSearchCV  logistic_regression_v2.joblib   \n",
       "3                   SVC V0  Default Estimator                  svc_v0.joblib   \n",
       "4                   SVC V1       GridSearchCV                  svc_v1.joblib   \n",
       "5                   SVC V2       GridSearchCV                  svc_v2.joblib   \n",
       "6                   SVC V3     RandomSearchCV                  svc_v3.joblib   \n",
       "7         Random Forest V0  Default Estimator        random_forest_v0.joblib   \n",
       "8         Random Forest V1       GridSearchCV        random_forest_v1.joblib   \n",
       "9                   KNN V0  Default Estimator                  knn_v0.joblib   \n",
       "10                  KNN V1       GridSearchCV                  knn_v1.joblib   \n",
       "11                  SVC V4    Best Parameters   svc_augmented_data_v1.joblib   \n",
       "\n",
       "    Accuracy  Weighted F1 Score ROC AUC Score   Class_0   Class_1   Class_2  \\\n",
       "0   0.919839           0.919697      0.992891  0.960940  0.964241  0.904483   \n",
       "1   0.920589           0.920444      0.992934  0.960701  0.964468  0.905045   \n",
       "2   0.921375           0.921193      0.993371  0.961961  0.960945  0.908795   \n",
       "3   0.975714           0.975704       0.99943  0.986884  0.987332  0.973360   \n",
       "4   0.975714           0.975704       0.99943  0.986884  0.987332  0.973360   \n",
       "5   0.981679           0.981675      0.999645  0.988693  0.991675  0.979559   \n",
       "6   0.981607           0.981603      0.999644  0.988693  0.991754  0.979464   \n",
       "7   0.965125           0.965098      0.998773  0.981769  0.983666  0.960192   \n",
       "8   0.966893           0.966873      0.998921  0.982212  0.985167  0.962174   \n",
       "9   0.967804           0.967736      0.994503  0.983839  0.973455  0.970026   \n",
       "10  0.968893           0.968845      0.994562  0.985687  0.975121  0.971252   \n",
       "11  0.989714           0.989713           n/a  0.995309  0.993016  0.988185   \n",
       "\n",
       "     Class_3   Class_4   Class_5   Class_6   Class_7   Class_8   Class_9  \n",
       "0   0.898339  0.926959  0.879824  0.944259  0.929785  0.880834  0.897883  \n",
       "1   0.899217  0.927801  0.881860  0.944334  0.930612  0.882478  0.898686  \n",
       "2   0.900696  0.927737  0.880727  0.948119  0.931754  0.884302  0.898043  \n",
       "3   0.969809  0.974799  0.972035  0.984920  0.973797  0.967949  0.964572  \n",
       "4   0.969809  0.974799  0.972035  0.984920  0.973797  0.967949  0.964572  \n",
       "5   0.977715  0.980715  0.978297  0.987825  0.980365  0.976169  0.974281  \n",
       "6   0.977454  0.980715  0.978196  0.987735  0.980456  0.976084  0.974004  \n",
       "7   0.953010  0.966229  0.961390  0.978281  0.966644  0.950865  0.946440  \n",
       "8   0.955628  0.968573  0.963796  0.979182  0.968957  0.952678  0.947908  \n",
       "9   0.962827  0.970087  0.960794  0.983458  0.964289  0.953814  0.953750  \n",
       "10  0.963872  0.971055  0.963169  0.983479  0.964624  0.955957  0.953304  \n",
       "11  0.989821  0.988270  0.987694  0.990932  0.988010  0.991196  0.984218  "
      ]
     },
     "execution_count": 44,
     "metadata": {},
     "output_type": "execute_result"
    }
   ],
   "source": [
    "models_metrics"
   ]
  },
  {
   "cell_type": "code",
   "execution_count": 58,
   "metadata": {},
   "outputs": [
    {
     "data": {
      "application/vnd.plotly.v1+json": {
       "config": {
        "plotlyServerURL": "https://plot.ly"
       },
       "data": [
        {
         "alignmentgroup": "True",
         "hovertemplate": "Algorithm=%{x}<br>Weighted F1 Score=%{y}<extra></extra>",
         "legendgroup": "SVC V4",
         "marker": {
          "color": "#636efa",
          "pattern": {
           "shape": ""
          }
         },
         "name": "SVC V4",
         "offsetgroup": "SVC V4",
         "orientation": "v",
         "showlegend": true,
         "textposition": "auto",
         "type": "bar",
         "x": [
          "SVC V4"
         ],
         "xaxis": "x",
         "y": [
          0.9897128878139033
         ],
         "yaxis": "y"
        },
        {
         "alignmentgroup": "True",
         "hovertemplate": "Algorithm=%{x}<br>Weighted F1 Score=%{y}<extra></extra>",
         "legendgroup": "SVC V2",
         "marker": {
          "color": "#EF553B",
          "pattern": {
           "shape": ""
          }
         },
         "name": "SVC V2",
         "offsetgroup": "SVC V2",
         "orientation": "v",
         "showlegend": true,
         "textposition": "auto",
         "type": "bar",
         "x": [
          "SVC V2"
         ],
         "xaxis": "x",
         "y": [
          0.9816746793726564
         ],
         "yaxis": "y"
        },
        {
         "alignmentgroup": "True",
         "hovertemplate": "Algorithm=%{x}<br>Weighted F1 Score=%{y}<extra></extra>",
         "legendgroup": "SVC V3",
         "marker": {
          "color": "#00cc96",
          "pattern": {
           "shape": ""
          }
         },
         "name": "SVC V3",
         "offsetgroup": "SVC V3",
         "orientation": "v",
         "showlegend": true,
         "textposition": "auto",
         "type": "bar",
         "x": [
          "SVC V3"
         ],
         "xaxis": "x",
         "y": [
          0.981603112410577
         ],
         "yaxis": "y"
        },
        {
         "alignmentgroup": "True",
         "hovertemplate": "Algorithm=%{x}<br>Weighted F1 Score=%{y}<extra></extra>",
         "legendgroup": "SVC V0",
         "marker": {
          "color": "#ab63fa",
          "pattern": {
           "shape": ""
          }
         },
         "name": "SVC V0",
         "offsetgroup": "SVC V0",
         "orientation": "v",
         "showlegend": true,
         "textposition": "auto",
         "type": "bar",
         "x": [
          "SVC V0"
         ],
         "xaxis": "x",
         "y": [
          0.9757041979729836
         ],
         "yaxis": "y"
        },
        {
         "alignmentgroup": "True",
         "hovertemplate": "Algorithm=%{x}<br>Weighted F1 Score=%{y}<extra></extra>",
         "legendgroup": "SVC V1",
         "marker": {
          "color": "#FFA15A",
          "pattern": {
           "shape": ""
          }
         },
         "name": "SVC V1",
         "offsetgroup": "SVC V1",
         "orientation": "v",
         "showlegend": true,
         "textposition": "auto",
         "type": "bar",
         "x": [
          "SVC V1"
         ],
         "xaxis": "x",
         "y": [
          0.9757041979729836
         ],
         "yaxis": "y"
        },
        {
         "alignmentgroup": "True",
         "hovertemplate": "Algorithm=%{x}<br>Weighted F1 Score=%{y}<extra></extra>",
         "legendgroup": "KNN V1",
         "marker": {
          "color": "#19d3f3",
          "pattern": {
           "shape": ""
          }
         },
         "name": "KNN V1",
         "offsetgroup": "KNN V1",
         "orientation": "v",
         "showlegend": true,
         "textposition": "auto",
         "type": "bar",
         "x": [
          "KNN V1"
         ],
         "xaxis": "x",
         "y": [
          0.9688449054533596
         ],
         "yaxis": "y"
        },
        {
         "alignmentgroup": "True",
         "hovertemplate": "Algorithm=%{x}<br>Weighted F1 Score=%{y}<extra></extra>",
         "legendgroup": "KNN V0",
         "marker": {
          "color": "#FF6692",
          "pattern": {
           "shape": ""
          }
         },
         "name": "KNN V0",
         "offsetgroup": "KNN V0",
         "orientation": "v",
         "showlegend": true,
         "textposition": "auto",
         "type": "bar",
         "x": [
          "KNN V0"
         ],
         "xaxis": "x",
         "y": [
          0.9677361872003885
         ],
         "yaxis": "y"
        },
        {
         "alignmentgroup": "True",
         "hovertemplate": "Algorithm=%{x}<br>Weighted F1 Score=%{y}<extra></extra>",
         "legendgroup": "Random Forest V1",
         "marker": {
          "color": "#B6E880",
          "pattern": {
           "shape": ""
          }
         },
         "name": "Random Forest V1",
         "offsetgroup": "Random Forest V1",
         "orientation": "v",
         "showlegend": true,
         "textposition": "auto",
         "type": "bar",
         "x": [
          "Random Forest V1"
         ],
         "xaxis": "x",
         "y": [
          0.966872950840632
         ],
         "yaxis": "y"
        },
        {
         "alignmentgroup": "True",
         "hovertemplate": "Algorithm=%{x}<br>Weighted F1 Score=%{y}<extra></extra>",
         "legendgroup": "Random Forest V0",
         "marker": {
          "color": "#FF97FF",
          "pattern": {
           "shape": ""
          }
         },
         "name": "Random Forest V0",
         "offsetgroup": "Random Forest V0",
         "orientation": "v",
         "showlegend": true,
         "textposition": "auto",
         "type": "bar",
         "x": [
          "Random Forest V0"
         ],
         "xaxis": "x",
         "y": [
          0.9650975524618308
         ],
         "yaxis": "y"
        },
        {
         "alignmentgroup": "True",
         "hovertemplate": "Algorithm=%{x}<br>Weighted F1 Score=%{y}<extra></extra>",
         "legendgroup": "Logistic Regression V2",
         "marker": {
          "color": "#FECB52",
          "pattern": {
           "shape": ""
          }
         },
         "name": "Logistic Regression V2",
         "offsetgroup": "Logistic Regression V2",
         "orientation": "v",
         "showlegend": true,
         "textposition": "auto",
         "type": "bar",
         "x": [
          "Logistic Regression V2"
         ],
         "xaxis": "x",
         "y": [
          0.9211933003913916
         ],
         "yaxis": "y"
        },
        {
         "alignmentgroup": "True",
         "hovertemplate": "Algorithm=%{x}<br>Weighted F1 Score=%{y}<extra></extra>",
         "legendgroup": "Logistic Regression V1",
         "marker": {
          "color": "#636efa",
          "pattern": {
           "shape": ""
          }
         },
         "name": "Logistic Regression V1",
         "offsetgroup": "Logistic Regression V1",
         "orientation": "v",
         "showlegend": true,
         "textposition": "auto",
         "type": "bar",
         "x": [
          "Logistic Regression V1"
         ],
         "xaxis": "x",
         "y": [
          0.9204436053874516
         ],
         "yaxis": "y"
        },
        {
         "alignmentgroup": "True",
         "hovertemplate": "Algorithm=%{x}<br>Weighted F1 Score=%{y}<extra></extra>",
         "legendgroup": "Logistic Regression V0",
         "marker": {
          "color": "#EF553B",
          "pattern": {
           "shape": ""
          }
         },
         "name": "Logistic Regression V0",
         "offsetgroup": "Logistic Regression V0",
         "orientation": "v",
         "showlegend": true,
         "textposition": "auto",
         "type": "bar",
         "x": [
          "Logistic Regression V0"
         ],
         "xaxis": "x",
         "y": [
          0.9196967787148708
         ],
         "yaxis": "y"
        }
       ],
       "layout": {
        "barmode": "relative",
        "legend": {
         "title": {
          "text": "Algorithm"
         },
         "tracegroupgap": 0
        },
        "template": {
         "data": {
          "bar": [
           {
            "error_x": {
             "color": "#2a3f5f"
            },
            "error_y": {
             "color": "#2a3f5f"
            },
            "marker": {
             "line": {
              "color": "#E5ECF6",
              "width": 0.5
             },
             "pattern": {
              "fillmode": "overlay",
              "size": 10,
              "solidity": 0.2
             }
            },
            "type": "bar"
           }
          ],
          "barpolar": [
           {
            "marker": {
             "line": {
              "color": "#E5ECF6",
              "width": 0.5
             },
             "pattern": {
              "fillmode": "overlay",
              "size": 10,
              "solidity": 0.2
             }
            },
            "type": "barpolar"
           }
          ],
          "carpet": [
           {
            "aaxis": {
             "endlinecolor": "#2a3f5f",
             "gridcolor": "white",
             "linecolor": "white",
             "minorgridcolor": "white",
             "startlinecolor": "#2a3f5f"
            },
            "baxis": {
             "endlinecolor": "#2a3f5f",
             "gridcolor": "white",
             "linecolor": "white",
             "minorgridcolor": "white",
             "startlinecolor": "#2a3f5f"
            },
            "type": "carpet"
           }
          ],
          "choropleth": [
           {
            "colorbar": {
             "outlinewidth": 0,
             "ticks": ""
            },
            "type": "choropleth"
           }
          ],
          "contour": [
           {
            "colorbar": {
             "outlinewidth": 0,
             "ticks": ""
            },
            "colorscale": [
             [
              0,
              "#0d0887"
             ],
             [
              0.1111111111111111,
              "#46039f"
             ],
             [
              0.2222222222222222,
              "#7201a8"
             ],
             [
              0.3333333333333333,
              "#9c179e"
             ],
             [
              0.4444444444444444,
              "#bd3786"
             ],
             [
              0.5555555555555556,
              "#d8576b"
             ],
             [
              0.6666666666666666,
              "#ed7953"
             ],
             [
              0.7777777777777778,
              "#fb9f3a"
             ],
             [
              0.8888888888888888,
              "#fdca26"
             ],
             [
              1,
              "#f0f921"
             ]
            ],
            "type": "contour"
           }
          ],
          "contourcarpet": [
           {
            "colorbar": {
             "outlinewidth": 0,
             "ticks": ""
            },
            "type": "contourcarpet"
           }
          ],
          "heatmap": [
           {
            "colorbar": {
             "outlinewidth": 0,
             "ticks": ""
            },
            "colorscale": [
             [
              0,
              "#0d0887"
             ],
             [
              0.1111111111111111,
              "#46039f"
             ],
             [
              0.2222222222222222,
              "#7201a8"
             ],
             [
              0.3333333333333333,
              "#9c179e"
             ],
             [
              0.4444444444444444,
              "#bd3786"
             ],
             [
              0.5555555555555556,
              "#d8576b"
             ],
             [
              0.6666666666666666,
              "#ed7953"
             ],
             [
              0.7777777777777778,
              "#fb9f3a"
             ],
             [
              0.8888888888888888,
              "#fdca26"
             ],
             [
              1,
              "#f0f921"
             ]
            ],
            "type": "heatmap"
           }
          ],
          "heatmapgl": [
           {
            "colorbar": {
             "outlinewidth": 0,
             "ticks": ""
            },
            "colorscale": [
             [
              0,
              "#0d0887"
             ],
             [
              0.1111111111111111,
              "#46039f"
             ],
             [
              0.2222222222222222,
              "#7201a8"
             ],
             [
              0.3333333333333333,
              "#9c179e"
             ],
             [
              0.4444444444444444,
              "#bd3786"
             ],
             [
              0.5555555555555556,
              "#d8576b"
             ],
             [
              0.6666666666666666,
              "#ed7953"
             ],
             [
              0.7777777777777778,
              "#fb9f3a"
             ],
             [
              0.8888888888888888,
              "#fdca26"
             ],
             [
              1,
              "#f0f921"
             ]
            ],
            "type": "heatmapgl"
           }
          ],
          "histogram": [
           {
            "marker": {
             "pattern": {
              "fillmode": "overlay",
              "size": 10,
              "solidity": 0.2
             }
            },
            "type": "histogram"
           }
          ],
          "histogram2d": [
           {
            "colorbar": {
             "outlinewidth": 0,
             "ticks": ""
            },
            "colorscale": [
             [
              0,
              "#0d0887"
             ],
             [
              0.1111111111111111,
              "#46039f"
             ],
             [
              0.2222222222222222,
              "#7201a8"
             ],
             [
              0.3333333333333333,
              "#9c179e"
             ],
             [
              0.4444444444444444,
              "#bd3786"
             ],
             [
              0.5555555555555556,
              "#d8576b"
             ],
             [
              0.6666666666666666,
              "#ed7953"
             ],
             [
              0.7777777777777778,
              "#fb9f3a"
             ],
             [
              0.8888888888888888,
              "#fdca26"
             ],
             [
              1,
              "#f0f921"
             ]
            ],
            "type": "histogram2d"
           }
          ],
          "histogram2dcontour": [
           {
            "colorbar": {
             "outlinewidth": 0,
             "ticks": ""
            },
            "colorscale": [
             [
              0,
              "#0d0887"
             ],
             [
              0.1111111111111111,
              "#46039f"
             ],
             [
              0.2222222222222222,
              "#7201a8"
             ],
             [
              0.3333333333333333,
              "#9c179e"
             ],
             [
              0.4444444444444444,
              "#bd3786"
             ],
             [
              0.5555555555555556,
              "#d8576b"
             ],
             [
              0.6666666666666666,
              "#ed7953"
             ],
             [
              0.7777777777777778,
              "#fb9f3a"
             ],
             [
              0.8888888888888888,
              "#fdca26"
             ],
             [
              1,
              "#f0f921"
             ]
            ],
            "type": "histogram2dcontour"
           }
          ],
          "mesh3d": [
           {
            "colorbar": {
             "outlinewidth": 0,
             "ticks": ""
            },
            "type": "mesh3d"
           }
          ],
          "parcoords": [
           {
            "line": {
             "colorbar": {
              "outlinewidth": 0,
              "ticks": ""
             }
            },
            "type": "parcoords"
           }
          ],
          "pie": [
           {
            "automargin": true,
            "type": "pie"
           }
          ],
          "scatter": [
           {
            "fillpattern": {
             "fillmode": "overlay",
             "size": 10,
             "solidity": 0.2
            },
            "type": "scatter"
           }
          ],
          "scatter3d": [
           {
            "line": {
             "colorbar": {
              "outlinewidth": 0,
              "ticks": ""
             }
            },
            "marker": {
             "colorbar": {
              "outlinewidth": 0,
              "ticks": ""
             }
            },
            "type": "scatter3d"
           }
          ],
          "scattercarpet": [
           {
            "marker": {
             "colorbar": {
              "outlinewidth": 0,
              "ticks": ""
             }
            },
            "type": "scattercarpet"
           }
          ],
          "scattergeo": [
           {
            "marker": {
             "colorbar": {
              "outlinewidth": 0,
              "ticks": ""
             }
            },
            "type": "scattergeo"
           }
          ],
          "scattergl": [
           {
            "marker": {
             "colorbar": {
              "outlinewidth": 0,
              "ticks": ""
             }
            },
            "type": "scattergl"
           }
          ],
          "scattermapbox": [
           {
            "marker": {
             "colorbar": {
              "outlinewidth": 0,
              "ticks": ""
             }
            },
            "type": "scattermapbox"
           }
          ],
          "scatterpolar": [
           {
            "marker": {
             "colorbar": {
              "outlinewidth": 0,
              "ticks": ""
             }
            },
            "type": "scatterpolar"
           }
          ],
          "scatterpolargl": [
           {
            "marker": {
             "colorbar": {
              "outlinewidth": 0,
              "ticks": ""
             }
            },
            "type": "scatterpolargl"
           }
          ],
          "scatterternary": [
           {
            "marker": {
             "colorbar": {
              "outlinewidth": 0,
              "ticks": ""
             }
            },
            "type": "scatterternary"
           }
          ],
          "surface": [
           {
            "colorbar": {
             "outlinewidth": 0,
             "ticks": ""
            },
            "colorscale": [
             [
              0,
              "#0d0887"
             ],
             [
              0.1111111111111111,
              "#46039f"
             ],
             [
              0.2222222222222222,
              "#7201a8"
             ],
             [
              0.3333333333333333,
              "#9c179e"
             ],
             [
              0.4444444444444444,
              "#bd3786"
             ],
             [
              0.5555555555555556,
              "#d8576b"
             ],
             [
              0.6666666666666666,
              "#ed7953"
             ],
             [
              0.7777777777777778,
              "#fb9f3a"
             ],
             [
              0.8888888888888888,
              "#fdca26"
             ],
             [
              1,
              "#f0f921"
             ]
            ],
            "type": "surface"
           }
          ],
          "table": [
           {
            "cells": {
             "fill": {
              "color": "#EBF0F8"
             },
             "line": {
              "color": "white"
             }
            },
            "header": {
             "fill": {
              "color": "#C8D4E3"
             },
             "line": {
              "color": "white"
             }
            },
            "type": "table"
           }
          ]
         },
         "layout": {
          "annotationdefaults": {
           "arrowcolor": "#2a3f5f",
           "arrowhead": 0,
           "arrowwidth": 1
          },
          "autotypenumbers": "strict",
          "coloraxis": {
           "colorbar": {
            "outlinewidth": 0,
            "ticks": ""
           }
          },
          "colorscale": {
           "diverging": [
            [
             0,
             "#8e0152"
            ],
            [
             0.1,
             "#c51b7d"
            ],
            [
             0.2,
             "#de77ae"
            ],
            [
             0.3,
             "#f1b6da"
            ],
            [
             0.4,
             "#fde0ef"
            ],
            [
             0.5,
             "#f7f7f7"
            ],
            [
             0.6,
             "#e6f5d0"
            ],
            [
             0.7,
             "#b8e186"
            ],
            [
             0.8,
             "#7fbc41"
            ],
            [
             0.9,
             "#4d9221"
            ],
            [
             1,
             "#276419"
            ]
           ],
           "sequential": [
            [
             0,
             "#0d0887"
            ],
            [
             0.1111111111111111,
             "#46039f"
            ],
            [
             0.2222222222222222,
             "#7201a8"
            ],
            [
             0.3333333333333333,
             "#9c179e"
            ],
            [
             0.4444444444444444,
             "#bd3786"
            ],
            [
             0.5555555555555556,
             "#d8576b"
            ],
            [
             0.6666666666666666,
             "#ed7953"
            ],
            [
             0.7777777777777778,
             "#fb9f3a"
            ],
            [
             0.8888888888888888,
             "#fdca26"
            ],
            [
             1,
             "#f0f921"
            ]
           ],
           "sequentialminus": [
            [
             0,
             "#0d0887"
            ],
            [
             0.1111111111111111,
             "#46039f"
            ],
            [
             0.2222222222222222,
             "#7201a8"
            ],
            [
             0.3333333333333333,
             "#9c179e"
            ],
            [
             0.4444444444444444,
             "#bd3786"
            ],
            [
             0.5555555555555556,
             "#d8576b"
            ],
            [
             0.6666666666666666,
             "#ed7953"
            ],
            [
             0.7777777777777778,
             "#fb9f3a"
            ],
            [
             0.8888888888888888,
             "#fdca26"
            ],
            [
             1,
             "#f0f921"
            ]
           ]
          },
          "colorway": [
           "#636efa",
           "#EF553B",
           "#00cc96",
           "#ab63fa",
           "#FFA15A",
           "#19d3f3",
           "#FF6692",
           "#B6E880",
           "#FF97FF",
           "#FECB52"
          ],
          "font": {
           "color": "#2a3f5f"
          },
          "geo": {
           "bgcolor": "white",
           "lakecolor": "white",
           "landcolor": "#E5ECF6",
           "showlakes": true,
           "showland": true,
           "subunitcolor": "white"
          },
          "hoverlabel": {
           "align": "left"
          },
          "hovermode": "closest",
          "mapbox": {
           "style": "light"
          },
          "paper_bgcolor": "white",
          "plot_bgcolor": "#E5ECF6",
          "polar": {
           "angularaxis": {
            "gridcolor": "white",
            "linecolor": "white",
            "ticks": ""
           },
           "bgcolor": "#E5ECF6",
           "radialaxis": {
            "gridcolor": "white",
            "linecolor": "white",
            "ticks": ""
           }
          },
          "scene": {
           "xaxis": {
            "backgroundcolor": "#E5ECF6",
            "gridcolor": "white",
            "gridwidth": 2,
            "linecolor": "white",
            "showbackground": true,
            "ticks": "",
            "zerolinecolor": "white"
           },
           "yaxis": {
            "backgroundcolor": "#E5ECF6",
            "gridcolor": "white",
            "gridwidth": 2,
            "linecolor": "white",
            "showbackground": true,
            "ticks": "",
            "zerolinecolor": "white"
           },
           "zaxis": {
            "backgroundcolor": "#E5ECF6",
            "gridcolor": "white",
            "gridwidth": 2,
            "linecolor": "white",
            "showbackground": true,
            "ticks": "",
            "zerolinecolor": "white"
           }
          },
          "shapedefaults": {
           "line": {
            "color": "#2a3f5f"
           }
          },
          "ternary": {
           "aaxis": {
            "gridcolor": "white",
            "linecolor": "white",
            "ticks": ""
           },
           "baxis": {
            "gridcolor": "white",
            "linecolor": "white",
            "ticks": ""
           },
           "bgcolor": "#E5ECF6",
           "caxis": {
            "gridcolor": "white",
            "linecolor": "white",
            "ticks": ""
           }
          },
          "title": {
           "x": 0.05
          },
          "xaxis": {
           "automargin": true,
           "gridcolor": "white",
           "linecolor": "white",
           "ticks": "",
           "title": {
            "standoff": 15
           },
           "zerolinecolor": "white",
           "zerolinewidth": 2
          },
          "yaxis": {
           "automargin": true,
           "gridcolor": "white",
           "linecolor": "white",
           "ticks": "",
           "title": {
            "standoff": 15
           },
           "zerolinecolor": "white",
           "zerolinewidth": 2
          }
         }
        },
        "title": {
         "text": "Weighted F1 Score of different models"
        },
        "xaxis": {
         "anchor": "y",
         "categoryarray": [
          "SVC V4",
          "SVC V2",
          "SVC V3",
          "SVC V0",
          "SVC V1",
          "KNN V1",
          "KNN V0",
          "Random Forest V1",
          "Random Forest V0",
          "Logistic Regression V2",
          "Logistic Regression V1",
          "Logistic Regression V0"
         ],
         "categoryorder": "array",
         "domain": [
          0,
          1
         ],
         "title": {
          "text": "Algorithm"
         }
        },
        "yaxis": {
         "anchor": "x",
         "domain": [
          0,
          1
         ],
         "title": {
          "text": "Weighted F1 Score"
         }
        }
       }
      }
     },
     "metadata": {},
     "output_type": "display_data"
    }
   ],
   "source": [
    "## lets create a horizontal bar chart for the weighted f1 score, accuracy and per class f1 scores\n",
    "## we will use plotly express for this\n",
    "fig = px.bar(models_metrics.sort_values(by=\"Weighted F1 Score\", ascending=False), x='Algorithm', y='Weighted F1 Score', title='Weighted F1 Score of different models', color='Algorithm')\n",
    "## save the figure\n",
    "fig.write_image(Path(\"..\", \"visualization\", \"weighted_f1_score_comparison.png\"))\n",
    "fig.show()"
   ]
  },
  {
   "cell_type": "code",
   "execution_count": 59,
   "metadata": {},
   "outputs": [
    {
     "data": {
      "application/vnd.plotly.v1+json": {
       "config": {
        "plotlyServerURL": "https://plot.ly"
       },
       "data": [
        {
         "alignmentgroup": "True",
         "hovertemplate": "Algorithm=%{x}<br>Accuracy=%{y}<extra></extra>",
         "legendgroup": "SVC V4",
         "marker": {
          "color": "#636efa",
          "pattern": {
           "shape": ""
          }
         },
         "name": "SVC V4",
         "offsetgroup": "SVC V4",
         "orientation": "v",
         "showlegend": true,
         "textposition": "auto",
         "type": "bar",
         "x": [
          "SVC V4"
         ],
         "xaxis": "x",
         "y": [
          0.9897142857142858
         ],
         "yaxis": "y"
        },
        {
         "alignmentgroup": "True",
         "hovertemplate": "Algorithm=%{x}<br>Accuracy=%{y}<extra></extra>",
         "legendgroup": "SVC V2",
         "marker": {
          "color": "#EF553B",
          "pattern": {
           "shape": ""
          }
         },
         "name": "SVC V2",
         "offsetgroup": "SVC V2",
         "orientation": "v",
         "showlegend": true,
         "textposition": "auto",
         "type": "bar",
         "x": [
          "SVC V2"
         ],
         "xaxis": "x",
         "y": [
          0.9816785714285714
         ],
         "yaxis": "y"
        },
        {
         "alignmentgroup": "True",
         "hovertemplate": "Algorithm=%{x}<br>Accuracy=%{y}<extra></extra>",
         "legendgroup": "SVC V3",
         "marker": {
          "color": "#00cc96",
          "pattern": {
           "shape": ""
          }
         },
         "name": "SVC V3",
         "offsetgroup": "SVC V3",
         "orientation": "v",
         "showlegend": true,
         "textposition": "auto",
         "type": "bar",
         "x": [
          "SVC V3"
         ],
         "xaxis": "x",
         "y": [
          0.9816071428571428
         ],
         "yaxis": "y"
        },
        {
         "alignmentgroup": "True",
         "hovertemplate": "Algorithm=%{x}<br>Accuracy=%{y}<extra></extra>",
         "legendgroup": "SVC V0",
         "marker": {
          "color": "#ab63fa",
          "pattern": {
           "shape": ""
          }
         },
         "name": "SVC V0",
         "offsetgroup": "SVC V0",
         "orientation": "v",
         "showlegend": true,
         "textposition": "auto",
         "type": "bar",
         "x": [
          "SVC V0"
         ],
         "xaxis": "x",
         "y": [
          0.9757142857142858
         ],
         "yaxis": "y"
        },
        {
         "alignmentgroup": "True",
         "hovertemplate": "Algorithm=%{x}<br>Accuracy=%{y}<extra></extra>",
         "legendgroup": "SVC V1",
         "marker": {
          "color": "#FFA15A",
          "pattern": {
           "shape": ""
          }
         },
         "name": "SVC V1",
         "offsetgroup": "SVC V1",
         "orientation": "v",
         "showlegend": true,
         "textposition": "auto",
         "type": "bar",
         "x": [
          "SVC V1"
         ],
         "xaxis": "x",
         "y": [
          0.9757142857142858
         ],
         "yaxis": "y"
        },
        {
         "alignmentgroup": "True",
         "hovertemplate": "Algorithm=%{x}<br>Accuracy=%{y}<extra></extra>",
         "legendgroup": "KNN V1",
         "marker": {
          "color": "#19d3f3",
          "pattern": {
           "shape": ""
          }
         },
         "name": "KNN V1",
         "offsetgroup": "KNN V1",
         "orientation": "v",
         "showlegend": true,
         "textposition": "auto",
         "type": "bar",
         "x": [
          "KNN V1"
         ],
         "xaxis": "x",
         "y": [
          0.9688928571428572
         ],
         "yaxis": "y"
        },
        {
         "alignmentgroup": "True",
         "hovertemplate": "Algorithm=%{x}<br>Accuracy=%{y}<extra></extra>",
         "legendgroup": "KNN V0",
         "marker": {
          "color": "#FF6692",
          "pattern": {
           "shape": ""
          }
         },
         "name": "KNN V0",
         "offsetgroup": "KNN V0",
         "orientation": "v",
         "showlegend": true,
         "textposition": "auto",
         "type": "bar",
         "x": [
          "KNN V0"
         ],
         "xaxis": "x",
         "y": [
          0.9678035714285714
         ],
         "yaxis": "y"
        },
        {
         "alignmentgroup": "True",
         "hovertemplate": "Algorithm=%{x}<br>Accuracy=%{y}<extra></extra>",
         "legendgroup": "Random Forest V1",
         "marker": {
          "color": "#B6E880",
          "pattern": {
           "shape": ""
          }
         },
         "name": "Random Forest V1",
         "offsetgroup": "Random Forest V1",
         "orientation": "v",
         "showlegend": true,
         "textposition": "auto",
         "type": "bar",
         "x": [
          "Random Forest V1"
         ],
         "xaxis": "x",
         "y": [
          0.9668928571428572
         ],
         "yaxis": "y"
        },
        {
         "alignmentgroup": "True",
         "hovertemplate": "Algorithm=%{x}<br>Accuracy=%{y}<extra></extra>",
         "legendgroup": "Random Forest V0",
         "marker": {
          "color": "#FF97FF",
          "pattern": {
           "shape": ""
          }
         },
         "name": "Random Forest V0",
         "offsetgroup": "Random Forest V0",
         "orientation": "v",
         "showlegend": true,
         "textposition": "auto",
         "type": "bar",
         "x": [
          "Random Forest V0"
         ],
         "xaxis": "x",
         "y": [
          0.965125
         ],
         "yaxis": "y"
        },
        {
         "alignmentgroup": "True",
         "hovertemplate": "Algorithm=%{x}<br>Accuracy=%{y}<extra></extra>",
         "legendgroup": "Logistic Regression V2",
         "marker": {
          "color": "#FECB52",
          "pattern": {
           "shape": ""
          }
         },
         "name": "Logistic Regression V2",
         "offsetgroup": "Logistic Regression V2",
         "orientation": "v",
         "showlegend": true,
         "textposition": "auto",
         "type": "bar",
         "x": [
          "Logistic Regression V2"
         ],
         "xaxis": "x",
         "y": [
          0.921375
         ],
         "yaxis": "y"
        },
        {
         "alignmentgroup": "True",
         "hovertemplate": "Algorithm=%{x}<br>Accuracy=%{y}<extra></extra>",
         "legendgroup": "Logistic Regression V1",
         "marker": {
          "color": "#636efa",
          "pattern": {
           "shape": ""
          }
         },
         "name": "Logistic Regression V1",
         "offsetgroup": "Logistic Regression V1",
         "orientation": "v",
         "showlegend": true,
         "textposition": "auto",
         "type": "bar",
         "x": [
          "Logistic Regression V1"
         ],
         "xaxis": "x",
         "y": [
          0.9205892857142856
         ],
         "yaxis": "y"
        },
        {
         "alignmentgroup": "True",
         "hovertemplate": "Algorithm=%{x}<br>Accuracy=%{y}<extra></extra>",
         "legendgroup": "Logistic Regression V0",
         "marker": {
          "color": "#EF553B",
          "pattern": {
           "shape": ""
          }
         },
         "name": "Logistic Regression V0",
         "offsetgroup": "Logistic Regression V0",
         "orientation": "v",
         "showlegend": true,
         "textposition": "auto",
         "type": "bar",
         "x": [
          "Logistic Regression V0"
         ],
         "xaxis": "x",
         "y": [
          0.9198392857142856
         ],
         "yaxis": "y"
        }
       ],
       "layout": {
        "barmode": "relative",
        "legend": {
         "title": {
          "text": "Algorithm"
         },
         "tracegroupgap": 0
        },
        "template": {
         "data": {
          "bar": [
           {
            "error_x": {
             "color": "#2a3f5f"
            },
            "error_y": {
             "color": "#2a3f5f"
            },
            "marker": {
             "line": {
              "color": "#E5ECF6",
              "width": 0.5
             },
             "pattern": {
              "fillmode": "overlay",
              "size": 10,
              "solidity": 0.2
             }
            },
            "type": "bar"
           }
          ],
          "barpolar": [
           {
            "marker": {
             "line": {
              "color": "#E5ECF6",
              "width": 0.5
             },
             "pattern": {
              "fillmode": "overlay",
              "size": 10,
              "solidity": 0.2
             }
            },
            "type": "barpolar"
           }
          ],
          "carpet": [
           {
            "aaxis": {
             "endlinecolor": "#2a3f5f",
             "gridcolor": "white",
             "linecolor": "white",
             "minorgridcolor": "white",
             "startlinecolor": "#2a3f5f"
            },
            "baxis": {
             "endlinecolor": "#2a3f5f",
             "gridcolor": "white",
             "linecolor": "white",
             "minorgridcolor": "white",
             "startlinecolor": "#2a3f5f"
            },
            "type": "carpet"
           }
          ],
          "choropleth": [
           {
            "colorbar": {
             "outlinewidth": 0,
             "ticks": ""
            },
            "type": "choropleth"
           }
          ],
          "contour": [
           {
            "colorbar": {
             "outlinewidth": 0,
             "ticks": ""
            },
            "colorscale": [
             [
              0,
              "#0d0887"
             ],
             [
              0.1111111111111111,
              "#46039f"
             ],
             [
              0.2222222222222222,
              "#7201a8"
             ],
             [
              0.3333333333333333,
              "#9c179e"
             ],
             [
              0.4444444444444444,
              "#bd3786"
             ],
             [
              0.5555555555555556,
              "#d8576b"
             ],
             [
              0.6666666666666666,
              "#ed7953"
             ],
             [
              0.7777777777777778,
              "#fb9f3a"
             ],
             [
              0.8888888888888888,
              "#fdca26"
             ],
             [
              1,
              "#f0f921"
             ]
            ],
            "type": "contour"
           }
          ],
          "contourcarpet": [
           {
            "colorbar": {
             "outlinewidth": 0,
             "ticks": ""
            },
            "type": "contourcarpet"
           }
          ],
          "heatmap": [
           {
            "colorbar": {
             "outlinewidth": 0,
             "ticks": ""
            },
            "colorscale": [
             [
              0,
              "#0d0887"
             ],
             [
              0.1111111111111111,
              "#46039f"
             ],
             [
              0.2222222222222222,
              "#7201a8"
             ],
             [
              0.3333333333333333,
              "#9c179e"
             ],
             [
              0.4444444444444444,
              "#bd3786"
             ],
             [
              0.5555555555555556,
              "#d8576b"
             ],
             [
              0.6666666666666666,
              "#ed7953"
             ],
             [
              0.7777777777777778,
              "#fb9f3a"
             ],
             [
              0.8888888888888888,
              "#fdca26"
             ],
             [
              1,
              "#f0f921"
             ]
            ],
            "type": "heatmap"
           }
          ],
          "heatmapgl": [
           {
            "colorbar": {
             "outlinewidth": 0,
             "ticks": ""
            },
            "colorscale": [
             [
              0,
              "#0d0887"
             ],
             [
              0.1111111111111111,
              "#46039f"
             ],
             [
              0.2222222222222222,
              "#7201a8"
             ],
             [
              0.3333333333333333,
              "#9c179e"
             ],
             [
              0.4444444444444444,
              "#bd3786"
             ],
             [
              0.5555555555555556,
              "#d8576b"
             ],
             [
              0.6666666666666666,
              "#ed7953"
             ],
             [
              0.7777777777777778,
              "#fb9f3a"
             ],
             [
              0.8888888888888888,
              "#fdca26"
             ],
             [
              1,
              "#f0f921"
             ]
            ],
            "type": "heatmapgl"
           }
          ],
          "histogram": [
           {
            "marker": {
             "pattern": {
              "fillmode": "overlay",
              "size": 10,
              "solidity": 0.2
             }
            },
            "type": "histogram"
           }
          ],
          "histogram2d": [
           {
            "colorbar": {
             "outlinewidth": 0,
             "ticks": ""
            },
            "colorscale": [
             [
              0,
              "#0d0887"
             ],
             [
              0.1111111111111111,
              "#46039f"
             ],
             [
              0.2222222222222222,
              "#7201a8"
             ],
             [
              0.3333333333333333,
              "#9c179e"
             ],
             [
              0.4444444444444444,
              "#bd3786"
             ],
             [
              0.5555555555555556,
              "#d8576b"
             ],
             [
              0.6666666666666666,
              "#ed7953"
             ],
             [
              0.7777777777777778,
              "#fb9f3a"
             ],
             [
              0.8888888888888888,
              "#fdca26"
             ],
             [
              1,
              "#f0f921"
             ]
            ],
            "type": "histogram2d"
           }
          ],
          "histogram2dcontour": [
           {
            "colorbar": {
             "outlinewidth": 0,
             "ticks": ""
            },
            "colorscale": [
             [
              0,
              "#0d0887"
             ],
             [
              0.1111111111111111,
              "#46039f"
             ],
             [
              0.2222222222222222,
              "#7201a8"
             ],
             [
              0.3333333333333333,
              "#9c179e"
             ],
             [
              0.4444444444444444,
              "#bd3786"
             ],
             [
              0.5555555555555556,
              "#d8576b"
             ],
             [
              0.6666666666666666,
              "#ed7953"
             ],
             [
              0.7777777777777778,
              "#fb9f3a"
             ],
             [
              0.8888888888888888,
              "#fdca26"
             ],
             [
              1,
              "#f0f921"
             ]
            ],
            "type": "histogram2dcontour"
           }
          ],
          "mesh3d": [
           {
            "colorbar": {
             "outlinewidth": 0,
             "ticks": ""
            },
            "type": "mesh3d"
           }
          ],
          "parcoords": [
           {
            "line": {
             "colorbar": {
              "outlinewidth": 0,
              "ticks": ""
             }
            },
            "type": "parcoords"
           }
          ],
          "pie": [
           {
            "automargin": true,
            "type": "pie"
           }
          ],
          "scatter": [
           {
            "fillpattern": {
             "fillmode": "overlay",
             "size": 10,
             "solidity": 0.2
            },
            "type": "scatter"
           }
          ],
          "scatter3d": [
           {
            "line": {
             "colorbar": {
              "outlinewidth": 0,
              "ticks": ""
             }
            },
            "marker": {
             "colorbar": {
              "outlinewidth": 0,
              "ticks": ""
             }
            },
            "type": "scatter3d"
           }
          ],
          "scattercarpet": [
           {
            "marker": {
             "colorbar": {
              "outlinewidth": 0,
              "ticks": ""
             }
            },
            "type": "scattercarpet"
           }
          ],
          "scattergeo": [
           {
            "marker": {
             "colorbar": {
              "outlinewidth": 0,
              "ticks": ""
             }
            },
            "type": "scattergeo"
           }
          ],
          "scattergl": [
           {
            "marker": {
             "colorbar": {
              "outlinewidth": 0,
              "ticks": ""
             }
            },
            "type": "scattergl"
           }
          ],
          "scattermapbox": [
           {
            "marker": {
             "colorbar": {
              "outlinewidth": 0,
              "ticks": ""
             }
            },
            "type": "scattermapbox"
           }
          ],
          "scatterpolar": [
           {
            "marker": {
             "colorbar": {
              "outlinewidth": 0,
              "ticks": ""
             }
            },
            "type": "scatterpolar"
           }
          ],
          "scatterpolargl": [
           {
            "marker": {
             "colorbar": {
              "outlinewidth": 0,
              "ticks": ""
             }
            },
            "type": "scatterpolargl"
           }
          ],
          "scatterternary": [
           {
            "marker": {
             "colorbar": {
              "outlinewidth": 0,
              "ticks": ""
             }
            },
            "type": "scatterternary"
           }
          ],
          "surface": [
           {
            "colorbar": {
             "outlinewidth": 0,
             "ticks": ""
            },
            "colorscale": [
             [
              0,
              "#0d0887"
             ],
             [
              0.1111111111111111,
              "#46039f"
             ],
             [
              0.2222222222222222,
              "#7201a8"
             ],
             [
              0.3333333333333333,
              "#9c179e"
             ],
             [
              0.4444444444444444,
              "#bd3786"
             ],
             [
              0.5555555555555556,
              "#d8576b"
             ],
             [
              0.6666666666666666,
              "#ed7953"
             ],
             [
              0.7777777777777778,
              "#fb9f3a"
             ],
             [
              0.8888888888888888,
              "#fdca26"
             ],
             [
              1,
              "#f0f921"
             ]
            ],
            "type": "surface"
           }
          ],
          "table": [
           {
            "cells": {
             "fill": {
              "color": "#EBF0F8"
             },
             "line": {
              "color": "white"
             }
            },
            "header": {
             "fill": {
              "color": "#C8D4E3"
             },
             "line": {
              "color": "white"
             }
            },
            "type": "table"
           }
          ]
         },
         "layout": {
          "annotationdefaults": {
           "arrowcolor": "#2a3f5f",
           "arrowhead": 0,
           "arrowwidth": 1
          },
          "autotypenumbers": "strict",
          "coloraxis": {
           "colorbar": {
            "outlinewidth": 0,
            "ticks": ""
           }
          },
          "colorscale": {
           "diverging": [
            [
             0,
             "#8e0152"
            ],
            [
             0.1,
             "#c51b7d"
            ],
            [
             0.2,
             "#de77ae"
            ],
            [
             0.3,
             "#f1b6da"
            ],
            [
             0.4,
             "#fde0ef"
            ],
            [
             0.5,
             "#f7f7f7"
            ],
            [
             0.6,
             "#e6f5d0"
            ],
            [
             0.7,
             "#b8e186"
            ],
            [
             0.8,
             "#7fbc41"
            ],
            [
             0.9,
             "#4d9221"
            ],
            [
             1,
             "#276419"
            ]
           ],
           "sequential": [
            [
             0,
             "#0d0887"
            ],
            [
             0.1111111111111111,
             "#46039f"
            ],
            [
             0.2222222222222222,
             "#7201a8"
            ],
            [
             0.3333333333333333,
             "#9c179e"
            ],
            [
             0.4444444444444444,
             "#bd3786"
            ],
            [
             0.5555555555555556,
             "#d8576b"
            ],
            [
             0.6666666666666666,
             "#ed7953"
            ],
            [
             0.7777777777777778,
             "#fb9f3a"
            ],
            [
             0.8888888888888888,
             "#fdca26"
            ],
            [
             1,
             "#f0f921"
            ]
           ],
           "sequentialminus": [
            [
             0,
             "#0d0887"
            ],
            [
             0.1111111111111111,
             "#46039f"
            ],
            [
             0.2222222222222222,
             "#7201a8"
            ],
            [
             0.3333333333333333,
             "#9c179e"
            ],
            [
             0.4444444444444444,
             "#bd3786"
            ],
            [
             0.5555555555555556,
             "#d8576b"
            ],
            [
             0.6666666666666666,
             "#ed7953"
            ],
            [
             0.7777777777777778,
             "#fb9f3a"
            ],
            [
             0.8888888888888888,
             "#fdca26"
            ],
            [
             1,
             "#f0f921"
            ]
           ]
          },
          "colorway": [
           "#636efa",
           "#EF553B",
           "#00cc96",
           "#ab63fa",
           "#FFA15A",
           "#19d3f3",
           "#FF6692",
           "#B6E880",
           "#FF97FF",
           "#FECB52"
          ],
          "font": {
           "color": "#2a3f5f"
          },
          "geo": {
           "bgcolor": "white",
           "lakecolor": "white",
           "landcolor": "#E5ECF6",
           "showlakes": true,
           "showland": true,
           "subunitcolor": "white"
          },
          "hoverlabel": {
           "align": "left"
          },
          "hovermode": "closest",
          "mapbox": {
           "style": "light"
          },
          "paper_bgcolor": "white",
          "plot_bgcolor": "#E5ECF6",
          "polar": {
           "angularaxis": {
            "gridcolor": "white",
            "linecolor": "white",
            "ticks": ""
           },
           "bgcolor": "#E5ECF6",
           "radialaxis": {
            "gridcolor": "white",
            "linecolor": "white",
            "ticks": ""
           }
          },
          "scene": {
           "xaxis": {
            "backgroundcolor": "#E5ECF6",
            "gridcolor": "white",
            "gridwidth": 2,
            "linecolor": "white",
            "showbackground": true,
            "ticks": "",
            "zerolinecolor": "white"
           },
           "yaxis": {
            "backgroundcolor": "#E5ECF6",
            "gridcolor": "white",
            "gridwidth": 2,
            "linecolor": "white",
            "showbackground": true,
            "ticks": "",
            "zerolinecolor": "white"
           },
           "zaxis": {
            "backgroundcolor": "#E5ECF6",
            "gridcolor": "white",
            "gridwidth": 2,
            "linecolor": "white",
            "showbackground": true,
            "ticks": "",
            "zerolinecolor": "white"
           }
          },
          "shapedefaults": {
           "line": {
            "color": "#2a3f5f"
           }
          },
          "ternary": {
           "aaxis": {
            "gridcolor": "white",
            "linecolor": "white",
            "ticks": ""
           },
           "baxis": {
            "gridcolor": "white",
            "linecolor": "white",
            "ticks": ""
           },
           "bgcolor": "#E5ECF6",
           "caxis": {
            "gridcolor": "white",
            "linecolor": "white",
            "ticks": ""
           }
          },
          "title": {
           "x": 0.05
          },
          "xaxis": {
           "automargin": true,
           "gridcolor": "white",
           "linecolor": "white",
           "ticks": "",
           "title": {
            "standoff": 15
           },
           "zerolinecolor": "white",
           "zerolinewidth": 2
          },
          "yaxis": {
           "automargin": true,
           "gridcolor": "white",
           "linecolor": "white",
           "ticks": "",
           "title": {
            "standoff": 15
           },
           "zerolinecolor": "white",
           "zerolinewidth": 2
          }
         }
        },
        "title": {
         "text": "Weighted F1 Score of different models"
        },
        "xaxis": {
         "anchor": "y",
         "categoryarray": [
          "SVC V4",
          "SVC V2",
          "SVC V3",
          "SVC V0",
          "SVC V1",
          "KNN V1",
          "KNN V0",
          "Random Forest V1",
          "Random Forest V0",
          "Logistic Regression V2",
          "Logistic Regression V1",
          "Logistic Regression V0"
         ],
         "categoryorder": "array",
         "domain": [
          0,
          1
         ],
         "title": {
          "text": "Algorithm"
         }
        },
        "yaxis": {
         "anchor": "x",
         "domain": [
          0,
          1
         ],
         "title": {
          "text": "Accuracy"
         }
        }
       }
      }
     },
     "metadata": {},
     "output_type": "display_data"
    }
   ],
   "source": [
    "fig = px.bar(models_metrics.sort_values(by=\"Accuracy\", ascending=False), x='Algorithm', y='Accuracy', title='Weighted F1 Score of different models', color='Algorithm')\n",
    "fig.write_image(Path(\"..\", \"visualization\", \"accuracy_comparison.png\"))\n",
    "fig.show()"
   ]
  },
  {
   "cell_type": "code",
   "execution_count": 60,
   "metadata": {},
   "outputs": [
    {
     "data": {
      "application/vnd.plotly.v1+json": {
       "config": {
        "plotlyServerURL": "https://plot.ly"
       },
       "data": [
        {
         "alignmentgroup": "True",
         "hovertemplate": "Algorithm=%{x}<br>Class_0=%{y}<extra></extra>",
         "legendgroup": "SVC V4",
         "marker": {
          "color": "#636efa",
          "pattern": {
           "shape": ""
          }
         },
         "name": "SVC V4",
         "offsetgroup": "SVC V4",
         "orientation": "v",
         "showlegend": true,
         "textposition": "auto",
         "type": "bar",
         "x": [
          "SVC V4"
         ],
         "xaxis": "x",
         "y": [
          0.9953085528690003
         ],
         "yaxis": "y"
        },
        {
         "alignmentgroup": "True",
         "hovertemplate": "Algorithm=%{x}<br>Class_0=%{y}<extra></extra>",
         "legendgroup": "SVC V2",
         "marker": {
          "color": "#EF553B",
          "pattern": {
           "shape": ""
          }
         },
         "name": "SVC V2",
         "offsetgroup": "SVC V2",
         "orientation": "v",
         "showlegend": true,
         "textposition": "auto",
         "type": "bar",
         "x": [
          "SVC V2"
         ],
         "xaxis": "x",
         "y": [
          0.9886928991406604
         ],
         "yaxis": "y"
        },
        {
         "alignmentgroup": "True",
         "hovertemplate": "Algorithm=%{x}<br>Class_0=%{y}<extra></extra>",
         "legendgroup": "SVC V3",
         "marker": {
          "color": "#00cc96",
          "pattern": {
           "shape": ""
          }
         },
         "name": "SVC V3",
         "offsetgroup": "SVC V3",
         "orientation": "v",
         "showlegend": true,
         "textposition": "auto",
         "type": "bar",
         "x": [
          "SVC V3"
         ],
         "xaxis": "x",
         "y": [
          0.9886928991406604
         ],
         "yaxis": "y"
        },
        {
         "alignmentgroup": "True",
         "hovertemplate": "Algorithm=%{x}<br>Class_0=%{y}<extra></extra>",
         "legendgroup": "SVC V0",
         "marker": {
          "color": "#ab63fa",
          "pattern": {
           "shape": ""
          }
         },
         "name": "SVC V0",
         "offsetgroup": "SVC V0",
         "orientation": "v",
         "showlegend": true,
         "textposition": "auto",
         "type": "bar",
         "x": [
          "SVC V0"
         ],
         "xaxis": "x",
         "y": [
          0.986883763003166
         ],
         "yaxis": "y"
        },
        {
         "alignmentgroup": "True",
         "hovertemplate": "Algorithm=%{x}<br>Class_0=%{y}<extra></extra>",
         "legendgroup": "SVC V1",
         "marker": {
          "color": "#FFA15A",
          "pattern": {
           "shape": ""
          }
         },
         "name": "SVC V1",
         "offsetgroup": "SVC V1",
         "orientation": "v",
         "showlegend": true,
         "textposition": "auto",
         "type": "bar",
         "x": [
          "SVC V1"
         ],
         "xaxis": "x",
         "y": [
          0.986883763003166
         ],
         "yaxis": "y"
        },
        {
         "alignmentgroup": "True",
         "hovertemplate": "Algorithm=%{x}<br>Class_0=%{y}<extra></extra>",
         "legendgroup": "KNN V1",
         "marker": {
          "color": "#19d3f3",
          "pattern": {
           "shape": ""
          }
         },
         "name": "KNN V1",
         "offsetgroup": "KNN V1",
         "orientation": "v",
         "showlegend": true,
         "textposition": "auto",
         "type": "bar",
         "x": [
          "KNN V1"
         ],
         "xaxis": "x",
         "y": [
          0.9856872805833108
         ],
         "yaxis": "y"
        },
        {
         "alignmentgroup": "True",
         "hovertemplate": "Algorithm=%{x}<br>Class_0=%{y}<extra></extra>",
         "legendgroup": "KNN V0",
         "marker": {
          "color": "#FF6692",
          "pattern": {
           "shape": ""
          }
         },
         "name": "KNN V0",
         "offsetgroup": "KNN V0",
         "orientation": "v",
         "showlegend": true,
         "textposition": "auto",
         "type": "bar",
         "x": [
          "KNN V0"
         ],
         "xaxis": "x",
         "y": [
          0.98383910935536
         ],
         "yaxis": "y"
        },
        {
         "alignmentgroup": "True",
         "hovertemplate": "Algorithm=%{x}<br>Class_0=%{y}<extra></extra>",
         "legendgroup": "Random Forest V1",
         "marker": {
          "color": "#B6E880",
          "pattern": {
           "shape": ""
          }
         },
         "name": "Random Forest V1",
         "offsetgroup": "Random Forest V1",
         "orientation": "v",
         "showlegend": true,
         "textposition": "auto",
         "type": "bar",
         "x": [
          "Random Forest V1"
         ],
         "xaxis": "x",
         "y": [
          0.9822121896162528
         ],
         "yaxis": "y"
        },
        {
         "alignmentgroup": "True",
         "hovertemplate": "Algorithm=%{x}<br>Class_0=%{y}<extra></extra>",
         "legendgroup": "Random Forest V0",
         "marker": {
          "color": "#FF97FF",
          "pattern": {
           "shape": ""
          }
         },
         "name": "Random Forest V0",
         "offsetgroup": "Random Forest V0",
         "orientation": "v",
         "showlegend": true,
         "textposition": "auto",
         "type": "bar",
         "x": [
          "Random Forest V0"
         ],
         "xaxis": "x",
         "y": [
          0.981768953068592
         ],
         "yaxis": "y"
        },
        {
         "alignmentgroup": "True",
         "hovertemplate": "Algorithm=%{x}<br>Class_0=%{y}<extra></extra>",
         "legendgroup": "Logistic Regression V2",
         "marker": {
          "color": "#FECB52",
          "pattern": {
           "shape": ""
          }
         },
         "name": "Logistic Regression V2",
         "offsetgroup": "Logistic Regression V2",
         "orientation": "v",
         "showlegend": true,
         "textposition": "auto",
         "type": "bar",
         "x": [
          "Logistic Regression V2"
         ],
         "xaxis": "x",
         "y": [
          0.9619614205877052
         ],
         "yaxis": "y"
        },
        {
         "alignmentgroup": "True",
         "hovertemplate": "Algorithm=%{x}<br>Class_0=%{y}<extra></extra>",
         "legendgroup": "Logistic Regression V0",
         "marker": {
          "color": "#636efa",
          "pattern": {
           "shape": ""
          }
         },
         "name": "Logistic Regression V0",
         "offsetgroup": "Logistic Regression V0",
         "orientation": "v",
         "showlegend": true,
         "textposition": "auto",
         "type": "bar",
         "x": [
          "Logistic Regression V0"
         ],
         "xaxis": "x",
         "y": [
          0.9609403254972876
         ],
         "yaxis": "y"
        },
        {
         "alignmentgroup": "True",
         "hovertemplate": "Algorithm=%{x}<br>Class_0=%{y}<extra></extra>",
         "legendgroup": "Logistic Regression V1",
         "marker": {
          "color": "#EF553B",
          "pattern": {
           "shape": ""
          }
         },
         "name": "Logistic Regression V1",
         "offsetgroup": "Logistic Regression V1",
         "orientation": "v",
         "showlegend": true,
         "textposition": "auto",
         "type": "bar",
         "x": [
          "Logistic Regression V1"
         ],
         "xaxis": "x",
         "y": [
          0.9607010570060528
         ],
         "yaxis": "y"
        }
       ],
       "layout": {
        "barmode": "relative",
        "legend": {
         "title": {
          "text": "Algorithm"
         },
         "tracegroupgap": 0
        },
        "template": {
         "data": {
          "bar": [
           {
            "error_x": {
             "color": "#2a3f5f"
            },
            "error_y": {
             "color": "#2a3f5f"
            },
            "marker": {
             "line": {
              "color": "#E5ECF6",
              "width": 0.5
             },
             "pattern": {
              "fillmode": "overlay",
              "size": 10,
              "solidity": 0.2
             }
            },
            "type": "bar"
           }
          ],
          "barpolar": [
           {
            "marker": {
             "line": {
              "color": "#E5ECF6",
              "width": 0.5
             },
             "pattern": {
              "fillmode": "overlay",
              "size": 10,
              "solidity": 0.2
             }
            },
            "type": "barpolar"
           }
          ],
          "carpet": [
           {
            "aaxis": {
             "endlinecolor": "#2a3f5f",
             "gridcolor": "white",
             "linecolor": "white",
             "minorgridcolor": "white",
             "startlinecolor": "#2a3f5f"
            },
            "baxis": {
             "endlinecolor": "#2a3f5f",
             "gridcolor": "white",
             "linecolor": "white",
             "minorgridcolor": "white",
             "startlinecolor": "#2a3f5f"
            },
            "type": "carpet"
           }
          ],
          "choropleth": [
           {
            "colorbar": {
             "outlinewidth": 0,
             "ticks": ""
            },
            "type": "choropleth"
           }
          ],
          "contour": [
           {
            "colorbar": {
             "outlinewidth": 0,
             "ticks": ""
            },
            "colorscale": [
             [
              0,
              "#0d0887"
             ],
             [
              0.1111111111111111,
              "#46039f"
             ],
             [
              0.2222222222222222,
              "#7201a8"
             ],
             [
              0.3333333333333333,
              "#9c179e"
             ],
             [
              0.4444444444444444,
              "#bd3786"
             ],
             [
              0.5555555555555556,
              "#d8576b"
             ],
             [
              0.6666666666666666,
              "#ed7953"
             ],
             [
              0.7777777777777778,
              "#fb9f3a"
             ],
             [
              0.8888888888888888,
              "#fdca26"
             ],
             [
              1,
              "#f0f921"
             ]
            ],
            "type": "contour"
           }
          ],
          "contourcarpet": [
           {
            "colorbar": {
             "outlinewidth": 0,
             "ticks": ""
            },
            "type": "contourcarpet"
           }
          ],
          "heatmap": [
           {
            "colorbar": {
             "outlinewidth": 0,
             "ticks": ""
            },
            "colorscale": [
             [
              0,
              "#0d0887"
             ],
             [
              0.1111111111111111,
              "#46039f"
             ],
             [
              0.2222222222222222,
              "#7201a8"
             ],
             [
              0.3333333333333333,
              "#9c179e"
             ],
             [
              0.4444444444444444,
              "#bd3786"
             ],
             [
              0.5555555555555556,
              "#d8576b"
             ],
             [
              0.6666666666666666,
              "#ed7953"
             ],
             [
              0.7777777777777778,
              "#fb9f3a"
             ],
             [
              0.8888888888888888,
              "#fdca26"
             ],
             [
              1,
              "#f0f921"
             ]
            ],
            "type": "heatmap"
           }
          ],
          "heatmapgl": [
           {
            "colorbar": {
             "outlinewidth": 0,
             "ticks": ""
            },
            "colorscale": [
             [
              0,
              "#0d0887"
             ],
             [
              0.1111111111111111,
              "#46039f"
             ],
             [
              0.2222222222222222,
              "#7201a8"
             ],
             [
              0.3333333333333333,
              "#9c179e"
             ],
             [
              0.4444444444444444,
              "#bd3786"
             ],
             [
              0.5555555555555556,
              "#d8576b"
             ],
             [
              0.6666666666666666,
              "#ed7953"
             ],
             [
              0.7777777777777778,
              "#fb9f3a"
             ],
             [
              0.8888888888888888,
              "#fdca26"
             ],
             [
              1,
              "#f0f921"
             ]
            ],
            "type": "heatmapgl"
           }
          ],
          "histogram": [
           {
            "marker": {
             "pattern": {
              "fillmode": "overlay",
              "size": 10,
              "solidity": 0.2
             }
            },
            "type": "histogram"
           }
          ],
          "histogram2d": [
           {
            "colorbar": {
             "outlinewidth": 0,
             "ticks": ""
            },
            "colorscale": [
             [
              0,
              "#0d0887"
             ],
             [
              0.1111111111111111,
              "#46039f"
             ],
             [
              0.2222222222222222,
              "#7201a8"
             ],
             [
              0.3333333333333333,
              "#9c179e"
             ],
             [
              0.4444444444444444,
              "#bd3786"
             ],
             [
              0.5555555555555556,
              "#d8576b"
             ],
             [
              0.6666666666666666,
              "#ed7953"
             ],
             [
              0.7777777777777778,
              "#fb9f3a"
             ],
             [
              0.8888888888888888,
              "#fdca26"
             ],
             [
              1,
              "#f0f921"
             ]
            ],
            "type": "histogram2d"
           }
          ],
          "histogram2dcontour": [
           {
            "colorbar": {
             "outlinewidth": 0,
             "ticks": ""
            },
            "colorscale": [
             [
              0,
              "#0d0887"
             ],
             [
              0.1111111111111111,
              "#46039f"
             ],
             [
              0.2222222222222222,
              "#7201a8"
             ],
             [
              0.3333333333333333,
              "#9c179e"
             ],
             [
              0.4444444444444444,
              "#bd3786"
             ],
             [
              0.5555555555555556,
              "#d8576b"
             ],
             [
              0.6666666666666666,
              "#ed7953"
             ],
             [
              0.7777777777777778,
              "#fb9f3a"
             ],
             [
              0.8888888888888888,
              "#fdca26"
             ],
             [
              1,
              "#f0f921"
             ]
            ],
            "type": "histogram2dcontour"
           }
          ],
          "mesh3d": [
           {
            "colorbar": {
             "outlinewidth": 0,
             "ticks": ""
            },
            "type": "mesh3d"
           }
          ],
          "parcoords": [
           {
            "line": {
             "colorbar": {
              "outlinewidth": 0,
              "ticks": ""
             }
            },
            "type": "parcoords"
           }
          ],
          "pie": [
           {
            "automargin": true,
            "type": "pie"
           }
          ],
          "scatter": [
           {
            "fillpattern": {
             "fillmode": "overlay",
             "size": 10,
             "solidity": 0.2
            },
            "type": "scatter"
           }
          ],
          "scatter3d": [
           {
            "line": {
             "colorbar": {
              "outlinewidth": 0,
              "ticks": ""
             }
            },
            "marker": {
             "colorbar": {
              "outlinewidth": 0,
              "ticks": ""
             }
            },
            "type": "scatter3d"
           }
          ],
          "scattercarpet": [
           {
            "marker": {
             "colorbar": {
              "outlinewidth": 0,
              "ticks": ""
             }
            },
            "type": "scattercarpet"
           }
          ],
          "scattergeo": [
           {
            "marker": {
             "colorbar": {
              "outlinewidth": 0,
              "ticks": ""
             }
            },
            "type": "scattergeo"
           }
          ],
          "scattergl": [
           {
            "marker": {
             "colorbar": {
              "outlinewidth": 0,
              "ticks": ""
             }
            },
            "type": "scattergl"
           }
          ],
          "scattermapbox": [
           {
            "marker": {
             "colorbar": {
              "outlinewidth": 0,
              "ticks": ""
             }
            },
            "type": "scattermapbox"
           }
          ],
          "scatterpolar": [
           {
            "marker": {
             "colorbar": {
              "outlinewidth": 0,
              "ticks": ""
             }
            },
            "type": "scatterpolar"
           }
          ],
          "scatterpolargl": [
           {
            "marker": {
             "colorbar": {
              "outlinewidth": 0,
              "ticks": ""
             }
            },
            "type": "scatterpolargl"
           }
          ],
          "scatterternary": [
           {
            "marker": {
             "colorbar": {
              "outlinewidth": 0,
              "ticks": ""
             }
            },
            "type": "scatterternary"
           }
          ],
          "surface": [
           {
            "colorbar": {
             "outlinewidth": 0,
             "ticks": ""
            },
            "colorscale": [
             [
              0,
              "#0d0887"
             ],
             [
              0.1111111111111111,
              "#46039f"
             ],
             [
              0.2222222222222222,
              "#7201a8"
             ],
             [
              0.3333333333333333,
              "#9c179e"
             ],
             [
              0.4444444444444444,
              "#bd3786"
             ],
             [
              0.5555555555555556,
              "#d8576b"
             ],
             [
              0.6666666666666666,
              "#ed7953"
             ],
             [
              0.7777777777777778,
              "#fb9f3a"
             ],
             [
              0.8888888888888888,
              "#fdca26"
             ],
             [
              1,
              "#f0f921"
             ]
            ],
            "type": "surface"
           }
          ],
          "table": [
           {
            "cells": {
             "fill": {
              "color": "#EBF0F8"
             },
             "line": {
              "color": "white"
             }
            },
            "header": {
             "fill": {
              "color": "#C8D4E3"
             },
             "line": {
              "color": "white"
             }
            },
            "type": "table"
           }
          ]
         },
         "layout": {
          "annotationdefaults": {
           "arrowcolor": "#2a3f5f",
           "arrowhead": 0,
           "arrowwidth": 1
          },
          "autotypenumbers": "strict",
          "coloraxis": {
           "colorbar": {
            "outlinewidth": 0,
            "ticks": ""
           }
          },
          "colorscale": {
           "diverging": [
            [
             0,
             "#8e0152"
            ],
            [
             0.1,
             "#c51b7d"
            ],
            [
             0.2,
             "#de77ae"
            ],
            [
             0.3,
             "#f1b6da"
            ],
            [
             0.4,
             "#fde0ef"
            ],
            [
             0.5,
             "#f7f7f7"
            ],
            [
             0.6,
             "#e6f5d0"
            ],
            [
             0.7,
             "#b8e186"
            ],
            [
             0.8,
             "#7fbc41"
            ],
            [
             0.9,
             "#4d9221"
            ],
            [
             1,
             "#276419"
            ]
           ],
           "sequential": [
            [
             0,
             "#0d0887"
            ],
            [
             0.1111111111111111,
             "#46039f"
            ],
            [
             0.2222222222222222,
             "#7201a8"
            ],
            [
             0.3333333333333333,
             "#9c179e"
            ],
            [
             0.4444444444444444,
             "#bd3786"
            ],
            [
             0.5555555555555556,
             "#d8576b"
            ],
            [
             0.6666666666666666,
             "#ed7953"
            ],
            [
             0.7777777777777778,
             "#fb9f3a"
            ],
            [
             0.8888888888888888,
             "#fdca26"
            ],
            [
             1,
             "#f0f921"
            ]
           ],
           "sequentialminus": [
            [
             0,
             "#0d0887"
            ],
            [
             0.1111111111111111,
             "#46039f"
            ],
            [
             0.2222222222222222,
             "#7201a8"
            ],
            [
             0.3333333333333333,
             "#9c179e"
            ],
            [
             0.4444444444444444,
             "#bd3786"
            ],
            [
             0.5555555555555556,
             "#d8576b"
            ],
            [
             0.6666666666666666,
             "#ed7953"
            ],
            [
             0.7777777777777778,
             "#fb9f3a"
            ],
            [
             0.8888888888888888,
             "#fdca26"
            ],
            [
             1,
             "#f0f921"
            ]
           ]
          },
          "colorway": [
           "#636efa",
           "#EF553B",
           "#00cc96",
           "#ab63fa",
           "#FFA15A",
           "#19d3f3",
           "#FF6692",
           "#B6E880",
           "#FF97FF",
           "#FECB52"
          ],
          "font": {
           "color": "#2a3f5f"
          },
          "geo": {
           "bgcolor": "white",
           "lakecolor": "white",
           "landcolor": "#E5ECF6",
           "showlakes": true,
           "showland": true,
           "subunitcolor": "white"
          },
          "hoverlabel": {
           "align": "left"
          },
          "hovermode": "closest",
          "mapbox": {
           "style": "light"
          },
          "paper_bgcolor": "white",
          "plot_bgcolor": "#E5ECF6",
          "polar": {
           "angularaxis": {
            "gridcolor": "white",
            "linecolor": "white",
            "ticks": ""
           },
           "bgcolor": "#E5ECF6",
           "radialaxis": {
            "gridcolor": "white",
            "linecolor": "white",
            "ticks": ""
           }
          },
          "scene": {
           "xaxis": {
            "backgroundcolor": "#E5ECF6",
            "gridcolor": "white",
            "gridwidth": 2,
            "linecolor": "white",
            "showbackground": true,
            "ticks": "",
            "zerolinecolor": "white"
           },
           "yaxis": {
            "backgroundcolor": "#E5ECF6",
            "gridcolor": "white",
            "gridwidth": 2,
            "linecolor": "white",
            "showbackground": true,
            "ticks": "",
            "zerolinecolor": "white"
           },
           "zaxis": {
            "backgroundcolor": "#E5ECF6",
            "gridcolor": "white",
            "gridwidth": 2,
            "linecolor": "white",
            "showbackground": true,
            "ticks": "",
            "zerolinecolor": "white"
           }
          },
          "shapedefaults": {
           "line": {
            "color": "#2a3f5f"
           }
          },
          "ternary": {
           "aaxis": {
            "gridcolor": "white",
            "linecolor": "white",
            "ticks": ""
           },
           "baxis": {
            "gridcolor": "white",
            "linecolor": "white",
            "ticks": ""
           },
           "bgcolor": "#E5ECF6",
           "caxis": {
            "gridcolor": "white",
            "linecolor": "white",
            "ticks": ""
           }
          },
          "title": {
           "x": 0.05
          },
          "xaxis": {
           "automargin": true,
           "gridcolor": "white",
           "linecolor": "white",
           "ticks": "",
           "title": {
            "standoff": 15
           },
           "zerolinecolor": "white",
           "zerolinewidth": 2
          },
          "yaxis": {
           "automargin": true,
           "gridcolor": "white",
           "linecolor": "white",
           "ticks": "",
           "title": {
            "standoff": 15
           },
           "zerolinecolor": "white",
           "zerolinewidth": 2
          }
         }
        },
        "title": {
         "text": "Per Class F1 Score of different models for Class 0"
        },
        "xaxis": {
         "anchor": "y",
         "categoryarray": [
          "SVC V4",
          "SVC V2",
          "SVC V3",
          "SVC V0",
          "SVC V1",
          "KNN V1",
          "KNN V0",
          "Random Forest V1",
          "Random Forest V0",
          "Logistic Regression V2",
          "Logistic Regression V0",
          "Logistic Regression V1"
         ],
         "categoryorder": "array",
         "domain": [
          0,
          1
         ],
         "title": {
          "text": "Algorithm"
         }
        },
        "yaxis": {
         "anchor": "x",
         "domain": [
          0,
          1
         ],
         "title": {
          "text": "Class_0"
         }
        }
       }
      }
     },
     "metadata": {},
     "output_type": "display_data"
    },
    {
     "data": {
      "application/vnd.plotly.v1+json": {
       "config": {
        "plotlyServerURL": "https://plot.ly"
       },
       "data": [
        {
         "alignmentgroup": "True",
         "hovertemplate": "Algorithm=%{x}<br>Class_1=%{y}<extra></extra>",
         "legendgroup": "SVC V4",
         "marker": {
          "color": "#636efa",
          "pattern": {
           "shape": ""
          }
         },
         "name": "SVC V4",
         "offsetgroup": "SVC V4",
         "orientation": "v",
         "showlegend": true,
         "textposition": "auto",
         "type": "bar",
         "x": [
          "SVC V4"
         ],
         "xaxis": "x",
         "y": [
          0.993015873015873
         ],
         "yaxis": "y"
        },
        {
         "alignmentgroup": "True",
         "hovertemplate": "Algorithm=%{x}<br>Class_1=%{y}<extra></extra>",
         "legendgroup": "SVC V3",
         "marker": {
          "color": "#EF553B",
          "pattern": {
           "shape": ""
          }
         },
         "name": "SVC V3",
         "offsetgroup": "SVC V3",
         "orientation": "v",
         "showlegend": true,
         "textposition": "auto",
         "type": "bar",
         "x": [
          "SVC V3"
         ],
         "xaxis": "x",
         "y": [
          0.9917538851887092
         ],
         "yaxis": "y"
        },
        {
         "alignmentgroup": "True",
         "hovertemplate": "Algorithm=%{x}<br>Class_1=%{y}<extra></extra>",
         "legendgroup": "SVC V2",
         "marker": {
          "color": "#00cc96",
          "pattern": {
           "shape": ""
          }
         },
         "name": "SVC V2",
         "offsetgroup": "SVC V2",
         "orientation": "v",
         "showlegend": true,
         "textposition": "auto",
         "type": "bar",
         "x": [
          "SVC V2"
         ],
         "xaxis": "x",
         "y": [
          0.9916752556885752
         ],
         "yaxis": "y"
        },
        {
         "alignmentgroup": "True",
         "hovertemplate": "Algorithm=%{x}<br>Class_1=%{y}<extra></extra>",
         "legendgroup": "SVC V0",
         "marker": {
          "color": "#ab63fa",
          "pattern": {
           "shape": ""
          }
         },
         "name": "SVC V0",
         "offsetgroup": "SVC V0",
         "orientation": "v",
         "showlegend": true,
         "textposition": "auto",
         "type": "bar",
         "x": [
          "SVC V0"
         ],
         "xaxis": "x",
         "y": [
          0.9873317498020586
         ],
         "yaxis": "y"
        },
        {
         "alignmentgroup": "True",
         "hovertemplate": "Algorithm=%{x}<br>Class_1=%{y}<extra></extra>",
         "legendgroup": "SVC V1",
         "marker": {
          "color": "#FFA15A",
          "pattern": {
           "shape": ""
          }
         },
         "name": "SVC V1",
         "offsetgroup": "SVC V1",
         "orientation": "v",
         "showlegend": true,
         "textposition": "auto",
         "type": "bar",
         "x": [
          "SVC V1"
         ],
         "xaxis": "x",
         "y": [
          0.9873317498020586
         ],
         "yaxis": "y"
        },
        {
         "alignmentgroup": "True",
         "hovertemplate": "Algorithm=%{x}<br>Class_1=%{y}<extra></extra>",
         "legendgroup": "Random Forest V1",
         "marker": {
          "color": "#19d3f3",
          "pattern": {
           "shape": ""
          }
         },
         "name": "Random Forest V1",
         "offsetgroup": "Random Forest V1",
         "orientation": "v",
         "showlegend": true,
         "textposition": "auto",
         "type": "bar",
         "x": [
          "Random Forest V1"
         ],
         "xaxis": "x",
         "y": [
          0.9851669707305464
         ],
         "yaxis": "y"
        },
        {
         "alignmentgroup": "True",
         "hovertemplate": "Algorithm=%{x}<br>Class_1=%{y}<extra></extra>",
         "legendgroup": "Random Forest V0",
         "marker": {
          "color": "#FF6692",
          "pattern": {
           "shape": ""
          }
         },
         "name": "Random Forest V0",
         "offsetgroup": "Random Forest V0",
         "orientation": "v",
         "showlegend": true,
         "textposition": "auto",
         "type": "bar",
         "x": [
          "Random Forest V0"
         ],
         "xaxis": "x",
         "y": [
          0.9836663495084048
         ],
         "yaxis": "y"
        },
        {
         "alignmentgroup": "True",
         "hovertemplate": "Algorithm=%{x}<br>Class_1=%{y}<extra></extra>",
         "legendgroup": "KNN V1",
         "marker": {
          "color": "#B6E880",
          "pattern": {
           "shape": ""
          }
         },
         "name": "KNN V1",
         "offsetgroup": "KNN V1",
         "orientation": "v",
         "showlegend": true,
         "textposition": "auto",
         "type": "bar",
         "x": [
          "KNN V1"
         ],
         "xaxis": "x",
         "y": [
          0.9751205100295444
         ],
         "yaxis": "y"
        },
        {
         "alignmentgroup": "True",
         "hovertemplate": "Algorithm=%{x}<br>Class_1=%{y}<extra></extra>",
         "legendgroup": "KNN V0",
         "marker": {
          "color": "#FF97FF",
          "pattern": {
           "shape": ""
          }
         },
         "name": "KNN V0",
         "offsetgroup": "KNN V0",
         "orientation": "v",
         "showlegend": true,
         "textposition": "auto",
         "type": "bar",
         "x": [
          "KNN V0"
         ],
         "xaxis": "x",
         "y": [
          0.9734554486184416
         ],
         "yaxis": "y"
        },
        {
         "alignmentgroup": "True",
         "hovertemplate": "Algorithm=%{x}<br>Class_1=%{y}<extra></extra>",
         "legendgroup": "Logistic Regression V1",
         "marker": {
          "color": "#FECB52",
          "pattern": {
           "shape": ""
          }
         },
         "name": "Logistic Regression V1",
         "offsetgroup": "Logistic Regression V1",
         "orientation": "v",
         "showlegend": true,
         "textposition": "auto",
         "type": "bar",
         "x": [
          "Logistic Regression V1"
         ],
         "xaxis": "x",
         "y": [
          0.964467801396188
         ],
         "yaxis": "y"
        },
        {
         "alignmentgroup": "True",
         "hovertemplate": "Algorithm=%{x}<br>Class_1=%{y}<extra></extra>",
         "legendgroup": "Logistic Regression V0",
         "marker": {
          "color": "#636efa",
          "pattern": {
           "shape": ""
          }
         },
         "name": "Logistic Regression V0",
         "offsetgroup": "Logistic Regression V0",
         "orientation": "v",
         "showlegend": true,
         "textposition": "auto",
         "type": "bar",
         "x": [
          "Logistic Regression V0"
         ],
         "xaxis": "x",
         "y": [
          0.964240903387704
         ],
         "yaxis": "y"
        },
        {
         "alignmentgroup": "True",
         "hovertemplate": "Algorithm=%{x}<br>Class_1=%{y}<extra></extra>",
         "legendgroup": "Logistic Regression V2",
         "marker": {
          "color": "#EF553B",
          "pattern": {
           "shape": ""
          }
         },
         "name": "Logistic Regression V2",
         "offsetgroup": "Logistic Regression V2",
         "orientation": "v",
         "showlegend": true,
         "textposition": "auto",
         "type": "bar",
         "x": [
          "Logistic Regression V2"
         ],
         "xaxis": "x",
         "y": [
          0.9609454488534084
         ],
         "yaxis": "y"
        }
       ],
       "layout": {
        "barmode": "relative",
        "legend": {
         "title": {
          "text": "Algorithm"
         },
         "tracegroupgap": 0
        },
        "template": {
         "data": {
          "bar": [
           {
            "error_x": {
             "color": "#2a3f5f"
            },
            "error_y": {
             "color": "#2a3f5f"
            },
            "marker": {
             "line": {
              "color": "#E5ECF6",
              "width": 0.5
             },
             "pattern": {
              "fillmode": "overlay",
              "size": 10,
              "solidity": 0.2
             }
            },
            "type": "bar"
           }
          ],
          "barpolar": [
           {
            "marker": {
             "line": {
              "color": "#E5ECF6",
              "width": 0.5
             },
             "pattern": {
              "fillmode": "overlay",
              "size": 10,
              "solidity": 0.2
             }
            },
            "type": "barpolar"
           }
          ],
          "carpet": [
           {
            "aaxis": {
             "endlinecolor": "#2a3f5f",
             "gridcolor": "white",
             "linecolor": "white",
             "minorgridcolor": "white",
             "startlinecolor": "#2a3f5f"
            },
            "baxis": {
             "endlinecolor": "#2a3f5f",
             "gridcolor": "white",
             "linecolor": "white",
             "minorgridcolor": "white",
             "startlinecolor": "#2a3f5f"
            },
            "type": "carpet"
           }
          ],
          "choropleth": [
           {
            "colorbar": {
             "outlinewidth": 0,
             "ticks": ""
            },
            "type": "choropleth"
           }
          ],
          "contour": [
           {
            "colorbar": {
             "outlinewidth": 0,
             "ticks": ""
            },
            "colorscale": [
             [
              0,
              "#0d0887"
             ],
             [
              0.1111111111111111,
              "#46039f"
             ],
             [
              0.2222222222222222,
              "#7201a8"
             ],
             [
              0.3333333333333333,
              "#9c179e"
             ],
             [
              0.4444444444444444,
              "#bd3786"
             ],
             [
              0.5555555555555556,
              "#d8576b"
             ],
             [
              0.6666666666666666,
              "#ed7953"
             ],
             [
              0.7777777777777778,
              "#fb9f3a"
             ],
             [
              0.8888888888888888,
              "#fdca26"
             ],
             [
              1,
              "#f0f921"
             ]
            ],
            "type": "contour"
           }
          ],
          "contourcarpet": [
           {
            "colorbar": {
             "outlinewidth": 0,
             "ticks": ""
            },
            "type": "contourcarpet"
           }
          ],
          "heatmap": [
           {
            "colorbar": {
             "outlinewidth": 0,
             "ticks": ""
            },
            "colorscale": [
             [
              0,
              "#0d0887"
             ],
             [
              0.1111111111111111,
              "#46039f"
             ],
             [
              0.2222222222222222,
              "#7201a8"
             ],
             [
              0.3333333333333333,
              "#9c179e"
             ],
             [
              0.4444444444444444,
              "#bd3786"
             ],
             [
              0.5555555555555556,
              "#d8576b"
             ],
             [
              0.6666666666666666,
              "#ed7953"
             ],
             [
              0.7777777777777778,
              "#fb9f3a"
             ],
             [
              0.8888888888888888,
              "#fdca26"
             ],
             [
              1,
              "#f0f921"
             ]
            ],
            "type": "heatmap"
           }
          ],
          "heatmapgl": [
           {
            "colorbar": {
             "outlinewidth": 0,
             "ticks": ""
            },
            "colorscale": [
             [
              0,
              "#0d0887"
             ],
             [
              0.1111111111111111,
              "#46039f"
             ],
             [
              0.2222222222222222,
              "#7201a8"
             ],
             [
              0.3333333333333333,
              "#9c179e"
             ],
             [
              0.4444444444444444,
              "#bd3786"
             ],
             [
              0.5555555555555556,
              "#d8576b"
             ],
             [
              0.6666666666666666,
              "#ed7953"
             ],
             [
              0.7777777777777778,
              "#fb9f3a"
             ],
             [
              0.8888888888888888,
              "#fdca26"
             ],
             [
              1,
              "#f0f921"
             ]
            ],
            "type": "heatmapgl"
           }
          ],
          "histogram": [
           {
            "marker": {
             "pattern": {
              "fillmode": "overlay",
              "size": 10,
              "solidity": 0.2
             }
            },
            "type": "histogram"
           }
          ],
          "histogram2d": [
           {
            "colorbar": {
             "outlinewidth": 0,
             "ticks": ""
            },
            "colorscale": [
             [
              0,
              "#0d0887"
             ],
             [
              0.1111111111111111,
              "#46039f"
             ],
             [
              0.2222222222222222,
              "#7201a8"
             ],
             [
              0.3333333333333333,
              "#9c179e"
             ],
             [
              0.4444444444444444,
              "#bd3786"
             ],
             [
              0.5555555555555556,
              "#d8576b"
             ],
             [
              0.6666666666666666,
              "#ed7953"
             ],
             [
              0.7777777777777778,
              "#fb9f3a"
             ],
             [
              0.8888888888888888,
              "#fdca26"
             ],
             [
              1,
              "#f0f921"
             ]
            ],
            "type": "histogram2d"
           }
          ],
          "histogram2dcontour": [
           {
            "colorbar": {
             "outlinewidth": 0,
             "ticks": ""
            },
            "colorscale": [
             [
              0,
              "#0d0887"
             ],
             [
              0.1111111111111111,
              "#46039f"
             ],
             [
              0.2222222222222222,
              "#7201a8"
             ],
             [
              0.3333333333333333,
              "#9c179e"
             ],
             [
              0.4444444444444444,
              "#bd3786"
             ],
             [
              0.5555555555555556,
              "#d8576b"
             ],
             [
              0.6666666666666666,
              "#ed7953"
             ],
             [
              0.7777777777777778,
              "#fb9f3a"
             ],
             [
              0.8888888888888888,
              "#fdca26"
             ],
             [
              1,
              "#f0f921"
             ]
            ],
            "type": "histogram2dcontour"
           }
          ],
          "mesh3d": [
           {
            "colorbar": {
             "outlinewidth": 0,
             "ticks": ""
            },
            "type": "mesh3d"
           }
          ],
          "parcoords": [
           {
            "line": {
             "colorbar": {
              "outlinewidth": 0,
              "ticks": ""
             }
            },
            "type": "parcoords"
           }
          ],
          "pie": [
           {
            "automargin": true,
            "type": "pie"
           }
          ],
          "scatter": [
           {
            "fillpattern": {
             "fillmode": "overlay",
             "size": 10,
             "solidity": 0.2
            },
            "type": "scatter"
           }
          ],
          "scatter3d": [
           {
            "line": {
             "colorbar": {
              "outlinewidth": 0,
              "ticks": ""
             }
            },
            "marker": {
             "colorbar": {
              "outlinewidth": 0,
              "ticks": ""
             }
            },
            "type": "scatter3d"
           }
          ],
          "scattercarpet": [
           {
            "marker": {
             "colorbar": {
              "outlinewidth": 0,
              "ticks": ""
             }
            },
            "type": "scattercarpet"
           }
          ],
          "scattergeo": [
           {
            "marker": {
             "colorbar": {
              "outlinewidth": 0,
              "ticks": ""
             }
            },
            "type": "scattergeo"
           }
          ],
          "scattergl": [
           {
            "marker": {
             "colorbar": {
              "outlinewidth": 0,
              "ticks": ""
             }
            },
            "type": "scattergl"
           }
          ],
          "scattermapbox": [
           {
            "marker": {
             "colorbar": {
              "outlinewidth": 0,
              "ticks": ""
             }
            },
            "type": "scattermapbox"
           }
          ],
          "scatterpolar": [
           {
            "marker": {
             "colorbar": {
              "outlinewidth": 0,
              "ticks": ""
             }
            },
            "type": "scatterpolar"
           }
          ],
          "scatterpolargl": [
           {
            "marker": {
             "colorbar": {
              "outlinewidth": 0,
              "ticks": ""
             }
            },
            "type": "scatterpolargl"
           }
          ],
          "scatterternary": [
           {
            "marker": {
             "colorbar": {
              "outlinewidth": 0,
              "ticks": ""
             }
            },
            "type": "scatterternary"
           }
          ],
          "surface": [
           {
            "colorbar": {
             "outlinewidth": 0,
             "ticks": ""
            },
            "colorscale": [
             [
              0,
              "#0d0887"
             ],
             [
              0.1111111111111111,
              "#46039f"
             ],
             [
              0.2222222222222222,
              "#7201a8"
             ],
             [
              0.3333333333333333,
              "#9c179e"
             ],
             [
              0.4444444444444444,
              "#bd3786"
             ],
             [
              0.5555555555555556,
              "#d8576b"
             ],
             [
              0.6666666666666666,
              "#ed7953"
             ],
             [
              0.7777777777777778,
              "#fb9f3a"
             ],
             [
              0.8888888888888888,
              "#fdca26"
             ],
             [
              1,
              "#f0f921"
             ]
            ],
            "type": "surface"
           }
          ],
          "table": [
           {
            "cells": {
             "fill": {
              "color": "#EBF0F8"
             },
             "line": {
              "color": "white"
             }
            },
            "header": {
             "fill": {
              "color": "#C8D4E3"
             },
             "line": {
              "color": "white"
             }
            },
            "type": "table"
           }
          ]
         },
         "layout": {
          "annotationdefaults": {
           "arrowcolor": "#2a3f5f",
           "arrowhead": 0,
           "arrowwidth": 1
          },
          "autotypenumbers": "strict",
          "coloraxis": {
           "colorbar": {
            "outlinewidth": 0,
            "ticks": ""
           }
          },
          "colorscale": {
           "diverging": [
            [
             0,
             "#8e0152"
            ],
            [
             0.1,
             "#c51b7d"
            ],
            [
             0.2,
             "#de77ae"
            ],
            [
             0.3,
             "#f1b6da"
            ],
            [
             0.4,
             "#fde0ef"
            ],
            [
             0.5,
             "#f7f7f7"
            ],
            [
             0.6,
             "#e6f5d0"
            ],
            [
             0.7,
             "#b8e186"
            ],
            [
             0.8,
             "#7fbc41"
            ],
            [
             0.9,
             "#4d9221"
            ],
            [
             1,
             "#276419"
            ]
           ],
           "sequential": [
            [
             0,
             "#0d0887"
            ],
            [
             0.1111111111111111,
             "#46039f"
            ],
            [
             0.2222222222222222,
             "#7201a8"
            ],
            [
             0.3333333333333333,
             "#9c179e"
            ],
            [
             0.4444444444444444,
             "#bd3786"
            ],
            [
             0.5555555555555556,
             "#d8576b"
            ],
            [
             0.6666666666666666,
             "#ed7953"
            ],
            [
             0.7777777777777778,
             "#fb9f3a"
            ],
            [
             0.8888888888888888,
             "#fdca26"
            ],
            [
             1,
             "#f0f921"
            ]
           ],
           "sequentialminus": [
            [
             0,
             "#0d0887"
            ],
            [
             0.1111111111111111,
             "#46039f"
            ],
            [
             0.2222222222222222,
             "#7201a8"
            ],
            [
             0.3333333333333333,
             "#9c179e"
            ],
            [
             0.4444444444444444,
             "#bd3786"
            ],
            [
             0.5555555555555556,
             "#d8576b"
            ],
            [
             0.6666666666666666,
             "#ed7953"
            ],
            [
             0.7777777777777778,
             "#fb9f3a"
            ],
            [
             0.8888888888888888,
             "#fdca26"
            ],
            [
             1,
             "#f0f921"
            ]
           ]
          },
          "colorway": [
           "#636efa",
           "#EF553B",
           "#00cc96",
           "#ab63fa",
           "#FFA15A",
           "#19d3f3",
           "#FF6692",
           "#B6E880",
           "#FF97FF",
           "#FECB52"
          ],
          "font": {
           "color": "#2a3f5f"
          },
          "geo": {
           "bgcolor": "white",
           "lakecolor": "white",
           "landcolor": "#E5ECF6",
           "showlakes": true,
           "showland": true,
           "subunitcolor": "white"
          },
          "hoverlabel": {
           "align": "left"
          },
          "hovermode": "closest",
          "mapbox": {
           "style": "light"
          },
          "paper_bgcolor": "white",
          "plot_bgcolor": "#E5ECF6",
          "polar": {
           "angularaxis": {
            "gridcolor": "white",
            "linecolor": "white",
            "ticks": ""
           },
           "bgcolor": "#E5ECF6",
           "radialaxis": {
            "gridcolor": "white",
            "linecolor": "white",
            "ticks": ""
           }
          },
          "scene": {
           "xaxis": {
            "backgroundcolor": "#E5ECF6",
            "gridcolor": "white",
            "gridwidth": 2,
            "linecolor": "white",
            "showbackground": true,
            "ticks": "",
            "zerolinecolor": "white"
           },
           "yaxis": {
            "backgroundcolor": "#E5ECF6",
            "gridcolor": "white",
            "gridwidth": 2,
            "linecolor": "white",
            "showbackground": true,
            "ticks": "",
            "zerolinecolor": "white"
           },
           "zaxis": {
            "backgroundcolor": "#E5ECF6",
            "gridcolor": "white",
            "gridwidth": 2,
            "linecolor": "white",
            "showbackground": true,
            "ticks": "",
            "zerolinecolor": "white"
           }
          },
          "shapedefaults": {
           "line": {
            "color": "#2a3f5f"
           }
          },
          "ternary": {
           "aaxis": {
            "gridcolor": "white",
            "linecolor": "white",
            "ticks": ""
           },
           "baxis": {
            "gridcolor": "white",
            "linecolor": "white",
            "ticks": ""
           },
           "bgcolor": "#E5ECF6",
           "caxis": {
            "gridcolor": "white",
            "linecolor": "white",
            "ticks": ""
           }
          },
          "title": {
           "x": 0.05
          },
          "xaxis": {
           "automargin": true,
           "gridcolor": "white",
           "linecolor": "white",
           "ticks": "",
           "title": {
            "standoff": 15
           },
           "zerolinecolor": "white",
           "zerolinewidth": 2
          },
          "yaxis": {
           "automargin": true,
           "gridcolor": "white",
           "linecolor": "white",
           "ticks": "",
           "title": {
            "standoff": 15
           },
           "zerolinecolor": "white",
           "zerolinewidth": 2
          }
         }
        },
        "title": {
         "text": "Per Class F1 Score of different models for Class 1"
        },
        "xaxis": {
         "anchor": "y",
         "categoryarray": [
          "SVC V4",
          "SVC V3",
          "SVC V2",
          "SVC V0",
          "SVC V1",
          "Random Forest V1",
          "Random Forest V0",
          "KNN V1",
          "KNN V0",
          "Logistic Regression V1",
          "Logistic Regression V0",
          "Logistic Regression V2"
         ],
         "categoryorder": "array",
         "domain": [
          0,
          1
         ],
         "title": {
          "text": "Algorithm"
         }
        },
        "yaxis": {
         "anchor": "x",
         "domain": [
          0,
          1
         ],
         "title": {
          "text": "Class_1"
         }
        }
       }
      }
     },
     "metadata": {},
     "output_type": "display_data"
    },
    {
     "data": {
      "application/vnd.plotly.v1+json": {
       "config": {
        "plotlyServerURL": "https://plot.ly"
       },
       "data": [
        {
         "alignmentgroup": "True",
         "hovertemplate": "Algorithm=%{x}<br>Class_2=%{y}<extra></extra>",
         "legendgroup": "SVC V4",
         "marker": {
          "color": "#636efa",
          "pattern": {
           "shape": ""
          }
         },
         "name": "SVC V4",
         "offsetgroup": "SVC V4",
         "orientation": "v",
         "showlegend": true,
         "textposition": "auto",
         "type": "bar",
         "x": [
          "SVC V4"
         ],
         "xaxis": "x",
         "y": [
          0.9881847475832438
         ],
         "yaxis": "y"
        },
        {
         "alignmentgroup": "True",
         "hovertemplate": "Algorithm=%{x}<br>Class_2=%{y}<extra></extra>",
         "legendgroup": "SVC V2",
         "marker": {
          "color": "#EF553B",
          "pattern": {
           "shape": ""
          }
         },
         "name": "SVC V2",
         "offsetgroup": "SVC V2",
         "orientation": "v",
         "showlegend": true,
         "textposition": "auto",
         "type": "bar",
         "x": [
          "SVC V2"
         ],
         "xaxis": "x",
         "y": [
          0.979559046683924
         ],
         "yaxis": "y"
        },
        {
         "alignmentgroup": "True",
         "hovertemplate": "Algorithm=%{x}<br>Class_2=%{y}<extra></extra>",
         "legendgroup": "SVC V3",
         "marker": {
          "color": "#00cc96",
          "pattern": {
           "shape": ""
          }
         },
         "name": "SVC V3",
         "offsetgroup": "SVC V3",
         "orientation": "v",
         "showlegend": true,
         "textposition": "auto",
         "type": "bar",
         "x": [
          "SVC V3"
         ],
         "xaxis": "x",
         "y": [
          0.9794642857142856
         ],
         "yaxis": "y"
        },
        {
         "alignmentgroup": "True",
         "hovertemplate": "Algorithm=%{x}<br>Class_2=%{y}<extra></extra>",
         "legendgroup": "SVC V0",
         "marker": {
          "color": "#ab63fa",
          "pattern": {
           "shape": ""
          }
         },
         "name": "SVC V0",
         "offsetgroup": "SVC V0",
         "orientation": "v",
         "showlegend": true,
         "textposition": "auto",
         "type": "bar",
         "x": [
          "SVC V0"
         ],
         "xaxis": "x",
         "y": [
          0.9733595565885927
         ],
         "yaxis": "y"
        },
        {
         "alignmentgroup": "True",
         "hovertemplate": "Algorithm=%{x}<br>Class_2=%{y}<extra></extra>",
         "legendgroup": "SVC V1",
         "marker": {
          "color": "#FFA15A",
          "pattern": {
           "shape": ""
          }
         },
         "name": "SVC V1",
         "offsetgroup": "SVC V1",
         "orientation": "v",
         "showlegend": true,
         "textposition": "auto",
         "type": "bar",
         "x": [
          "SVC V1"
         ],
         "xaxis": "x",
         "y": [
          0.9733595565885927
         ],
         "yaxis": "y"
        },
        {
         "alignmentgroup": "True",
         "hovertemplate": "Algorithm=%{x}<br>Class_2=%{y}<extra></extra>",
         "legendgroup": "KNN V1",
         "marker": {
          "color": "#19d3f3",
          "pattern": {
           "shape": ""
          }
         },
         "name": "KNN V1",
         "offsetgroup": "KNN V1",
         "orientation": "v",
         "showlegend": true,
         "textposition": "auto",
         "type": "bar",
         "x": [
          "KNN V1"
         ],
         "xaxis": "x",
         "y": [
          0.9712523805205404
         ],
         "yaxis": "y"
        },
        {
         "alignmentgroup": "True",
         "hovertemplate": "Algorithm=%{x}<br>Class_2=%{y}<extra></extra>",
         "legendgroup": "KNN V0",
         "marker": {
          "color": "#FF6692",
          "pattern": {
           "shape": ""
          }
         },
         "name": "KNN V0",
         "offsetgroup": "KNN V0",
         "orientation": "v",
         "showlegend": true,
         "textposition": "auto",
         "type": "bar",
         "x": [
          "KNN V0"
         ],
         "xaxis": "x",
         "y": [
          0.9700262609798064
         ],
         "yaxis": "y"
        },
        {
         "alignmentgroup": "True",
         "hovertemplate": "Algorithm=%{x}<br>Class_2=%{y}<extra></extra>",
         "legendgroup": "Random Forest V1",
         "marker": {
          "color": "#B6E880",
          "pattern": {
           "shape": ""
          }
         },
         "name": "Random Forest V1",
         "offsetgroup": "Random Forest V1",
         "orientation": "v",
         "showlegend": true,
         "textposition": "auto",
         "type": "bar",
         "x": [
          "Random Forest V1"
         ],
         "xaxis": "x",
         "y": [
          0.9621736814064996
         ],
         "yaxis": "y"
        },
        {
         "alignmentgroup": "True",
         "hovertemplate": "Algorithm=%{x}<br>Class_2=%{y}<extra></extra>",
         "legendgroup": "Random Forest V0",
         "marker": {
          "color": "#FF97FF",
          "pattern": {
           "shape": ""
          }
         },
         "name": "Random Forest V0",
         "offsetgroup": "Random Forest V0",
         "orientation": "v",
         "showlegend": true,
         "textposition": "auto",
         "type": "bar",
         "x": [
          "Random Forest V0"
         ],
         "xaxis": "x",
         "y": [
          0.9601919317575972
         ],
         "yaxis": "y"
        },
        {
         "alignmentgroup": "True",
         "hovertemplate": "Algorithm=%{x}<br>Class_2=%{y}<extra></extra>",
         "legendgroup": "Logistic Regression V2",
         "marker": {
          "color": "#FECB52",
          "pattern": {
           "shape": ""
          }
         },
         "name": "Logistic Regression V2",
         "offsetgroup": "Logistic Regression V2",
         "orientation": "v",
         "showlegend": true,
         "textposition": "auto",
         "type": "bar",
         "x": [
          "Logistic Regression V2"
         ],
         "xaxis": "x",
         "y": [
          0.9087953765577028
         ],
         "yaxis": "y"
        },
        {
         "alignmentgroup": "True",
         "hovertemplate": "Algorithm=%{x}<br>Class_2=%{y}<extra></extra>",
         "legendgroup": "Logistic Regression V1",
         "marker": {
          "color": "#636efa",
          "pattern": {
           "shape": ""
          }
         },
         "name": "Logistic Regression V1",
         "offsetgroup": "Logistic Regression V1",
         "orientation": "v",
         "showlegend": true,
         "textposition": "auto",
         "type": "bar",
         "x": [
          "Logistic Regression V1"
         ],
         "xaxis": "x",
         "y": [
          0.905045045045045
         ],
         "yaxis": "y"
        },
        {
         "alignmentgroup": "True",
         "hovertemplate": "Algorithm=%{x}<br>Class_2=%{y}<extra></extra>",
         "legendgroup": "Logistic Regression V0",
         "marker": {
          "color": "#EF553B",
          "pattern": {
           "shape": ""
          }
         },
         "name": "Logistic Regression V0",
         "offsetgroup": "Logistic Regression V0",
         "orientation": "v",
         "showlegend": true,
         "textposition": "auto",
         "type": "bar",
         "x": [
          "Logistic Regression V0"
         ],
         "xaxis": "x",
         "y": [
          0.9044827275187156
         ],
         "yaxis": "y"
        }
       ],
       "layout": {
        "barmode": "relative",
        "legend": {
         "title": {
          "text": "Algorithm"
         },
         "tracegroupgap": 0
        },
        "template": {
         "data": {
          "bar": [
           {
            "error_x": {
             "color": "#2a3f5f"
            },
            "error_y": {
             "color": "#2a3f5f"
            },
            "marker": {
             "line": {
              "color": "#E5ECF6",
              "width": 0.5
             },
             "pattern": {
              "fillmode": "overlay",
              "size": 10,
              "solidity": 0.2
             }
            },
            "type": "bar"
           }
          ],
          "barpolar": [
           {
            "marker": {
             "line": {
              "color": "#E5ECF6",
              "width": 0.5
             },
             "pattern": {
              "fillmode": "overlay",
              "size": 10,
              "solidity": 0.2
             }
            },
            "type": "barpolar"
           }
          ],
          "carpet": [
           {
            "aaxis": {
             "endlinecolor": "#2a3f5f",
             "gridcolor": "white",
             "linecolor": "white",
             "minorgridcolor": "white",
             "startlinecolor": "#2a3f5f"
            },
            "baxis": {
             "endlinecolor": "#2a3f5f",
             "gridcolor": "white",
             "linecolor": "white",
             "minorgridcolor": "white",
             "startlinecolor": "#2a3f5f"
            },
            "type": "carpet"
           }
          ],
          "choropleth": [
           {
            "colorbar": {
             "outlinewidth": 0,
             "ticks": ""
            },
            "type": "choropleth"
           }
          ],
          "contour": [
           {
            "colorbar": {
             "outlinewidth": 0,
             "ticks": ""
            },
            "colorscale": [
             [
              0,
              "#0d0887"
             ],
             [
              0.1111111111111111,
              "#46039f"
             ],
             [
              0.2222222222222222,
              "#7201a8"
             ],
             [
              0.3333333333333333,
              "#9c179e"
             ],
             [
              0.4444444444444444,
              "#bd3786"
             ],
             [
              0.5555555555555556,
              "#d8576b"
             ],
             [
              0.6666666666666666,
              "#ed7953"
             ],
             [
              0.7777777777777778,
              "#fb9f3a"
             ],
             [
              0.8888888888888888,
              "#fdca26"
             ],
             [
              1,
              "#f0f921"
             ]
            ],
            "type": "contour"
           }
          ],
          "contourcarpet": [
           {
            "colorbar": {
             "outlinewidth": 0,
             "ticks": ""
            },
            "type": "contourcarpet"
           }
          ],
          "heatmap": [
           {
            "colorbar": {
             "outlinewidth": 0,
             "ticks": ""
            },
            "colorscale": [
             [
              0,
              "#0d0887"
             ],
             [
              0.1111111111111111,
              "#46039f"
             ],
             [
              0.2222222222222222,
              "#7201a8"
             ],
             [
              0.3333333333333333,
              "#9c179e"
             ],
             [
              0.4444444444444444,
              "#bd3786"
             ],
             [
              0.5555555555555556,
              "#d8576b"
             ],
             [
              0.6666666666666666,
              "#ed7953"
             ],
             [
              0.7777777777777778,
              "#fb9f3a"
             ],
             [
              0.8888888888888888,
              "#fdca26"
             ],
             [
              1,
              "#f0f921"
             ]
            ],
            "type": "heatmap"
           }
          ],
          "heatmapgl": [
           {
            "colorbar": {
             "outlinewidth": 0,
             "ticks": ""
            },
            "colorscale": [
             [
              0,
              "#0d0887"
             ],
             [
              0.1111111111111111,
              "#46039f"
             ],
             [
              0.2222222222222222,
              "#7201a8"
             ],
             [
              0.3333333333333333,
              "#9c179e"
             ],
             [
              0.4444444444444444,
              "#bd3786"
             ],
             [
              0.5555555555555556,
              "#d8576b"
             ],
             [
              0.6666666666666666,
              "#ed7953"
             ],
             [
              0.7777777777777778,
              "#fb9f3a"
             ],
             [
              0.8888888888888888,
              "#fdca26"
             ],
             [
              1,
              "#f0f921"
             ]
            ],
            "type": "heatmapgl"
           }
          ],
          "histogram": [
           {
            "marker": {
             "pattern": {
              "fillmode": "overlay",
              "size": 10,
              "solidity": 0.2
             }
            },
            "type": "histogram"
           }
          ],
          "histogram2d": [
           {
            "colorbar": {
             "outlinewidth": 0,
             "ticks": ""
            },
            "colorscale": [
             [
              0,
              "#0d0887"
             ],
             [
              0.1111111111111111,
              "#46039f"
             ],
             [
              0.2222222222222222,
              "#7201a8"
             ],
             [
              0.3333333333333333,
              "#9c179e"
             ],
             [
              0.4444444444444444,
              "#bd3786"
             ],
             [
              0.5555555555555556,
              "#d8576b"
             ],
             [
              0.6666666666666666,
              "#ed7953"
             ],
             [
              0.7777777777777778,
              "#fb9f3a"
             ],
             [
              0.8888888888888888,
              "#fdca26"
             ],
             [
              1,
              "#f0f921"
             ]
            ],
            "type": "histogram2d"
           }
          ],
          "histogram2dcontour": [
           {
            "colorbar": {
             "outlinewidth": 0,
             "ticks": ""
            },
            "colorscale": [
             [
              0,
              "#0d0887"
             ],
             [
              0.1111111111111111,
              "#46039f"
             ],
             [
              0.2222222222222222,
              "#7201a8"
             ],
             [
              0.3333333333333333,
              "#9c179e"
             ],
             [
              0.4444444444444444,
              "#bd3786"
             ],
             [
              0.5555555555555556,
              "#d8576b"
             ],
             [
              0.6666666666666666,
              "#ed7953"
             ],
             [
              0.7777777777777778,
              "#fb9f3a"
             ],
             [
              0.8888888888888888,
              "#fdca26"
             ],
             [
              1,
              "#f0f921"
             ]
            ],
            "type": "histogram2dcontour"
           }
          ],
          "mesh3d": [
           {
            "colorbar": {
             "outlinewidth": 0,
             "ticks": ""
            },
            "type": "mesh3d"
           }
          ],
          "parcoords": [
           {
            "line": {
             "colorbar": {
              "outlinewidth": 0,
              "ticks": ""
             }
            },
            "type": "parcoords"
           }
          ],
          "pie": [
           {
            "automargin": true,
            "type": "pie"
           }
          ],
          "scatter": [
           {
            "fillpattern": {
             "fillmode": "overlay",
             "size": 10,
             "solidity": 0.2
            },
            "type": "scatter"
           }
          ],
          "scatter3d": [
           {
            "line": {
             "colorbar": {
              "outlinewidth": 0,
              "ticks": ""
             }
            },
            "marker": {
             "colorbar": {
              "outlinewidth": 0,
              "ticks": ""
             }
            },
            "type": "scatter3d"
           }
          ],
          "scattercarpet": [
           {
            "marker": {
             "colorbar": {
              "outlinewidth": 0,
              "ticks": ""
             }
            },
            "type": "scattercarpet"
           }
          ],
          "scattergeo": [
           {
            "marker": {
             "colorbar": {
              "outlinewidth": 0,
              "ticks": ""
             }
            },
            "type": "scattergeo"
           }
          ],
          "scattergl": [
           {
            "marker": {
             "colorbar": {
              "outlinewidth": 0,
              "ticks": ""
             }
            },
            "type": "scattergl"
           }
          ],
          "scattermapbox": [
           {
            "marker": {
             "colorbar": {
              "outlinewidth": 0,
              "ticks": ""
             }
            },
            "type": "scattermapbox"
           }
          ],
          "scatterpolar": [
           {
            "marker": {
             "colorbar": {
              "outlinewidth": 0,
              "ticks": ""
             }
            },
            "type": "scatterpolar"
           }
          ],
          "scatterpolargl": [
           {
            "marker": {
             "colorbar": {
              "outlinewidth": 0,
              "ticks": ""
             }
            },
            "type": "scatterpolargl"
           }
          ],
          "scatterternary": [
           {
            "marker": {
             "colorbar": {
              "outlinewidth": 0,
              "ticks": ""
             }
            },
            "type": "scatterternary"
           }
          ],
          "surface": [
           {
            "colorbar": {
             "outlinewidth": 0,
             "ticks": ""
            },
            "colorscale": [
             [
              0,
              "#0d0887"
             ],
             [
              0.1111111111111111,
              "#46039f"
             ],
             [
              0.2222222222222222,
              "#7201a8"
             ],
             [
              0.3333333333333333,
              "#9c179e"
             ],
             [
              0.4444444444444444,
              "#bd3786"
             ],
             [
              0.5555555555555556,
              "#d8576b"
             ],
             [
              0.6666666666666666,
              "#ed7953"
             ],
             [
              0.7777777777777778,
              "#fb9f3a"
             ],
             [
              0.8888888888888888,
              "#fdca26"
             ],
             [
              1,
              "#f0f921"
             ]
            ],
            "type": "surface"
           }
          ],
          "table": [
           {
            "cells": {
             "fill": {
              "color": "#EBF0F8"
             },
             "line": {
              "color": "white"
             }
            },
            "header": {
             "fill": {
              "color": "#C8D4E3"
             },
             "line": {
              "color": "white"
             }
            },
            "type": "table"
           }
          ]
         },
         "layout": {
          "annotationdefaults": {
           "arrowcolor": "#2a3f5f",
           "arrowhead": 0,
           "arrowwidth": 1
          },
          "autotypenumbers": "strict",
          "coloraxis": {
           "colorbar": {
            "outlinewidth": 0,
            "ticks": ""
           }
          },
          "colorscale": {
           "diverging": [
            [
             0,
             "#8e0152"
            ],
            [
             0.1,
             "#c51b7d"
            ],
            [
             0.2,
             "#de77ae"
            ],
            [
             0.3,
             "#f1b6da"
            ],
            [
             0.4,
             "#fde0ef"
            ],
            [
             0.5,
             "#f7f7f7"
            ],
            [
             0.6,
             "#e6f5d0"
            ],
            [
             0.7,
             "#b8e186"
            ],
            [
             0.8,
             "#7fbc41"
            ],
            [
             0.9,
             "#4d9221"
            ],
            [
             1,
             "#276419"
            ]
           ],
           "sequential": [
            [
             0,
             "#0d0887"
            ],
            [
             0.1111111111111111,
             "#46039f"
            ],
            [
             0.2222222222222222,
             "#7201a8"
            ],
            [
             0.3333333333333333,
             "#9c179e"
            ],
            [
             0.4444444444444444,
             "#bd3786"
            ],
            [
             0.5555555555555556,
             "#d8576b"
            ],
            [
             0.6666666666666666,
             "#ed7953"
            ],
            [
             0.7777777777777778,
             "#fb9f3a"
            ],
            [
             0.8888888888888888,
             "#fdca26"
            ],
            [
             1,
             "#f0f921"
            ]
           ],
           "sequentialminus": [
            [
             0,
             "#0d0887"
            ],
            [
             0.1111111111111111,
             "#46039f"
            ],
            [
             0.2222222222222222,
             "#7201a8"
            ],
            [
             0.3333333333333333,
             "#9c179e"
            ],
            [
             0.4444444444444444,
             "#bd3786"
            ],
            [
             0.5555555555555556,
             "#d8576b"
            ],
            [
             0.6666666666666666,
             "#ed7953"
            ],
            [
             0.7777777777777778,
             "#fb9f3a"
            ],
            [
             0.8888888888888888,
             "#fdca26"
            ],
            [
             1,
             "#f0f921"
            ]
           ]
          },
          "colorway": [
           "#636efa",
           "#EF553B",
           "#00cc96",
           "#ab63fa",
           "#FFA15A",
           "#19d3f3",
           "#FF6692",
           "#B6E880",
           "#FF97FF",
           "#FECB52"
          ],
          "font": {
           "color": "#2a3f5f"
          },
          "geo": {
           "bgcolor": "white",
           "lakecolor": "white",
           "landcolor": "#E5ECF6",
           "showlakes": true,
           "showland": true,
           "subunitcolor": "white"
          },
          "hoverlabel": {
           "align": "left"
          },
          "hovermode": "closest",
          "mapbox": {
           "style": "light"
          },
          "paper_bgcolor": "white",
          "plot_bgcolor": "#E5ECF6",
          "polar": {
           "angularaxis": {
            "gridcolor": "white",
            "linecolor": "white",
            "ticks": ""
           },
           "bgcolor": "#E5ECF6",
           "radialaxis": {
            "gridcolor": "white",
            "linecolor": "white",
            "ticks": ""
           }
          },
          "scene": {
           "xaxis": {
            "backgroundcolor": "#E5ECF6",
            "gridcolor": "white",
            "gridwidth": 2,
            "linecolor": "white",
            "showbackground": true,
            "ticks": "",
            "zerolinecolor": "white"
           },
           "yaxis": {
            "backgroundcolor": "#E5ECF6",
            "gridcolor": "white",
            "gridwidth": 2,
            "linecolor": "white",
            "showbackground": true,
            "ticks": "",
            "zerolinecolor": "white"
           },
           "zaxis": {
            "backgroundcolor": "#E5ECF6",
            "gridcolor": "white",
            "gridwidth": 2,
            "linecolor": "white",
            "showbackground": true,
            "ticks": "",
            "zerolinecolor": "white"
           }
          },
          "shapedefaults": {
           "line": {
            "color": "#2a3f5f"
           }
          },
          "ternary": {
           "aaxis": {
            "gridcolor": "white",
            "linecolor": "white",
            "ticks": ""
           },
           "baxis": {
            "gridcolor": "white",
            "linecolor": "white",
            "ticks": ""
           },
           "bgcolor": "#E5ECF6",
           "caxis": {
            "gridcolor": "white",
            "linecolor": "white",
            "ticks": ""
           }
          },
          "title": {
           "x": 0.05
          },
          "xaxis": {
           "automargin": true,
           "gridcolor": "white",
           "linecolor": "white",
           "ticks": "",
           "title": {
            "standoff": 15
           },
           "zerolinecolor": "white",
           "zerolinewidth": 2
          },
          "yaxis": {
           "automargin": true,
           "gridcolor": "white",
           "linecolor": "white",
           "ticks": "",
           "title": {
            "standoff": 15
           },
           "zerolinecolor": "white",
           "zerolinewidth": 2
          }
         }
        },
        "title": {
         "text": "Per Class F1 Score of different models for Class 2"
        },
        "xaxis": {
         "anchor": "y",
         "categoryarray": [
          "SVC V4",
          "SVC V2",
          "SVC V3",
          "SVC V0",
          "SVC V1",
          "KNN V1",
          "KNN V0",
          "Random Forest V1",
          "Random Forest V0",
          "Logistic Regression V2",
          "Logistic Regression V1",
          "Logistic Regression V0"
         ],
         "categoryorder": "array",
         "domain": [
          0,
          1
         ],
         "title": {
          "text": "Algorithm"
         }
        },
        "yaxis": {
         "anchor": "x",
         "domain": [
          0,
          1
         ],
         "title": {
          "text": "Class_2"
         }
        }
       }
      }
     },
     "metadata": {},
     "output_type": "display_data"
    },
    {
     "data": {
      "application/vnd.plotly.v1+json": {
       "config": {
        "plotlyServerURL": "https://plot.ly"
       },
       "data": [
        {
         "alignmentgroup": "True",
         "hovertemplate": "Algorithm=%{x}<br>Class_3=%{y}<extra></extra>",
         "legendgroup": "SVC V4",
         "marker": {
          "color": "#636efa",
          "pattern": {
           "shape": ""
          }
         },
         "name": "SVC V4",
         "offsetgroup": "SVC V4",
         "orientation": "v",
         "showlegend": true,
         "textposition": "auto",
         "type": "bar",
         "x": [
          "SVC V4"
         ],
         "xaxis": "x",
         "y": [
          0.9898209898209899
         ],
         "yaxis": "y"
        },
        {
         "alignmentgroup": "True",
         "hovertemplate": "Algorithm=%{x}<br>Class_3=%{y}<extra></extra>",
         "legendgroup": "SVC V2",
         "marker": {
          "color": "#EF553B",
          "pattern": {
           "shape": ""
          }
         },
         "name": "SVC V2",
         "offsetgroup": "SVC V2",
         "orientation": "v",
         "showlegend": true,
         "textposition": "auto",
         "type": "bar",
         "x": [
          "SVC V2"
         ],
         "xaxis": "x",
         "y": [
          0.977715388664678
         ],
         "yaxis": "y"
        },
        {
         "alignmentgroup": "True",
         "hovertemplate": "Algorithm=%{x}<br>Class_3=%{y}<extra></extra>",
         "legendgroup": "SVC V3",
         "marker": {
          "color": "#00cc96",
          "pattern": {
           "shape": ""
          }
         },
         "name": "SVC V3",
         "offsetgroup": "SVC V3",
         "orientation": "v",
         "showlegend": true,
         "textposition": "auto",
         "type": "bar",
         "x": [
          "SVC V3"
         ],
         "xaxis": "x",
         "y": [
          0.9774541626458462
         ],
         "yaxis": "y"
        },
        {
         "alignmentgroup": "True",
         "hovertemplate": "Algorithm=%{x}<br>Class_3=%{y}<extra></extra>",
         "legendgroup": "SVC V0",
         "marker": {
          "color": "#ab63fa",
          "pattern": {
           "shape": ""
          }
         },
         "name": "SVC V0",
         "offsetgroup": "SVC V0",
         "orientation": "v",
         "showlegend": true,
         "textposition": "auto",
         "type": "bar",
         "x": [
          "SVC V0"
         ],
         "xaxis": "x",
         "y": [
          0.9698086712304722
         ],
         "yaxis": "y"
        },
        {
         "alignmentgroup": "True",
         "hovertemplate": "Algorithm=%{x}<br>Class_3=%{y}<extra></extra>",
         "legendgroup": "SVC V1",
         "marker": {
          "color": "#FFA15A",
          "pattern": {
           "shape": ""
          }
         },
         "name": "SVC V1",
         "offsetgroup": "SVC V1",
         "orientation": "v",
         "showlegend": true,
         "textposition": "auto",
         "type": "bar",
         "x": [
          "SVC V1"
         ],
         "xaxis": "x",
         "y": [
          0.9698086712304722
         ],
         "yaxis": "y"
        },
        {
         "alignmentgroup": "True",
         "hovertemplate": "Algorithm=%{x}<br>Class_3=%{y}<extra></extra>",
         "legendgroup": "KNN V1",
         "marker": {
          "color": "#19d3f3",
          "pattern": {
           "shape": ""
          }
         },
         "name": "KNN V1",
         "offsetgroup": "KNN V1",
         "orientation": "v",
         "showlegend": true,
         "textposition": "auto",
         "type": "bar",
         "x": [
          "KNN V1"
         ],
         "xaxis": "x",
         "y": [
          0.9638723254998246
         ],
         "yaxis": "y"
        },
        {
         "alignmentgroup": "True",
         "hovertemplate": "Algorithm=%{x}<br>Class_3=%{y}<extra></extra>",
         "legendgroup": "KNN V0",
         "marker": {
          "color": "#FF6692",
          "pattern": {
           "shape": ""
          }
         },
         "name": "KNN V0",
         "offsetgroup": "KNN V0",
         "orientation": "v",
         "showlegend": true,
         "textposition": "auto",
         "type": "bar",
         "x": [
          "KNN V0"
         ],
         "xaxis": "x",
         "y": [
          0.9628269045744774
         ],
         "yaxis": "y"
        },
        {
         "alignmentgroup": "True",
         "hovertemplate": "Algorithm=%{x}<br>Class_3=%{y}<extra></extra>",
         "legendgroup": "Random Forest V1",
         "marker": {
          "color": "#B6E880",
          "pattern": {
           "shape": ""
          }
         },
         "name": "Random Forest V1",
         "offsetgroup": "Random Forest V1",
         "orientation": "v",
         "showlegend": true,
         "textposition": "auto",
         "type": "bar",
         "x": [
          "Random Forest V1"
         ],
         "xaxis": "x",
         "y": [
          0.9556278007204992
         ],
         "yaxis": "y"
        },
        {
         "alignmentgroup": "True",
         "hovertemplate": "Algorithm=%{x}<br>Class_3=%{y}<extra></extra>",
         "legendgroup": "Random Forest V0",
         "marker": {
          "color": "#FF97FF",
          "pattern": {
           "shape": ""
          }
         },
         "name": "Random Forest V0",
         "offsetgroup": "Random Forest V0",
         "orientation": "v",
         "showlegend": true,
         "textposition": "auto",
         "type": "bar",
         "x": [
          "Random Forest V0"
         ],
         "xaxis": "x",
         "y": [
          0.9530095036958818
         ],
         "yaxis": "y"
        },
        {
         "alignmentgroup": "True",
         "hovertemplate": "Algorithm=%{x}<br>Class_3=%{y}<extra></extra>",
         "legendgroup": "Logistic Regression V2",
         "marker": {
          "color": "#FECB52",
          "pattern": {
           "shape": ""
          }
         },
         "name": "Logistic Regression V2",
         "offsetgroup": "Logistic Regression V2",
         "orientation": "v",
         "showlegend": true,
         "textposition": "auto",
         "type": "bar",
         "x": [
          "Logistic Regression V2"
         ],
         "xaxis": "x",
         "y": [
          0.9006960965723853
         ],
         "yaxis": "y"
        },
        {
         "alignmentgroup": "True",
         "hovertemplate": "Algorithm=%{x}<br>Class_3=%{y}<extra></extra>",
         "legendgroup": "Logistic Regression V1",
         "marker": {
          "color": "#636efa",
          "pattern": {
           "shape": ""
          }
         },
         "name": "Logistic Regression V1",
         "offsetgroup": "Logistic Regression V1",
         "orientation": "v",
         "showlegend": true,
         "textposition": "auto",
         "type": "bar",
         "x": [
          "Logistic Regression V1"
         ],
         "xaxis": "x",
         "y": [
          0.8992166182554353
         ],
         "yaxis": "y"
        },
        {
         "alignmentgroup": "True",
         "hovertemplate": "Algorithm=%{x}<br>Class_3=%{y}<extra></extra>",
         "legendgroup": "Logistic Regression V0",
         "marker": {
          "color": "#EF553B",
          "pattern": {
           "shape": ""
          }
         },
         "name": "Logistic Regression V0",
         "offsetgroup": "Logistic Regression V0",
         "orientation": "v",
         "showlegend": true,
         "textposition": "auto",
         "type": "bar",
         "x": [
          "Logistic Regression V0"
         ],
         "xaxis": "x",
         "y": [
          0.8983393374923118
         ],
         "yaxis": "y"
        }
       ],
       "layout": {
        "barmode": "relative",
        "legend": {
         "title": {
          "text": "Algorithm"
         },
         "tracegroupgap": 0
        },
        "template": {
         "data": {
          "bar": [
           {
            "error_x": {
             "color": "#2a3f5f"
            },
            "error_y": {
             "color": "#2a3f5f"
            },
            "marker": {
             "line": {
              "color": "#E5ECF6",
              "width": 0.5
             },
             "pattern": {
              "fillmode": "overlay",
              "size": 10,
              "solidity": 0.2
             }
            },
            "type": "bar"
           }
          ],
          "barpolar": [
           {
            "marker": {
             "line": {
              "color": "#E5ECF6",
              "width": 0.5
             },
             "pattern": {
              "fillmode": "overlay",
              "size": 10,
              "solidity": 0.2
             }
            },
            "type": "barpolar"
           }
          ],
          "carpet": [
           {
            "aaxis": {
             "endlinecolor": "#2a3f5f",
             "gridcolor": "white",
             "linecolor": "white",
             "minorgridcolor": "white",
             "startlinecolor": "#2a3f5f"
            },
            "baxis": {
             "endlinecolor": "#2a3f5f",
             "gridcolor": "white",
             "linecolor": "white",
             "minorgridcolor": "white",
             "startlinecolor": "#2a3f5f"
            },
            "type": "carpet"
           }
          ],
          "choropleth": [
           {
            "colorbar": {
             "outlinewidth": 0,
             "ticks": ""
            },
            "type": "choropleth"
           }
          ],
          "contour": [
           {
            "colorbar": {
             "outlinewidth": 0,
             "ticks": ""
            },
            "colorscale": [
             [
              0,
              "#0d0887"
             ],
             [
              0.1111111111111111,
              "#46039f"
             ],
             [
              0.2222222222222222,
              "#7201a8"
             ],
             [
              0.3333333333333333,
              "#9c179e"
             ],
             [
              0.4444444444444444,
              "#bd3786"
             ],
             [
              0.5555555555555556,
              "#d8576b"
             ],
             [
              0.6666666666666666,
              "#ed7953"
             ],
             [
              0.7777777777777778,
              "#fb9f3a"
             ],
             [
              0.8888888888888888,
              "#fdca26"
             ],
             [
              1,
              "#f0f921"
             ]
            ],
            "type": "contour"
           }
          ],
          "contourcarpet": [
           {
            "colorbar": {
             "outlinewidth": 0,
             "ticks": ""
            },
            "type": "contourcarpet"
           }
          ],
          "heatmap": [
           {
            "colorbar": {
             "outlinewidth": 0,
             "ticks": ""
            },
            "colorscale": [
             [
              0,
              "#0d0887"
             ],
             [
              0.1111111111111111,
              "#46039f"
             ],
             [
              0.2222222222222222,
              "#7201a8"
             ],
             [
              0.3333333333333333,
              "#9c179e"
             ],
             [
              0.4444444444444444,
              "#bd3786"
             ],
             [
              0.5555555555555556,
              "#d8576b"
             ],
             [
              0.6666666666666666,
              "#ed7953"
             ],
             [
              0.7777777777777778,
              "#fb9f3a"
             ],
             [
              0.8888888888888888,
              "#fdca26"
             ],
             [
              1,
              "#f0f921"
             ]
            ],
            "type": "heatmap"
           }
          ],
          "heatmapgl": [
           {
            "colorbar": {
             "outlinewidth": 0,
             "ticks": ""
            },
            "colorscale": [
             [
              0,
              "#0d0887"
             ],
             [
              0.1111111111111111,
              "#46039f"
             ],
             [
              0.2222222222222222,
              "#7201a8"
             ],
             [
              0.3333333333333333,
              "#9c179e"
             ],
             [
              0.4444444444444444,
              "#bd3786"
             ],
             [
              0.5555555555555556,
              "#d8576b"
             ],
             [
              0.6666666666666666,
              "#ed7953"
             ],
             [
              0.7777777777777778,
              "#fb9f3a"
             ],
             [
              0.8888888888888888,
              "#fdca26"
             ],
             [
              1,
              "#f0f921"
             ]
            ],
            "type": "heatmapgl"
           }
          ],
          "histogram": [
           {
            "marker": {
             "pattern": {
              "fillmode": "overlay",
              "size": 10,
              "solidity": 0.2
             }
            },
            "type": "histogram"
           }
          ],
          "histogram2d": [
           {
            "colorbar": {
             "outlinewidth": 0,
             "ticks": ""
            },
            "colorscale": [
             [
              0,
              "#0d0887"
             ],
             [
              0.1111111111111111,
              "#46039f"
             ],
             [
              0.2222222222222222,
              "#7201a8"
             ],
             [
              0.3333333333333333,
              "#9c179e"
             ],
             [
              0.4444444444444444,
              "#bd3786"
             ],
             [
              0.5555555555555556,
              "#d8576b"
             ],
             [
              0.6666666666666666,
              "#ed7953"
             ],
             [
              0.7777777777777778,
              "#fb9f3a"
             ],
             [
              0.8888888888888888,
              "#fdca26"
             ],
             [
              1,
              "#f0f921"
             ]
            ],
            "type": "histogram2d"
           }
          ],
          "histogram2dcontour": [
           {
            "colorbar": {
             "outlinewidth": 0,
             "ticks": ""
            },
            "colorscale": [
             [
              0,
              "#0d0887"
             ],
             [
              0.1111111111111111,
              "#46039f"
             ],
             [
              0.2222222222222222,
              "#7201a8"
             ],
             [
              0.3333333333333333,
              "#9c179e"
             ],
             [
              0.4444444444444444,
              "#bd3786"
             ],
             [
              0.5555555555555556,
              "#d8576b"
             ],
             [
              0.6666666666666666,
              "#ed7953"
             ],
             [
              0.7777777777777778,
              "#fb9f3a"
             ],
             [
              0.8888888888888888,
              "#fdca26"
             ],
             [
              1,
              "#f0f921"
             ]
            ],
            "type": "histogram2dcontour"
           }
          ],
          "mesh3d": [
           {
            "colorbar": {
             "outlinewidth": 0,
             "ticks": ""
            },
            "type": "mesh3d"
           }
          ],
          "parcoords": [
           {
            "line": {
             "colorbar": {
              "outlinewidth": 0,
              "ticks": ""
             }
            },
            "type": "parcoords"
           }
          ],
          "pie": [
           {
            "automargin": true,
            "type": "pie"
           }
          ],
          "scatter": [
           {
            "fillpattern": {
             "fillmode": "overlay",
             "size": 10,
             "solidity": 0.2
            },
            "type": "scatter"
           }
          ],
          "scatter3d": [
           {
            "line": {
             "colorbar": {
              "outlinewidth": 0,
              "ticks": ""
             }
            },
            "marker": {
             "colorbar": {
              "outlinewidth": 0,
              "ticks": ""
             }
            },
            "type": "scatter3d"
           }
          ],
          "scattercarpet": [
           {
            "marker": {
             "colorbar": {
              "outlinewidth": 0,
              "ticks": ""
             }
            },
            "type": "scattercarpet"
           }
          ],
          "scattergeo": [
           {
            "marker": {
             "colorbar": {
              "outlinewidth": 0,
              "ticks": ""
             }
            },
            "type": "scattergeo"
           }
          ],
          "scattergl": [
           {
            "marker": {
             "colorbar": {
              "outlinewidth": 0,
              "ticks": ""
             }
            },
            "type": "scattergl"
           }
          ],
          "scattermapbox": [
           {
            "marker": {
             "colorbar": {
              "outlinewidth": 0,
              "ticks": ""
             }
            },
            "type": "scattermapbox"
           }
          ],
          "scatterpolar": [
           {
            "marker": {
             "colorbar": {
              "outlinewidth": 0,
              "ticks": ""
             }
            },
            "type": "scatterpolar"
           }
          ],
          "scatterpolargl": [
           {
            "marker": {
             "colorbar": {
              "outlinewidth": 0,
              "ticks": ""
             }
            },
            "type": "scatterpolargl"
           }
          ],
          "scatterternary": [
           {
            "marker": {
             "colorbar": {
              "outlinewidth": 0,
              "ticks": ""
             }
            },
            "type": "scatterternary"
           }
          ],
          "surface": [
           {
            "colorbar": {
             "outlinewidth": 0,
             "ticks": ""
            },
            "colorscale": [
             [
              0,
              "#0d0887"
             ],
             [
              0.1111111111111111,
              "#46039f"
             ],
             [
              0.2222222222222222,
              "#7201a8"
             ],
             [
              0.3333333333333333,
              "#9c179e"
             ],
             [
              0.4444444444444444,
              "#bd3786"
             ],
             [
              0.5555555555555556,
              "#d8576b"
             ],
             [
              0.6666666666666666,
              "#ed7953"
             ],
             [
              0.7777777777777778,
              "#fb9f3a"
             ],
             [
              0.8888888888888888,
              "#fdca26"
             ],
             [
              1,
              "#f0f921"
             ]
            ],
            "type": "surface"
           }
          ],
          "table": [
           {
            "cells": {
             "fill": {
              "color": "#EBF0F8"
             },
             "line": {
              "color": "white"
             }
            },
            "header": {
             "fill": {
              "color": "#C8D4E3"
             },
             "line": {
              "color": "white"
             }
            },
            "type": "table"
           }
          ]
         },
         "layout": {
          "annotationdefaults": {
           "arrowcolor": "#2a3f5f",
           "arrowhead": 0,
           "arrowwidth": 1
          },
          "autotypenumbers": "strict",
          "coloraxis": {
           "colorbar": {
            "outlinewidth": 0,
            "ticks": ""
           }
          },
          "colorscale": {
           "diverging": [
            [
             0,
             "#8e0152"
            ],
            [
             0.1,
             "#c51b7d"
            ],
            [
             0.2,
             "#de77ae"
            ],
            [
             0.3,
             "#f1b6da"
            ],
            [
             0.4,
             "#fde0ef"
            ],
            [
             0.5,
             "#f7f7f7"
            ],
            [
             0.6,
             "#e6f5d0"
            ],
            [
             0.7,
             "#b8e186"
            ],
            [
             0.8,
             "#7fbc41"
            ],
            [
             0.9,
             "#4d9221"
            ],
            [
             1,
             "#276419"
            ]
           ],
           "sequential": [
            [
             0,
             "#0d0887"
            ],
            [
             0.1111111111111111,
             "#46039f"
            ],
            [
             0.2222222222222222,
             "#7201a8"
            ],
            [
             0.3333333333333333,
             "#9c179e"
            ],
            [
             0.4444444444444444,
             "#bd3786"
            ],
            [
             0.5555555555555556,
             "#d8576b"
            ],
            [
             0.6666666666666666,
             "#ed7953"
            ],
            [
             0.7777777777777778,
             "#fb9f3a"
            ],
            [
             0.8888888888888888,
             "#fdca26"
            ],
            [
             1,
             "#f0f921"
            ]
           ],
           "sequentialminus": [
            [
             0,
             "#0d0887"
            ],
            [
             0.1111111111111111,
             "#46039f"
            ],
            [
             0.2222222222222222,
             "#7201a8"
            ],
            [
             0.3333333333333333,
             "#9c179e"
            ],
            [
             0.4444444444444444,
             "#bd3786"
            ],
            [
             0.5555555555555556,
             "#d8576b"
            ],
            [
             0.6666666666666666,
             "#ed7953"
            ],
            [
             0.7777777777777778,
             "#fb9f3a"
            ],
            [
             0.8888888888888888,
             "#fdca26"
            ],
            [
             1,
             "#f0f921"
            ]
           ]
          },
          "colorway": [
           "#636efa",
           "#EF553B",
           "#00cc96",
           "#ab63fa",
           "#FFA15A",
           "#19d3f3",
           "#FF6692",
           "#B6E880",
           "#FF97FF",
           "#FECB52"
          ],
          "font": {
           "color": "#2a3f5f"
          },
          "geo": {
           "bgcolor": "white",
           "lakecolor": "white",
           "landcolor": "#E5ECF6",
           "showlakes": true,
           "showland": true,
           "subunitcolor": "white"
          },
          "hoverlabel": {
           "align": "left"
          },
          "hovermode": "closest",
          "mapbox": {
           "style": "light"
          },
          "paper_bgcolor": "white",
          "plot_bgcolor": "#E5ECF6",
          "polar": {
           "angularaxis": {
            "gridcolor": "white",
            "linecolor": "white",
            "ticks": ""
           },
           "bgcolor": "#E5ECF6",
           "radialaxis": {
            "gridcolor": "white",
            "linecolor": "white",
            "ticks": ""
           }
          },
          "scene": {
           "xaxis": {
            "backgroundcolor": "#E5ECF6",
            "gridcolor": "white",
            "gridwidth": 2,
            "linecolor": "white",
            "showbackground": true,
            "ticks": "",
            "zerolinecolor": "white"
           },
           "yaxis": {
            "backgroundcolor": "#E5ECF6",
            "gridcolor": "white",
            "gridwidth": 2,
            "linecolor": "white",
            "showbackground": true,
            "ticks": "",
            "zerolinecolor": "white"
           },
           "zaxis": {
            "backgroundcolor": "#E5ECF6",
            "gridcolor": "white",
            "gridwidth": 2,
            "linecolor": "white",
            "showbackground": true,
            "ticks": "",
            "zerolinecolor": "white"
           }
          },
          "shapedefaults": {
           "line": {
            "color": "#2a3f5f"
           }
          },
          "ternary": {
           "aaxis": {
            "gridcolor": "white",
            "linecolor": "white",
            "ticks": ""
           },
           "baxis": {
            "gridcolor": "white",
            "linecolor": "white",
            "ticks": ""
           },
           "bgcolor": "#E5ECF6",
           "caxis": {
            "gridcolor": "white",
            "linecolor": "white",
            "ticks": ""
           }
          },
          "title": {
           "x": 0.05
          },
          "xaxis": {
           "automargin": true,
           "gridcolor": "white",
           "linecolor": "white",
           "ticks": "",
           "title": {
            "standoff": 15
           },
           "zerolinecolor": "white",
           "zerolinewidth": 2
          },
          "yaxis": {
           "automargin": true,
           "gridcolor": "white",
           "linecolor": "white",
           "ticks": "",
           "title": {
            "standoff": 15
           },
           "zerolinecolor": "white",
           "zerolinewidth": 2
          }
         }
        },
        "title": {
         "text": "Per Class F1 Score of different models for Class 3"
        },
        "xaxis": {
         "anchor": "y",
         "categoryarray": [
          "SVC V4",
          "SVC V2",
          "SVC V3",
          "SVC V0",
          "SVC V1",
          "KNN V1",
          "KNN V0",
          "Random Forest V1",
          "Random Forest V0",
          "Logistic Regression V2",
          "Logistic Regression V1",
          "Logistic Regression V0"
         ],
         "categoryorder": "array",
         "domain": [
          0,
          1
         ],
         "title": {
          "text": "Algorithm"
         }
        },
        "yaxis": {
         "anchor": "x",
         "domain": [
          0,
          1
         ],
         "title": {
          "text": "Class_3"
         }
        }
       }
      }
     },
     "metadata": {},
     "output_type": "display_data"
    },
    {
     "data": {
      "application/vnd.plotly.v1+json": {
       "config": {
        "plotlyServerURL": "https://plot.ly"
       },
       "data": [
        {
         "alignmentgroup": "True",
         "hovertemplate": "Algorithm=%{x}<br>Class_4=%{y}<extra></extra>",
         "legendgroup": "SVC V4",
         "marker": {
          "color": "#636efa",
          "pattern": {
           "shape": ""
          }
         },
         "name": "SVC V4",
         "offsetgroup": "SVC V4",
         "orientation": "v",
         "showlegend": true,
         "textposition": "auto",
         "type": "bar",
         "x": [
          "SVC V4"
         ],
         "xaxis": "x",
         "y": [
          0.9882697947214076
         ],
         "yaxis": "y"
        },
        {
         "alignmentgroup": "True",
         "hovertemplate": "Algorithm=%{x}<br>Class_4=%{y}<extra></extra>",
         "legendgroup": "SVC V2",
         "marker": {
          "color": "#EF553B",
          "pattern": {
           "shape": ""
          }
         },
         "name": "SVC V2",
         "offsetgroup": "SVC V2",
         "orientation": "v",
         "showlegend": true,
         "textposition": "auto",
         "type": "bar",
         "x": [
          "SVC V2"
         ],
         "xaxis": "x",
         "y": [
          0.980714742710904
         ],
         "yaxis": "y"
        },
        {
         "alignmentgroup": "True",
         "hovertemplate": "Algorithm=%{x}<br>Class_4=%{y}<extra></extra>",
         "legendgroup": "SVC V3",
         "marker": {
          "color": "#00cc96",
          "pattern": {
           "shape": ""
          }
         },
         "name": "SVC V3",
         "offsetgroup": "SVC V3",
         "orientation": "v",
         "showlegend": true,
         "textposition": "auto",
         "type": "bar",
         "x": [
          "SVC V3"
         ],
         "xaxis": "x",
         "y": [
          0.980714742710904
         ],
         "yaxis": "y"
        },
        {
         "alignmentgroup": "True",
         "hovertemplate": "Algorithm=%{x}<br>Class_4=%{y}<extra></extra>",
         "legendgroup": "SVC V0",
         "marker": {
          "color": "#ab63fa",
          "pattern": {
           "shape": ""
          }
         },
         "name": "SVC V0",
         "offsetgroup": "SVC V0",
         "orientation": "v",
         "showlegend": true,
         "textposition": "auto",
         "type": "bar",
         "x": [
          "SVC V0"
         ],
         "xaxis": "x",
         "y": [
          0.974799123447772
         ],
         "yaxis": "y"
        },
        {
         "alignmentgroup": "True",
         "hovertemplate": "Algorithm=%{x}<br>Class_4=%{y}<extra></extra>",
         "legendgroup": "SVC V1",
         "marker": {
          "color": "#FFA15A",
          "pattern": {
           "shape": ""
          }
         },
         "name": "SVC V1",
         "offsetgroup": "SVC V1",
         "orientation": "v",
         "showlegend": true,
         "textposition": "auto",
         "type": "bar",
         "x": [
          "SVC V1"
         ],
         "xaxis": "x",
         "y": [
          0.974799123447772
         ],
         "yaxis": "y"
        },
        {
         "alignmentgroup": "True",
         "hovertemplate": "Algorithm=%{x}<br>Class_4=%{y}<extra></extra>",
         "legendgroup": "KNN V1",
         "marker": {
          "color": "#19d3f3",
          "pattern": {
           "shape": ""
          }
         },
         "name": "KNN V1",
         "offsetgroup": "KNN V1",
         "orientation": "v",
         "showlegend": true,
         "textposition": "auto",
         "type": "bar",
         "x": [
          "KNN V1"
         ],
         "xaxis": "x",
         "y": [
          0.9710545722713864
         ],
         "yaxis": "y"
        },
        {
         "alignmentgroup": "True",
         "hovertemplate": "Algorithm=%{x}<br>Class_4=%{y}<extra></extra>",
         "legendgroup": "KNN V0",
         "marker": {
          "color": "#FF6692",
          "pattern": {
           "shape": ""
          }
         },
         "name": "KNN V0",
         "offsetgroup": "KNN V0",
         "orientation": "v",
         "showlegend": true,
         "textposition": "auto",
         "type": "bar",
         "x": [
          "KNN V0"
         ],
         "xaxis": "x",
         "y": [
          0.9700874367234238
         ],
         "yaxis": "y"
        },
        {
         "alignmentgroup": "True",
         "hovertemplate": "Algorithm=%{x}<br>Class_4=%{y}<extra></extra>",
         "legendgroup": "Random Forest V1",
         "marker": {
          "color": "#B6E880",
          "pattern": {
           "shape": ""
          }
         },
         "name": "Random Forest V1",
         "offsetgroup": "Random Forest V1",
         "orientation": "v",
         "showlegend": true,
         "textposition": "auto",
         "type": "bar",
         "x": [
          "Random Forest V1"
         ],
         "xaxis": "x",
         "y": [
          0.9685729947012608
         ],
         "yaxis": "y"
        },
        {
         "alignmentgroup": "True",
         "hovertemplate": "Algorithm=%{x}<br>Class_4=%{y}<extra></extra>",
         "legendgroup": "Random Forest V0",
         "marker": {
          "color": "#FF97FF",
          "pattern": {
           "shape": ""
          }
         },
         "name": "Random Forest V0",
         "offsetgroup": "Random Forest V0",
         "orientation": "v",
         "showlegend": true,
         "textposition": "auto",
         "type": "bar",
         "x": [
          "Random Forest V0"
         ],
         "xaxis": "x",
         "y": [
          0.9662285505659
         ],
         "yaxis": "y"
        },
        {
         "alignmentgroup": "True",
         "hovertemplate": "Algorithm=%{x}<br>Class_4=%{y}<extra></extra>",
         "legendgroup": "Logistic Regression V1",
         "marker": {
          "color": "#FECB52",
          "pattern": {
           "shape": ""
          }
         },
         "name": "Logistic Regression V1",
         "offsetgroup": "Logistic Regression V1",
         "orientation": "v",
         "showlegend": true,
         "textposition": "auto",
         "type": "bar",
         "x": [
          "Logistic Regression V1"
         ],
         "xaxis": "x",
         "y": [
          0.9278011332480351
         ],
         "yaxis": "y"
        },
        {
         "alignmentgroup": "True",
         "hovertemplate": "Algorithm=%{x}<br>Class_4=%{y}<extra></extra>",
         "legendgroup": "Logistic Regression V2",
         "marker": {
          "color": "#636efa",
          "pattern": {
           "shape": ""
          }
         },
         "name": "Logistic Regression V2",
         "offsetgroup": "Logistic Regression V2",
         "orientation": "v",
         "showlegend": true,
         "textposition": "auto",
         "type": "bar",
         "x": [
          "Logistic Regression V2"
         ],
         "xaxis": "x",
         "y": [
          0.9277372262773724
         ],
         "yaxis": "y"
        },
        {
         "alignmentgroup": "True",
         "hovertemplate": "Algorithm=%{x}<br>Class_4=%{y}<extra></extra>",
         "legendgroup": "Logistic Regression V0",
         "marker": {
          "color": "#EF553B",
          "pattern": {
           "shape": ""
          }
         },
         "name": "Logistic Regression V0",
         "offsetgroup": "Logistic Regression V0",
         "orientation": "v",
         "showlegend": true,
         "textposition": "auto",
         "type": "bar",
         "x": [
          "Logistic Regression V0"
         ],
         "xaxis": "x",
         "y": [
          0.9269585885364292
         ],
         "yaxis": "y"
        }
       ],
       "layout": {
        "barmode": "relative",
        "legend": {
         "title": {
          "text": "Algorithm"
         },
         "tracegroupgap": 0
        },
        "template": {
         "data": {
          "bar": [
           {
            "error_x": {
             "color": "#2a3f5f"
            },
            "error_y": {
             "color": "#2a3f5f"
            },
            "marker": {
             "line": {
              "color": "#E5ECF6",
              "width": 0.5
             },
             "pattern": {
              "fillmode": "overlay",
              "size": 10,
              "solidity": 0.2
             }
            },
            "type": "bar"
           }
          ],
          "barpolar": [
           {
            "marker": {
             "line": {
              "color": "#E5ECF6",
              "width": 0.5
             },
             "pattern": {
              "fillmode": "overlay",
              "size": 10,
              "solidity": 0.2
             }
            },
            "type": "barpolar"
           }
          ],
          "carpet": [
           {
            "aaxis": {
             "endlinecolor": "#2a3f5f",
             "gridcolor": "white",
             "linecolor": "white",
             "minorgridcolor": "white",
             "startlinecolor": "#2a3f5f"
            },
            "baxis": {
             "endlinecolor": "#2a3f5f",
             "gridcolor": "white",
             "linecolor": "white",
             "minorgridcolor": "white",
             "startlinecolor": "#2a3f5f"
            },
            "type": "carpet"
           }
          ],
          "choropleth": [
           {
            "colorbar": {
             "outlinewidth": 0,
             "ticks": ""
            },
            "type": "choropleth"
           }
          ],
          "contour": [
           {
            "colorbar": {
             "outlinewidth": 0,
             "ticks": ""
            },
            "colorscale": [
             [
              0,
              "#0d0887"
             ],
             [
              0.1111111111111111,
              "#46039f"
             ],
             [
              0.2222222222222222,
              "#7201a8"
             ],
             [
              0.3333333333333333,
              "#9c179e"
             ],
             [
              0.4444444444444444,
              "#bd3786"
             ],
             [
              0.5555555555555556,
              "#d8576b"
             ],
             [
              0.6666666666666666,
              "#ed7953"
             ],
             [
              0.7777777777777778,
              "#fb9f3a"
             ],
             [
              0.8888888888888888,
              "#fdca26"
             ],
             [
              1,
              "#f0f921"
             ]
            ],
            "type": "contour"
           }
          ],
          "contourcarpet": [
           {
            "colorbar": {
             "outlinewidth": 0,
             "ticks": ""
            },
            "type": "contourcarpet"
           }
          ],
          "heatmap": [
           {
            "colorbar": {
             "outlinewidth": 0,
             "ticks": ""
            },
            "colorscale": [
             [
              0,
              "#0d0887"
             ],
             [
              0.1111111111111111,
              "#46039f"
             ],
             [
              0.2222222222222222,
              "#7201a8"
             ],
             [
              0.3333333333333333,
              "#9c179e"
             ],
             [
              0.4444444444444444,
              "#bd3786"
             ],
             [
              0.5555555555555556,
              "#d8576b"
             ],
             [
              0.6666666666666666,
              "#ed7953"
             ],
             [
              0.7777777777777778,
              "#fb9f3a"
             ],
             [
              0.8888888888888888,
              "#fdca26"
             ],
             [
              1,
              "#f0f921"
             ]
            ],
            "type": "heatmap"
           }
          ],
          "heatmapgl": [
           {
            "colorbar": {
             "outlinewidth": 0,
             "ticks": ""
            },
            "colorscale": [
             [
              0,
              "#0d0887"
             ],
             [
              0.1111111111111111,
              "#46039f"
             ],
             [
              0.2222222222222222,
              "#7201a8"
             ],
             [
              0.3333333333333333,
              "#9c179e"
             ],
             [
              0.4444444444444444,
              "#bd3786"
             ],
             [
              0.5555555555555556,
              "#d8576b"
             ],
             [
              0.6666666666666666,
              "#ed7953"
             ],
             [
              0.7777777777777778,
              "#fb9f3a"
             ],
             [
              0.8888888888888888,
              "#fdca26"
             ],
             [
              1,
              "#f0f921"
             ]
            ],
            "type": "heatmapgl"
           }
          ],
          "histogram": [
           {
            "marker": {
             "pattern": {
              "fillmode": "overlay",
              "size": 10,
              "solidity": 0.2
             }
            },
            "type": "histogram"
           }
          ],
          "histogram2d": [
           {
            "colorbar": {
             "outlinewidth": 0,
             "ticks": ""
            },
            "colorscale": [
             [
              0,
              "#0d0887"
             ],
             [
              0.1111111111111111,
              "#46039f"
             ],
             [
              0.2222222222222222,
              "#7201a8"
             ],
             [
              0.3333333333333333,
              "#9c179e"
             ],
             [
              0.4444444444444444,
              "#bd3786"
             ],
             [
              0.5555555555555556,
              "#d8576b"
             ],
             [
              0.6666666666666666,
              "#ed7953"
             ],
             [
              0.7777777777777778,
              "#fb9f3a"
             ],
             [
              0.8888888888888888,
              "#fdca26"
             ],
             [
              1,
              "#f0f921"
             ]
            ],
            "type": "histogram2d"
           }
          ],
          "histogram2dcontour": [
           {
            "colorbar": {
             "outlinewidth": 0,
             "ticks": ""
            },
            "colorscale": [
             [
              0,
              "#0d0887"
             ],
             [
              0.1111111111111111,
              "#46039f"
             ],
             [
              0.2222222222222222,
              "#7201a8"
             ],
             [
              0.3333333333333333,
              "#9c179e"
             ],
             [
              0.4444444444444444,
              "#bd3786"
             ],
             [
              0.5555555555555556,
              "#d8576b"
             ],
             [
              0.6666666666666666,
              "#ed7953"
             ],
             [
              0.7777777777777778,
              "#fb9f3a"
             ],
             [
              0.8888888888888888,
              "#fdca26"
             ],
             [
              1,
              "#f0f921"
             ]
            ],
            "type": "histogram2dcontour"
           }
          ],
          "mesh3d": [
           {
            "colorbar": {
             "outlinewidth": 0,
             "ticks": ""
            },
            "type": "mesh3d"
           }
          ],
          "parcoords": [
           {
            "line": {
             "colorbar": {
              "outlinewidth": 0,
              "ticks": ""
             }
            },
            "type": "parcoords"
           }
          ],
          "pie": [
           {
            "automargin": true,
            "type": "pie"
           }
          ],
          "scatter": [
           {
            "fillpattern": {
             "fillmode": "overlay",
             "size": 10,
             "solidity": 0.2
            },
            "type": "scatter"
           }
          ],
          "scatter3d": [
           {
            "line": {
             "colorbar": {
              "outlinewidth": 0,
              "ticks": ""
             }
            },
            "marker": {
             "colorbar": {
              "outlinewidth": 0,
              "ticks": ""
             }
            },
            "type": "scatter3d"
           }
          ],
          "scattercarpet": [
           {
            "marker": {
             "colorbar": {
              "outlinewidth": 0,
              "ticks": ""
             }
            },
            "type": "scattercarpet"
           }
          ],
          "scattergeo": [
           {
            "marker": {
             "colorbar": {
              "outlinewidth": 0,
              "ticks": ""
             }
            },
            "type": "scattergeo"
           }
          ],
          "scattergl": [
           {
            "marker": {
             "colorbar": {
              "outlinewidth": 0,
              "ticks": ""
             }
            },
            "type": "scattergl"
           }
          ],
          "scattermapbox": [
           {
            "marker": {
             "colorbar": {
              "outlinewidth": 0,
              "ticks": ""
             }
            },
            "type": "scattermapbox"
           }
          ],
          "scatterpolar": [
           {
            "marker": {
             "colorbar": {
              "outlinewidth": 0,
              "ticks": ""
             }
            },
            "type": "scatterpolar"
           }
          ],
          "scatterpolargl": [
           {
            "marker": {
             "colorbar": {
              "outlinewidth": 0,
              "ticks": ""
             }
            },
            "type": "scatterpolargl"
           }
          ],
          "scatterternary": [
           {
            "marker": {
             "colorbar": {
              "outlinewidth": 0,
              "ticks": ""
             }
            },
            "type": "scatterternary"
           }
          ],
          "surface": [
           {
            "colorbar": {
             "outlinewidth": 0,
             "ticks": ""
            },
            "colorscale": [
             [
              0,
              "#0d0887"
             ],
             [
              0.1111111111111111,
              "#46039f"
             ],
             [
              0.2222222222222222,
              "#7201a8"
             ],
             [
              0.3333333333333333,
              "#9c179e"
             ],
             [
              0.4444444444444444,
              "#bd3786"
             ],
             [
              0.5555555555555556,
              "#d8576b"
             ],
             [
              0.6666666666666666,
              "#ed7953"
             ],
             [
              0.7777777777777778,
              "#fb9f3a"
             ],
             [
              0.8888888888888888,
              "#fdca26"
             ],
             [
              1,
              "#f0f921"
             ]
            ],
            "type": "surface"
           }
          ],
          "table": [
           {
            "cells": {
             "fill": {
              "color": "#EBF0F8"
             },
             "line": {
              "color": "white"
             }
            },
            "header": {
             "fill": {
              "color": "#C8D4E3"
             },
             "line": {
              "color": "white"
             }
            },
            "type": "table"
           }
          ]
         },
         "layout": {
          "annotationdefaults": {
           "arrowcolor": "#2a3f5f",
           "arrowhead": 0,
           "arrowwidth": 1
          },
          "autotypenumbers": "strict",
          "coloraxis": {
           "colorbar": {
            "outlinewidth": 0,
            "ticks": ""
           }
          },
          "colorscale": {
           "diverging": [
            [
             0,
             "#8e0152"
            ],
            [
             0.1,
             "#c51b7d"
            ],
            [
             0.2,
             "#de77ae"
            ],
            [
             0.3,
             "#f1b6da"
            ],
            [
             0.4,
             "#fde0ef"
            ],
            [
             0.5,
             "#f7f7f7"
            ],
            [
             0.6,
             "#e6f5d0"
            ],
            [
             0.7,
             "#b8e186"
            ],
            [
             0.8,
             "#7fbc41"
            ],
            [
             0.9,
             "#4d9221"
            ],
            [
             1,
             "#276419"
            ]
           ],
           "sequential": [
            [
             0,
             "#0d0887"
            ],
            [
             0.1111111111111111,
             "#46039f"
            ],
            [
             0.2222222222222222,
             "#7201a8"
            ],
            [
             0.3333333333333333,
             "#9c179e"
            ],
            [
             0.4444444444444444,
             "#bd3786"
            ],
            [
             0.5555555555555556,
             "#d8576b"
            ],
            [
             0.6666666666666666,
             "#ed7953"
            ],
            [
             0.7777777777777778,
             "#fb9f3a"
            ],
            [
             0.8888888888888888,
             "#fdca26"
            ],
            [
             1,
             "#f0f921"
            ]
           ],
           "sequentialminus": [
            [
             0,
             "#0d0887"
            ],
            [
             0.1111111111111111,
             "#46039f"
            ],
            [
             0.2222222222222222,
             "#7201a8"
            ],
            [
             0.3333333333333333,
             "#9c179e"
            ],
            [
             0.4444444444444444,
             "#bd3786"
            ],
            [
             0.5555555555555556,
             "#d8576b"
            ],
            [
             0.6666666666666666,
             "#ed7953"
            ],
            [
             0.7777777777777778,
             "#fb9f3a"
            ],
            [
             0.8888888888888888,
             "#fdca26"
            ],
            [
             1,
             "#f0f921"
            ]
           ]
          },
          "colorway": [
           "#636efa",
           "#EF553B",
           "#00cc96",
           "#ab63fa",
           "#FFA15A",
           "#19d3f3",
           "#FF6692",
           "#B6E880",
           "#FF97FF",
           "#FECB52"
          ],
          "font": {
           "color": "#2a3f5f"
          },
          "geo": {
           "bgcolor": "white",
           "lakecolor": "white",
           "landcolor": "#E5ECF6",
           "showlakes": true,
           "showland": true,
           "subunitcolor": "white"
          },
          "hoverlabel": {
           "align": "left"
          },
          "hovermode": "closest",
          "mapbox": {
           "style": "light"
          },
          "paper_bgcolor": "white",
          "plot_bgcolor": "#E5ECF6",
          "polar": {
           "angularaxis": {
            "gridcolor": "white",
            "linecolor": "white",
            "ticks": ""
           },
           "bgcolor": "#E5ECF6",
           "radialaxis": {
            "gridcolor": "white",
            "linecolor": "white",
            "ticks": ""
           }
          },
          "scene": {
           "xaxis": {
            "backgroundcolor": "#E5ECF6",
            "gridcolor": "white",
            "gridwidth": 2,
            "linecolor": "white",
            "showbackground": true,
            "ticks": "",
            "zerolinecolor": "white"
           },
           "yaxis": {
            "backgroundcolor": "#E5ECF6",
            "gridcolor": "white",
            "gridwidth": 2,
            "linecolor": "white",
            "showbackground": true,
            "ticks": "",
            "zerolinecolor": "white"
           },
           "zaxis": {
            "backgroundcolor": "#E5ECF6",
            "gridcolor": "white",
            "gridwidth": 2,
            "linecolor": "white",
            "showbackground": true,
            "ticks": "",
            "zerolinecolor": "white"
           }
          },
          "shapedefaults": {
           "line": {
            "color": "#2a3f5f"
           }
          },
          "ternary": {
           "aaxis": {
            "gridcolor": "white",
            "linecolor": "white",
            "ticks": ""
           },
           "baxis": {
            "gridcolor": "white",
            "linecolor": "white",
            "ticks": ""
           },
           "bgcolor": "#E5ECF6",
           "caxis": {
            "gridcolor": "white",
            "linecolor": "white",
            "ticks": ""
           }
          },
          "title": {
           "x": 0.05
          },
          "xaxis": {
           "automargin": true,
           "gridcolor": "white",
           "linecolor": "white",
           "ticks": "",
           "title": {
            "standoff": 15
           },
           "zerolinecolor": "white",
           "zerolinewidth": 2
          },
          "yaxis": {
           "automargin": true,
           "gridcolor": "white",
           "linecolor": "white",
           "ticks": "",
           "title": {
            "standoff": 15
           },
           "zerolinecolor": "white",
           "zerolinewidth": 2
          }
         }
        },
        "title": {
         "text": "Per Class F1 Score of different models for Class 4"
        },
        "xaxis": {
         "anchor": "y",
         "categoryarray": [
          "SVC V4",
          "SVC V2",
          "SVC V3",
          "SVC V0",
          "SVC V1",
          "KNN V1",
          "KNN V0",
          "Random Forest V1",
          "Random Forest V0",
          "Logistic Regression V1",
          "Logistic Regression V2",
          "Logistic Regression V0"
         ],
         "categoryorder": "array",
         "domain": [
          0,
          1
         ],
         "title": {
          "text": "Algorithm"
         }
        },
        "yaxis": {
         "anchor": "x",
         "domain": [
          0,
          1
         ],
         "title": {
          "text": "Class_4"
         }
        }
       }
      }
     },
     "metadata": {},
     "output_type": "display_data"
    },
    {
     "data": {
      "application/vnd.plotly.v1+json": {
       "config": {
        "plotlyServerURL": "https://plot.ly"
       },
       "data": [
        {
         "alignmentgroup": "True",
         "hovertemplate": "Algorithm=%{x}<br>Class_5=%{y}<extra></extra>",
         "legendgroup": "SVC V4",
         "marker": {
          "color": "#636efa",
          "pattern": {
           "shape": ""
          }
         },
         "name": "SVC V4",
         "offsetgroup": "SVC V4",
         "orientation": "v",
         "showlegend": true,
         "textposition": "auto",
         "type": "bar",
         "x": [
          "SVC V4"
         ],
         "xaxis": "x",
         "y": [
          0.9876935291782454
         ],
         "yaxis": "y"
        },
        {
         "alignmentgroup": "True",
         "hovertemplate": "Algorithm=%{x}<br>Class_5=%{y}<extra></extra>",
         "legendgroup": "SVC V2",
         "marker": {
          "color": "#EF553B",
          "pattern": {
           "shape": ""
          }
         },
         "name": "SVC V2",
         "offsetgroup": "SVC V2",
         "orientation": "v",
         "showlegend": true,
         "textposition": "auto",
         "type": "bar",
         "x": [
          "SVC V2"
         ],
         "xaxis": "x",
         "y": [
          0.97829749281538
         ],
         "yaxis": "y"
        },
        {
         "alignmentgroup": "True",
         "hovertemplate": "Algorithm=%{x}<br>Class_5=%{y}<extra></extra>",
         "legendgroup": "SVC V3",
         "marker": {
          "color": "#00cc96",
          "pattern": {
           "shape": ""
          }
         },
         "name": "SVC V3",
         "offsetgroup": "SVC V3",
         "orientation": "v",
         "showlegend": true,
         "textposition": "auto",
         "type": "bar",
         "x": [
          "SVC V3"
         ],
         "xaxis": "x",
         "y": [
          0.9781962338949456
         ],
         "yaxis": "y"
        },
        {
         "alignmentgroup": "True",
         "hovertemplate": "Algorithm=%{x}<br>Class_5=%{y}<extra></extra>",
         "legendgroup": "SVC V0",
         "marker": {
          "color": "#ab63fa",
          "pattern": {
           "shape": ""
          }
         },
         "name": "SVC V0",
         "offsetgroup": "SVC V0",
         "orientation": "v",
         "showlegend": true,
         "textposition": "auto",
         "type": "bar",
         "x": [
          "SVC V0"
         ],
         "xaxis": "x",
         "y": [
          0.9720349067830226
         ],
         "yaxis": "y"
        },
        {
         "alignmentgroup": "True",
         "hovertemplate": "Algorithm=%{x}<br>Class_5=%{y}<extra></extra>",
         "legendgroup": "SVC V1",
         "marker": {
          "color": "#FFA15A",
          "pattern": {
           "shape": ""
          }
         },
         "name": "SVC V1",
         "offsetgroup": "SVC V1",
         "orientation": "v",
         "showlegend": true,
         "textposition": "auto",
         "type": "bar",
         "x": [
          "SVC V1"
         ],
         "xaxis": "x",
         "y": [
          0.9720349067830226
         ],
         "yaxis": "y"
        },
        {
         "alignmentgroup": "True",
         "hovertemplate": "Algorithm=%{x}<br>Class_5=%{y}<extra></extra>",
         "legendgroup": "Random Forest V1",
         "marker": {
          "color": "#19d3f3",
          "pattern": {
           "shape": ""
          }
         },
         "name": "Random Forest V1",
         "offsetgroup": "Random Forest V1",
         "orientation": "v",
         "showlegend": true,
         "textposition": "auto",
         "type": "bar",
         "x": [
          "Random Forest V1"
         ],
         "xaxis": "x",
         "y": [
          0.9637955042769047
         ],
         "yaxis": "y"
        },
        {
         "alignmentgroup": "True",
         "hovertemplate": "Algorithm=%{x}<br>Class_5=%{y}<extra></extra>",
         "legendgroup": "KNN V1",
         "marker": {
          "color": "#FF6692",
          "pattern": {
           "shape": ""
          }
         },
         "name": "KNN V1",
         "offsetgroup": "KNN V1",
         "orientation": "v",
         "showlegend": true,
         "textposition": "auto",
         "type": "bar",
         "x": [
          "KNN V1"
         ],
         "xaxis": "x",
         "y": [
          0.9631688672689368
         ],
         "yaxis": "y"
        },
        {
         "alignmentgroup": "True",
         "hovertemplate": "Algorithm=%{x}<br>Class_5=%{y}<extra></extra>",
         "legendgroup": "Random Forest V0",
         "marker": {
          "color": "#B6E880",
          "pattern": {
           "shape": ""
          }
         },
         "name": "Random Forest V0",
         "offsetgroup": "Random Forest V0",
         "orientation": "v",
         "showlegend": true,
         "textposition": "auto",
         "type": "bar",
         "x": [
          "Random Forest V0"
         ],
         "xaxis": "x",
         "y": [
          0.9613895781637716
         ],
         "yaxis": "y"
        },
        {
         "alignmentgroup": "True",
         "hovertemplate": "Algorithm=%{x}<br>Class_5=%{y}<extra></extra>",
         "legendgroup": "KNN V0",
         "marker": {
          "color": "#FF97FF",
          "pattern": {
           "shape": ""
          }
         },
         "name": "KNN V0",
         "offsetgroup": "KNN V0",
         "orientation": "v",
         "showlegend": true,
         "textposition": "auto",
         "type": "bar",
         "x": [
          "KNN V0"
         ],
         "xaxis": "x",
         "y": [
          0.9607940446650124
         ],
         "yaxis": "y"
        },
        {
         "alignmentgroup": "True",
         "hovertemplate": "Algorithm=%{x}<br>Class_5=%{y}<extra></extra>",
         "legendgroup": "Logistic Regression V1",
         "marker": {
          "color": "#FECB52",
          "pattern": {
           "shape": ""
          }
         },
         "name": "Logistic Regression V1",
         "offsetgroup": "Logistic Regression V1",
         "orientation": "v",
         "showlegend": true,
         "textposition": "auto",
         "type": "bar",
         "x": [
          "Logistic Regression V1"
         ],
         "xaxis": "x",
         "y": [
          0.8818599082019557
         ],
         "yaxis": "y"
        },
        {
         "alignmentgroup": "True",
         "hovertemplate": "Algorithm=%{x}<br>Class_5=%{y}<extra></extra>",
         "legendgroup": "Logistic Regression V2",
         "marker": {
          "color": "#636efa",
          "pattern": {
           "shape": ""
          }
         },
         "name": "Logistic Regression V2",
         "offsetgroup": "Logistic Regression V2",
         "orientation": "v",
         "showlegend": true,
         "textposition": "auto",
         "type": "bar",
         "x": [
          "Logistic Regression V2"
         ],
         "xaxis": "x",
         "y": [
          0.8807266194230962
         ],
         "yaxis": "y"
        },
        {
         "alignmentgroup": "True",
         "hovertemplate": "Algorithm=%{x}<br>Class_5=%{y}<extra></extra>",
         "legendgroup": "Logistic Regression V0",
         "marker": {
          "color": "#EF553B",
          "pattern": {
           "shape": ""
          }
         },
         "name": "Logistic Regression V0",
         "offsetgroup": "Logistic Regression V0",
         "orientation": "v",
         "showlegend": true,
         "textposition": "auto",
         "type": "bar",
         "x": [
          "Logistic Regression V0"
         ],
         "xaxis": "x",
         "y": [
          0.8798244739204149
         ],
         "yaxis": "y"
        }
       ],
       "layout": {
        "barmode": "relative",
        "legend": {
         "title": {
          "text": "Algorithm"
         },
         "tracegroupgap": 0
        },
        "template": {
         "data": {
          "bar": [
           {
            "error_x": {
             "color": "#2a3f5f"
            },
            "error_y": {
             "color": "#2a3f5f"
            },
            "marker": {
             "line": {
              "color": "#E5ECF6",
              "width": 0.5
             },
             "pattern": {
              "fillmode": "overlay",
              "size": 10,
              "solidity": 0.2
             }
            },
            "type": "bar"
           }
          ],
          "barpolar": [
           {
            "marker": {
             "line": {
              "color": "#E5ECF6",
              "width": 0.5
             },
             "pattern": {
              "fillmode": "overlay",
              "size": 10,
              "solidity": 0.2
             }
            },
            "type": "barpolar"
           }
          ],
          "carpet": [
           {
            "aaxis": {
             "endlinecolor": "#2a3f5f",
             "gridcolor": "white",
             "linecolor": "white",
             "minorgridcolor": "white",
             "startlinecolor": "#2a3f5f"
            },
            "baxis": {
             "endlinecolor": "#2a3f5f",
             "gridcolor": "white",
             "linecolor": "white",
             "minorgridcolor": "white",
             "startlinecolor": "#2a3f5f"
            },
            "type": "carpet"
           }
          ],
          "choropleth": [
           {
            "colorbar": {
             "outlinewidth": 0,
             "ticks": ""
            },
            "type": "choropleth"
           }
          ],
          "contour": [
           {
            "colorbar": {
             "outlinewidth": 0,
             "ticks": ""
            },
            "colorscale": [
             [
              0,
              "#0d0887"
             ],
             [
              0.1111111111111111,
              "#46039f"
             ],
             [
              0.2222222222222222,
              "#7201a8"
             ],
             [
              0.3333333333333333,
              "#9c179e"
             ],
             [
              0.4444444444444444,
              "#bd3786"
             ],
             [
              0.5555555555555556,
              "#d8576b"
             ],
             [
              0.6666666666666666,
              "#ed7953"
             ],
             [
              0.7777777777777778,
              "#fb9f3a"
             ],
             [
              0.8888888888888888,
              "#fdca26"
             ],
             [
              1,
              "#f0f921"
             ]
            ],
            "type": "contour"
           }
          ],
          "contourcarpet": [
           {
            "colorbar": {
             "outlinewidth": 0,
             "ticks": ""
            },
            "type": "contourcarpet"
           }
          ],
          "heatmap": [
           {
            "colorbar": {
             "outlinewidth": 0,
             "ticks": ""
            },
            "colorscale": [
             [
              0,
              "#0d0887"
             ],
             [
              0.1111111111111111,
              "#46039f"
             ],
             [
              0.2222222222222222,
              "#7201a8"
             ],
             [
              0.3333333333333333,
              "#9c179e"
             ],
             [
              0.4444444444444444,
              "#bd3786"
             ],
             [
              0.5555555555555556,
              "#d8576b"
             ],
             [
              0.6666666666666666,
              "#ed7953"
             ],
             [
              0.7777777777777778,
              "#fb9f3a"
             ],
             [
              0.8888888888888888,
              "#fdca26"
             ],
             [
              1,
              "#f0f921"
             ]
            ],
            "type": "heatmap"
           }
          ],
          "heatmapgl": [
           {
            "colorbar": {
             "outlinewidth": 0,
             "ticks": ""
            },
            "colorscale": [
             [
              0,
              "#0d0887"
             ],
             [
              0.1111111111111111,
              "#46039f"
             ],
             [
              0.2222222222222222,
              "#7201a8"
             ],
             [
              0.3333333333333333,
              "#9c179e"
             ],
             [
              0.4444444444444444,
              "#bd3786"
             ],
             [
              0.5555555555555556,
              "#d8576b"
             ],
             [
              0.6666666666666666,
              "#ed7953"
             ],
             [
              0.7777777777777778,
              "#fb9f3a"
             ],
             [
              0.8888888888888888,
              "#fdca26"
             ],
             [
              1,
              "#f0f921"
             ]
            ],
            "type": "heatmapgl"
           }
          ],
          "histogram": [
           {
            "marker": {
             "pattern": {
              "fillmode": "overlay",
              "size": 10,
              "solidity": 0.2
             }
            },
            "type": "histogram"
           }
          ],
          "histogram2d": [
           {
            "colorbar": {
             "outlinewidth": 0,
             "ticks": ""
            },
            "colorscale": [
             [
              0,
              "#0d0887"
             ],
             [
              0.1111111111111111,
              "#46039f"
             ],
             [
              0.2222222222222222,
              "#7201a8"
             ],
             [
              0.3333333333333333,
              "#9c179e"
             ],
             [
              0.4444444444444444,
              "#bd3786"
             ],
             [
              0.5555555555555556,
              "#d8576b"
             ],
             [
              0.6666666666666666,
              "#ed7953"
             ],
             [
              0.7777777777777778,
              "#fb9f3a"
             ],
             [
              0.8888888888888888,
              "#fdca26"
             ],
             [
              1,
              "#f0f921"
             ]
            ],
            "type": "histogram2d"
           }
          ],
          "histogram2dcontour": [
           {
            "colorbar": {
             "outlinewidth": 0,
             "ticks": ""
            },
            "colorscale": [
             [
              0,
              "#0d0887"
             ],
             [
              0.1111111111111111,
              "#46039f"
             ],
             [
              0.2222222222222222,
              "#7201a8"
             ],
             [
              0.3333333333333333,
              "#9c179e"
             ],
             [
              0.4444444444444444,
              "#bd3786"
             ],
             [
              0.5555555555555556,
              "#d8576b"
             ],
             [
              0.6666666666666666,
              "#ed7953"
             ],
             [
              0.7777777777777778,
              "#fb9f3a"
             ],
             [
              0.8888888888888888,
              "#fdca26"
             ],
             [
              1,
              "#f0f921"
             ]
            ],
            "type": "histogram2dcontour"
           }
          ],
          "mesh3d": [
           {
            "colorbar": {
             "outlinewidth": 0,
             "ticks": ""
            },
            "type": "mesh3d"
           }
          ],
          "parcoords": [
           {
            "line": {
             "colorbar": {
              "outlinewidth": 0,
              "ticks": ""
             }
            },
            "type": "parcoords"
           }
          ],
          "pie": [
           {
            "automargin": true,
            "type": "pie"
           }
          ],
          "scatter": [
           {
            "fillpattern": {
             "fillmode": "overlay",
             "size": 10,
             "solidity": 0.2
            },
            "type": "scatter"
           }
          ],
          "scatter3d": [
           {
            "line": {
             "colorbar": {
              "outlinewidth": 0,
              "ticks": ""
             }
            },
            "marker": {
             "colorbar": {
              "outlinewidth": 0,
              "ticks": ""
             }
            },
            "type": "scatter3d"
           }
          ],
          "scattercarpet": [
           {
            "marker": {
             "colorbar": {
              "outlinewidth": 0,
              "ticks": ""
             }
            },
            "type": "scattercarpet"
           }
          ],
          "scattergeo": [
           {
            "marker": {
             "colorbar": {
              "outlinewidth": 0,
              "ticks": ""
             }
            },
            "type": "scattergeo"
           }
          ],
          "scattergl": [
           {
            "marker": {
             "colorbar": {
              "outlinewidth": 0,
              "ticks": ""
             }
            },
            "type": "scattergl"
           }
          ],
          "scattermapbox": [
           {
            "marker": {
             "colorbar": {
              "outlinewidth": 0,
              "ticks": ""
             }
            },
            "type": "scattermapbox"
           }
          ],
          "scatterpolar": [
           {
            "marker": {
             "colorbar": {
              "outlinewidth": 0,
              "ticks": ""
             }
            },
            "type": "scatterpolar"
           }
          ],
          "scatterpolargl": [
           {
            "marker": {
             "colorbar": {
              "outlinewidth": 0,
              "ticks": ""
             }
            },
            "type": "scatterpolargl"
           }
          ],
          "scatterternary": [
           {
            "marker": {
             "colorbar": {
              "outlinewidth": 0,
              "ticks": ""
             }
            },
            "type": "scatterternary"
           }
          ],
          "surface": [
           {
            "colorbar": {
             "outlinewidth": 0,
             "ticks": ""
            },
            "colorscale": [
             [
              0,
              "#0d0887"
             ],
             [
              0.1111111111111111,
              "#46039f"
             ],
             [
              0.2222222222222222,
              "#7201a8"
             ],
             [
              0.3333333333333333,
              "#9c179e"
             ],
             [
              0.4444444444444444,
              "#bd3786"
             ],
             [
              0.5555555555555556,
              "#d8576b"
             ],
             [
              0.6666666666666666,
              "#ed7953"
             ],
             [
              0.7777777777777778,
              "#fb9f3a"
             ],
             [
              0.8888888888888888,
              "#fdca26"
             ],
             [
              1,
              "#f0f921"
             ]
            ],
            "type": "surface"
           }
          ],
          "table": [
           {
            "cells": {
             "fill": {
              "color": "#EBF0F8"
             },
             "line": {
              "color": "white"
             }
            },
            "header": {
             "fill": {
              "color": "#C8D4E3"
             },
             "line": {
              "color": "white"
             }
            },
            "type": "table"
           }
          ]
         },
         "layout": {
          "annotationdefaults": {
           "arrowcolor": "#2a3f5f",
           "arrowhead": 0,
           "arrowwidth": 1
          },
          "autotypenumbers": "strict",
          "coloraxis": {
           "colorbar": {
            "outlinewidth": 0,
            "ticks": ""
           }
          },
          "colorscale": {
           "diverging": [
            [
             0,
             "#8e0152"
            ],
            [
             0.1,
             "#c51b7d"
            ],
            [
             0.2,
             "#de77ae"
            ],
            [
             0.3,
             "#f1b6da"
            ],
            [
             0.4,
             "#fde0ef"
            ],
            [
             0.5,
             "#f7f7f7"
            ],
            [
             0.6,
             "#e6f5d0"
            ],
            [
             0.7,
             "#b8e186"
            ],
            [
             0.8,
             "#7fbc41"
            ],
            [
             0.9,
             "#4d9221"
            ],
            [
             1,
             "#276419"
            ]
           ],
           "sequential": [
            [
             0,
             "#0d0887"
            ],
            [
             0.1111111111111111,
             "#46039f"
            ],
            [
             0.2222222222222222,
             "#7201a8"
            ],
            [
             0.3333333333333333,
             "#9c179e"
            ],
            [
             0.4444444444444444,
             "#bd3786"
            ],
            [
             0.5555555555555556,
             "#d8576b"
            ],
            [
             0.6666666666666666,
             "#ed7953"
            ],
            [
             0.7777777777777778,
             "#fb9f3a"
            ],
            [
             0.8888888888888888,
             "#fdca26"
            ],
            [
             1,
             "#f0f921"
            ]
           ],
           "sequentialminus": [
            [
             0,
             "#0d0887"
            ],
            [
             0.1111111111111111,
             "#46039f"
            ],
            [
             0.2222222222222222,
             "#7201a8"
            ],
            [
             0.3333333333333333,
             "#9c179e"
            ],
            [
             0.4444444444444444,
             "#bd3786"
            ],
            [
             0.5555555555555556,
             "#d8576b"
            ],
            [
             0.6666666666666666,
             "#ed7953"
            ],
            [
             0.7777777777777778,
             "#fb9f3a"
            ],
            [
             0.8888888888888888,
             "#fdca26"
            ],
            [
             1,
             "#f0f921"
            ]
           ]
          },
          "colorway": [
           "#636efa",
           "#EF553B",
           "#00cc96",
           "#ab63fa",
           "#FFA15A",
           "#19d3f3",
           "#FF6692",
           "#B6E880",
           "#FF97FF",
           "#FECB52"
          ],
          "font": {
           "color": "#2a3f5f"
          },
          "geo": {
           "bgcolor": "white",
           "lakecolor": "white",
           "landcolor": "#E5ECF6",
           "showlakes": true,
           "showland": true,
           "subunitcolor": "white"
          },
          "hoverlabel": {
           "align": "left"
          },
          "hovermode": "closest",
          "mapbox": {
           "style": "light"
          },
          "paper_bgcolor": "white",
          "plot_bgcolor": "#E5ECF6",
          "polar": {
           "angularaxis": {
            "gridcolor": "white",
            "linecolor": "white",
            "ticks": ""
           },
           "bgcolor": "#E5ECF6",
           "radialaxis": {
            "gridcolor": "white",
            "linecolor": "white",
            "ticks": ""
           }
          },
          "scene": {
           "xaxis": {
            "backgroundcolor": "#E5ECF6",
            "gridcolor": "white",
            "gridwidth": 2,
            "linecolor": "white",
            "showbackground": true,
            "ticks": "",
            "zerolinecolor": "white"
           },
           "yaxis": {
            "backgroundcolor": "#E5ECF6",
            "gridcolor": "white",
            "gridwidth": 2,
            "linecolor": "white",
            "showbackground": true,
            "ticks": "",
            "zerolinecolor": "white"
           },
           "zaxis": {
            "backgroundcolor": "#E5ECF6",
            "gridcolor": "white",
            "gridwidth": 2,
            "linecolor": "white",
            "showbackground": true,
            "ticks": "",
            "zerolinecolor": "white"
           }
          },
          "shapedefaults": {
           "line": {
            "color": "#2a3f5f"
           }
          },
          "ternary": {
           "aaxis": {
            "gridcolor": "white",
            "linecolor": "white",
            "ticks": ""
           },
           "baxis": {
            "gridcolor": "white",
            "linecolor": "white",
            "ticks": ""
           },
           "bgcolor": "#E5ECF6",
           "caxis": {
            "gridcolor": "white",
            "linecolor": "white",
            "ticks": ""
           }
          },
          "title": {
           "x": 0.05
          },
          "xaxis": {
           "automargin": true,
           "gridcolor": "white",
           "linecolor": "white",
           "ticks": "",
           "title": {
            "standoff": 15
           },
           "zerolinecolor": "white",
           "zerolinewidth": 2
          },
          "yaxis": {
           "automargin": true,
           "gridcolor": "white",
           "linecolor": "white",
           "ticks": "",
           "title": {
            "standoff": 15
           },
           "zerolinecolor": "white",
           "zerolinewidth": 2
          }
         }
        },
        "title": {
         "text": "Per Class F1 Score of different models for Class 5"
        },
        "xaxis": {
         "anchor": "y",
         "categoryarray": [
          "SVC V4",
          "SVC V2",
          "SVC V3",
          "SVC V0",
          "SVC V1",
          "Random Forest V1",
          "KNN V1",
          "Random Forest V0",
          "KNN V0",
          "Logistic Regression V1",
          "Logistic Regression V2",
          "Logistic Regression V0"
         ],
         "categoryorder": "array",
         "domain": [
          0,
          1
         ],
         "title": {
          "text": "Algorithm"
         }
        },
        "yaxis": {
         "anchor": "x",
         "domain": [
          0,
          1
         ],
         "title": {
          "text": "Class_5"
         }
        }
       }
      }
     },
     "metadata": {},
     "output_type": "display_data"
    },
    {
     "data": {
      "application/vnd.plotly.v1+json": {
       "config": {
        "plotlyServerURL": "https://plot.ly"
       },
       "data": [
        {
         "alignmentgroup": "True",
         "hovertemplate": "Algorithm=%{x}<br>Class_6=%{y}<extra></extra>",
         "legendgroup": "SVC V4",
         "marker": {
          "color": "#636efa",
          "pattern": {
           "shape": ""
          }
         },
         "name": "SVC V4",
         "offsetgroup": "SVC V4",
         "orientation": "v",
         "showlegend": true,
         "textposition": "auto",
         "type": "bar",
         "x": [
          "SVC V4"
         ],
         "xaxis": "x",
         "y": [
          0.9909321726514327
         ],
         "yaxis": "y"
        },
        {
         "alignmentgroup": "True",
         "hovertemplate": "Algorithm=%{x}<br>Class_6=%{y}<extra></extra>",
         "legendgroup": "SVC V2",
         "marker": {
          "color": "#EF553B",
          "pattern": {
           "shape": ""
          }
         },
         "name": "SVC V2",
         "offsetgroup": "SVC V2",
         "orientation": "v",
         "showlegend": true,
         "textposition": "auto",
         "type": "bar",
         "x": [
          "SVC V2"
         ],
         "xaxis": "x",
         "y": [
          0.9878248228239144
         ],
         "yaxis": "y"
        },
        {
         "alignmentgroup": "True",
         "hovertemplate": "Algorithm=%{x}<br>Class_6=%{y}<extra></extra>",
         "legendgroup": "SVC V3",
         "marker": {
          "color": "#00cc96",
          "pattern": {
           "shape": ""
          }
         },
         "name": "SVC V3",
         "offsetgroup": "SVC V3",
         "orientation": "v",
         "showlegend": true,
         "textposition": "auto",
         "type": "bar",
         "x": [
          "SVC V3"
         ],
         "xaxis": "x",
         "y": [
          0.9877350776778414
         ],
         "yaxis": "y"
        },
        {
         "alignmentgroup": "True",
         "hovertemplate": "Algorithm=%{x}<br>Class_6=%{y}<extra></extra>",
         "legendgroup": "SVC V0",
         "marker": {
          "color": "#ab63fa",
          "pattern": {
           "shape": ""
          }
         },
         "name": "SVC V0",
         "offsetgroup": "SVC V0",
         "orientation": "v",
         "showlegend": true,
         "textposition": "auto",
         "type": "bar",
         "x": [
          "SVC V0"
         ],
         "xaxis": "x",
         "y": [
          0.9849200581395348
         ],
         "yaxis": "y"
        },
        {
         "alignmentgroup": "True",
         "hovertemplate": "Algorithm=%{x}<br>Class_6=%{y}<extra></extra>",
         "legendgroup": "SVC V1",
         "marker": {
          "color": "#FFA15A",
          "pattern": {
           "shape": ""
          }
         },
         "name": "SVC V1",
         "offsetgroup": "SVC V1",
         "orientation": "v",
         "showlegend": true,
         "textposition": "auto",
         "type": "bar",
         "x": [
          "SVC V1"
         ],
         "xaxis": "x",
         "y": [
          0.9849200581395348
         ],
         "yaxis": "y"
        },
        {
         "alignmentgroup": "True",
         "hovertemplate": "Algorithm=%{x}<br>Class_6=%{y}<extra></extra>",
         "legendgroup": "KNN V1",
         "marker": {
          "color": "#19d3f3",
          "pattern": {
           "shape": ""
          }
         },
         "name": "KNN V1",
         "offsetgroup": "KNN V1",
         "orientation": "v",
         "showlegend": true,
         "textposition": "auto",
         "type": "bar",
         "x": [
          "KNN V1"
         ],
         "xaxis": "x",
         "y": [
          0.9834792813938792
         ],
         "yaxis": "y"
        },
        {
         "alignmentgroup": "True",
         "hovertemplate": "Algorithm=%{x}<br>Class_6=%{y}<extra></extra>",
         "legendgroup": "KNN V0",
         "marker": {
          "color": "#FF6692",
          "pattern": {
           "shape": ""
          }
         },
         "name": "KNN V0",
         "offsetgroup": "KNN V0",
         "orientation": "v",
         "showlegend": true,
         "textposition": "auto",
         "type": "bar",
         "x": [
          "KNN V0"
         ],
         "xaxis": "x",
         "y": [
          0.9834583747627226
         ],
         "yaxis": "y"
        },
        {
         "alignmentgroup": "True",
         "hovertemplate": "Algorithm=%{x}<br>Class_6=%{y}<extra></extra>",
         "legendgroup": "Random Forest V1",
         "marker": {
          "color": "#B6E880",
          "pattern": {
           "shape": ""
          }
         },
         "name": "Random Forest V1",
         "offsetgroup": "Random Forest V1",
         "orientation": "v",
         "showlegend": true,
         "textposition": "auto",
         "type": "bar",
         "x": [
          "Random Forest V1"
         ],
         "xaxis": "x",
         "y": [
          0.9791817523533672
         ],
         "yaxis": "y"
        },
        {
         "alignmentgroup": "True",
         "hovertemplate": "Algorithm=%{x}<br>Class_6=%{y}<extra></extra>",
         "legendgroup": "Random Forest V0",
         "marker": {
          "color": "#FF97FF",
          "pattern": {
           "shape": ""
          }
         },
         "name": "Random Forest V0",
         "offsetgroup": "Random Forest V0",
         "orientation": "v",
         "showlegend": true,
         "textposition": "auto",
         "type": "bar",
         "x": [
          "Random Forest V0"
         ],
         "xaxis": "x",
         "y": [
          0.9782805429864252
         ],
         "yaxis": "y"
        },
        {
         "alignmentgroup": "True",
         "hovertemplate": "Algorithm=%{x}<br>Class_6=%{y}<extra></extra>",
         "legendgroup": "Logistic Regression V2",
         "marker": {
          "color": "#FECB52",
          "pattern": {
           "shape": ""
          }
         },
         "name": "Logistic Regression V2",
         "offsetgroup": "Logistic Regression V2",
         "orientation": "v",
         "showlegend": true,
         "textposition": "auto",
         "type": "bar",
         "x": [
          "Logistic Regression V2"
         ],
         "xaxis": "x",
         "y": [
          0.9481187404132456
         ],
         "yaxis": "y"
        },
        {
         "alignmentgroup": "True",
         "hovertemplate": "Algorithm=%{x}<br>Class_6=%{y}<extra></extra>",
         "legendgroup": "Logistic Regression V1",
         "marker": {
          "color": "#636efa",
          "pattern": {
           "shape": ""
          }
         },
         "name": "Logistic Regression V1",
         "offsetgroup": "Logistic Regression V1",
         "orientation": "v",
         "showlegend": true,
         "textposition": "auto",
         "type": "bar",
         "x": [
          "Logistic Regression V1"
         ],
         "xaxis": "x",
         "y": [
          0.9443339960238568
         ],
         "yaxis": "y"
        },
        {
         "alignmentgroup": "True",
         "hovertemplate": "Algorithm=%{x}<br>Class_6=%{y}<extra></extra>",
         "legendgroup": "Logistic Regression V0",
         "marker": {
          "color": "#EF553B",
          "pattern": {
           "shape": ""
          }
         },
         "name": "Logistic Regression V0",
         "offsetgroup": "Logistic Regression V0",
         "orientation": "v",
         "showlegend": true,
         "textposition": "auto",
         "type": "bar",
         "x": [
          "Logistic Regression V0"
         ],
         "xaxis": "x",
         "y": [
          0.9442587406269762
         ],
         "yaxis": "y"
        }
       ],
       "layout": {
        "barmode": "relative",
        "legend": {
         "title": {
          "text": "Algorithm"
         },
         "tracegroupgap": 0
        },
        "template": {
         "data": {
          "bar": [
           {
            "error_x": {
             "color": "#2a3f5f"
            },
            "error_y": {
             "color": "#2a3f5f"
            },
            "marker": {
             "line": {
              "color": "#E5ECF6",
              "width": 0.5
             },
             "pattern": {
              "fillmode": "overlay",
              "size": 10,
              "solidity": 0.2
             }
            },
            "type": "bar"
           }
          ],
          "barpolar": [
           {
            "marker": {
             "line": {
              "color": "#E5ECF6",
              "width": 0.5
             },
             "pattern": {
              "fillmode": "overlay",
              "size": 10,
              "solidity": 0.2
             }
            },
            "type": "barpolar"
           }
          ],
          "carpet": [
           {
            "aaxis": {
             "endlinecolor": "#2a3f5f",
             "gridcolor": "white",
             "linecolor": "white",
             "minorgridcolor": "white",
             "startlinecolor": "#2a3f5f"
            },
            "baxis": {
             "endlinecolor": "#2a3f5f",
             "gridcolor": "white",
             "linecolor": "white",
             "minorgridcolor": "white",
             "startlinecolor": "#2a3f5f"
            },
            "type": "carpet"
           }
          ],
          "choropleth": [
           {
            "colorbar": {
             "outlinewidth": 0,
             "ticks": ""
            },
            "type": "choropleth"
           }
          ],
          "contour": [
           {
            "colorbar": {
             "outlinewidth": 0,
             "ticks": ""
            },
            "colorscale": [
             [
              0,
              "#0d0887"
             ],
             [
              0.1111111111111111,
              "#46039f"
             ],
             [
              0.2222222222222222,
              "#7201a8"
             ],
             [
              0.3333333333333333,
              "#9c179e"
             ],
             [
              0.4444444444444444,
              "#bd3786"
             ],
             [
              0.5555555555555556,
              "#d8576b"
             ],
             [
              0.6666666666666666,
              "#ed7953"
             ],
             [
              0.7777777777777778,
              "#fb9f3a"
             ],
             [
              0.8888888888888888,
              "#fdca26"
             ],
             [
              1,
              "#f0f921"
             ]
            ],
            "type": "contour"
           }
          ],
          "contourcarpet": [
           {
            "colorbar": {
             "outlinewidth": 0,
             "ticks": ""
            },
            "type": "contourcarpet"
           }
          ],
          "heatmap": [
           {
            "colorbar": {
             "outlinewidth": 0,
             "ticks": ""
            },
            "colorscale": [
             [
              0,
              "#0d0887"
             ],
             [
              0.1111111111111111,
              "#46039f"
             ],
             [
              0.2222222222222222,
              "#7201a8"
             ],
             [
              0.3333333333333333,
              "#9c179e"
             ],
             [
              0.4444444444444444,
              "#bd3786"
             ],
             [
              0.5555555555555556,
              "#d8576b"
             ],
             [
              0.6666666666666666,
              "#ed7953"
             ],
             [
              0.7777777777777778,
              "#fb9f3a"
             ],
             [
              0.8888888888888888,
              "#fdca26"
             ],
             [
              1,
              "#f0f921"
             ]
            ],
            "type": "heatmap"
           }
          ],
          "heatmapgl": [
           {
            "colorbar": {
             "outlinewidth": 0,
             "ticks": ""
            },
            "colorscale": [
             [
              0,
              "#0d0887"
             ],
             [
              0.1111111111111111,
              "#46039f"
             ],
             [
              0.2222222222222222,
              "#7201a8"
             ],
             [
              0.3333333333333333,
              "#9c179e"
             ],
             [
              0.4444444444444444,
              "#bd3786"
             ],
             [
              0.5555555555555556,
              "#d8576b"
             ],
             [
              0.6666666666666666,
              "#ed7953"
             ],
             [
              0.7777777777777778,
              "#fb9f3a"
             ],
             [
              0.8888888888888888,
              "#fdca26"
             ],
             [
              1,
              "#f0f921"
             ]
            ],
            "type": "heatmapgl"
           }
          ],
          "histogram": [
           {
            "marker": {
             "pattern": {
              "fillmode": "overlay",
              "size": 10,
              "solidity": 0.2
             }
            },
            "type": "histogram"
           }
          ],
          "histogram2d": [
           {
            "colorbar": {
             "outlinewidth": 0,
             "ticks": ""
            },
            "colorscale": [
             [
              0,
              "#0d0887"
             ],
             [
              0.1111111111111111,
              "#46039f"
             ],
             [
              0.2222222222222222,
              "#7201a8"
             ],
             [
              0.3333333333333333,
              "#9c179e"
             ],
             [
              0.4444444444444444,
              "#bd3786"
             ],
             [
              0.5555555555555556,
              "#d8576b"
             ],
             [
              0.6666666666666666,
              "#ed7953"
             ],
             [
              0.7777777777777778,
              "#fb9f3a"
             ],
             [
              0.8888888888888888,
              "#fdca26"
             ],
             [
              1,
              "#f0f921"
             ]
            ],
            "type": "histogram2d"
           }
          ],
          "histogram2dcontour": [
           {
            "colorbar": {
             "outlinewidth": 0,
             "ticks": ""
            },
            "colorscale": [
             [
              0,
              "#0d0887"
             ],
             [
              0.1111111111111111,
              "#46039f"
             ],
             [
              0.2222222222222222,
              "#7201a8"
             ],
             [
              0.3333333333333333,
              "#9c179e"
             ],
             [
              0.4444444444444444,
              "#bd3786"
             ],
             [
              0.5555555555555556,
              "#d8576b"
             ],
             [
              0.6666666666666666,
              "#ed7953"
             ],
             [
              0.7777777777777778,
              "#fb9f3a"
             ],
             [
              0.8888888888888888,
              "#fdca26"
             ],
             [
              1,
              "#f0f921"
             ]
            ],
            "type": "histogram2dcontour"
           }
          ],
          "mesh3d": [
           {
            "colorbar": {
             "outlinewidth": 0,
             "ticks": ""
            },
            "type": "mesh3d"
           }
          ],
          "parcoords": [
           {
            "line": {
             "colorbar": {
              "outlinewidth": 0,
              "ticks": ""
             }
            },
            "type": "parcoords"
           }
          ],
          "pie": [
           {
            "automargin": true,
            "type": "pie"
           }
          ],
          "scatter": [
           {
            "fillpattern": {
             "fillmode": "overlay",
             "size": 10,
             "solidity": 0.2
            },
            "type": "scatter"
           }
          ],
          "scatter3d": [
           {
            "line": {
             "colorbar": {
              "outlinewidth": 0,
              "ticks": ""
             }
            },
            "marker": {
             "colorbar": {
              "outlinewidth": 0,
              "ticks": ""
             }
            },
            "type": "scatter3d"
           }
          ],
          "scattercarpet": [
           {
            "marker": {
             "colorbar": {
              "outlinewidth": 0,
              "ticks": ""
             }
            },
            "type": "scattercarpet"
           }
          ],
          "scattergeo": [
           {
            "marker": {
             "colorbar": {
              "outlinewidth": 0,
              "ticks": ""
             }
            },
            "type": "scattergeo"
           }
          ],
          "scattergl": [
           {
            "marker": {
             "colorbar": {
              "outlinewidth": 0,
              "ticks": ""
             }
            },
            "type": "scattergl"
           }
          ],
          "scattermapbox": [
           {
            "marker": {
             "colorbar": {
              "outlinewidth": 0,
              "ticks": ""
             }
            },
            "type": "scattermapbox"
           }
          ],
          "scatterpolar": [
           {
            "marker": {
             "colorbar": {
              "outlinewidth": 0,
              "ticks": ""
             }
            },
            "type": "scatterpolar"
           }
          ],
          "scatterpolargl": [
           {
            "marker": {
             "colorbar": {
              "outlinewidth": 0,
              "ticks": ""
             }
            },
            "type": "scatterpolargl"
           }
          ],
          "scatterternary": [
           {
            "marker": {
             "colorbar": {
              "outlinewidth": 0,
              "ticks": ""
             }
            },
            "type": "scatterternary"
           }
          ],
          "surface": [
           {
            "colorbar": {
             "outlinewidth": 0,
             "ticks": ""
            },
            "colorscale": [
             [
              0,
              "#0d0887"
             ],
             [
              0.1111111111111111,
              "#46039f"
             ],
             [
              0.2222222222222222,
              "#7201a8"
             ],
             [
              0.3333333333333333,
              "#9c179e"
             ],
             [
              0.4444444444444444,
              "#bd3786"
             ],
             [
              0.5555555555555556,
              "#d8576b"
             ],
             [
              0.6666666666666666,
              "#ed7953"
             ],
             [
              0.7777777777777778,
              "#fb9f3a"
             ],
             [
              0.8888888888888888,
              "#fdca26"
             ],
             [
              1,
              "#f0f921"
             ]
            ],
            "type": "surface"
           }
          ],
          "table": [
           {
            "cells": {
             "fill": {
              "color": "#EBF0F8"
             },
             "line": {
              "color": "white"
             }
            },
            "header": {
             "fill": {
              "color": "#C8D4E3"
             },
             "line": {
              "color": "white"
             }
            },
            "type": "table"
           }
          ]
         },
         "layout": {
          "annotationdefaults": {
           "arrowcolor": "#2a3f5f",
           "arrowhead": 0,
           "arrowwidth": 1
          },
          "autotypenumbers": "strict",
          "coloraxis": {
           "colorbar": {
            "outlinewidth": 0,
            "ticks": ""
           }
          },
          "colorscale": {
           "diverging": [
            [
             0,
             "#8e0152"
            ],
            [
             0.1,
             "#c51b7d"
            ],
            [
             0.2,
             "#de77ae"
            ],
            [
             0.3,
             "#f1b6da"
            ],
            [
             0.4,
             "#fde0ef"
            ],
            [
             0.5,
             "#f7f7f7"
            ],
            [
             0.6,
             "#e6f5d0"
            ],
            [
             0.7,
             "#b8e186"
            ],
            [
             0.8,
             "#7fbc41"
            ],
            [
             0.9,
             "#4d9221"
            ],
            [
             1,
             "#276419"
            ]
           ],
           "sequential": [
            [
             0,
             "#0d0887"
            ],
            [
             0.1111111111111111,
             "#46039f"
            ],
            [
             0.2222222222222222,
             "#7201a8"
            ],
            [
             0.3333333333333333,
             "#9c179e"
            ],
            [
             0.4444444444444444,
             "#bd3786"
            ],
            [
             0.5555555555555556,
             "#d8576b"
            ],
            [
             0.6666666666666666,
             "#ed7953"
            ],
            [
             0.7777777777777778,
             "#fb9f3a"
            ],
            [
             0.8888888888888888,
             "#fdca26"
            ],
            [
             1,
             "#f0f921"
            ]
           ],
           "sequentialminus": [
            [
             0,
             "#0d0887"
            ],
            [
             0.1111111111111111,
             "#46039f"
            ],
            [
             0.2222222222222222,
             "#7201a8"
            ],
            [
             0.3333333333333333,
             "#9c179e"
            ],
            [
             0.4444444444444444,
             "#bd3786"
            ],
            [
             0.5555555555555556,
             "#d8576b"
            ],
            [
             0.6666666666666666,
             "#ed7953"
            ],
            [
             0.7777777777777778,
             "#fb9f3a"
            ],
            [
             0.8888888888888888,
             "#fdca26"
            ],
            [
             1,
             "#f0f921"
            ]
           ]
          },
          "colorway": [
           "#636efa",
           "#EF553B",
           "#00cc96",
           "#ab63fa",
           "#FFA15A",
           "#19d3f3",
           "#FF6692",
           "#B6E880",
           "#FF97FF",
           "#FECB52"
          ],
          "font": {
           "color": "#2a3f5f"
          },
          "geo": {
           "bgcolor": "white",
           "lakecolor": "white",
           "landcolor": "#E5ECF6",
           "showlakes": true,
           "showland": true,
           "subunitcolor": "white"
          },
          "hoverlabel": {
           "align": "left"
          },
          "hovermode": "closest",
          "mapbox": {
           "style": "light"
          },
          "paper_bgcolor": "white",
          "plot_bgcolor": "#E5ECF6",
          "polar": {
           "angularaxis": {
            "gridcolor": "white",
            "linecolor": "white",
            "ticks": ""
           },
           "bgcolor": "#E5ECF6",
           "radialaxis": {
            "gridcolor": "white",
            "linecolor": "white",
            "ticks": ""
           }
          },
          "scene": {
           "xaxis": {
            "backgroundcolor": "#E5ECF6",
            "gridcolor": "white",
            "gridwidth": 2,
            "linecolor": "white",
            "showbackground": true,
            "ticks": "",
            "zerolinecolor": "white"
           },
           "yaxis": {
            "backgroundcolor": "#E5ECF6",
            "gridcolor": "white",
            "gridwidth": 2,
            "linecolor": "white",
            "showbackground": true,
            "ticks": "",
            "zerolinecolor": "white"
           },
           "zaxis": {
            "backgroundcolor": "#E5ECF6",
            "gridcolor": "white",
            "gridwidth": 2,
            "linecolor": "white",
            "showbackground": true,
            "ticks": "",
            "zerolinecolor": "white"
           }
          },
          "shapedefaults": {
           "line": {
            "color": "#2a3f5f"
           }
          },
          "ternary": {
           "aaxis": {
            "gridcolor": "white",
            "linecolor": "white",
            "ticks": ""
           },
           "baxis": {
            "gridcolor": "white",
            "linecolor": "white",
            "ticks": ""
           },
           "bgcolor": "#E5ECF6",
           "caxis": {
            "gridcolor": "white",
            "linecolor": "white",
            "ticks": ""
           }
          },
          "title": {
           "x": 0.05
          },
          "xaxis": {
           "automargin": true,
           "gridcolor": "white",
           "linecolor": "white",
           "ticks": "",
           "title": {
            "standoff": 15
           },
           "zerolinecolor": "white",
           "zerolinewidth": 2
          },
          "yaxis": {
           "automargin": true,
           "gridcolor": "white",
           "linecolor": "white",
           "ticks": "",
           "title": {
            "standoff": 15
           },
           "zerolinecolor": "white",
           "zerolinewidth": 2
          }
         }
        },
        "title": {
         "text": "Per Class F1 Score of different models for Class 6"
        },
        "xaxis": {
         "anchor": "y",
         "categoryarray": [
          "SVC V4",
          "SVC V2",
          "SVC V3",
          "SVC V0",
          "SVC V1",
          "KNN V1",
          "KNN V0",
          "Random Forest V1",
          "Random Forest V0",
          "Logistic Regression V2",
          "Logistic Regression V1",
          "Logistic Regression V0"
         ],
         "categoryorder": "array",
         "domain": [
          0,
          1
         ],
         "title": {
          "text": "Algorithm"
         }
        },
        "yaxis": {
         "anchor": "x",
         "domain": [
          0,
          1
         ],
         "title": {
          "text": "Class_6"
         }
        }
       }
      }
     },
     "metadata": {},
     "output_type": "display_data"
    },
    {
     "data": {
      "application/vnd.plotly.v1+json": {
       "config": {
        "plotlyServerURL": "https://plot.ly"
       },
       "data": [
        {
         "alignmentgroup": "True",
         "hovertemplate": "Algorithm=%{x}<br>Class_7=%{y}<extra></extra>",
         "legendgroup": "SVC V4",
         "marker": {
          "color": "#636efa",
          "pattern": {
           "shape": ""
          }
         },
         "name": "SVC V4",
         "offsetgroup": "SVC V4",
         "orientation": "v",
         "showlegend": true,
         "textposition": "auto",
         "type": "bar",
         "x": [
          "SVC V4"
         ],
         "xaxis": "x",
         "y": [
          0.988009592326139
         ],
         "yaxis": "y"
        },
        {
         "alignmentgroup": "True",
         "hovertemplate": "Algorithm=%{x}<br>Class_7=%{y}<extra></extra>",
         "legendgroup": "SVC V3",
         "marker": {
          "color": "#EF553B",
          "pattern": {
           "shape": ""
          }
         },
         "name": "SVC V3",
         "offsetgroup": "SVC V3",
         "orientation": "v",
         "showlegend": true,
         "textposition": "auto",
         "type": "bar",
         "x": [
          "SVC V3"
         ],
         "xaxis": "x",
         "y": [
          0.980456026058632
         ],
         "yaxis": "y"
        },
        {
         "alignmentgroup": "True",
         "hovertemplate": "Algorithm=%{x}<br>Class_7=%{y}<extra></extra>",
         "legendgroup": "SVC V2",
         "marker": {
          "color": "#00cc96",
          "pattern": {
           "shape": ""
          }
         },
         "name": "SVC V2",
         "offsetgroup": "SVC V2",
         "orientation": "v",
         "showlegend": true,
         "textposition": "auto",
         "type": "bar",
         "x": [
          "SVC V2"
         ],
         "xaxis": "x",
         "y": [
          0.980365257652405
         ],
         "yaxis": "y"
        },
        {
         "alignmentgroup": "True",
         "hovertemplate": "Algorithm=%{x}<br>Class_7=%{y}<extra></extra>",
         "legendgroup": "SVC V0",
         "marker": {
          "color": "#ab63fa",
          "pattern": {
           "shape": ""
          }
         },
         "name": "SVC V0",
         "offsetgroup": "SVC V0",
         "orientation": "v",
         "showlegend": true,
         "textposition": "auto",
         "type": "bar",
         "x": [
          "SVC V0"
         ],
         "xaxis": "x",
         "y": [
          0.9737968830279158
         ],
         "yaxis": "y"
        },
        {
         "alignmentgroup": "True",
         "hovertemplate": "Algorithm=%{x}<br>Class_7=%{y}<extra></extra>",
         "legendgroup": "SVC V1",
         "marker": {
          "color": "#FFA15A",
          "pattern": {
           "shape": ""
          }
         },
         "name": "SVC V1",
         "offsetgroup": "SVC V1",
         "orientation": "v",
         "showlegend": true,
         "textposition": "auto",
         "type": "bar",
         "x": [
          "SVC V1"
         ],
         "xaxis": "x",
         "y": [
          0.9737968830279158
         ],
         "yaxis": "y"
        },
        {
         "alignmentgroup": "True",
         "hovertemplate": "Algorithm=%{x}<br>Class_7=%{y}<extra></extra>",
         "legendgroup": "Random Forest V1",
         "marker": {
          "color": "#19d3f3",
          "pattern": {
           "shape": ""
          }
         },
         "name": "Random Forest V1",
         "offsetgroup": "Random Forest V1",
         "orientation": "v",
         "showlegend": true,
         "textposition": "auto",
         "type": "bar",
         "x": [
          "Random Forest V1"
         ],
         "xaxis": "x",
         "y": [
          0.9689569180497032
         ],
         "yaxis": "y"
        },
        {
         "alignmentgroup": "True",
         "hovertemplate": "Algorithm=%{x}<br>Class_7=%{y}<extra></extra>",
         "legendgroup": "Random Forest V0",
         "marker": {
          "color": "#FF6692",
          "pattern": {
           "shape": ""
          }
         },
         "name": "Random Forest V0",
         "offsetgroup": "Random Forest V0",
         "orientation": "v",
         "showlegend": true,
         "textposition": "auto",
         "type": "bar",
         "x": [
          "Random Forest V0"
         ],
         "xaxis": "x",
         "y": [
          0.966643741403026
         ],
         "yaxis": "y"
        },
        {
         "alignmentgroup": "True",
         "hovertemplate": "Algorithm=%{x}<br>Class_7=%{y}<extra></extra>",
         "legendgroup": "KNN V1",
         "marker": {
          "color": "#B6E880",
          "pattern": {
           "shape": ""
          }
         },
         "name": "KNN V1",
         "offsetgroup": "KNN V1",
         "orientation": "v",
         "showlegend": true,
         "textposition": "auto",
         "type": "bar",
         "x": [
          "KNN V1"
         ],
         "xaxis": "x",
         "y": [
          0.9646236467479328
         ],
         "yaxis": "y"
        },
        {
         "alignmentgroup": "True",
         "hovertemplate": "Algorithm=%{x}<br>Class_7=%{y}<extra></extra>",
         "legendgroup": "KNN V0",
         "marker": {
          "color": "#FF97FF",
          "pattern": {
           "shape": ""
          }
         },
         "name": "KNN V0",
         "offsetgroup": "KNN V0",
         "orientation": "v",
         "showlegend": true,
         "textposition": "auto",
         "type": "bar",
         "x": [
          "KNN V0"
         ],
         "xaxis": "x",
         "y": [
          0.964288758203358
         ],
         "yaxis": "y"
        },
        {
         "alignmentgroup": "True",
         "hovertemplate": "Algorithm=%{x}<br>Class_7=%{y}<extra></extra>",
         "legendgroup": "Logistic Regression V2",
         "marker": {
          "color": "#FECB52",
          "pattern": {
           "shape": ""
          }
         },
         "name": "Logistic Regression V2",
         "offsetgroup": "Logistic Regression V2",
         "orientation": "v",
         "showlegend": true,
         "textposition": "auto",
         "type": "bar",
         "x": [
          "Logistic Regression V2"
         ],
         "xaxis": "x",
         "y": [
          0.9317537986093228
         ],
         "yaxis": "y"
        },
        {
         "alignmentgroup": "True",
         "hovertemplate": "Algorithm=%{x}<br>Class_7=%{y}<extra></extra>",
         "legendgroup": "Logistic Regression V1",
         "marker": {
          "color": "#636efa",
          "pattern": {
           "shape": ""
          }
         },
         "name": "Logistic Regression V1",
         "offsetgroup": "Logistic Regression V1",
         "orientation": "v",
         "showlegend": true,
         "textposition": "auto",
         "type": "bar",
         "x": [
          "Logistic Regression V1"
         ],
         "xaxis": "x",
         "y": [
          0.9306115447293936
         ],
         "yaxis": "y"
        },
        {
         "alignmentgroup": "True",
         "hovertemplate": "Algorithm=%{x}<br>Class_7=%{y}<extra></extra>",
         "legendgroup": "Logistic Regression V0",
         "marker": {
          "color": "#EF553B",
          "pattern": {
           "shape": ""
          }
         },
         "name": "Logistic Regression V0",
         "offsetgroup": "Logistic Regression V0",
         "orientation": "v",
         "showlegend": true,
         "textposition": "auto",
         "type": "bar",
         "x": [
          "Logistic Regression V0"
         ],
         "xaxis": "x",
         "y": [
          0.929785407725322
         ],
         "yaxis": "y"
        }
       ],
       "layout": {
        "barmode": "relative",
        "legend": {
         "title": {
          "text": "Algorithm"
         },
         "tracegroupgap": 0
        },
        "template": {
         "data": {
          "bar": [
           {
            "error_x": {
             "color": "#2a3f5f"
            },
            "error_y": {
             "color": "#2a3f5f"
            },
            "marker": {
             "line": {
              "color": "#E5ECF6",
              "width": 0.5
             },
             "pattern": {
              "fillmode": "overlay",
              "size": 10,
              "solidity": 0.2
             }
            },
            "type": "bar"
           }
          ],
          "barpolar": [
           {
            "marker": {
             "line": {
              "color": "#E5ECF6",
              "width": 0.5
             },
             "pattern": {
              "fillmode": "overlay",
              "size": 10,
              "solidity": 0.2
             }
            },
            "type": "barpolar"
           }
          ],
          "carpet": [
           {
            "aaxis": {
             "endlinecolor": "#2a3f5f",
             "gridcolor": "white",
             "linecolor": "white",
             "minorgridcolor": "white",
             "startlinecolor": "#2a3f5f"
            },
            "baxis": {
             "endlinecolor": "#2a3f5f",
             "gridcolor": "white",
             "linecolor": "white",
             "minorgridcolor": "white",
             "startlinecolor": "#2a3f5f"
            },
            "type": "carpet"
           }
          ],
          "choropleth": [
           {
            "colorbar": {
             "outlinewidth": 0,
             "ticks": ""
            },
            "type": "choropleth"
           }
          ],
          "contour": [
           {
            "colorbar": {
             "outlinewidth": 0,
             "ticks": ""
            },
            "colorscale": [
             [
              0,
              "#0d0887"
             ],
             [
              0.1111111111111111,
              "#46039f"
             ],
             [
              0.2222222222222222,
              "#7201a8"
             ],
             [
              0.3333333333333333,
              "#9c179e"
             ],
             [
              0.4444444444444444,
              "#bd3786"
             ],
             [
              0.5555555555555556,
              "#d8576b"
             ],
             [
              0.6666666666666666,
              "#ed7953"
             ],
             [
              0.7777777777777778,
              "#fb9f3a"
             ],
             [
              0.8888888888888888,
              "#fdca26"
             ],
             [
              1,
              "#f0f921"
             ]
            ],
            "type": "contour"
           }
          ],
          "contourcarpet": [
           {
            "colorbar": {
             "outlinewidth": 0,
             "ticks": ""
            },
            "type": "contourcarpet"
           }
          ],
          "heatmap": [
           {
            "colorbar": {
             "outlinewidth": 0,
             "ticks": ""
            },
            "colorscale": [
             [
              0,
              "#0d0887"
             ],
             [
              0.1111111111111111,
              "#46039f"
             ],
             [
              0.2222222222222222,
              "#7201a8"
             ],
             [
              0.3333333333333333,
              "#9c179e"
             ],
             [
              0.4444444444444444,
              "#bd3786"
             ],
             [
              0.5555555555555556,
              "#d8576b"
             ],
             [
              0.6666666666666666,
              "#ed7953"
             ],
             [
              0.7777777777777778,
              "#fb9f3a"
             ],
             [
              0.8888888888888888,
              "#fdca26"
             ],
             [
              1,
              "#f0f921"
             ]
            ],
            "type": "heatmap"
           }
          ],
          "heatmapgl": [
           {
            "colorbar": {
             "outlinewidth": 0,
             "ticks": ""
            },
            "colorscale": [
             [
              0,
              "#0d0887"
             ],
             [
              0.1111111111111111,
              "#46039f"
             ],
             [
              0.2222222222222222,
              "#7201a8"
             ],
             [
              0.3333333333333333,
              "#9c179e"
             ],
             [
              0.4444444444444444,
              "#bd3786"
             ],
             [
              0.5555555555555556,
              "#d8576b"
             ],
             [
              0.6666666666666666,
              "#ed7953"
             ],
             [
              0.7777777777777778,
              "#fb9f3a"
             ],
             [
              0.8888888888888888,
              "#fdca26"
             ],
             [
              1,
              "#f0f921"
             ]
            ],
            "type": "heatmapgl"
           }
          ],
          "histogram": [
           {
            "marker": {
             "pattern": {
              "fillmode": "overlay",
              "size": 10,
              "solidity": 0.2
             }
            },
            "type": "histogram"
           }
          ],
          "histogram2d": [
           {
            "colorbar": {
             "outlinewidth": 0,
             "ticks": ""
            },
            "colorscale": [
             [
              0,
              "#0d0887"
             ],
             [
              0.1111111111111111,
              "#46039f"
             ],
             [
              0.2222222222222222,
              "#7201a8"
             ],
             [
              0.3333333333333333,
              "#9c179e"
             ],
             [
              0.4444444444444444,
              "#bd3786"
             ],
             [
              0.5555555555555556,
              "#d8576b"
             ],
             [
              0.6666666666666666,
              "#ed7953"
             ],
             [
              0.7777777777777778,
              "#fb9f3a"
             ],
             [
              0.8888888888888888,
              "#fdca26"
             ],
             [
              1,
              "#f0f921"
             ]
            ],
            "type": "histogram2d"
           }
          ],
          "histogram2dcontour": [
           {
            "colorbar": {
             "outlinewidth": 0,
             "ticks": ""
            },
            "colorscale": [
             [
              0,
              "#0d0887"
             ],
             [
              0.1111111111111111,
              "#46039f"
             ],
             [
              0.2222222222222222,
              "#7201a8"
             ],
             [
              0.3333333333333333,
              "#9c179e"
             ],
             [
              0.4444444444444444,
              "#bd3786"
             ],
             [
              0.5555555555555556,
              "#d8576b"
             ],
             [
              0.6666666666666666,
              "#ed7953"
             ],
             [
              0.7777777777777778,
              "#fb9f3a"
             ],
             [
              0.8888888888888888,
              "#fdca26"
             ],
             [
              1,
              "#f0f921"
             ]
            ],
            "type": "histogram2dcontour"
           }
          ],
          "mesh3d": [
           {
            "colorbar": {
             "outlinewidth": 0,
             "ticks": ""
            },
            "type": "mesh3d"
           }
          ],
          "parcoords": [
           {
            "line": {
             "colorbar": {
              "outlinewidth": 0,
              "ticks": ""
             }
            },
            "type": "parcoords"
           }
          ],
          "pie": [
           {
            "automargin": true,
            "type": "pie"
           }
          ],
          "scatter": [
           {
            "fillpattern": {
             "fillmode": "overlay",
             "size": 10,
             "solidity": 0.2
            },
            "type": "scatter"
           }
          ],
          "scatter3d": [
           {
            "line": {
             "colorbar": {
              "outlinewidth": 0,
              "ticks": ""
             }
            },
            "marker": {
             "colorbar": {
              "outlinewidth": 0,
              "ticks": ""
             }
            },
            "type": "scatter3d"
           }
          ],
          "scattercarpet": [
           {
            "marker": {
             "colorbar": {
              "outlinewidth": 0,
              "ticks": ""
             }
            },
            "type": "scattercarpet"
           }
          ],
          "scattergeo": [
           {
            "marker": {
             "colorbar": {
              "outlinewidth": 0,
              "ticks": ""
             }
            },
            "type": "scattergeo"
           }
          ],
          "scattergl": [
           {
            "marker": {
             "colorbar": {
              "outlinewidth": 0,
              "ticks": ""
             }
            },
            "type": "scattergl"
           }
          ],
          "scattermapbox": [
           {
            "marker": {
             "colorbar": {
              "outlinewidth": 0,
              "ticks": ""
             }
            },
            "type": "scattermapbox"
           }
          ],
          "scatterpolar": [
           {
            "marker": {
             "colorbar": {
              "outlinewidth": 0,
              "ticks": ""
             }
            },
            "type": "scatterpolar"
           }
          ],
          "scatterpolargl": [
           {
            "marker": {
             "colorbar": {
              "outlinewidth": 0,
              "ticks": ""
             }
            },
            "type": "scatterpolargl"
           }
          ],
          "scatterternary": [
           {
            "marker": {
             "colorbar": {
              "outlinewidth": 0,
              "ticks": ""
             }
            },
            "type": "scatterternary"
           }
          ],
          "surface": [
           {
            "colorbar": {
             "outlinewidth": 0,
             "ticks": ""
            },
            "colorscale": [
             [
              0,
              "#0d0887"
             ],
             [
              0.1111111111111111,
              "#46039f"
             ],
             [
              0.2222222222222222,
              "#7201a8"
             ],
             [
              0.3333333333333333,
              "#9c179e"
             ],
             [
              0.4444444444444444,
              "#bd3786"
             ],
             [
              0.5555555555555556,
              "#d8576b"
             ],
             [
              0.6666666666666666,
              "#ed7953"
             ],
             [
              0.7777777777777778,
              "#fb9f3a"
             ],
             [
              0.8888888888888888,
              "#fdca26"
             ],
             [
              1,
              "#f0f921"
             ]
            ],
            "type": "surface"
           }
          ],
          "table": [
           {
            "cells": {
             "fill": {
              "color": "#EBF0F8"
             },
             "line": {
              "color": "white"
             }
            },
            "header": {
             "fill": {
              "color": "#C8D4E3"
             },
             "line": {
              "color": "white"
             }
            },
            "type": "table"
           }
          ]
         },
         "layout": {
          "annotationdefaults": {
           "arrowcolor": "#2a3f5f",
           "arrowhead": 0,
           "arrowwidth": 1
          },
          "autotypenumbers": "strict",
          "coloraxis": {
           "colorbar": {
            "outlinewidth": 0,
            "ticks": ""
           }
          },
          "colorscale": {
           "diverging": [
            [
             0,
             "#8e0152"
            ],
            [
             0.1,
             "#c51b7d"
            ],
            [
             0.2,
             "#de77ae"
            ],
            [
             0.3,
             "#f1b6da"
            ],
            [
             0.4,
             "#fde0ef"
            ],
            [
             0.5,
             "#f7f7f7"
            ],
            [
             0.6,
             "#e6f5d0"
            ],
            [
             0.7,
             "#b8e186"
            ],
            [
             0.8,
             "#7fbc41"
            ],
            [
             0.9,
             "#4d9221"
            ],
            [
             1,
             "#276419"
            ]
           ],
           "sequential": [
            [
             0,
             "#0d0887"
            ],
            [
             0.1111111111111111,
             "#46039f"
            ],
            [
             0.2222222222222222,
             "#7201a8"
            ],
            [
             0.3333333333333333,
             "#9c179e"
            ],
            [
             0.4444444444444444,
             "#bd3786"
            ],
            [
             0.5555555555555556,
             "#d8576b"
            ],
            [
             0.6666666666666666,
             "#ed7953"
            ],
            [
             0.7777777777777778,
             "#fb9f3a"
            ],
            [
             0.8888888888888888,
             "#fdca26"
            ],
            [
             1,
             "#f0f921"
            ]
           ],
           "sequentialminus": [
            [
             0,
             "#0d0887"
            ],
            [
             0.1111111111111111,
             "#46039f"
            ],
            [
             0.2222222222222222,
             "#7201a8"
            ],
            [
             0.3333333333333333,
             "#9c179e"
            ],
            [
             0.4444444444444444,
             "#bd3786"
            ],
            [
             0.5555555555555556,
             "#d8576b"
            ],
            [
             0.6666666666666666,
             "#ed7953"
            ],
            [
             0.7777777777777778,
             "#fb9f3a"
            ],
            [
             0.8888888888888888,
             "#fdca26"
            ],
            [
             1,
             "#f0f921"
            ]
           ]
          },
          "colorway": [
           "#636efa",
           "#EF553B",
           "#00cc96",
           "#ab63fa",
           "#FFA15A",
           "#19d3f3",
           "#FF6692",
           "#B6E880",
           "#FF97FF",
           "#FECB52"
          ],
          "font": {
           "color": "#2a3f5f"
          },
          "geo": {
           "bgcolor": "white",
           "lakecolor": "white",
           "landcolor": "#E5ECF6",
           "showlakes": true,
           "showland": true,
           "subunitcolor": "white"
          },
          "hoverlabel": {
           "align": "left"
          },
          "hovermode": "closest",
          "mapbox": {
           "style": "light"
          },
          "paper_bgcolor": "white",
          "plot_bgcolor": "#E5ECF6",
          "polar": {
           "angularaxis": {
            "gridcolor": "white",
            "linecolor": "white",
            "ticks": ""
           },
           "bgcolor": "#E5ECF6",
           "radialaxis": {
            "gridcolor": "white",
            "linecolor": "white",
            "ticks": ""
           }
          },
          "scene": {
           "xaxis": {
            "backgroundcolor": "#E5ECF6",
            "gridcolor": "white",
            "gridwidth": 2,
            "linecolor": "white",
            "showbackground": true,
            "ticks": "",
            "zerolinecolor": "white"
           },
           "yaxis": {
            "backgroundcolor": "#E5ECF6",
            "gridcolor": "white",
            "gridwidth": 2,
            "linecolor": "white",
            "showbackground": true,
            "ticks": "",
            "zerolinecolor": "white"
           },
           "zaxis": {
            "backgroundcolor": "#E5ECF6",
            "gridcolor": "white",
            "gridwidth": 2,
            "linecolor": "white",
            "showbackground": true,
            "ticks": "",
            "zerolinecolor": "white"
           }
          },
          "shapedefaults": {
           "line": {
            "color": "#2a3f5f"
           }
          },
          "ternary": {
           "aaxis": {
            "gridcolor": "white",
            "linecolor": "white",
            "ticks": ""
           },
           "baxis": {
            "gridcolor": "white",
            "linecolor": "white",
            "ticks": ""
           },
           "bgcolor": "#E5ECF6",
           "caxis": {
            "gridcolor": "white",
            "linecolor": "white",
            "ticks": ""
           }
          },
          "title": {
           "x": 0.05
          },
          "xaxis": {
           "automargin": true,
           "gridcolor": "white",
           "linecolor": "white",
           "ticks": "",
           "title": {
            "standoff": 15
           },
           "zerolinecolor": "white",
           "zerolinewidth": 2
          },
          "yaxis": {
           "automargin": true,
           "gridcolor": "white",
           "linecolor": "white",
           "ticks": "",
           "title": {
            "standoff": 15
           },
           "zerolinecolor": "white",
           "zerolinewidth": 2
          }
         }
        },
        "title": {
         "text": "Per Class F1 Score of different models for Class 7"
        },
        "xaxis": {
         "anchor": "y",
         "categoryarray": [
          "SVC V4",
          "SVC V3",
          "SVC V2",
          "SVC V0",
          "SVC V1",
          "Random Forest V1",
          "Random Forest V0",
          "KNN V1",
          "KNN V0",
          "Logistic Regression V2",
          "Logistic Regression V1",
          "Logistic Regression V0"
         ],
         "categoryorder": "array",
         "domain": [
          0,
          1
         ],
         "title": {
          "text": "Algorithm"
         }
        },
        "yaxis": {
         "anchor": "x",
         "domain": [
          0,
          1
         ],
         "title": {
          "text": "Class_7"
         }
        }
       }
      }
     },
     "metadata": {},
     "output_type": "display_data"
    },
    {
     "data": {
      "application/vnd.plotly.v1+json": {
       "config": {
        "plotlyServerURL": "https://plot.ly"
       },
       "data": [
        {
         "alignmentgroup": "True",
         "hovertemplate": "Algorithm=%{x}<br>Class_8=%{y}<extra></extra>",
         "legendgroup": "SVC V4",
         "marker": {
          "color": "#636efa",
          "pattern": {
           "shape": ""
          }
         },
         "name": "SVC V4",
         "offsetgroup": "SVC V4",
         "orientation": "v",
         "showlegend": true,
         "textposition": "auto",
         "type": "bar",
         "x": [
          "SVC V4"
         ],
         "xaxis": "x",
         "y": [
          0.9911958914159942
         ],
         "yaxis": "y"
        },
        {
         "alignmentgroup": "True",
         "hovertemplate": "Algorithm=%{x}<br>Class_8=%{y}<extra></extra>",
         "legendgroup": "SVC V2",
         "marker": {
          "color": "#EF553B",
          "pattern": {
           "shape": ""
          }
         },
         "name": "SVC V2",
         "offsetgroup": "SVC V2",
         "orientation": "v",
         "showlegend": true,
         "textposition": "auto",
         "type": "bar",
         "x": [
          "SVC V2"
         ],
         "xaxis": "x",
         "y": [
          0.9761686526122824
         ],
         "yaxis": "y"
        },
        {
         "alignmentgroup": "True",
         "hovertemplate": "Algorithm=%{x}<br>Class_8=%{y}<extra></extra>",
         "legendgroup": "SVC V3",
         "marker": {
          "color": "#00cc96",
          "pattern": {
           "shape": ""
          }
         },
         "name": "SVC V3",
         "offsetgroup": "SVC V3",
         "orientation": "v",
         "showlegend": true,
         "textposition": "auto",
         "type": "bar",
         "x": [
          "SVC V3"
         ],
         "xaxis": "x",
         "y": [
          0.976083570054064
         ],
         "yaxis": "y"
        },
        {
         "alignmentgroup": "True",
         "hovertemplate": "Algorithm=%{x}<br>Class_8=%{y}<extra></extra>",
         "legendgroup": "SVC V0",
         "marker": {
          "color": "#ab63fa",
          "pattern": {
           "shape": ""
          }
         },
         "name": "SVC V0",
         "offsetgroup": "SVC V0",
         "orientation": "v",
         "showlegend": true,
         "textposition": "auto",
         "type": "bar",
         "x": [
          "SVC V0"
         ],
         "xaxis": "x",
         "y": [
          0.967948717948718
         ],
         "yaxis": "y"
        },
        {
         "alignmentgroup": "True",
         "hovertemplate": "Algorithm=%{x}<br>Class_8=%{y}<extra></extra>",
         "legendgroup": "SVC V1",
         "marker": {
          "color": "#FFA15A",
          "pattern": {
           "shape": ""
          }
         },
         "name": "SVC V1",
         "offsetgroup": "SVC V1",
         "orientation": "v",
         "showlegend": true,
         "textposition": "auto",
         "type": "bar",
         "x": [
          "SVC V1"
         ],
         "xaxis": "x",
         "y": [
          0.967948717948718
         ],
         "yaxis": "y"
        },
        {
         "alignmentgroup": "True",
         "hovertemplate": "Algorithm=%{x}<br>Class_8=%{y}<extra></extra>",
         "legendgroup": "KNN V1",
         "marker": {
          "color": "#19d3f3",
          "pattern": {
           "shape": ""
          }
         },
         "name": "KNN V1",
         "offsetgroup": "KNN V1",
         "orientation": "v",
         "showlegend": true,
         "textposition": "auto",
         "type": "bar",
         "x": [
          "KNN V1"
         ],
         "xaxis": "x",
         "y": [
          0.955957086391869
         ],
         "yaxis": "y"
        },
        {
         "alignmentgroup": "True",
         "hovertemplate": "Algorithm=%{x}<br>Class_8=%{y}<extra></extra>",
         "legendgroup": "KNN V0",
         "marker": {
          "color": "#FF6692",
          "pattern": {
           "shape": ""
          }
         },
         "name": "KNN V0",
         "offsetgroup": "KNN V0",
         "orientation": "v",
         "showlegend": true,
         "textposition": "auto",
         "type": "bar",
         "x": [
          "KNN V0"
         ],
         "xaxis": "x",
         "y": [
          0.953814120764717
         ],
         "yaxis": "y"
        },
        {
         "alignmentgroup": "True",
         "hovertemplate": "Algorithm=%{x}<br>Class_8=%{y}<extra></extra>",
         "legendgroup": "Random Forest V1",
         "marker": {
          "color": "#B6E880",
          "pattern": {
           "shape": ""
          }
         },
         "name": "Random Forest V1",
         "offsetgroup": "Random Forest V1",
         "orientation": "v",
         "showlegend": true,
         "textposition": "auto",
         "type": "bar",
         "x": [
          "Random Forest V1"
         ],
         "xaxis": "x",
         "y": [
          0.9526784893871176
         ],
         "yaxis": "y"
        },
        {
         "alignmentgroup": "True",
         "hovertemplate": "Algorithm=%{x}<br>Class_8=%{y}<extra></extra>",
         "legendgroup": "Random Forest V0",
         "marker": {
          "color": "#FF97FF",
          "pattern": {
           "shape": ""
          }
         },
         "name": "Random Forest V0",
         "offsetgroup": "Random Forest V0",
         "orientation": "v",
         "showlegend": true,
         "textposition": "auto",
         "type": "bar",
         "x": [
          "Random Forest V0"
         ],
         "xaxis": "x",
         "y": [
          0.9508649245491352
         ],
         "yaxis": "y"
        },
        {
         "alignmentgroup": "True",
         "hovertemplate": "Algorithm=%{x}<br>Class_8=%{y}<extra></extra>",
         "legendgroup": "Logistic Regression V2",
         "marker": {
          "color": "#FECB52",
          "pattern": {
           "shape": ""
          }
         },
         "name": "Logistic Regression V2",
         "offsetgroup": "Logistic Regression V2",
         "orientation": "v",
         "showlegend": true,
         "textposition": "auto",
         "type": "bar",
         "x": [
          "Logistic Regression V2"
         ],
         "xaxis": "x",
         "y": [
          0.8843021103295076
         ],
         "yaxis": "y"
        },
        {
         "alignmentgroup": "True",
         "hovertemplate": "Algorithm=%{x}<br>Class_8=%{y}<extra></extra>",
         "legendgroup": "Logistic Regression V1",
         "marker": {
          "color": "#636efa",
          "pattern": {
           "shape": ""
          }
         },
         "name": "Logistic Regression V1",
         "offsetgroup": "Logistic Regression V1",
         "orientation": "v",
         "showlegend": true,
         "textposition": "auto",
         "type": "bar",
         "x": [
          "Logistic Regression V1"
         ],
         "xaxis": "x",
         "y": [
          0.8824776477094664
         ],
         "yaxis": "y"
        },
        {
         "alignmentgroup": "True",
         "hovertemplate": "Algorithm=%{x}<br>Class_8=%{y}<extra></extra>",
         "legendgroup": "Logistic Regression V0",
         "marker": {
          "color": "#EF553B",
          "pattern": {
           "shape": ""
          }
         },
         "name": "Logistic Regression V0",
         "offsetgroup": "Logistic Regression V0",
         "orientation": "v",
         "showlegend": true,
         "textposition": "auto",
         "type": "bar",
         "x": [
          "Logistic Regression V0"
         ],
         "xaxis": "x",
         "y": [
          0.8808337945028593
         ],
         "yaxis": "y"
        }
       ],
       "layout": {
        "barmode": "relative",
        "legend": {
         "title": {
          "text": "Algorithm"
         },
         "tracegroupgap": 0
        },
        "template": {
         "data": {
          "bar": [
           {
            "error_x": {
             "color": "#2a3f5f"
            },
            "error_y": {
             "color": "#2a3f5f"
            },
            "marker": {
             "line": {
              "color": "#E5ECF6",
              "width": 0.5
             },
             "pattern": {
              "fillmode": "overlay",
              "size": 10,
              "solidity": 0.2
             }
            },
            "type": "bar"
           }
          ],
          "barpolar": [
           {
            "marker": {
             "line": {
              "color": "#E5ECF6",
              "width": 0.5
             },
             "pattern": {
              "fillmode": "overlay",
              "size": 10,
              "solidity": 0.2
             }
            },
            "type": "barpolar"
           }
          ],
          "carpet": [
           {
            "aaxis": {
             "endlinecolor": "#2a3f5f",
             "gridcolor": "white",
             "linecolor": "white",
             "minorgridcolor": "white",
             "startlinecolor": "#2a3f5f"
            },
            "baxis": {
             "endlinecolor": "#2a3f5f",
             "gridcolor": "white",
             "linecolor": "white",
             "minorgridcolor": "white",
             "startlinecolor": "#2a3f5f"
            },
            "type": "carpet"
           }
          ],
          "choropleth": [
           {
            "colorbar": {
             "outlinewidth": 0,
             "ticks": ""
            },
            "type": "choropleth"
           }
          ],
          "contour": [
           {
            "colorbar": {
             "outlinewidth": 0,
             "ticks": ""
            },
            "colorscale": [
             [
              0,
              "#0d0887"
             ],
             [
              0.1111111111111111,
              "#46039f"
             ],
             [
              0.2222222222222222,
              "#7201a8"
             ],
             [
              0.3333333333333333,
              "#9c179e"
             ],
             [
              0.4444444444444444,
              "#bd3786"
             ],
             [
              0.5555555555555556,
              "#d8576b"
             ],
             [
              0.6666666666666666,
              "#ed7953"
             ],
             [
              0.7777777777777778,
              "#fb9f3a"
             ],
             [
              0.8888888888888888,
              "#fdca26"
             ],
             [
              1,
              "#f0f921"
             ]
            ],
            "type": "contour"
           }
          ],
          "contourcarpet": [
           {
            "colorbar": {
             "outlinewidth": 0,
             "ticks": ""
            },
            "type": "contourcarpet"
           }
          ],
          "heatmap": [
           {
            "colorbar": {
             "outlinewidth": 0,
             "ticks": ""
            },
            "colorscale": [
             [
              0,
              "#0d0887"
             ],
             [
              0.1111111111111111,
              "#46039f"
             ],
             [
              0.2222222222222222,
              "#7201a8"
             ],
             [
              0.3333333333333333,
              "#9c179e"
             ],
             [
              0.4444444444444444,
              "#bd3786"
             ],
             [
              0.5555555555555556,
              "#d8576b"
             ],
             [
              0.6666666666666666,
              "#ed7953"
             ],
             [
              0.7777777777777778,
              "#fb9f3a"
             ],
             [
              0.8888888888888888,
              "#fdca26"
             ],
             [
              1,
              "#f0f921"
             ]
            ],
            "type": "heatmap"
           }
          ],
          "heatmapgl": [
           {
            "colorbar": {
             "outlinewidth": 0,
             "ticks": ""
            },
            "colorscale": [
             [
              0,
              "#0d0887"
             ],
             [
              0.1111111111111111,
              "#46039f"
             ],
             [
              0.2222222222222222,
              "#7201a8"
             ],
             [
              0.3333333333333333,
              "#9c179e"
             ],
             [
              0.4444444444444444,
              "#bd3786"
             ],
             [
              0.5555555555555556,
              "#d8576b"
             ],
             [
              0.6666666666666666,
              "#ed7953"
             ],
             [
              0.7777777777777778,
              "#fb9f3a"
             ],
             [
              0.8888888888888888,
              "#fdca26"
             ],
             [
              1,
              "#f0f921"
             ]
            ],
            "type": "heatmapgl"
           }
          ],
          "histogram": [
           {
            "marker": {
             "pattern": {
              "fillmode": "overlay",
              "size": 10,
              "solidity": 0.2
             }
            },
            "type": "histogram"
           }
          ],
          "histogram2d": [
           {
            "colorbar": {
             "outlinewidth": 0,
             "ticks": ""
            },
            "colorscale": [
             [
              0,
              "#0d0887"
             ],
             [
              0.1111111111111111,
              "#46039f"
             ],
             [
              0.2222222222222222,
              "#7201a8"
             ],
             [
              0.3333333333333333,
              "#9c179e"
             ],
             [
              0.4444444444444444,
              "#bd3786"
             ],
             [
              0.5555555555555556,
              "#d8576b"
             ],
             [
              0.6666666666666666,
              "#ed7953"
             ],
             [
              0.7777777777777778,
              "#fb9f3a"
             ],
             [
              0.8888888888888888,
              "#fdca26"
             ],
             [
              1,
              "#f0f921"
             ]
            ],
            "type": "histogram2d"
           }
          ],
          "histogram2dcontour": [
           {
            "colorbar": {
             "outlinewidth": 0,
             "ticks": ""
            },
            "colorscale": [
             [
              0,
              "#0d0887"
             ],
             [
              0.1111111111111111,
              "#46039f"
             ],
             [
              0.2222222222222222,
              "#7201a8"
             ],
             [
              0.3333333333333333,
              "#9c179e"
             ],
             [
              0.4444444444444444,
              "#bd3786"
             ],
             [
              0.5555555555555556,
              "#d8576b"
             ],
             [
              0.6666666666666666,
              "#ed7953"
             ],
             [
              0.7777777777777778,
              "#fb9f3a"
             ],
             [
              0.8888888888888888,
              "#fdca26"
             ],
             [
              1,
              "#f0f921"
             ]
            ],
            "type": "histogram2dcontour"
           }
          ],
          "mesh3d": [
           {
            "colorbar": {
             "outlinewidth": 0,
             "ticks": ""
            },
            "type": "mesh3d"
           }
          ],
          "parcoords": [
           {
            "line": {
             "colorbar": {
              "outlinewidth": 0,
              "ticks": ""
             }
            },
            "type": "parcoords"
           }
          ],
          "pie": [
           {
            "automargin": true,
            "type": "pie"
           }
          ],
          "scatter": [
           {
            "fillpattern": {
             "fillmode": "overlay",
             "size": 10,
             "solidity": 0.2
            },
            "type": "scatter"
           }
          ],
          "scatter3d": [
           {
            "line": {
             "colorbar": {
              "outlinewidth": 0,
              "ticks": ""
             }
            },
            "marker": {
             "colorbar": {
              "outlinewidth": 0,
              "ticks": ""
             }
            },
            "type": "scatter3d"
           }
          ],
          "scattercarpet": [
           {
            "marker": {
             "colorbar": {
              "outlinewidth": 0,
              "ticks": ""
             }
            },
            "type": "scattercarpet"
           }
          ],
          "scattergeo": [
           {
            "marker": {
             "colorbar": {
              "outlinewidth": 0,
              "ticks": ""
             }
            },
            "type": "scattergeo"
           }
          ],
          "scattergl": [
           {
            "marker": {
             "colorbar": {
              "outlinewidth": 0,
              "ticks": ""
             }
            },
            "type": "scattergl"
           }
          ],
          "scattermapbox": [
           {
            "marker": {
             "colorbar": {
              "outlinewidth": 0,
              "ticks": ""
             }
            },
            "type": "scattermapbox"
           }
          ],
          "scatterpolar": [
           {
            "marker": {
             "colorbar": {
              "outlinewidth": 0,
              "ticks": ""
             }
            },
            "type": "scatterpolar"
           }
          ],
          "scatterpolargl": [
           {
            "marker": {
             "colorbar": {
              "outlinewidth": 0,
              "ticks": ""
             }
            },
            "type": "scatterpolargl"
           }
          ],
          "scatterternary": [
           {
            "marker": {
             "colorbar": {
              "outlinewidth": 0,
              "ticks": ""
             }
            },
            "type": "scatterternary"
           }
          ],
          "surface": [
           {
            "colorbar": {
             "outlinewidth": 0,
             "ticks": ""
            },
            "colorscale": [
             [
              0,
              "#0d0887"
             ],
             [
              0.1111111111111111,
              "#46039f"
             ],
             [
              0.2222222222222222,
              "#7201a8"
             ],
             [
              0.3333333333333333,
              "#9c179e"
             ],
             [
              0.4444444444444444,
              "#bd3786"
             ],
             [
              0.5555555555555556,
              "#d8576b"
             ],
             [
              0.6666666666666666,
              "#ed7953"
             ],
             [
              0.7777777777777778,
              "#fb9f3a"
             ],
             [
              0.8888888888888888,
              "#fdca26"
             ],
             [
              1,
              "#f0f921"
             ]
            ],
            "type": "surface"
           }
          ],
          "table": [
           {
            "cells": {
             "fill": {
              "color": "#EBF0F8"
             },
             "line": {
              "color": "white"
             }
            },
            "header": {
             "fill": {
              "color": "#C8D4E3"
             },
             "line": {
              "color": "white"
             }
            },
            "type": "table"
           }
          ]
         },
         "layout": {
          "annotationdefaults": {
           "arrowcolor": "#2a3f5f",
           "arrowhead": 0,
           "arrowwidth": 1
          },
          "autotypenumbers": "strict",
          "coloraxis": {
           "colorbar": {
            "outlinewidth": 0,
            "ticks": ""
           }
          },
          "colorscale": {
           "diverging": [
            [
             0,
             "#8e0152"
            ],
            [
             0.1,
             "#c51b7d"
            ],
            [
             0.2,
             "#de77ae"
            ],
            [
             0.3,
             "#f1b6da"
            ],
            [
             0.4,
             "#fde0ef"
            ],
            [
             0.5,
             "#f7f7f7"
            ],
            [
             0.6,
             "#e6f5d0"
            ],
            [
             0.7,
             "#b8e186"
            ],
            [
             0.8,
             "#7fbc41"
            ],
            [
             0.9,
             "#4d9221"
            ],
            [
             1,
             "#276419"
            ]
           ],
           "sequential": [
            [
             0,
             "#0d0887"
            ],
            [
             0.1111111111111111,
             "#46039f"
            ],
            [
             0.2222222222222222,
             "#7201a8"
            ],
            [
             0.3333333333333333,
             "#9c179e"
            ],
            [
             0.4444444444444444,
             "#bd3786"
            ],
            [
             0.5555555555555556,
             "#d8576b"
            ],
            [
             0.6666666666666666,
             "#ed7953"
            ],
            [
             0.7777777777777778,
             "#fb9f3a"
            ],
            [
             0.8888888888888888,
             "#fdca26"
            ],
            [
             1,
             "#f0f921"
            ]
           ],
           "sequentialminus": [
            [
             0,
             "#0d0887"
            ],
            [
             0.1111111111111111,
             "#46039f"
            ],
            [
             0.2222222222222222,
             "#7201a8"
            ],
            [
             0.3333333333333333,
             "#9c179e"
            ],
            [
             0.4444444444444444,
             "#bd3786"
            ],
            [
             0.5555555555555556,
             "#d8576b"
            ],
            [
             0.6666666666666666,
             "#ed7953"
            ],
            [
             0.7777777777777778,
             "#fb9f3a"
            ],
            [
             0.8888888888888888,
             "#fdca26"
            ],
            [
             1,
             "#f0f921"
            ]
           ]
          },
          "colorway": [
           "#636efa",
           "#EF553B",
           "#00cc96",
           "#ab63fa",
           "#FFA15A",
           "#19d3f3",
           "#FF6692",
           "#B6E880",
           "#FF97FF",
           "#FECB52"
          ],
          "font": {
           "color": "#2a3f5f"
          },
          "geo": {
           "bgcolor": "white",
           "lakecolor": "white",
           "landcolor": "#E5ECF6",
           "showlakes": true,
           "showland": true,
           "subunitcolor": "white"
          },
          "hoverlabel": {
           "align": "left"
          },
          "hovermode": "closest",
          "mapbox": {
           "style": "light"
          },
          "paper_bgcolor": "white",
          "plot_bgcolor": "#E5ECF6",
          "polar": {
           "angularaxis": {
            "gridcolor": "white",
            "linecolor": "white",
            "ticks": ""
           },
           "bgcolor": "#E5ECF6",
           "radialaxis": {
            "gridcolor": "white",
            "linecolor": "white",
            "ticks": ""
           }
          },
          "scene": {
           "xaxis": {
            "backgroundcolor": "#E5ECF6",
            "gridcolor": "white",
            "gridwidth": 2,
            "linecolor": "white",
            "showbackground": true,
            "ticks": "",
            "zerolinecolor": "white"
           },
           "yaxis": {
            "backgroundcolor": "#E5ECF6",
            "gridcolor": "white",
            "gridwidth": 2,
            "linecolor": "white",
            "showbackground": true,
            "ticks": "",
            "zerolinecolor": "white"
           },
           "zaxis": {
            "backgroundcolor": "#E5ECF6",
            "gridcolor": "white",
            "gridwidth": 2,
            "linecolor": "white",
            "showbackground": true,
            "ticks": "",
            "zerolinecolor": "white"
           }
          },
          "shapedefaults": {
           "line": {
            "color": "#2a3f5f"
           }
          },
          "ternary": {
           "aaxis": {
            "gridcolor": "white",
            "linecolor": "white",
            "ticks": ""
           },
           "baxis": {
            "gridcolor": "white",
            "linecolor": "white",
            "ticks": ""
           },
           "bgcolor": "#E5ECF6",
           "caxis": {
            "gridcolor": "white",
            "linecolor": "white",
            "ticks": ""
           }
          },
          "title": {
           "x": 0.05
          },
          "xaxis": {
           "automargin": true,
           "gridcolor": "white",
           "linecolor": "white",
           "ticks": "",
           "title": {
            "standoff": 15
           },
           "zerolinecolor": "white",
           "zerolinewidth": 2
          },
          "yaxis": {
           "automargin": true,
           "gridcolor": "white",
           "linecolor": "white",
           "ticks": "",
           "title": {
            "standoff": 15
           },
           "zerolinecolor": "white",
           "zerolinewidth": 2
          }
         }
        },
        "title": {
         "text": "Per Class F1 Score of different models for Class 8"
        },
        "xaxis": {
         "anchor": "y",
         "categoryarray": [
          "SVC V4",
          "SVC V2",
          "SVC V3",
          "SVC V0",
          "SVC V1",
          "KNN V1",
          "KNN V0",
          "Random Forest V1",
          "Random Forest V0",
          "Logistic Regression V2",
          "Logistic Regression V1",
          "Logistic Regression V0"
         ],
         "categoryorder": "array",
         "domain": [
          0,
          1
         ],
         "title": {
          "text": "Algorithm"
         }
        },
        "yaxis": {
         "anchor": "x",
         "domain": [
          0,
          1
         ],
         "title": {
          "text": "Class_8"
         }
        }
       }
      }
     },
     "metadata": {},
     "output_type": "display_data"
    },
    {
     "data": {
      "application/vnd.plotly.v1+json": {
       "config": {
        "plotlyServerURL": "https://plot.ly"
       },
       "data": [
        {
         "alignmentgroup": "True",
         "hovertemplate": "Algorithm=%{x}<br>Class_9=%{y}<extra></extra>",
         "legendgroup": "SVC V4",
         "marker": {
          "color": "#636efa",
          "pattern": {
           "shape": ""
          }
         },
         "name": "SVC V4",
         "offsetgroup": "SVC V4",
         "orientation": "v",
         "showlegend": true,
         "textposition": "auto",
         "type": "bar",
         "x": [
          "SVC V4"
         ],
         "xaxis": "x",
         "y": [
          0.9842180774748924
         ],
         "yaxis": "y"
        },
        {
         "alignmentgroup": "True",
         "hovertemplate": "Algorithm=%{x}<br>Class_9=%{y}<extra></extra>",
         "legendgroup": "SVC V2",
         "marker": {
          "color": "#EF553B",
          "pattern": {
           "shape": ""
          }
         },
         "name": "SVC V2",
         "offsetgroup": "SVC V2",
         "orientation": "v",
         "showlegend": true,
         "textposition": "auto",
         "type": "bar",
         "x": [
          "SVC V2"
         ],
         "xaxis": "x",
         "y": [
          0.9742805755395684
         ],
         "yaxis": "y"
        },
        {
         "alignmentgroup": "True",
         "hovertemplate": "Algorithm=%{x}<br>Class_9=%{y}<extra></extra>",
         "legendgroup": "SVC V3",
         "marker": {
          "color": "#00cc96",
          "pattern": {
           "shape": ""
          }
         },
         "name": "SVC V3",
         "offsetgroup": "SVC V3",
         "orientation": "v",
         "showlegend": true,
         "textposition": "auto",
         "type": "bar",
         "x": [
          "SVC V3"
         ],
         "xaxis": "x",
         "y": [
          0.9740037779976612
         ],
         "yaxis": "y"
        },
        {
         "alignmentgroup": "True",
         "hovertemplate": "Algorithm=%{x}<br>Class_9=%{y}<extra></extra>",
         "legendgroup": "SVC V0",
         "marker": {
          "color": "#ab63fa",
          "pattern": {
           "shape": ""
          }
         },
         "name": "SVC V0",
         "offsetgroup": "SVC V0",
         "orientation": "v",
         "showlegend": true,
         "textposition": "auto",
         "type": "bar",
         "x": [
          "SVC V0"
         ],
         "xaxis": "x",
         "y": [
          0.9645722527720184
         ],
         "yaxis": "y"
        },
        {
         "alignmentgroup": "True",
         "hovertemplate": "Algorithm=%{x}<br>Class_9=%{y}<extra></extra>",
         "legendgroup": "SVC V1",
         "marker": {
          "color": "#FFA15A",
          "pattern": {
           "shape": ""
          }
         },
         "name": "SVC V1",
         "offsetgroup": "SVC V1",
         "orientation": "v",
         "showlegend": true,
         "textposition": "auto",
         "type": "bar",
         "x": [
          "SVC V1"
         ],
         "xaxis": "x",
         "y": [
          0.9645722527720184
         ],
         "yaxis": "y"
        },
        {
         "alignmentgroup": "True",
         "hovertemplate": "Algorithm=%{x}<br>Class_9=%{y}<extra></extra>",
         "legendgroup": "KNN V0",
         "marker": {
          "color": "#19d3f3",
          "pattern": {
           "shape": ""
          }
         },
         "name": "KNN V0",
         "offsetgroup": "KNN V0",
         "orientation": "v",
         "showlegend": true,
         "textposition": "auto",
         "type": "bar",
         "x": [
          "KNN V0"
         ],
         "xaxis": "x",
         "y": [
          0.95375
         ],
         "yaxis": "y"
        },
        {
         "alignmentgroup": "True",
         "hovertemplate": "Algorithm=%{x}<br>Class_9=%{y}<extra></extra>",
         "legendgroup": "KNN V1",
         "marker": {
          "color": "#FF6692",
          "pattern": {
           "shape": ""
          }
         },
         "name": "KNN V1",
         "offsetgroup": "KNN V1",
         "orientation": "v",
         "showlegend": true,
         "textposition": "auto",
         "type": "bar",
         "x": [
          "KNN V1"
         ],
         "xaxis": "x",
         "y": [
          0.9533042782175576
         ],
         "yaxis": "y"
        },
        {
         "alignmentgroup": "True",
         "hovertemplate": "Algorithm=%{x}<br>Class_9=%{y}<extra></extra>",
         "legendgroup": "Random Forest V1",
         "marker": {
          "color": "#B6E880",
          "pattern": {
           "shape": ""
          }
         },
         "name": "Random Forest V1",
         "offsetgroup": "Random Forest V1",
         "orientation": "v",
         "showlegend": true,
         "textposition": "auto",
         "type": "bar",
         "x": [
          "Random Forest V1"
         ],
         "xaxis": "x",
         "y": [
          0.9479082321187584
         ],
         "yaxis": "y"
        },
        {
         "alignmentgroup": "True",
         "hovertemplate": "Algorithm=%{x}<br>Class_9=%{y}<extra></extra>",
         "legendgroup": "Random Forest V0",
         "marker": {
          "color": "#FF97FF",
          "pattern": {
           "shape": ""
          }
         },
         "name": "Random Forest V0",
         "offsetgroup": "Random Forest V0",
         "orientation": "v",
         "showlegend": true,
         "textposition": "auto",
         "type": "bar",
         "x": [
          "Random Forest V0"
         ],
         "xaxis": "x",
         "y": [
          0.9464398235664776
         ],
         "yaxis": "y"
        },
        {
         "alignmentgroup": "True",
         "hovertemplate": "Algorithm=%{x}<br>Class_9=%{y}<extra></extra>",
         "legendgroup": "Logistic Regression V1",
         "marker": {
          "color": "#FECB52",
          "pattern": {
           "shape": ""
          }
         },
         "name": "Logistic Regression V1",
         "offsetgroup": "Logistic Regression V1",
         "orientation": "v",
         "showlegend": true,
         "textposition": "auto",
         "type": "bar",
         "x": [
          "Logistic Regression V1"
         ],
         "xaxis": "x",
         "y": [
          0.8986855047840472
         ],
         "yaxis": "y"
        },
        {
         "alignmentgroup": "True",
         "hovertemplate": "Algorithm=%{x}<br>Class_9=%{y}<extra></extra>",
         "legendgroup": "Logistic Regression V2",
         "marker": {
          "color": "#636efa",
          "pattern": {
           "shape": ""
          }
         },
         "name": "Logistic Regression V2",
         "offsetgroup": "Logistic Regression V2",
         "orientation": "v",
         "showlegend": true,
         "textposition": "auto",
         "type": "bar",
         "x": [
          "Logistic Regression V2"
         ],
         "xaxis": "x",
         "y": [
          0.8980430703243678
         ],
         "yaxis": "y"
        },
        {
         "alignmentgroup": "True",
         "hovertemplate": "Algorithm=%{x}<br>Class_9=%{y}<extra></extra>",
         "legendgroup": "Logistic Regression V0",
         "marker": {
          "color": "#EF553B",
          "pattern": {
           "shape": ""
          }
         },
         "name": "Logistic Regression V0",
         "offsetgroup": "Logistic Regression V0",
         "orientation": "v",
         "showlegend": true,
         "textposition": "auto",
         "type": "bar",
         "x": [
          "Logistic Regression V0"
         ],
         "xaxis": "x",
         "y": [
          0.8978826051996783
         ],
         "yaxis": "y"
        }
       ],
       "layout": {
        "barmode": "relative",
        "legend": {
         "title": {
          "text": "Algorithm"
         },
         "tracegroupgap": 0
        },
        "template": {
         "data": {
          "bar": [
           {
            "error_x": {
             "color": "#2a3f5f"
            },
            "error_y": {
             "color": "#2a3f5f"
            },
            "marker": {
             "line": {
              "color": "#E5ECF6",
              "width": 0.5
             },
             "pattern": {
              "fillmode": "overlay",
              "size": 10,
              "solidity": 0.2
             }
            },
            "type": "bar"
           }
          ],
          "barpolar": [
           {
            "marker": {
             "line": {
              "color": "#E5ECF6",
              "width": 0.5
             },
             "pattern": {
              "fillmode": "overlay",
              "size": 10,
              "solidity": 0.2
             }
            },
            "type": "barpolar"
           }
          ],
          "carpet": [
           {
            "aaxis": {
             "endlinecolor": "#2a3f5f",
             "gridcolor": "white",
             "linecolor": "white",
             "minorgridcolor": "white",
             "startlinecolor": "#2a3f5f"
            },
            "baxis": {
             "endlinecolor": "#2a3f5f",
             "gridcolor": "white",
             "linecolor": "white",
             "minorgridcolor": "white",
             "startlinecolor": "#2a3f5f"
            },
            "type": "carpet"
           }
          ],
          "choropleth": [
           {
            "colorbar": {
             "outlinewidth": 0,
             "ticks": ""
            },
            "type": "choropleth"
           }
          ],
          "contour": [
           {
            "colorbar": {
             "outlinewidth": 0,
             "ticks": ""
            },
            "colorscale": [
             [
              0,
              "#0d0887"
             ],
             [
              0.1111111111111111,
              "#46039f"
             ],
             [
              0.2222222222222222,
              "#7201a8"
             ],
             [
              0.3333333333333333,
              "#9c179e"
             ],
             [
              0.4444444444444444,
              "#bd3786"
             ],
             [
              0.5555555555555556,
              "#d8576b"
             ],
             [
              0.6666666666666666,
              "#ed7953"
             ],
             [
              0.7777777777777778,
              "#fb9f3a"
             ],
             [
              0.8888888888888888,
              "#fdca26"
             ],
             [
              1,
              "#f0f921"
             ]
            ],
            "type": "contour"
           }
          ],
          "contourcarpet": [
           {
            "colorbar": {
             "outlinewidth": 0,
             "ticks": ""
            },
            "type": "contourcarpet"
           }
          ],
          "heatmap": [
           {
            "colorbar": {
             "outlinewidth": 0,
             "ticks": ""
            },
            "colorscale": [
             [
              0,
              "#0d0887"
             ],
             [
              0.1111111111111111,
              "#46039f"
             ],
             [
              0.2222222222222222,
              "#7201a8"
             ],
             [
              0.3333333333333333,
              "#9c179e"
             ],
             [
              0.4444444444444444,
              "#bd3786"
             ],
             [
              0.5555555555555556,
              "#d8576b"
             ],
             [
              0.6666666666666666,
              "#ed7953"
             ],
             [
              0.7777777777777778,
              "#fb9f3a"
             ],
             [
              0.8888888888888888,
              "#fdca26"
             ],
             [
              1,
              "#f0f921"
             ]
            ],
            "type": "heatmap"
           }
          ],
          "heatmapgl": [
           {
            "colorbar": {
             "outlinewidth": 0,
             "ticks": ""
            },
            "colorscale": [
             [
              0,
              "#0d0887"
             ],
             [
              0.1111111111111111,
              "#46039f"
             ],
             [
              0.2222222222222222,
              "#7201a8"
             ],
             [
              0.3333333333333333,
              "#9c179e"
             ],
             [
              0.4444444444444444,
              "#bd3786"
             ],
             [
              0.5555555555555556,
              "#d8576b"
             ],
             [
              0.6666666666666666,
              "#ed7953"
             ],
             [
              0.7777777777777778,
              "#fb9f3a"
             ],
             [
              0.8888888888888888,
              "#fdca26"
             ],
             [
              1,
              "#f0f921"
             ]
            ],
            "type": "heatmapgl"
           }
          ],
          "histogram": [
           {
            "marker": {
             "pattern": {
              "fillmode": "overlay",
              "size": 10,
              "solidity": 0.2
             }
            },
            "type": "histogram"
           }
          ],
          "histogram2d": [
           {
            "colorbar": {
             "outlinewidth": 0,
             "ticks": ""
            },
            "colorscale": [
             [
              0,
              "#0d0887"
             ],
             [
              0.1111111111111111,
              "#46039f"
             ],
             [
              0.2222222222222222,
              "#7201a8"
             ],
             [
              0.3333333333333333,
              "#9c179e"
             ],
             [
              0.4444444444444444,
              "#bd3786"
             ],
             [
              0.5555555555555556,
              "#d8576b"
             ],
             [
              0.6666666666666666,
              "#ed7953"
             ],
             [
              0.7777777777777778,
              "#fb9f3a"
             ],
             [
              0.8888888888888888,
              "#fdca26"
             ],
             [
              1,
              "#f0f921"
             ]
            ],
            "type": "histogram2d"
           }
          ],
          "histogram2dcontour": [
           {
            "colorbar": {
             "outlinewidth": 0,
             "ticks": ""
            },
            "colorscale": [
             [
              0,
              "#0d0887"
             ],
             [
              0.1111111111111111,
              "#46039f"
             ],
             [
              0.2222222222222222,
              "#7201a8"
             ],
             [
              0.3333333333333333,
              "#9c179e"
             ],
             [
              0.4444444444444444,
              "#bd3786"
             ],
             [
              0.5555555555555556,
              "#d8576b"
             ],
             [
              0.6666666666666666,
              "#ed7953"
             ],
             [
              0.7777777777777778,
              "#fb9f3a"
             ],
             [
              0.8888888888888888,
              "#fdca26"
             ],
             [
              1,
              "#f0f921"
             ]
            ],
            "type": "histogram2dcontour"
           }
          ],
          "mesh3d": [
           {
            "colorbar": {
             "outlinewidth": 0,
             "ticks": ""
            },
            "type": "mesh3d"
           }
          ],
          "parcoords": [
           {
            "line": {
             "colorbar": {
              "outlinewidth": 0,
              "ticks": ""
             }
            },
            "type": "parcoords"
           }
          ],
          "pie": [
           {
            "automargin": true,
            "type": "pie"
           }
          ],
          "scatter": [
           {
            "fillpattern": {
             "fillmode": "overlay",
             "size": 10,
             "solidity": 0.2
            },
            "type": "scatter"
           }
          ],
          "scatter3d": [
           {
            "line": {
             "colorbar": {
              "outlinewidth": 0,
              "ticks": ""
             }
            },
            "marker": {
             "colorbar": {
              "outlinewidth": 0,
              "ticks": ""
             }
            },
            "type": "scatter3d"
           }
          ],
          "scattercarpet": [
           {
            "marker": {
             "colorbar": {
              "outlinewidth": 0,
              "ticks": ""
             }
            },
            "type": "scattercarpet"
           }
          ],
          "scattergeo": [
           {
            "marker": {
             "colorbar": {
              "outlinewidth": 0,
              "ticks": ""
             }
            },
            "type": "scattergeo"
           }
          ],
          "scattergl": [
           {
            "marker": {
             "colorbar": {
              "outlinewidth": 0,
              "ticks": ""
             }
            },
            "type": "scattergl"
           }
          ],
          "scattermapbox": [
           {
            "marker": {
             "colorbar": {
              "outlinewidth": 0,
              "ticks": ""
             }
            },
            "type": "scattermapbox"
           }
          ],
          "scatterpolar": [
           {
            "marker": {
             "colorbar": {
              "outlinewidth": 0,
              "ticks": ""
             }
            },
            "type": "scatterpolar"
           }
          ],
          "scatterpolargl": [
           {
            "marker": {
             "colorbar": {
              "outlinewidth": 0,
              "ticks": ""
             }
            },
            "type": "scatterpolargl"
           }
          ],
          "scatterternary": [
           {
            "marker": {
             "colorbar": {
              "outlinewidth": 0,
              "ticks": ""
             }
            },
            "type": "scatterternary"
           }
          ],
          "surface": [
           {
            "colorbar": {
             "outlinewidth": 0,
             "ticks": ""
            },
            "colorscale": [
             [
              0,
              "#0d0887"
             ],
             [
              0.1111111111111111,
              "#46039f"
             ],
             [
              0.2222222222222222,
              "#7201a8"
             ],
             [
              0.3333333333333333,
              "#9c179e"
             ],
             [
              0.4444444444444444,
              "#bd3786"
             ],
             [
              0.5555555555555556,
              "#d8576b"
             ],
             [
              0.6666666666666666,
              "#ed7953"
             ],
             [
              0.7777777777777778,
              "#fb9f3a"
             ],
             [
              0.8888888888888888,
              "#fdca26"
             ],
             [
              1,
              "#f0f921"
             ]
            ],
            "type": "surface"
           }
          ],
          "table": [
           {
            "cells": {
             "fill": {
              "color": "#EBF0F8"
             },
             "line": {
              "color": "white"
             }
            },
            "header": {
             "fill": {
              "color": "#C8D4E3"
             },
             "line": {
              "color": "white"
             }
            },
            "type": "table"
           }
          ]
         },
         "layout": {
          "annotationdefaults": {
           "arrowcolor": "#2a3f5f",
           "arrowhead": 0,
           "arrowwidth": 1
          },
          "autotypenumbers": "strict",
          "coloraxis": {
           "colorbar": {
            "outlinewidth": 0,
            "ticks": ""
           }
          },
          "colorscale": {
           "diverging": [
            [
             0,
             "#8e0152"
            ],
            [
             0.1,
             "#c51b7d"
            ],
            [
             0.2,
             "#de77ae"
            ],
            [
             0.3,
             "#f1b6da"
            ],
            [
             0.4,
             "#fde0ef"
            ],
            [
             0.5,
             "#f7f7f7"
            ],
            [
             0.6,
             "#e6f5d0"
            ],
            [
             0.7,
             "#b8e186"
            ],
            [
             0.8,
             "#7fbc41"
            ],
            [
             0.9,
             "#4d9221"
            ],
            [
             1,
             "#276419"
            ]
           ],
           "sequential": [
            [
             0,
             "#0d0887"
            ],
            [
             0.1111111111111111,
             "#46039f"
            ],
            [
             0.2222222222222222,
             "#7201a8"
            ],
            [
             0.3333333333333333,
             "#9c179e"
            ],
            [
             0.4444444444444444,
             "#bd3786"
            ],
            [
             0.5555555555555556,
             "#d8576b"
            ],
            [
             0.6666666666666666,
             "#ed7953"
            ],
            [
             0.7777777777777778,
             "#fb9f3a"
            ],
            [
             0.8888888888888888,
             "#fdca26"
            ],
            [
             1,
             "#f0f921"
            ]
           ],
           "sequentialminus": [
            [
             0,
             "#0d0887"
            ],
            [
             0.1111111111111111,
             "#46039f"
            ],
            [
             0.2222222222222222,
             "#7201a8"
            ],
            [
             0.3333333333333333,
             "#9c179e"
            ],
            [
             0.4444444444444444,
             "#bd3786"
            ],
            [
             0.5555555555555556,
             "#d8576b"
            ],
            [
             0.6666666666666666,
             "#ed7953"
            ],
            [
             0.7777777777777778,
             "#fb9f3a"
            ],
            [
             0.8888888888888888,
             "#fdca26"
            ],
            [
             1,
             "#f0f921"
            ]
           ]
          },
          "colorway": [
           "#636efa",
           "#EF553B",
           "#00cc96",
           "#ab63fa",
           "#FFA15A",
           "#19d3f3",
           "#FF6692",
           "#B6E880",
           "#FF97FF",
           "#FECB52"
          ],
          "font": {
           "color": "#2a3f5f"
          },
          "geo": {
           "bgcolor": "white",
           "lakecolor": "white",
           "landcolor": "#E5ECF6",
           "showlakes": true,
           "showland": true,
           "subunitcolor": "white"
          },
          "hoverlabel": {
           "align": "left"
          },
          "hovermode": "closest",
          "mapbox": {
           "style": "light"
          },
          "paper_bgcolor": "white",
          "plot_bgcolor": "#E5ECF6",
          "polar": {
           "angularaxis": {
            "gridcolor": "white",
            "linecolor": "white",
            "ticks": ""
           },
           "bgcolor": "#E5ECF6",
           "radialaxis": {
            "gridcolor": "white",
            "linecolor": "white",
            "ticks": ""
           }
          },
          "scene": {
           "xaxis": {
            "backgroundcolor": "#E5ECF6",
            "gridcolor": "white",
            "gridwidth": 2,
            "linecolor": "white",
            "showbackground": true,
            "ticks": "",
            "zerolinecolor": "white"
           },
           "yaxis": {
            "backgroundcolor": "#E5ECF6",
            "gridcolor": "white",
            "gridwidth": 2,
            "linecolor": "white",
            "showbackground": true,
            "ticks": "",
            "zerolinecolor": "white"
           },
           "zaxis": {
            "backgroundcolor": "#E5ECF6",
            "gridcolor": "white",
            "gridwidth": 2,
            "linecolor": "white",
            "showbackground": true,
            "ticks": "",
            "zerolinecolor": "white"
           }
          },
          "shapedefaults": {
           "line": {
            "color": "#2a3f5f"
           }
          },
          "ternary": {
           "aaxis": {
            "gridcolor": "white",
            "linecolor": "white",
            "ticks": ""
           },
           "baxis": {
            "gridcolor": "white",
            "linecolor": "white",
            "ticks": ""
           },
           "bgcolor": "#E5ECF6",
           "caxis": {
            "gridcolor": "white",
            "linecolor": "white",
            "ticks": ""
           }
          },
          "title": {
           "x": 0.05
          },
          "xaxis": {
           "automargin": true,
           "gridcolor": "white",
           "linecolor": "white",
           "ticks": "",
           "title": {
            "standoff": 15
           },
           "zerolinecolor": "white",
           "zerolinewidth": 2
          },
          "yaxis": {
           "automargin": true,
           "gridcolor": "white",
           "linecolor": "white",
           "ticks": "",
           "title": {
            "standoff": 15
           },
           "zerolinecolor": "white",
           "zerolinewidth": 2
          }
         }
        },
        "title": {
         "text": "Per Class F1 Score of different models for Class 9"
        },
        "xaxis": {
         "anchor": "y",
         "categoryarray": [
          "SVC V4",
          "SVC V2",
          "SVC V3",
          "SVC V0",
          "SVC V1",
          "KNN V0",
          "KNN V1",
          "Random Forest V1",
          "Random Forest V0",
          "Logistic Regression V1",
          "Logistic Regression V2",
          "Logistic Regression V0"
         ],
         "categoryorder": "array",
         "domain": [
          0,
          1
         ],
         "title": {
          "text": "Algorithm"
         }
        },
        "yaxis": {
         "anchor": "x",
         "domain": [
          0,
          1
         ],
         "title": {
          "text": "Class_9"
         }
        }
       }
      }
     },
     "metadata": {},
     "output_type": "display_data"
    }
   ],
   "source": [
    "## Lets draw line chart for per class f1 scores, with class as x-axis and f1 score as y-axis and different lines for different models\n",
    "for class_i in range(10):\n",
    "    fig = px.bar(models_metrics.sort_values(by=f\"Class_{class_i}\", ascending=False), x='Algorithm', y=f\"Class_{class_i}\", title=f'Per Class F1 Score of different models for Class {class_i}',\n",
    "                  color='Algorithm')\n",
    "    fig.write_image(Path(\"..\", \"visualization\", f\"class_{class_i}_f1_score.png\"))\n",
    "\n",
    "    fig.show()"
   ]
  },
  {
   "cell_type": "markdown",
   "metadata": {},
   "source": [
    "Observations:\n",
    "* As expected the augmented data model slightly outperforms all the other models. \n"
   ]
  },
  {
   "cell_type": "code",
   "execution_count": 57,
   "metadata": {},
   "outputs": [],
   "source": [
    "## save models_metrics dataframe to csv\n",
    "models_metrics.to_csv(models_metrics_path, index=False)"
   ]
  },
  {
   "cell_type": "code",
   "execution_count": null,
   "metadata": {},
   "outputs": [],
   "source": []
  }
 ],
 "metadata": {
  "colab": {
   "authorship_tag": "ABX9TyMHKbVyjsESEwiJmugsbk82",
   "include_colab_link": true,
   "provenance": []
  },
  "kernelspec": {
   "display_name": "ml",
   "language": "python",
   "name": "python3"
  },
  "language_info": {
   "codemirror_mode": {
    "name": "ipython",
    "version": 3
   },
   "file_extension": ".py",
   "mimetype": "text/x-python",
   "name": "python",
   "nbconvert_exporter": "python",
   "pygments_lexer": "ipython3",
   "version": "3.12.7"
  }
 },
 "nbformat": 4,
 "nbformat_minor": 0
}
